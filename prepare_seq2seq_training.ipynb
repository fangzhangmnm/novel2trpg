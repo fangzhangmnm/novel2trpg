{
 "cells": [
  {
   "attachments": {},
   "cell_type": "markdown",
   "metadata": {},
   "source": [
    "# 路径和参数"
   ]
  },
  {
   "cell_type": "code",
   "execution_count": 2,
   "metadata": {},
   "outputs": [],
   "source": [
    "cache_dir='./.cache'\n",
    "train_data_path='./train.json'\n",
    "test_data_path='./test.json'\n",
    "uncategorized_expression_path='./uncategorized_expression.json'\n",
    "expression_map_path='./expression_map.json'\n",
    "merged_content_path='./all_content.json'\n",
    "merged_interview_path='./all_interview.json'\n",
    "merged_history_path='./all_history.txt'\n",
    "test_data_size=200\n",
    "tokenizer_name='D:\\ml\\chatglm-6b-int4-qe'\n",
    "roleplay_propotion=.7\n",
    "interview_propotion=.3\n",
    "\n",
    "max_history_tokens=350\n",
    "max_prompt_tokens=380\n",
    "# bg_hint_num=2\n",
    "bg_hint_num=0\n",
    "\n",
    "\n",
    "\n",
    "output_dir='./output_shana/'\n",
    "\n",
    "faiss_path=output_dir+'faiss_index'"
   ]
  },
  {
   "cell_type": "markdown",
   "metadata": {},
   "source": [
    "# 读取,清理并合并返回的json"
   ]
  },
  {
   "cell_type": "code",
   "execution_count": 3,
   "metadata": {},
   "outputs": [
    {
     "name": "stdout",
     "output_type": "stream",
     "text": [
      "{'char': '千草', 'say': '这是我家呀。贯太郎他开的玩笑，基本上都是一些不好笑却会吓着人的东西……', 'src_id': 1063}\n",
      "{'char': '白色长袍', 'say': '回答只要一次就够了知道吗——？多米诺——', 'src_id': 664}\n",
      "{'char': '梅利希姆', 'think': '男人的猛烈嫉妒心和愤怒涌上心头', 'src_id': 1561}\n",
      "{'char': '玛琼琳', 'say': '我要是不啃声，你又会喝得乱七八糟', 'src_id': 343}\n",
      "{'info': '被砍断的左臂顿时消散无踪', 'src_id': 199}\n",
      "{'char': '维奈', 'think': '认为少女是白痴', 'src_id': 587}\n",
      "{'info': '全班同学都觉得是一种很冷的笑话', 'src_id': 239}\n",
      "{'info': '那是昨天，坂井悠二忘了带回家的雨伞。', 'src_id': 361}\n",
      "{'char': 'unknown', 'think': '露出了犹豫的神色', 'src_id': 1153}\n",
      "{'char': '佐藤', 'expression': '贼笑', 'say': '原~来如此，嗯嗯，果然没错，多多加油吧！', 'src_id': 133}\n",
      "Total content chunks: 1650\n",
      "Total items: 22765\n"
     ]
    }
   ],
   "source": [
    "import json,random\n",
    "from glob import glob\n",
    "\n",
    "\n",
    "def purge_content1(content):\n",
    "    for item in content:\n",
    "        if 'char' in item:\n",
    "            char_and_exp={'char':item['char']}\n",
    "            if 'expression' in item:\n",
    "                char_and_exp['expression']=item['expression']\n",
    "            if 'say' in item and item['say'] is not None and len(item['say'])>0:\n",
    "                yield {**char_and_exp, 'say': item['say']}\n",
    "            if 'think' in item and item['think'] is not None and len(item['think'])>0:\n",
    "                yield {'char': item['char'], 'think': item['think']}\n",
    "            if 'act' in item and item['act'] is not None and len(item['act'])>0:\n",
    "                yield {**char_and_exp,  'act': item['act']}\n",
    "            # if not any(k in item for k in ['say', 'think', 'act']):\n",
    "            #     yield char_and_exp\n",
    "        if 'info' in item:\n",
    "            yield {'info': item['info']}\n",
    "\n",
    "# combine continuous say\n",
    "def purge_content2(content):\n",
    "    prev_item={}\n",
    "    for item in content:\n",
    "        if 'say' in item:\n",
    "            if 'say' in prev_item and item.get('char', 'ERROR1')==prev_item.get('char', 'ERROR2'):\n",
    "                prev_item['say']+=item['say']\n",
    "                continue\n",
    "        if len(prev_item)>0:\n",
    "            yield prev_item\n",
    "        prev_item=item\n",
    "    if len(prev_item)>0:\n",
    "        yield prev_item\n",
    "\n",
    "def purge_content(content):\n",
    "    return purge_content2(purge_content1(content))\n",
    "\n",
    "contents=[]\n",
    "for path in glob(f'{cache_dir}/LOG_RESPONSE_*.json'):\n",
    "    with open(path, 'r', encoding='utf-8') as f:\n",
    "        try:\n",
    "            content=json.load(f)\n",
    "            content['content']=list(purge_content(content['content']))\n",
    "            content['id']=int(path.split('_')[-1].split('.')[0])\n",
    "            for item in content['content']:\n",
    "                item['src_id']=content['id']\n",
    "            contents.append(content)\n",
    "        except Exception as e:\n",
    "            print('Error:', path, e)\n",
    "            raise e\n",
    "contents=sorted(contents, key=lambda x: x['id'])\n",
    "\n",
    "\n",
    "all_content=[]\n",
    "for content in contents:\n",
    "    for item in content['content']:\n",
    "        all_content.append(item)\n",
    "\n",
    "for item in random.sample(all_content, 10):    \n",
    "    print(item)\n",
    "    \n",
    "print('Total content chunks:', len(contents))\n",
    "print('Total items:', len(all_content))\n",
    "\n",
    "json.dump(all_content, open(merged_content_path, 'w', encoding='utf-8'), ensure_ascii=False, indent=2)"
   ]
  },
  {
   "cell_type": "code",
   "execution_count": 4,
   "metadata": {},
   "outputs": [
    {
     "name": "stdout",
     "output_type": "stream",
     "text": [
      "Total interview chunks: 1202\n",
      "Total interview items: 8319\n",
      "{'respondent': '蒂丽亚', 'ask': '你为什么要在再生与防御这两个方面下功夫？', 'answer': '因为这两个方面是治疗和保护的关键。', 'src_id': 473}\n",
      "{'respondent': '马克西亚司', 'ask': '你为什么觉得玛婕莉·朵有资格批评你？', 'answer': '因为她觉得我做事老是一副吊儿郎当的腔调，才害我们到现在还抓不到拉米这样弱到没边的废材。', 'src_id': 146}\n",
      "{'respondent': '亚拉斯特尔', 'ask': '你认为自由会让人不知所措吗？', 'answer': '只要随时保持警觉，遇到状况再去思考能做什么就行了。', 'src_id': 225}\n",
      "{'respondent': '千草', 'ask': '你对待客人的态度是怎样的？', 'answer': '我若无其事地站了起来，面带一丝微笑，向面部表情僵硬的威尔艾米娜问道。', 'src_id': 1031}\n",
      "{'respondent': '玛琼琳', 'ask': '田中的身高是多少？', 'answer': '与我差不多高。', 'src_id': 231}\n",
      "{'respondent': '吉田', 'ask': '我为什么会感到烦恼？', 'answer': '因为我不敢对同班同学坂井悠二说喜欢他。', 'src_id': 719}\n",
      "{'respondent': '吉田一美', 'ask': '你为什么会对外国少年的话感到不敢置信？', 'answer': '因为他的声音沧桑老练，而且他能够清晰地传至我耳中，还有他手背中央的伤疤和割伤与皱缩的伤痕让我感到诡异。', 'src_id': 674}\n",
      "{'respondent': '蒂雅玛特', 'ask': '你对威尔艾米娜的猜测有什么看法？', 'answer': '赞同。', 'src_id': 585}\n",
      "{'respondent': '亚拉斯特尔', 'ask': '有什么事情吗？', 'answer': '现在太阳已经下山了。', 'src_id': 81}\n",
      "{'respondent': '夏娜', 'ask': '为什么你拒绝了邀约？', 'answer': '我临时想起有重要的事情，其实我原本准备带悠二上街去巡回城里的面包店。', 'src_id': 334}\n"
     ]
    }
   ],
   "source": [
    "import json,random\n",
    "from glob import glob\n",
    "\n",
    "interviews=[]\n",
    "for path in glob(f'{cache_dir}/INFO_RESPONSE_*.json'):\n",
    "    with open(path, 'r', encoding='utf-8') as f:\n",
    "        try:\n",
    "            interview=json.load(f)\n",
    "            interview['id']=int(path.split('_')[-1].split('.')[0])\n",
    "            for item in interview['content']:\n",
    "                item['src_id']=interview['id']\n",
    "            interviews.append(interview)\n",
    "        except Exception as e:\n",
    "            print('Error:', path, e)\n",
    "            raise e\n",
    "interviews=sorted(interviews, key=lambda x: x['id'])\n",
    "\n",
    "print('Total interview chunks:', len(interviews))\n",
    "\n",
    "all_interview=[]\n",
    "for interview in interviews:\n",
    "    for item in interview['content']:\n",
    "        all_interview.append(item)\n",
    "\n",
    "print('Total interview items:', len(all_interview))\n",
    "\n",
    "for item in random.sample(all_interview, 10):\n",
    "    print(item)\n",
    "\n",
    "json.dump(all_interview, open(merged_interview_path, 'w', encoding='utf-8'), ensure_ascii=False, indent=2)"
   ]
  },
  {
   "attachments": {},
   "cell_type": "markdown",
   "metadata": {},
   "source": [
    "### 对话长度的统计"
   ]
  },
  {
   "cell_type": "code",
   "execution_count": 5,
   "metadata": {},
   "outputs": [
    {
     "name": "stderr",
     "output_type": "stream",
     "text": [
      "c:\\Anaconda3\\envs\\tensorflow\\lib\\site-packages\\numpy\\_distributor_init.py:30: UserWarning: loaded more than 1 DLL from .libs:\n",
      "c:\\Anaconda3\\envs\\tensorflow\\lib\\site-packages\\numpy\\.libs\\libopenblas.EL2C6PLE4ZYW3ECEVIV3OXXGRN2NRFM2.gfortran-win_amd64.dll\n",
      "c:\\Anaconda3\\envs\\tensorflow\\lib\\site-packages\\numpy\\.libs\\libopenblas.WCDJNK7YVMPZQ2ME2ZZHJJRJ3JIKNDB7.gfortran-win_amd64.dll\n",
      "  warnings.warn(\"loaded more than 1 DLL from .libs:\"\n"
     ]
    },
    {
     "data": {
      "image/png": "[encoded data removed]",
      "text/plain": [
       "<Figure size 500x200 with 1 Axes>"
      ]
     },
     "metadata": {},
     "output_type": "display_data"
    },
    {
     "data": {
      "image/png": "[encoded data removed]",
      "text/plain": [
       "<Figure size 500x200 with 1 Axes>"
      ]
     },
     "metadata": {},
     "output_type": "display_data"
    },
    {
     "data": {
      "image/png": "[encoded data removed]",
      "text/plain": [
       "<Figure size 500x200 with 1 Axes>"
      ]
     },
     "metadata": {},
     "output_type": "display_data"
    },
    {
     "data": {
      "image/png": "[encoded data removed]",
      "text/plain": [
       "<Figure size 500x200 with 1 Axes>"
      ]
     },
     "metadata": {},
     "output_type": "display_data"
    },
    {
     "data": {
      "image/png": "[encoded data removed]",
      "text/plain": [
       "<Figure size 500x200 with 1 Axes>"
      ]
     },
     "metadata": {},
     "output_type": "display_data"
    }
   ],
   "source": [
    "# draw the distribution of the length of the say in loglog scale\n",
    "import matplotlib.pyplot as plt\n",
    "import numpy as np\n",
    "\n",
    "plt.figure(figsize=(5, 2))\n",
    "plt.hist([len(item['say']) for item in all_content if 'say' in item], bins=np.logspace(0, 4, 50))\n",
    "plt.xscale('log');plt.xlabel('length');plt.ylabel('count');plt.title('Distribution of the length of the say');plt.show()\n",
    "\n",
    "plt.figure(figsize=(5, 2))\n",
    "plt.hist([len(item['act']) for item in all_content if 'act' in item], bins=np.logspace(0, 4, 50))\n",
    "plt.xscale('log');plt.xlabel('length');plt.ylabel('count');plt.title('Distribution of the length of the act');plt.show()\n",
    "\n",
    "plt.figure(figsize=(5, 2))\n",
    "plt.hist([len(item['think']) for item in all_content if 'think' in item], bins=np.logspace(0, 4, 50))\n",
    "plt.xscale('log');plt.xlabel('length');plt.ylabel('count');plt.title('Distribution of the length of the think');plt.show()\n",
    "\n",
    "plt.figure(figsize=(5, 2))\n",
    "plt.hist([len(item['ask']) for item in all_interview if 'ask' in item], bins=np.logspace(0, 4, 50))\n",
    "plt.xscale('log');plt.xlabel('length');plt.ylabel('count');plt.title('Distribution of the length of the ask');plt.show()\n",
    "\n",
    "plt.figure(figsize=(5, 2))\n",
    "plt.hist([len(item['answer']) for item in all_interview if 'answer' in item], bins=np.logspace(0, 4, 50))\n",
    "plt.xscale('log');plt.xlabel('length');plt.ylabel('count');plt.title('Distribution of the length of the answer');plt.show()\n",
    "\n"
   ]
  },
  {
   "attachments": {},
   "cell_type": "markdown",
   "metadata": {},
   "source": [
    "### 统计角色出现的频率"
   ]
  },
  {
   "cell_type": "code",
   "execution_count": 6,
   "metadata": {},
   "outputs": [
    {
     "name": "stdout",
     "output_type": "stream",
     "text": [
      "list of characters and their frequencies:\n",
      "1 unknown 2573\n",
      "2 夏娜 2462\n",
      "3 悠二 1942\n",
      "4 玛琼琳 583\n",
      "5 吉田 523\n",
      "6 威尔艾米娜 422\n",
      "7 亚拉斯特尔 395\n",
      "8 田中 299\n",
      "9 佐藤 274\n",
      "10 玛蒂尔达 250\n",
      "11 修德南 248\n",
      "12 千草 206\n",
      "13 马可西亚斯 195\n",
      "14 绪方 186\n",
      "15 蒂丽亚 185\n",
      "16 卡姆辛 178\n",
      "17 池 165\n",
      "18 吉田一美 151\n",
      "19 法利亚格尼 124\n",
      "20 教授 120\n",
      "梅利希姆 118, 维奈 103, 苏拉特 101, 拉米 92, 贯太郎 90, 池速人 88, 琪尔诺伯格 79, 玛 71, 玛玖琳 70, 法 70, 多米诺 68, 奥尔冈 54, 健 54, 尤利 53, 启作 52, 少年 48, 戈比达 48, 荣太 43, 贝露佩欧露 42, 摩洛 42, 滨口幸雄 40, 伊路亚尼卡 39, 女孩 37, 佐腾 34, 玛丽安 34, 贝海默特 33, 亚西斯 32, 蒂雅玛特 31, 亚纳贝尔古 31, 她 30, 他 30, 赫佳特 30, 悠二王子 30, 天目一个 29, 小明 28, 男主角 28, 佐菲 27, 玛琼琳·朵 26, 乌科巴克 23, 母亲 22, 马克西亚司 22, 男人 22, 男子 22, 绪方真竹 22, 瓦列克 22, 乌利克姆米 22, 体育老师 20, 玛琼林 19, 火雾战士 18, 女子 18, 主角 18, 白骨 18, 大上准子 18, 伊斯特艾哲 17, 暗之水滴琪尔诺伯格 17, 坂井千草 16, 法力亚格尼 16, 女主角 16, 亚拉斯托尔 16, 女性 15, 藤田 15, 玛婕莉·朵 14, 佐藤和田中 14, 老绅士 14, 格利摩尔 14, 女性角色 14, 男性角色 14, 平井缘 13, 父亲 13, A 13, 军师 13, 妖花 13, 玩偶 12, 美女 12, 马琼琳 12, 王子 12, Q 12, 伊鲁扬卡 12, 使徒 11, 保姆 11, 佐藤心 11, 男孩 11, 宰相摩洛 11, 玛蒂尔达圣米露 11, 托卡 10, 亚拉斯特尔王 10, 加利 10, 威尔艾米娜卡梅尔 10, 加普 10, 男孩子 9, 两人 9, 红世魔王 9, 贝露佩欧鲁 9, 坠子 8, 玛琼林·朵 8, 灼眼 8, 火炬 8, 铠甲武士 8, 比希莫特 8, 火雾战士的少女 8, 魔女 8, 亚纳贝尔古卡 8, 青色天使 8, 一美 7, U2 7, 魔神 7, 坂井 7, 巨人 7, 马玖琳 7, 将军 7, 鸟人 7, 身影 7, 小夜啼鸟 7, 卡路 7, 佐藤与田中 6, 玛琼林一 6, 威尔艾米娜·卡梅尔 6, 华丽的骑士 6, 角色 6, 小绪 6, 中村公子 6, 多雷尔 6, 万条巧手 6, 准子 6, 细长影子 6, 修德南将军 6, 巫女赫佳特 6, 科茨艾可特 6, 女人 6, 吉田健 6, 索卡尔 6, 教 6, 托卡怪兽 5, 我 5, 马克西亚斯 5, 千变修德南 5, 马可 5, 刀匠 5, 琉眼维奈 5, 他们两人 5, 白色长袍 5, 外国少年 5, 吉田同学 5, 老人 5, 丹塔利欧 5, 将军千变修德南 5, 准子的母亲 5, 女儿 5, 长老卡姆辛 5, 巫女 5, 男性 5, 野兽托卡 5, 暗杀官 5, 阿希兹 5, 武雷神 5, 连南希 5, 马克 4, 警察 4, 格里摩尔 4, 密斯提斯坂井悠二 4, 玛琼琳.朵 4, 全班同学 4, 不良少年 4, 美少女 4, 女生 4, 吉田不明 4, 怪物 4, 怯懦少女 4, 机械手 4, 田中心 4, 火雾战士中的杀手 4, 老火雾战士 4, 巨汗 4, 池侍卫长 4, 军师贝露佩欧露 4, 尤利．弗沃卡 4, 阪井悠二 4, 健一 4, 亚尔洛妮 4, 尼努尔塔 4, 男主 4, 多 4, 修德奈 4, 莫雷克 4, 甲铁龙伊路亚尼卡 4, 卡路贝尔沃尔 4, 迪丝 4, 学生们 3, 平井缘/夏娜 3, 阿拉斯特尔 3, 怪兽 3, 施暴不良少年 3, 女生们 3, 千变 3, 虎头 3, 蒂亚丽 3, 偷袭者 3, ‘千征令’ 3, 敌人“琉眼”维奈 3, 天壤劫火 3, 工人 3, 书本 3, 磷子 3, 藤田晴美 3, 亚拉斯特 3, 灼眼一角 3, 悼文吟诵人 3, 军师女子 3, 影子 3, 女主 3, 明明 3, 说话者 3, 拥有红色鬓毛的独角兽 3, 准子的父亲 3, 威尼 3, 眼镜怪人·潜水版 3, 千草王妃 3, 卡姆辛和比希莫特 3, 梅里希姆 3, 亚戈贝尔古 3, 敌人 3, 阪井 3, 石头大树 3, 牛骨 3, 宰相 3, 巨汉 3, 佩露培奥尔 3, 男性红世魔王 3, 欧德利娅 3, 两翼 3, 剑士 3, 铁甲龙 3, 巨龙 3, 眼镜怪人 3, 铁珠 2, 锥子 2, 佐腾启 2, 呀拉丝特而 2, 亚拉丝特 2, 学生 2, 池一帮 2, 池也 2, 所有人 2, 悠二爷 2, 假人模特儿 2, 玛利安 2, 池正代 2, 玛婕琳·朵 2, 巨狼 2, 平井 2, 眼镜怪人池 2, 吉田将悠二 2, 平井老师 2, 蒂美亚 2, 爱染自 2, 海蛇 2, 灼眼熠熠闪亮的女子 2, 炎发灼眼的杀手 2, 白骨·小白 2, ‘天目一个’ 2, 物体 2, 魔神与少年 2, 佐藤启 2, 千才 2, 玛琼琳娜 2, 佐腾启作 2, 佐腾和田中 2, 费可卢 2, 费可鲁 2, 迟速人 2, 班主任 2, 哈露珐斯 2, 梦幻冠带蒂雅玛特 2, 外表像欧洲人的女性 2, 卡梅尔 2, 铁面妇人 2, 威尔艾米娜的搭档 2, 恶魔男人 2, 好友 2, 浑圆影子 2, 夏娜和吉田 2, 多雷尔．库贝利克 2, 狼 2, 众人 2, 魑势牵引者尤利．弗沃卡 2, 魑势牵引者 2, 玛琼琳．朵 2, 监督员 2, all 2, 绪方姐姐 2, 长老 2, 琪尔诺伯格斯 2, 蓝色天使 2, 徒们 2, 乌尔利库姆 2, 铁之巨人 2, 阿莱克斯 2, 甲铁龙伊鲁扬卡 2, 大拥炉莫雷克 2, 阎之露切尔诺博格 2, 凶界卵伽利 2, 切尔诺博格 2, 黑衣白面的女人 2, 威尔艾米娜和蒂雅玛特 2, 化妆舞会指挥官 2, 女性骑士团长 2, 六臂金属盔甲戈比达 2, 魔王 2, 骑士团 2, 龙 2, 建御雷之神 2, 修士乔治 2, 女学生们 2, 公司职员 2, 班级同学 2, 不间踪影的人 1, 英文老师 1, 池等人 1, 法利亚格尼一伙人 1, 燐子 1, 主人 1, 男的 1, 书 1, 另一名警察 1, 佐藤启作和田中荣太 1, 玛婕琳 1, 克库特斯 1, 坂今千草 1, 怪异蓑衣虫女 1, 日本史老师 1, 玻璃檀 1, 那家伙 1, 银色火焰 1, 佐藤家主人 1, 金发少年 1, 少年们 1, A组 1, D组女生 1, 男生们 1, 绪方教官 1, 其他女生 1, 苏拉特拉 1, 佐藤启介 1, 爱染兄妹 1, 欣喜 1, 布罗特萨奥格 1, 吸血鬼 1, 巨剑“吸血鬼——布罗特萨奥格” 1, 鬼物 1, 爱染他 1, 欧格尔 1, 火焰魔神 1, 炎发飘扬的女子 1, 机车骑士 1, 火雾战士“万条仕手” 1, 蓝斯洛特 1, 小白头 1, 火焰 1, 变化后的青年 1, 青年骑士·梅利希姆 1, 青年骑士 1, 胸前的坠子 1, 得到仰慕的当事人 1, 巧合 1, 未知 1, 老太太 1, 扩音器 1, 人们 1, 吼噢 1, 伙伴 1, 调音师 1, 老伯伯 1, 调音师们 1, 古老的火雾战士 1, 助手 1, 两名调音师 1, 吉田忍 1, 盛装骑手 1, 调音师1 1, 调音师2 1, 玛琼琳·朵姣 1, 老头 1, 盛装骑手卡姆辛 1, 声音 1, 迷惑之鸟 1, 少年老成的声音 1, 佐藤跟田中 1, 吉天 1, 比希莫 1, 第三个人 1, 中年男性 1, 红魔神 1, 店员 1, 骗子悠二 1, 悠二等七人 1, 池一 1, 岁 1, 田种 1, 旋涡枷蓝 1, 叔叔大人 1, 夏娜&悠二 1, 吊坠 1, 卡梅尔小姐 1, 眼发灼眼的杀手 1, 妻子 1, 另一个火雾战士 1, 威尔艾米娜.卡梅尔 1, 悠哉 1, 坂井夫妇 1, 夜笠 1, 狮子 1, 儿子 1, 夫妇俩 1, 肥皂泡 1, 贽殿遮那 1, 大上准子的母亲 1, 玛&法 1, 高桥先生 1, 妙龄美女 1, 野兽 1, 王妃 1, 侍卫长·池 1, 继姐 1, 继母和继姐 1, 艾莉 1, 卫兵队长奥尔冈 1, 圆滚滚的物体 1, 天目一个、梅利希姆和威尔艾米娜 1, 蒂丽娅 1, 壮年男子 1, 仆从们 1, 继母 1, 长老比希莫特 1, 夏娜和吉田仔 1, 一个清瘦的老人 1, 慢慢走过来的拉米 1, 某人 1, 映照出位于远处的玛琼琳的测量仪表 1, 酒馆的主人 1, 可爱的少女 1, 傲慢的船员 1, 服务员 1, 好奇的人 1, 魅力女性 1, 威尔艾米娜．卡梅尔 1, 池和佐藤 1, 田中和绪方 1, 悠二、夏娜、池 1, 绪方、田中、佐藤 1, 搞气氛的人 1, 田中和佐藤 1, 池马 1, 玛琼琳小姐 1, 池心 1, 树 1, 凶界卵加利 1, 芙娃瓦 1, 机动军首将 1, 贤者 1, 瘦牛 1, 居民 1, FLAMEHAZE王们 1, FLAMEHAZE中的危机感与恐怖 1, 先头大将 1, 严凯乌尔利库姆 1, 都尼 1, 女子佩露培奥尔 1, 乌尔利库姆殿下 1, 铁鳞 1, 九垓天平们 1, 红世之王们 1, 悼之钟 1, 伽利 1, 银发剑士 1, 蛋卵凶界卵加利 1, 王 1, 万条巧手威尔艾米娜卡梅尔 1, 队友们 1, 红莲骑士团全员 1, 红世使徒 1, 没落 1, 威尔埃米娜 1, 你 1, 女性契约者 1, 佐菲萨伯莉淑 1, 拂之雷剑建御雷之神 1, 妖艳女子 1, 维捷露娅 1, 欧罗巴斯 1, 佐丽亚 1, 虹之翼 1, 另一个梅利希姆 1, 梅利希姆们 1, 六个玛蒂尔达 1, 炽红色女性 1, 葬式之钟的使徒们 1, 钢铁巨人 1, 奇妙的蛋卵 1, 牛骨的贤者 1, 獠牙毕露的野兽 1, 冰之剑 1, 石头的大树 1, 彩虹的骑士 1, 青色火焰 1, 冥奥之环 1, 鸟笼中的少女 1, 达尔塔洛斯 1, 多尼 1, 收费站职员 1, 副班长 1, 连田中和绪方 1, 坏刃萨布拉克 1, 报亭的店员 1, 女学生 1, 中村 1, 浅沼 1, 他们 1, \n",
      "rename_map: {'少女': '夏娜', '坂井悠二': '悠二', '佐藤启作': '启作', '田中荣太': '荣太', '亚拉丝特尔': '亚拉斯特尔', '主人公': '悠二'}\n",
      "selected_char: ['夏娜', '悠二', '玛琼琳', '吉田', '威尔艾米娜', '亚拉斯特尔', '田中', '佐藤', '玛蒂尔达', '修德南', '千草', '马可西亚斯', '绪方', '蒂丽亚', '卡姆辛', '池', '吉田一美', '法利亚格尼', '教授', '梅利希姆', '维奈', '苏拉特', '拉米', '贯太郎', '池速人', '琪尔诺伯格', '玛', '玛玖琳', '法', '多米诺', '奥尔冈', '健', '尤利', '启作', '少年', '戈比达', '荣太', '贝露佩欧露', '摩洛', '滨口幸雄', '伊路亚尼卡', '女孩', '佐腾', '玛丽安', '贝海默特', '亚西斯', '蒂雅玛特', '亚纳贝尔古', '她', '他', '赫佳特', '悠二王子', '天目一个', '小明', '男主角', '佐菲', '玛琼琳·朵', '乌科巴克', '母亲', '马克西亚司', '男人', '男子', '绪方真竹', '瓦列克', '乌利克姆米', '体育老师', '玛琼林', '火雾战士', '女子', '主角', '白骨', '大上准子', '伊斯特艾哲', '暗之水滴琪尔诺伯格', '坂井千草', '法力亚格尼', '女主角', '亚拉斯托尔', '女性', '藤田', '玛婕莉·朵', '佐藤和田中', '老绅士', '格利摩尔', '女性角色', '男性角色', '平井缘', '父亲', 'A', '军师', '妖花', '玩偶', '美女', '马琼琳', '王子', 'Q', '伊鲁扬卡', '使徒', '保姆', '佐藤心', '男孩', '宰相摩洛', '玛蒂尔达圣米露', '托卡', '亚拉斯特尔王', '加利', '威尔艾米娜卡梅尔', '加普', '男孩子', '两人', '红世魔王', '贝露佩欧鲁', '坠子', '玛琼林·朵', '灼眼', '火炬', '铠甲武士', '比希莫特', '火雾战士的少女', '魔女', '亚纳贝尔古卡', '青色天使', '一美', 'U2', '魔神', '坂井', '巨人', '马玖琳', '将军', '鸟人', '身影', '小夜啼鸟', '卡路', '佐藤与田中', '玛琼林一', '威尔艾米娜·卡梅尔', '华丽的骑士', '角色', '小绪', '中村公子', '多雷尔', '万条巧手', '准子', '细长影子', '修德南将军', '巫女赫佳特', '科茨艾可特', '女人', '吉田健', '索卡尔', '教', '托卡怪兽', '我', '马克西亚斯', '千变修德南', '马可', '刀匠', '琉眼维奈', '他们两人', '白色长袍', '外国少年', '吉田同学', '老人', '丹塔利欧', '将军千变修德南', '准子的母亲', '女儿', '长老卡姆辛', '巫女', '男性', '野兽托卡', '暗杀官', '阿希兹', '武雷神', '连南希', '马克', '警察', '格里摩尔', '密斯提斯坂井悠二', '玛琼琳.朵', '全班同学', '不良少年', '美少女', '女生', '吉田不明', '怪物', '怯懦少女', '机械手', '田中心', '火雾战士中的杀手', '老火雾战士', '巨汗', '池侍卫长', '军师贝露佩欧露', '尤利．弗沃卡', '阪井悠二', '健一', '亚尔洛妮', '尼努尔塔', '男主', '多', '修德奈', '莫雷克', '甲铁龙伊路亚尼卡', '卡路贝尔沃尔', '迪丝', '学生们', '平井缘/夏娜', '阿拉斯特尔', '怪兽', '施暴不良少年', '女生们', '千变', '虎头', '蒂亚丽', '偷袭者', '‘千征令’', '敌人“琉眼”维奈', '天壤劫火', '工人', '书本', '磷子', '藤田晴美', '亚拉斯特', '灼眼一角', '悼文吟诵人', '军师女子', '影子', '女主', '明明', '说话者', '拥有红色鬓毛的独角兽', '准子的父亲', '威尼', '眼镜怪人·潜水版', '千草王妃', '卡姆辛和比希莫特', '梅里希姆', '亚戈贝尔古', '敌人', '阪井', '石头大树', '牛骨', '宰相', '巨汉', '佩露培奥尔', '男性红世魔王', '欧德利娅', '两翼', '剑士', '铁甲龙', '巨龙', '眼镜怪人', '铁珠', '锥子', '佐腾启', '呀拉丝特而', '亚拉丝特', '学生', '池一帮', '池也', '所有人', '悠二爷', '假人模特儿', '玛利安', '池正代', '玛婕琳·朵', '巨狼', '平井', '眼镜怪人池', '吉田将悠二', '平井老师', '蒂美亚', '爱染自', '海蛇', '灼眼熠熠闪亮的女子', '炎发灼眼的杀手', '白骨·小白', '‘天目一个’', '物体', '魔神与少年', '佐藤启', '千才', '玛琼琳娜', '佐腾启作', '佐腾和田中', '费可卢', '费可鲁', '迟速人', '班主任', '哈露珐斯', '梦幻冠带蒂雅玛特', '外表像欧洲人的女性', '卡梅尔', '铁面妇人', '威尔艾米娜的搭档', '恶魔男人', '好友', '浑圆影子', '夏娜和吉田', '多雷尔．库贝利克', '狼', '众人', '魑势牵引者尤利．弗沃卡', '魑势牵引者', '玛琼琳．朵', '监督员', 'all', '绪方姐姐', '长老', '琪尔诺伯格斯', '蓝色天使', '徒们', '乌尔利库姆', '铁之巨人', '阿莱克斯', '甲铁龙伊鲁扬卡', '大拥炉莫雷克', '阎之露切尔诺博格', '凶界卵伽利', '切尔诺博格', '黑衣白面的女人', '威尔艾米娜和蒂雅玛特', '化妆舞会指挥官', '女性骑士团长', '六臂金属盔甲戈比达', '魔王', '骑士团', '龙', '建御雷之神', '修士乔治', '女学生们', '公司职员', '班级同学', '不间踪影的人', '英文老师', '池等人', '法利亚格尼一伙人', '燐子', '主人', '男的', '书', '另一名警察', '佐藤启作和田中荣太', '玛婕琳', '克库特斯', '坂今千草', '怪异蓑衣虫女', '日本史老师', '玻璃檀', '那家伙', '银色火焰', '佐藤家主人', '金发少年', '少年们', 'A组', 'D组女生', '男生们', '绪方教官', '其他女生', '苏拉特拉', '佐藤启介', '爱染兄妹', '欣喜', '布罗特萨奥格', '吸血鬼', '巨剑“吸血鬼——布罗特萨奥格”', '鬼物', '爱染他', '欧格尔', '火焰魔神', '炎发飘扬的女子', '机车骑士', '火雾战士“万条仕手”', '蓝斯洛特', '小白头', '火焰', '变化后的青年', '青年骑士·梅利希姆', '青年骑士', '胸前的坠子', '得到仰慕的当事人', '巧合', '未知', '老太太', '扩音器', '人们', '吼噢', '伙伴', '调音师', '老伯伯', '调音师们', '古老的火雾战士', '助手', '两名调音师', '吉田忍', '盛装骑手', '调音师1', '调音师2', '玛琼琳·朵姣', '老头', '盛装骑手卡姆辛', '声音', '迷惑之鸟', '少年老成的声音', '佐藤跟田中', '吉天', '比希莫', '第三个人', '中年男性', '红魔神', '店员', '骗子悠二', '悠二等七人', '池一', '岁', '田种', '旋涡枷蓝', '叔叔大人', '夏娜&悠二', '吊坠', '卡梅尔小姐', '眼发灼眼的杀手', '妻子', '另一个火雾战士', '威尔艾米娜.卡梅尔', '悠哉', '坂井夫妇', '夜笠', '狮子', '儿子', '夫妇俩', '肥皂泡', '贽殿遮那', '大上准子的母亲', '玛&法', '高桥先生', '妙龄美女', '野兽', '王妃', '侍卫长·池', '继姐', '继母和继姐', '艾莉', '卫兵队长奥尔冈', '圆滚滚的物体', '天目一个、梅利希姆和威尔艾米娜', '蒂丽娅', '壮年男子', '仆从们', '继母', '长老比希莫特', '夏娜和吉田仔', '一个清瘦的老人', '慢慢走过来的拉米', '某人', '映照出位于远处的玛琼琳的测量仪表', '酒馆的主人', '可爱的少女', '傲慢的船员', '服务员', '好奇的人', '魅力女性', '威尔艾米娜．卡梅尔', '池和佐藤', '田中和绪方', '悠二、夏娜、池', '绪方、田中、佐藤', '搞气氛的人', '田中和佐藤', '池马', '玛琼琳小姐', '池心', '树', '凶界卵加利', '芙娃瓦', '机动军首将', '贤者', '瘦牛', '居民', 'FLAMEHAZE王们', 'FLAMEHAZE中的危机感与恐怖', '先头大将', '严凯乌尔利库姆', '都尼', '女子佩露培奥尔', '乌尔利库姆殿下', '铁鳞', '九垓天平们', '红世之王们', '悼之钟', '伽利', '银发剑士', '蛋卵凶界卵加利', '王', '万条巧手威尔艾米娜卡梅尔', '队友们', '红莲骑士团全员', '红世使徒', '没落', '威尔埃米娜', '你', '女性契约者', '佐菲萨伯莉淑', '拂之雷剑建御雷之神', '妖艳女子', '维捷露娅', '欧罗巴斯', '佐丽亚', '虹之翼', '另一个梅利希姆', '梅利希姆们', '六个玛蒂尔达', '炽红色女性', '葬式之钟的使徒们', '钢铁巨人', '奇妙的蛋卵', '牛骨的贤者', '獠牙毕露的野兽', '冰之剑', '石头的大树', '彩虹的骑士', '青色火焰', '冥奥之环', '鸟笼中的少女', '达尔塔洛斯', '多尼', '收费站职员', '副班长', '连田中和绪方', '坏刃萨布拉克', '报亭的店员', '女学生', '中村', '浅沼', '他们']\n"
     ]
    }
   ],
   "source": [
    "\n",
    "rename_map={'少女':'夏娜','坂井悠二':'悠二','佐藤启作':'启作','田中荣太':'荣太','亚拉丝特尔':'亚拉斯特尔','主人公':'悠二'}\n",
    "\n",
    "char_freq={}\n",
    "for item in all_content:\n",
    "    if 'char' in item:\n",
    "        char=rename_map.get(item['char'], item['char'])\n",
    "        if char not in char_freq:\n",
    "            char_freq[char]=0\n",
    "        char_freq[char]+=1\n",
    "char_freq={k: v for k, v in sorted(char_freq.items(), key=lambda item: item[1], reverse=True)}\n",
    "\n",
    "\n",
    "print('list of characters and their frequencies:')\n",
    "for i, (k, v) in enumerate(char_freq.items()):\n",
    "    if i<20:\n",
    "        print(i+1,k, v)\n",
    "    else:\n",
    "        print(k,v, end=', ')\n",
    "print()\n",
    "selected_char=list(sorted(char_freq.keys(), key=lambda x: char_freq[x], reverse=True)[:9999])\n",
    "selected_char.remove('unknown')\n",
    "# selected_char=['夏娜']\n",
    "\n",
    "\n",
    "\n",
    "def list_char_items(content, char):\n",
    "    for item in content:\n",
    "        if item.get('char', None) == char:\n",
    "            print(item)\n",
    "\n",
    "# list_char_items(all_content, '少女')\n",
    "\n",
    "print('rename_map:', rename_map)\n",
    "print('selected_char:', selected_char)\n",
    "# we use the original name in history text, but the new name for labeling"
   ]
  },
  {
   "attachments": {},
   "cell_type": "markdown",
   "metadata": {},
   "source": [
    "### 提取表情并根据gpt返回的聚类数据进行分类"
   ]
  },
  {
   "cell_type": "code",
   "execution_count": 7,
   "metadata": {},
   "outputs": [
    {
     "name": "stdout",
     "output_type": "stream",
     "text": [
      "expression_freq: {'惊讶': 320, '愤怒': 56, '微笑': 42, '惊恐': 39, '痛苦': 34, '不悦': 26, '疑惑': 26, '笑': 23, '苦笑': 21, '紧张': 20, '冷静': 19, '平静': 18, '生气': 18, '兴奋': 15, '严肃': 14, '开心': 14, '困惑': 13, '不满': 13, '不耐烦': 11, '凶狠': 11, '慌张': 11, '冷酷': 11, '激动': 10, '陶醉': 10, '喜悦': 10, '无奈': 9, '得意': 9, '不屑': 8, '温柔': 8, '诧异': 8, '坚定': 8, '赞叹': 8, '犹豫': 7, '笑意': 7, '害羞': 7, '期待': 7, '哭泣': 7, '自信': 7, '惊慌失措': 6, '惊愕': 6, '严厉': 6, '嘲笑': 6, '苦涩': 6, '吃惊': 6, '悲伤': 6, '恭敬': 6, '动摇': 5, '担心': 5, '叹气': 5, '不安': 5, '轻松': 5, '挑衅': 5, '满意': 5, '不解': 5, '沉默': 5, '嘲讽': 5, '惊异': 5, '冷漠': 4, '哽咽': 4, '肯定': 4, '笑容': 4, '尴尬': 4, '好奇': 4, '粗鲁': 4, '可爱': 4, '轻笑': 4, '羞涩': 4, '担忧': 4, '咆哮': 4, '大喊': 4, '惊喜': 4, '复杂': 4, '专注': 4, '惊叫': 4, '恍然大悟': 4, '开朗': 4, '颤抖': 4, '认真': 4, '无所谓': 4, '害怕': 3, '嗤之以鼻': 3, '恐惧': 3, '无力感': 3, '警惕': 3, '懊悔': 3, '低沉': 3, '同情': 3, '纳闷': 3, '傲慢': 3, '焦躁': 3, '若无其事': 3, '惊叹': 3, '思考': 3, '强烈': 3, '尖叫': 3, '沉重': 3, '疼痛': 3, '绝望': 3, '大笑': 3, '平淡': 3, '不高兴': 3, '责备': 3, '否定': 3, '厌烦': 3, '叮嘱': 2, '松口气': 2, '蹙眉': 2, '感叹': 2, '冷哼': 2, '错愕': 2, '淡定': 2, '烦躁': 2, '难为情': 2, '羞愧': 2, '无可奈何': 2, '疲惫': 2, '微妙': 2, '依依不舍': 2, '沮丧': 2, '无力': 2, '凶暴': 2, '胆怯': 2, '欣喜': 2, '畏怯': 2, '失望': 2, '冷笑': 2, '心醉神迷': 2, '悲伤狂喜': 2, '疯狂': 2, '面无表情': 2, '得意洋洋': 2, '怒吼': 2, '嗤笑': 2, '尖锐': 2, '笑着': 2, '愉悦': 2, '点头': 2, '瞪视': 2, '狼狈': 2, '兴致勃勃': 2, '横眉竖目': 2, '感激': 2, '大吃一惊': 2, '大叫': 2, '凶恶': 2, '柔和的一笑': 2, '回应': 2, '天真': 2, '灿烂': 2, '炯炯有神': 2, '不敢置信': 2, '谦虚': 2, '郁闷': 2, '慌乱': 2, '温和严正': 2, '冷淡': 2, '脸红': 2, '为难': 2, '歉意': 2, '炽热': 2, '惊艳': 2, '战战兢兢': 2, '询问': 2, '寂寞': 2, '愉快': 2, '孩子般': 2, '注视': 2, '天真无邪的笑容': 2, '惊呆': 2, '狂喜': 2, '皱眉': 2, '诚惶诚恐': 2, '走着瞧': 2, '大声笑': 2, '危险': 2, '粗暴': 2, '讶异': 2, '调皮': 2, '傲然': 1, '强而有利的正面': 1, '含着笑意，姿态高傲': 1, '痛苦的扭曲': 1, '乘胜追击': 1, '稚气表情': 1, '不耐': 1, '反驳': 1, '恍惚': 1, '洋溢亲切笑容的温柔脸庞': 1, '随口附和': 1, '消极': 1, '无伤大雅': 1, '威严': 1, '莫名其妙': 1, '惊慌': 1, '吃不消': 1, '正经八百': 1, '满不在乎': 1, '气势惊人': 1, '冷冷': 1, '悲怜': 1, '哭丧': 1, '心不甘情不愿': 1, '困扰': 1, '寒颤': 1, '不自在': 1, '惊醒': 1, '无法制止': 1, '笃定': 1, '宣告战斗': 1, '抓抓头': 1, '不容质疑': 1, '泰然自若': 1, '无名之火': 1, '释怀': 1, '窥探般的视线': 1, '拼命否定': 1, '恼火': 1, '拘谨': 1, '不得不': 1, '忧虑': 1, '发誓': 1, '质疑': 1, '受伤': 1, '严正': 1, '赞许': 1, '敌意': 1, '积极': 1, '不清不愿': 1, '恼怒': 1, '看见夏娜发自内心的微笑': 1, '不甘示弱': 1, '复杂的表情': 1, '嘴角下弯': 1, '温柔的微笑': 1, '渴求': 1, '强悍的笑容': 1, '充满存在感': 1, '狰狞': 1, '游刃有余': 1, '赞赏': 1, '神闲': 1, '摊开双手': 1, '嘲弄': 1, '压倒性的强悍': 1, '危机感': 1, '沾沾自喜': 1, '狂乱': 1, '呆呆': 1, '扫兴': 1, '兴趣': 1, '坚毅的微笑': 1, '果断': 1, '安稳平定': 1, '笑容漾出微笑': 1, '表情安稳平定': 1, '面红耳赤': 1, '会意': 1, '怒气冲冲': 1, '贼笑': 1, '直视悠二': 1, '缓和': 1, '强而有力': 1, '打起寒颤': 1, '愉悦，冷酷无情': 1, '温和': 1, '欣然': 1, '无动于衷': 1, '气到极点': 1, '尖锐刺耳的笑声': 1, '压迫感': 1, '决绝': 1, '粗俗不堪': 1, '轻蔑': 1, '松了口气': 1, '搞笑': 1, '耍苯': 1, '放松的笑容': 1, '意外': 1, '直觉': 1, '浑厚低沉': 1, '讥笑': 1, '蹙起眉心': 1, '安心': 1, '胆怯懦弱': 1, '淡然': 1, '苦笑与嘲笑': 1, '吓了一大跳': 1, '愣住': 1, '放松': 1, '不喜欢的表情': 1, '温驯': 1, '吞咽': 1, '开怀大笑': 1, '嘴角挂着笑意': 1, '手足失措': 1, '隐藏兴奋': 1, '靠近': 1, '高语调': 1, '高声喊叫': 1, '狠狠瞪视': 1, '回答': 1, '燃烧着强烈斗志': 1, '慢条斯理': 1, '顽皮': 1, '生气/为难': 1, '怒意': 1, '气鼓鼓': 1, '望向夕阳': 1, '略显惊讶': 1, '手扶下巴': 1, '请求': 1, '脸颊酡红': 1, '呻吟': 1, '愣怔': 1, '颔首': 1, '不确定': 1, '咄咄逼人': 1, '幼稚的优越感': 1, '火冒三丈': 1, '逼急了': 1, '抱歉': 1, '答道': 1, '挂着笑意': 1, '发笑': 1, '滴下泪珠': 1, '哭丧着一张脸': 1, '痴迷': 1, '柔和': 1, '从容': 1, '气恼': 1, '隐含阴晦怨念的笑容': 1, '力量沸腾': 1, '呼吸困难': 1, '挡住': 1, '高举巨剑': 1, '挥舞巨剑': 1, '异常愉悦': 1, '天真无邪': 1, '做好心理准备': 1, '险狠的笑容': 1, '愤慨': 1, '气馁': 1, '活泼': 1, '皮笑肉不笑': 1, '饶富兴味': 1, '阴狠': 1, '开怀': 1, '赞同': 1, '暗号': 1, '孩子气': 1, '炫耀': 1, '耻笑': 1, '豪迈': 1, '自豪': 1, '坏笑': 1, '傻笑': 1, '狡黠': 1, '机智': 1, '残忍': 1, '狂热': 1, '颤抖的嘴唇，却发出坚定的声音': 1, '面露宠溺的微笑': 1, '瞥了“贽殿遮那”一眼，但仍然遵照蒂丽亚的指示': 1, '高声嘲笑': 1, '确认': 1, '爽快': 1, '高声大喊': 1, '破涕为笑': 1, '夸张': 1, '勇敢无畏': 1, '恢复坚定表情': 1, '摆好架势': 1, '陶然': 1, '闭上眼睛，竖耳倾听': 1, '不慌不忙': 1, '严重破绽': 1, '嘿嘿笑': 1, '可怕': 1, '心急如焚、忐忑不安、脸颊泛红': 1, '咀嚼中': 1, '闷闷不乐': 1, '讨厌': 1, '斜眼': 1, '微微眯细双眼': 1, '焦虑': 1, '勉强压抑情绪': 1, '怯懦': 1, '兴味': 1, '逗弄婴儿': 1, '同仇敌忾': 1, '神秘': 1, '紧绷': 1, '激动失控': 1, '感慨': 1, '僵硬的笑容': 1, '不耐烦的微笑': 1, '嘲讽的笑容': 1, '认真又温和': 1, '夹带着残余的火焰': 1, '在被遗留下来的寂寞与悲伤之中，同时搅杂了些许气恼的心情': 1, '一脸目瞪口呆': 1, '认真点头，在她的灼眼凝视之下': 1, '望着少女浮现的灿烂笑容': 1, '勾起唇角一端': 1, '灌注剩余的大部分力量，抬起一只手': 1, '依赖': 1, '蹩起眉心': 1, '娇小玲珑': 1, '笑声': 1, '灼热': 1, '暗沉': 1, '津津有味': 1, '世界末日降临的表情': 1, '靠近千草': 1, '有所疑问': 1, '自在师口吻': 1, '不喜欢交谈': 1, '悲剧主角': 1, '苦涩的笑容': 1, '爆笑': 1, '无聊': 1, '憔悴': 1, '不理会四周的人群': 1, '气势全失': 1, '跳起来': 1, '伤疤纵向划过的嘴唇': 1, '未知': 1, '柔弱的笑容': 1, '轻喊出声': 1, '即将放声大哭': 1, '隐蔽': 1, '大声嚷嚷': 1, '张牙舞爪': 1, '自责': 1, '面露难色': 1, '大吼': 1, '威胁': 1, '高傲': 1, '复杂的笑意': 1, '刺耳尖锐': 1, '僵硬': 1, '调侃': 1, '无可奈何的笑容': 1, '无助': 1, '遗憾': 1, '稍稍恢复镇定却又不敢置信': 1, '恐惧紧张': 1, '不为所动': 1, '烦恼': 1, '气定神闲': 1, '窝囊': 1, '低头': 1, '意外但镇定': 1, '恐惧+憧憬': 1, '充满复杂心情': 1, '露出讶异的表情': 1, '被夏娜的灼眼一瞪': 1, '动摇但坚定地颔首': 1, '定睛凝视': 1, '大吼大叫': 1, '低声回答': 1, '无法理解': 1, '挑动眉毛': 1, '心有不甘': 1, '相同表情': 1, '格格发笑': 1, '噙着笑意': 1, '欣喜若狂': 1, '恢复往常的笑容': 1, '没有露出一丝动摇或惊慌失措的神色': 1, '嫌麻烦': 1, '阴阳怪气地笑': 1, '鼻子哼': 1, '有反应': 1, '散发着晴天的气息': 1, '呆住了': 1, '修正': 1, '妖艳': 1, '嘟囔': 1, '对着悠二提起话题': 1, '冒着冷汗': 1, '同病相怜': 1, '歪脖子': 1, '灿烂的笑容': 1, '轻描淡写': 1, '叹息': 1, '托着腮的笑容': 1, '双腿发软': 1, '悠闲': 1, '惩罚悠二': 1, '静静地凝视着修德南': 1, '狡猾': 1, '皱着脸': 1, '羡慕+失笑': 1, '失落焦躁怒意': 1, '紧眉头': 1, '戏谑': 1, '奸笑': 1, '恶作剧加嘲弄': 1, '想说出来': 1, '诡异冷峻': 1, '惊愕和喜悦': 1, '洋溢着喜悦': 1, '忘我': 1, '露出喜悦的表情': 1, '轻声责备': 1, '祥和温柔': 1, '带有挑衅的语气': 1, '高兴': 1, '毫无表情': 1, '可疑': 1, '低吟': 1, '瞪着千草': 1, '温和而严厉的微笑': 1, '灿烂地笑了起来': 1, '调皮地笑了': 1, '轻声回答说': 1, '充满威严': 1, '稍稍眯起了眼睛表示赞赏': 1, '表演特级或竞吃比赛似的': 1, '满是擦伤痕迹的脸随着咀嚼的动作而被牵动': 1, '严肃的表情和磁性的声音': 1, '挑战': 1, '质问': 1, '贪婪': 1, '蔑视': 1, '痛恨': 1, '上扬': 1, '呆滞': 1, '震惊': 1, '迷惑': 1, '无语': 1, '坦率': 1, '无奈的笑容': 1, '别有深意的微笑': 1, '相视笑了起来': 1, '懊恼': 1, '头发和眼睛都闪着炽红色火焰，长长的黑衣随风飘动，而在她身体的周围也出现了一股夹杂着火焰的漩涡状的风。': 1, '狠毒': 1, '怒火': 1, '噗哧笑': 1, '露出一块十分可怕的红斑': 1, '笑眯眯': 1, '带有一丝反抗的笑容': 1, '感觉到有某个气息正在向自己靠近': 1, '难以启齿': 1, '笑了': 1, '感动': 1, '寻找': 1, '诡异': 1, '怪声': 1, '嫉妒': 1, '卖弄': 1, '缠玩': 1, '自豪的笑容': 1, '福神似的笑容': 1, '留恋': 1, '故作姿态地张开双手，靠着肩膀，同时用响亮的声音叫道': 1, '热情': 1, '凝重而低沉': 1, '远雷般的轰鸣声': 1, '黑色皮膜的东西挡住了整个视野': 1, '伸出了巨大钩爪状指甲的手掌': 1, '燃烧着炽红火焰般的眼瞳': 1, '低着不服气的脸': 1, '扔下话就走了': 1, '正气凛然': 1, '斥责': 1, '仰天拍额头': 1, '叫停时间': 1, '夸张地耸肩膀': 1, '欢迎': 1, '急切': 1, '含怒': 1, '金色眼瞳盯视': 1, '羡慕': 1, '无精打采': 1, '忘记不快': 1, '哼笑': 1, '不情愿': 1, '软弱': 1, '发狂': 1, '哭天喊地': 1, '隐藏不愉快的神色': 1, '呸': 1, '困惑和羞涩参半': 1, '险恶': 1, '宝贝': 1, '天真烂漫': 1, '气势汹汹': 1, '佩服': 1, '看穿了似的': 1, '踌躇': 1, '稍微紧张': 1, '踌躇和惊讶': 1, '稍微撅起了嘴巴': 1, '鼓起脸颊': 1, '丧气地垂下肩膀': 1, '灿烂笑容': 1, '坏心眼地笑着': 1, '开朗的笑声': 1, '打眼色': 1, '含泪的羞涩笑容': 1, '流泪': 1, '吓得瞪大了眼睛': 1, '坏心眼': 1, '冒火': 1, '惊惶': 1, '高调': 1, '抖动声音': 1, '鲁莽': 1, '狂躁': 1, '悠哉游哉': 1, '微带苦笑': 1, '烦躁、心酸': 1, '安静听着': 1, '低吼': 1, '嘎噢噢噢！': 1, '哇啊啊啊啊啊！': 1, '窃笑': 1, '被紫电包围': 1, '嗤鼻笑': 1, '掠过一丝轻笑': 1, '不屑地哼了一声': 1, '滑稽': 1, '沉着而苍老': 1, '畏惧': 1, '高喊': 1, '惊奇': 1, '喷射': 1, '咧开嘴笑': 1, '狂笑': 1, '隐藏着表情的面具': 1, '稍带谴责的语气': 1, '阴森': 1, '命令': 1, '低垂着灼眼': 1, '果敢': 1, '想攻击女性骑士团长': 1, '发出类似沉重无比的大钟发出的声音': 1, '凶暴地笑着': 1, '盘旋着': 1, '空虚': 1, '闪闪发光': 1, '愁容': 1, '凝视天空': 1, '不快': 1, '寂寥、悲叹': 1, '厌恶': 1, '优雅': 1, '消失': 1, '摇晃': 1, '漠然': 1, '炎发灼眼': 1, '柔和的目光': 1, '勉强': 1, '勉强略带生硬': 1, '难色': 1, '不能置信': 1, '泄气': 1, '打趣': 1, '震动': 1, '开玩笑': 1, '心情不错': 1, '扬起一个明媚的笑容': 1, '无忧无虑地笑了开来': 1, '不期待': 1, '通红': 1, '倦意': 1, '不好意思': 1, '犹豫并且有些不好意思': 1, '真挚': 1}\n",
      "saved uncategorized expressions to ./uncategorized_expression.json\n"
     ]
    }
   ],
   "source": [
    "# all_expressions=set(item['expression'] for item in all_content if 'expression' in item)\n",
    "# print('all_expressions:', all_expressions)\n",
    "\n",
    "expression_freq={}\n",
    "for item in all_content:\n",
    "    if 'expression' in item:\n",
    "        if item['expression'] not in expression_freq:\n",
    "            expression_freq[item['expression']]=0\n",
    "        expression_freq[item['expression']]+=1\n",
    "expression_freq={k: v for k, v in sorted(expression_freq.items(), key=lambda item: item[1], reverse=True)}\n",
    "print('expression_freq:', expression_freq)\n",
    "with open(uncategorized_expression_path, 'w', encoding='utf-8') as f:\n",
    "    json.dump(expression_freq, f, ensure_ascii=False, indent=2)\n",
    "print('saved uncategorized expressions to', uncategorized_expression_path)\n",
    "\n",
    "expression_map=json.load(open(expression_map_path, 'r', encoding='utf-8'))\n",
    "for item in all_content:\n",
    "    if 'expression' in item and item['expression'] in expression_map:\n",
    "        item['emoji']=expression_map[item['expression']]\n"
   ]
  },
  {
   "cell_type": "markdown",
   "metadata": {},
   "source": [
    "### 计算一个字需要多少token"
   ]
  },
  {
   "cell_type": "code",
   "execution_count": 16,
   "metadata": {},
   "outputs": [
    {
     "name": "stderr",
     "output_type": "stream",
     "text": [
      "Explicitly passing a `revision` is encouraged when loading a model with custom code to ensure no malicious code has been contributed in a newer revision.\n"
     ]
    },
    {
     "name": "stdout",
     "output_type": "stream",
     "text": [
      "chunk_lengths: [746, 715, 706, 727, 730, 745, 743, 736, 736, 743]\n",
      "chunk_tokenized_lengths: [452, 450, 459, 494, 484, 504, 485, 507, 498, 500]\n",
      "ratios: [0.6058981233243967, 0.6293706293706294, 0.6501416430594901, 0.6795048143053645, 0.663013698630137, 0.676510067114094, 0.6527590847913862, 0.688858695652174, 0.6766304347826086, 0.6729475100942126]\n",
      "token_per_char: 0.6595634701124493\n"
     ]
    }
   ],
   "source": [
    "\n",
    "from transformers import AutoTokenizer\n",
    "tokenizer=AutoTokenizer.from_pretrained(tokenizer_name,trust_remote_code=True)\n",
    "\n",
    "def get_tokenized_length(text):\n",
    "    tokenizer_text=tokenizer(text, return_tensors='pt')\n",
    "    return len(tokenizer_text['input_ids'][0])\n",
    "\n",
    "\n",
    "def clamp_by_tokenizer(text,max_length,return_length=False):\n",
    "    tokenizer_text=tokenizer(text, return_tensors='pt')\n",
    "    tokenized_length=min(len(tokenizer_text['input_ids'][0]), max_length)\n",
    "    if len(tokenizer_text['input_ids'][0])>max_length:\n",
    "        text=tokenizer.decode(tokenizer_text['input_ids'][0][-max_length:])\n",
    "    if return_length:\n",
    "        return text, tokenized_length\n",
    "    else:\n",
    "        return text\n",
    "\n",
    "chunk_lengths=[]\n",
    "chunk_tokenized_lengths=[]\n",
    "for content in contents[:10]:\n",
    "    chunk_lengths.append(len(content['text']))\n",
    "    chunk_tokenized_lengths.append(get_tokenized_length(content['text']))\n",
    "\n",
    "print('chunk_lengths:', chunk_lengths)\n",
    "print('chunk_tokenized_lengths:', chunk_tokenized_lengths)\n",
    "print('ratios:', [a/b for a,b in zip(chunk_tokenized_lengths, chunk_lengths)])\n",
    "import numpy as np\n",
    "token_per_char=np.mean([a/b for a,b in zip(chunk_tokenized_lengths, chunk_lengths)])*1.0\n",
    "print('token_per_char:', token_per_char)\n",
    "\n",
    "def estimate_tokenized_length(text):\n",
    "    return int(len(text)*token_per_char)"
   ]
  },
  {
   "cell_type": "markdown",
   "metadata": {},
   "source": [
    "# 加载FAISS知识索引"
   ]
  },
  {
   "cell_type": "code",
   "execution_count": 17,
   "metadata": {},
   "outputs": [
    {
     "name": "stderr",
     "output_type": "stream",
     "text": [
      "No sentence-transformers model found with name D:\\ml\\text2vec-large-chinese. Creating a new one with MEAN pooling.\n",
      "No sentence-transformers model found with name D:\\ml\\text2vec-large-chinese. Creating a new one with MEAN pooling.\n"
     ]
    },
    {
     "name": "stdout",
     "output_type": "stream",
     "text": [
      "【夏娜 夏娜（全名：炎发灼眼的讨伐者·夏娜（Flame-Haired Burning-Eyed Hunter·Shana），日语：シャナ，Shana）是由高桥弥七郎所作轻小说《灼眼的夏娜》系列及其衍生的动画、漫画等作品的女主角。】\n",
      "【夏娜 常对夏娜做出一些指导。在平时，亚拉斯特尔也如同长辈那般陪伴着夏娜。夏娜是能完全承载亚拉斯特尔力量的伟大之人。】\n",
      "【夏娜 作为人的夏娜和作为火雾战士的夏娜。 本作女主角，其真实身份为“天壤劫火”亚拉斯特尔的火雾战士，别号炎发灼眼的杀手，但年龄上只有十五六岁[1]，也有着非常少女的一面。】\n",
      "【灼眼的夏娜 《灼眼的夏娜》（灼眼（しゃくがん）のシャナ，罗马字:Shakugan no Shana，英文译名:Shana of the Blazing Eyes）是日本作家高桥弥七郎所写的轻小说系列，插画师为伊东杂音，由MediaWorks →】\n"
     ]
    }
   ],
   "source": [
    "from langchain.embeddings import HuggingFaceEmbeddings\n",
    "import sentence_transformers\n",
    "from langchain.vectorstores import FAISS\n",
    "\n",
    "embeddings = HuggingFaceEmbeddings(model_name=r'D:\\ml\\text2vec-large-chinese')\n",
    "embeddings.client=sentence_transformers.SentenceTransformer(embeddings.model_name,device=\"cuda\")\n",
    "\n",
    "vector_store=FAISS.load_local(faiss_path, embeddings)\n",
    "\n",
    "def get_bg_hint(context,k=5):\n",
    "    results=vector_store.similarity_search(context,top_k=k)[:k]\n",
    "    all_result_text='\\n'.join('【{0}】'.format(result.page_content) for result in results)\n",
    "    return all_result_text\n",
    "\n",
    "bg_hint=get_bg_hint('夏娜的个性')\n",
    "print(bg_hint)\n",
    "# llm(bg_hint+'请扮演夏娜，模仿她说话的语气：')"
   ]
  },
  {
   "attachments": {},
   "cell_type": "markdown",
   "metadata": {},
   "source": [
    "# 生成训练数据"
   ]
  },
  {
   "attachments": {},
   "cell_type": "markdown",
   "metadata": {},
   "source": [
    "### 跑团式的回复文本"
   ]
  },
  {
   "cell_type": "code",
   "execution_count": 18,
   "metadata": {},
   "outputs": [
    {
     "name": "stdout",
     "output_type": "stream",
     "text": [
      "话不能说的这么简单。我们之所以来到这个世界，歼灭愚昧至极的同胞，最重要的是担忧这两个世界的平衡遭到破坏\n",
      "\\me 用矛枪刺烤怪物 \\emoji 困惑\n",
      "啊？说什么？\n",
      "我已经说得很明白了。\n",
      "(以战斗为前提的求爱)\n",
      "(如果带这对这幅美丽图面的记忆那么即使离开这里，大概也不会感到寂寞吧)\n",
      "\\me 拿来水桶和铁剪刀\n",
      "什么事？\n"
     ]
    }
   ],
   "source": [
    "import random\n",
    "\n",
    "def generate_response_text(item):\n",
    "    if not 'char' in item:\n",
    "        return ''\n",
    "    response=''\n",
    "    if 'act' in item:\n",
    "        response='\\me '+response+item['act']\n",
    "    elif 'say' in item:\n",
    "        response=response+item['say']\n",
    "    elif 'think' in item:\n",
    "        response='('+item['think']+')'\n",
    "    if 'emoji' in item:\n",
    "        response=response+f' \\\\emoji {item[\"emoji\"]}'\n",
    "    return response\n",
    "\n",
    "def generate_dm_prompt(item):\n",
    "    if 'act' in item:\n",
    "        dm_prompt='【你接下来要做什么？】\\n'\n",
    "    elif 'say' in item:\n",
    "        dm_prompt='【请发言】\\n'\n",
    "    elif 'think' in item:\n",
    "        dm_prompt='【你现在在想什么？】\\n'\n",
    "    else:\n",
    "        dm_prompt=''\n",
    "    return dm_prompt\n",
    "\n",
    "def get_random_inteviewer_name():\n",
    "    names = ['记者', '采访者', '用户', '问询人', '主持人', '调查员', '新闻工作者', '播报员', '评论员', '撰稿人', '媒体工作者', '采写员']\n",
    "    return random.choice(names)\n",
    "\n",
    "for item in random.sample(all_content, 10):\n",
    "    if 'char' in item:\n",
    "        print(generate_response_text(item))"
   ]
  },
  {
   "attachments": {},
   "cell_type": "markdown",
   "metadata": {},
   "source": [
    "### 生成给定位置看到的跑团记录"
   ]
  },
  {
   "cell_type": "code",
   "execution_count": 19,
   "metadata": {},
   "outputs": [
    {
     "name": "stdout",
     "output_type": "stream",
     "text": [
      "mode=none\n",
      "''\n",
      "mode=prev_dialogue\n",
      "【夏娜 」坂井悠二之名成为了化妆舞会盟主，目的是要达成新世界\"无何有镜\"。过后一度到御崎市以人类坂井悠二的形态会见夏娜等人，并与之战斗，过程中告诉了玛琼琳·朵家族被灭的真相使之崩溃昏过去后强行带走夏娜。在化装舞会期间接受了「炀煽」哈勃利姆等红世之徒】\n",
      "【火炬 简介 人类的存在被红世之徒吞噬之后，用剩下的一部分的存在之力做成的，人类的残渣。所以火炬不可以被当作人类来看待  由于火炬并不是人类，所以被砍了也不会出血这就是夏娜你砍悠二的理由吗！！然而在第三季悠二头上被砍一刀的时候不是流血了吗。。。】\n",
      "【夏娜 悠二前期的战斗力仅为普通人水平，并无与红世之徒及其燐子抗衡的能力，但感知能力超群，能为夏娜等火雾战士的战斗提供分析意见。中期的悠二学会了一些简单的存在之力，能消灭一些弱小的徒。后期的悠二与祭礼之蛇共生，获得了强大的能力，并最终领会了专属自在】\n",
      "……什么？\n",
      "\n",
      "mode=full\n",
      "【夏娜 」坂井悠二之名成为了化妆舞会盟主，目的是要达成新世界\"无何有镜\"。过后一度到御崎市以人类坂井悠二的形态会见夏娜等人，并与之战斗，过程中告诉了玛琼琳·朵家族被灭的真相使之崩溃昏过去后强行带走夏娜。在化装舞会期间接受了「炀煽」哈勃利姆等红世之徒】\n",
      "【火炬 简介 人类的存在被红世之徒吞噬之后，用剩下的一部分的存在之力做成的，人类的残渣。所以火炬不可以被当作人类来看待  由于火炬并不是人类，所以被砍了也不会出血这就是夏娜你砍悠二的理由吗！！然而在第三季悠二头上被砍一刀的时候不是流血了吗。。。】\n",
      "悠二：就像……异次元的人吗？\n",
      "亚拉斯特尔：以你们的观念来表达的话，是这样没错，攻击你的不是‘使徒’本人，而是他们在这个世界索制作出来的，名叫‘磷子’的仆人。\n",
      "悠二：是不是企图占领这个世界的侵略者？\n",
      "亚拉斯特尔：这个嘛，目的因人而异，无法一概而论，不过，我们‘红世使徒’籍由‘自在’操纵这个世界的‘存在之力’而得以显现，此外也能改变存在之力的性质，支配各种现象，因此侵入这个世界的‘使徒’才会不绝于后。\n",
      "悠二：……什么？ \\emoji 惊讶\n",
      "\n",
      "history text length (character): 621129\n",
      "saved history text to ./all_history.txt\n"
     ]
    }
   ],
   "source": [
    "\n",
    "\n",
    "def generate_history_text(content:'list[dict]',mode='full',max_history_tokens=max_history_tokens,bg_hint_num=0):\n",
    "    if bg_hint_num>0:\n",
    "        tmp_history_text=generate_history_text(content,mode='full',max_history_tokens=max_history_tokens,bg_hint_num=0)\n",
    "        bg_hint_text=get_bg_hint(tmp_history_text,k=bg_hint_num)+'\\n'\n",
    "    else:\n",
    "        bg_hint_text=''\n",
    "    if mode=='full':\n",
    "        all_text=''\n",
    "        for item in content[-1::-1]:\n",
    "            if 'char' in item:\n",
    "                line=f'{item[\"char\"]}：'+generate_response_text(item)\n",
    "            elif 'info' in item:\n",
    "                line=f'【{item[\"info\"]}】'\n",
    "            else:\n",
    "                continue\n",
    "            if estimate_tokenized_length(bg_hint_text+all_text+line+'\\n')>max_history_tokens:\n",
    "                break\n",
    "            else:\n",
    "                all_text=line+'\\n'+all_text\n",
    "        return bg_hint_text+all_text\n",
    "    elif mode=='prev_dialogue':\n",
    "        for item in content[-1::-1]:\n",
    "            if 'char' in item and 'say' in item:\n",
    "                return bg_hint_text+item['say']+'\\n'\n",
    "        return ''\n",
    "    elif mode=='none':\n",
    "        return ''\n",
    "    else:\n",
    "        raise ValueError(f'Unknown mode: {mode}')\n",
    "\n",
    "print('mode=none')\n",
    "print(repr(generate_history_text(all_content[:331], mode='none')))\n",
    "print('mode=prev_dialogue')\n",
    "print(generate_history_text(all_content[:331], mode='prev_dialogue',bg_hint_num=3))\n",
    "print('mode=full')\n",
    "histoy_text=generate_history_text(all_content[:331], mode='full',bg_hint_num=2)\n",
    "print(histoy_text)\n",
    "\n",
    "all_history=generate_history_text(all_content, mode='full', max_history_tokens=1e99)\n",
    "with open(merged_history_path, 'w', encoding='utf-8') as f:\n",
    "    f.write(all_history)\n",
    "print('history text length (character):', len(all_history))\n",
    "print('saved history text to', merged_history_path)"
   ]
  },
  {
   "attachments": {},
   "cell_type": "markdown",
   "metadata": {},
   "source": [
    "### 生成训练条目\n",
    "\n",
    "我想让ChatGLM模型学习小说里的角色设定，并尝试扮演该角色。我准备的训练数据有。1.利用ChatGPT将小说文本转换成TRPG跑团记录格式。2.让ChatGPT阅读文本并生成对小说角色的模拟采访。\n",
    "\n",
    "可以选择在prompt中加入较长的历史上下文，或者只提供问句，甚至不提供。简单的训练（抱歉没有等到收敛）表明，如果不提供上下文让模型生成角色的下一步言行会让模型倾向于使用“嗯”，“好的”。一类的回答。这是因为在原则上没有足够找到正确答案的上下文信息时摆烂是最稳妥的。\n",
    "\n",
    "但是我希望模型能够尝试不依靠上下文提示自己记忆背景信息，可能即使有上下文时模型仍然需要记忆一些东西才可以生成正确的回复。\n",
    "\n",
    "我希望额外加入的问答训练能够帮助模型保持ChatGLM的智力。在使用ChatGPT蒸馏数据以微调ChatGLM时，这些问答数据确实是ChatGPT仅仅根据窗口中的上下文推断出来的。那么是否应该把窗口中的上下文包括在prompt中呢？ChatGPT建议保持上下文信息数量适当可防止模型过度依赖上下文。"
   ]
  },
  {
   "cell_type": "code",
   "execution_count": 20,
   "metadata": {},
   "outputs": [
    {
     "data": {
      "text/plain": [
       "{'respondent': '玩偶',\n",
       " 'ask': '你们觉得我和铁珠的关系怎么样？',\n",
       " 'answer': '我们是密不可分的伙伴，一起立功。',\n",
       " 'src_id': 2}"
      ]
     },
     "execution_count": 20,
     "metadata": {},
     "output_type": "execute_result"
    }
   ],
   "source": [
    "all_interview[13]"
   ]
  },
  {
   "cell_type": "code",
   "execution_count": 21,
   "metadata": {},
   "outputs": [
    {
     "data": {
      "text/html": [
       "<pre style=\"white-space:pre;overflow-x:auto;line-height:normal;font-family:Menlo,'DejaVu Sans Mono',consolas,'Courier New',monospace\"><span style=\"color: #800000; text-decoration-color: #800000\">╭─────────────────────────────── </span><span style=\"color: #800000; text-decoration-color: #800000; font-weight: bold\">Traceback </span><span style=\"color: #bf7f7f; text-decoration-color: #bf7f7f; font-weight: bold\">(most recent call last)</span><span style=\"color: #800000; text-decoration-color: #800000\"> ────────────────────────────────╮</span>\n",
       "<span style=\"color: #800000; text-decoration-color: #800000\">│</span> in <span style=\"color: #00ff00; text-decoration-color: #00ff00\">&lt;module&gt;</span>:<span style=\"color: #0000ff; text-decoration-color: #0000ff\">1</span>                                                                                    <span style=\"color: #800000; text-decoration-color: #800000\">│</span>\n",
       "<span style=\"color: #800000; text-decoration-color: #800000\">╰──────────────────────────────────────────────────────────────────────────────────────────────────╯</span>\n",
       "<span style=\"color: #ff0000; text-decoration-color: #ff0000; font-weight: bold\">AssertionError: </span>TODO optimize faiss search\n",
       "</pre>\n"
      ],
      "text/plain": [
       "\u001b[31m╭─\u001b[0m\u001b[31m──────────────────────────────\u001b[0m\u001b[31m \u001b[0m\u001b[1;31mTraceback \u001b[0m\u001b[1;2;31m(most recent call last)\u001b[0m\u001b[31m \u001b[0m\u001b[31m───────────────────────────────\u001b[0m\u001b[31m─╮\u001b[0m\n",
       "\u001b[31m│\u001b[0m in \u001b[92m<module>\u001b[0m:\u001b[94m1\u001b[0m                                                                                    \u001b[31m│\u001b[0m\n",
       "\u001b[31m╰──────────────────────────────────────────────────────────────────────────────────────────────────╯\u001b[0m\n",
       "\u001b[1;91mAssertionError: \u001b[0mTODO optimize faiss search\n"
      ]
     },
     "metadata": {},
     "output_type": "display_data"
    }
   ],
   "source": [
    "assert False, 'TODO optimize faiss search'"
   ]
  },
  {
   "cell_type": "code",
   "execution_count": 27,
   "metadata": {},
   "outputs": [
    {
     "data": {
      "application/vnd.jupyter.widget-view+json": {
       "model_id": "aa6be3dbb0044bfda0d897aab3d69e31",
       "version_major": 2,
       "version_minor": 0
      },
      "text/plain": [
       "  0%|          | 0/22765 [00:00<?, ?it/s]"
      ]
     },
     "metadata": {},
     "output_type": "display_data"
    },
    {
     "name": "stdout",
     "output_type": "stream",
     "text": [
      "Total generated data: 12684\n"
     ]
    },
    {
     "data": {
      "application/vnd.jupyter.widget-view+json": {
       "model_id": "ed28feb039b94396a74e1d3bd5a08a27",
       "version_major": 2,
       "version_minor": 0
      },
      "text/plain": [
       "  0%|          | 0/8319 [00:00<?, ?it/s]"
      ]
     },
     "metadata": {},
     "output_type": "display_data"
    },
    {
     "name": "stdout",
     "output_type": "stream",
     "text": [
      "Total generated data: 7576\n"
     ]
    }
   ],
   "source": [
    "from tqdm.auto import tqdm\n",
    "def get_rp_task(all_content,history_mode='full',bg_hint_num=2,max_history_tokens=max_history_tokens,use_dm_prompt=True):\n",
    "    train_data=[]\n",
    "    for iItem, item in tqdm(list(enumerate(all_content))):\n",
    "        if 'char' in item:\n",
    "            char=rename_map.get(item['char'], item['char'])\n",
    "            if char in selected_char:\n",
    "                response_text=generate_response_text(item)\n",
    "                history_text=generate_history_text(all_content[:iItem],mode=history_mode,max_history_tokens=max_history_tokens,bg_hint_num=bg_hint_num)\n",
    "                dm_prompt=generate_dm_prompt(item) if use_dm_prompt else ''\n",
    "                prompt_text=history_text+dm_prompt+char+'：'\n",
    "                # prompt_text_tokenized_length=get_tokenized_length(prompt_text)\n",
    "                # assert prompt_text_tokenized_length<=max_prompt_tokens, f'prompt_text_tokenized_length={prompt_text_tokenized_length} > max_prompt_length={max_prompt_tokens}'\n",
    "                prompt_text,prompt_tokenized_length=clamp_by_tokenizer(prompt_text, max_prompt_tokens, return_length=True)\n",
    "                response_tokenized_length=get_tokenized_length(response_text)\n",
    "                train_data.append({'char':char, 'response': response_text,'prompt': prompt_text,'task':'rp','src_id':iItem,'prompt_tokenized_length':prompt_tokenized_length,'response_tokenized_length':response_tokenized_length})\n",
    "    print('Total generated data:', len(train_data))\n",
    "    return train_data\n",
    "\n",
    "\n",
    "# {'respondent': '玩偶',\n",
    "#  'ask': '你们觉得我和铁珠的关系怎么样？',\n",
    "#  'answer': '我们是密不可分的伙伴，一起立功。',\n",
    "#  'id': 2}\n",
    "\n",
    "def find_content_with_id(id):\n",
    "    for content in contents:\n",
    "        if 'id' in content and content['id']==id:\n",
    "            return content\n",
    "    return None\n",
    "\n",
    "def get_inteview_task(all_interview,history_mode='full',bg_hint_num=2,max_history_tokens=max_history_tokens):\n",
    "    train_data=[]\n",
    "    for iItem, item in tqdm(list(enumerate(all_interview))):\n",
    "        content=find_content_with_id(item['src_id'])['content']\n",
    "        assert content is not None, f'Cannot find content with id={item[\"id\"]}'\n",
    "        char=rename_map.get(item['respondent'], item['respondent'])\n",
    "        if char in selected_char:\n",
    "            response_text=item['answer']\n",
    "            history_text=generate_history_text(content,mode=history_mode,max_history_tokens=max_history_tokens,bg_hint_num=bg_hint_num)\n",
    "            interviewer_prompt=f'{get_random_inteviewer_name()}：{item[\"ask\"]}\\n'\n",
    "            prompt_text=history_text+interviewer_prompt+char+'：'\n",
    "            # prompt_text_tokenized_length=get_tokenized_length(prompt_text)\n",
    "            # assert prompt_text_tokenized_length<=max_prompt_tokens, f'prompt_text_tokenized_length={prompt_text_tokenized_length} > max_prompt_length={max_prompt_tokens}'\n",
    "            prompt_text,prompt_tokenized_length=clamp_by_tokenizer(prompt_text, max_prompt_tokens, return_length=True)\n",
    "            response_tokenized_length=get_tokenized_length(response_text)\n",
    "            train_data.append({'char':char, 'response': response_text,'prompt': prompt_text,'task':'interview','src_id':iItem,'prompt_tokenized_length':prompt_tokenized_length,'response_tokenized_length':response_tokenized_length})\n",
    "    print('Total generated data:', len(train_data))\n",
    "    return train_data\n",
    "\n",
    "\n",
    "random.seed(42)\n",
    "train_data=[]\n",
    "train_data+=get_rp_task(all_content, history_mode='full',bg_hint_num=bg_hint_num, use_dm_prompt=False)\n",
    "train_data+=get_inteview_task(all_interview, history_mode='full',bg_hint_num=bg_hint_num)\n"
   ]
  },
  {
   "cell_type": "code",
   "execution_count": 28,
   "metadata": {},
   "outputs": [
    {
     "data": {
      "text/plain": [
       "<Figure size 500x200 with 0 Axes>"
      ]
     },
     "metadata": {},
     "output_type": "display_data"
    },
    {
     "data": {
      "image/png": "[encoded data removed]",
      "text/plain": [
       "<Figure size 500x200 with 1 Axes>"
      ]
     },
     "metadata": {},
     "output_type": "display_data"
    },
    {
     "data": {
      "image/png": "[encoded data removed]",
      "text/plain": [
       "<Figure size 500x200 with 1 Axes>"
      ]
     },
     "metadata": {},
     "output_type": "display_data"
    }
   ],
   "source": [
    "import matplotlib.pyplot as plt\n",
    "\n",
    "# see prompt length distribution\n",
    "plt.figure(figsize=(5, 2))\n",
    "plt.hist([item['prompt_tokenized_length'] for item in train_data], bins=np.logspace(0, 4, 50))\n",
    "plt.xscale('log');plt.xlabel('length');plt.ylabel('count');plt.title('prompt length distribution');plt.show()\n",
    "\n",
    "# see response length distribution\n",
    "plt.figure(figsize=(5, 2))\n",
    "plt.hist([item['response_tokenized_length'] for item in train_data], bins=np.logspace(0, 4, 50))\n",
    "plt.xscale('log');plt.xlabel('length');plt.ylabel('count');plt.title('response length distribution');plt.show()"
   ]
  },
  {
   "attachments": {},
   "cell_type": "markdown",
   "metadata": {},
   "source": [
    "### 调整数据频率"
   ]
  },
  {
   "cell_type": "code",
   "execution_count": 43,
   "metadata": {},
   "outputs": [
    {
     "name": "stdout",
     "output_type": "stream",
     "text": [
      "成这样？自己是不是也会变成这样？)\n",
      "【深蓝色火粉沾在他们身上】\n",
      "记者：你们为什么要寻找我？\n",
      "玛琼琳：》》我不知道，他们只是内心有一股冲动驱使他们去寻找我。\n",
      "\n",
      "内，形貌便能‘自在’显现。\n",
      "悠二：呼~恩，确实只要一提到与火有关的魔神，通常都回带着刀或剑。\n",
      "悠二：》》(他对于‘魔神’的印象顶多是来自在国营电视台看过的不动明王，或者是过去不知名的特效电影中所出现的陶俑那一类的程度而已。)\n",
      "\n",
      "… \\emoji 害羞\n",
      "悠二：吉田同学？ \\emoji 惊讶\n",
      "【夏娜是个火雾战士，比较冷淡】\n",
      "吉田：》》那……那个，小缘，刚刚，体育课的时候，真……谢谢你。 \\emoji 害羞\n",
      "\n",
      "涉别人的行动了？】\n",
      "【既然左右双翼已经断了，那家伙也到此为止了】\n",
      "评论员：你在回忆什么？\n",
      "火雾战士：》》我在回忆一场兵荒马乱的战斗，一身黑衣飘扬的女子慢条斯理地说道：到这里就够了，接下来由我跟亚拉斯特尔来处理。\n",
      "\n",
      "想，应该是我所编写的调音自在法，受到某种干扰的结果\n",
      "【玛琼琳和某人在讨论扭曲现象的来源】\n",
      "贝海默特：》》呼嗯，看来是这样没错，事实上，我们也大致猜到是哪个‘使徒’会做出这种事。\n",
      "\n",
      "……那个，请问……\n",
      "魔神：怎么了，还不快跑！\n",
      "悠二：\\me 横越马路\n",
      "悠二：\\me 跑上堤防\n",
      "悠二：》》(一想到曾经在这里欣赏到的美景，这分差事便不觉得辛苦)\n",
      "\n",
      "。】\n",
      "梅利希姆：对，就像这样。\n",
      "少女：！\n",
      "少女：\\me 感觉到梅利希姆体内凝聚了‘两股’力量\n",
      "夏娜：》》(攻击力逐渐增强当中——)\n",
      "\n",
      "…然后破坏现在这层才开始建立关系的话……)\n",
      "【主角意识到自己的懦弱和半吊子的觉悟，感到自责】\n",
      "主角：》》(自己对于坂井悠二繁荣感情，难道脆弱到仅仅因为内心一个忧虑，就准备打退堂鼓了吗？)\n",
      "\n",
      "中燃烧着一团炽盛火焰，底部没有燃料，只有一个银制的空水盘】\n",
      "问询人：你为什么要成为火雾战士？\n",
      "夏娜：》》我一开始就是为了成为火雾战士而活，而且自己并没有感到任何不满，这一切她都明白。同时也在学习之中得知，成为火雾战士就不再是人类，永无至尽的战斗之路，以及战斗这件事情本身。尽管内心对于这一切怀抱着不安、恐惧、踌躇，却还是充满了坚强、冀望、渴求与决心。\n",
      "\n",
      "了！\n",
      "夏娜：\\me 灌输翅膀的力量，加速前进\n",
      "【巨狼踩碎大楼崩坍的屋顶，瓦砾掉落在两人头上】\n",
      "巨狼：》》咆噢噢噢噢噢噢噢噢噢！！\n",
      "\n"
     ]
    }
   ],
   "source": [
    "\n",
    "def adjust_data_frequency(train_data):\n",
    "    for item in train_data:\n",
    "        frequency=1\n",
    "        if len(item['response'])<5:\n",
    "            frequency=0.1\n",
    "        elif len(item['response'])<10:\n",
    "            frequency=0.2\n",
    "        elif len(item['response'])<20:\n",
    "            frequency=1\n",
    "        elif len(item['response'])<50:\n",
    "            frequency=2\n",
    "        else:\n",
    "            frequency=5\n",
    "        if item['task']=='interview':\n",
    "            frequency*=len(all_content)/len(all_interview)/roleplay_propotion*interview_propotion\n",
    "        frequency*=1\n",
    "        for _i in range(int(frequency)):\n",
    "            yield item    \n",
    "\n",
    "train_data_argumented=list(adjust_data_frequency(train_data))\n",
    "\n",
    "\n",
    "\n",
    "for item in random.sample(train_data_argumented, 10):\n",
    "    print(item['prompt'][-50:], end='》》')\n",
    "    print(item['response'])\n",
    "    print()\n",
    "\n",
    "\n",
    "    \n",
    "import random\n",
    "random.seed(42)\n",
    "random.shuffle(train_data_argumented)"
   ]
  },
  {
   "attachments": {},
   "cell_type": "markdown",
   "metadata": {},
   "source": [
    "### 保存训练数据到json"
   ]
  },
  {
   "cell_type": "code",
   "execution_count": 44,
   "metadata": {},
   "outputs": [
    {
     "name": "stdout",
     "output_type": "stream",
     "text": [
      "Saved to ./train.json\n",
      "Total train data: 31640\n",
      "Saved to ./test.json\n",
      "Total test data: 200\n"
     ]
    }
   ],
   "source": [
    "#pick test data randomly\n",
    "output_test_data=random.sample(train_data_argumented, test_data_size)\n",
    "\n",
    "# remove test data from train data\n",
    "output_train_data=[item for item in train_data_argumented if item not in output_test_data]\n",
    "\n",
    "json.dump(output_train_data, open(train_data_path, 'w', encoding='utf-8'), ensure_ascii=False, indent=2)\n",
    "print('Saved to', train_data_path)\n",
    "print('Total train data:', len(output_train_data))\n",
    "import random\n",
    "random.seed(42)\n",
    "\n",
    "json.dump(output_test_data, open(test_data_path, 'w', encoding='utf-8'), ensure_ascii=False, indent=2)\n",
    "print('Saved to', test_data_path)\n",
    "print('Total test data:', len(output_test_data))"
   ]
  },
  {
   "cell_type": "code",
   "execution_count": 45,
   "metadata": {},
   "outputs": [],
   "source": [
    "try:\n",
    "    del tokenizer,embeddings,vector_store\n",
    "except:\n",
    "    pass\n",
    "import torch\n",
    "torch.cuda.empty_cache()"
   ]
  },
  {
   "cell_type": "code",
   "execution_count": null,
   "metadata": {},
   "outputs": [],
   "source": [
    "!.\\train_roleplaying.bat"
   ]
  },
  {
   "cell_type": "code",
   "execution_count": null,
   "metadata": {},
   "outputs": [],
   "source": []
  }
 ],
 "metadata": {
  "kernelspec": {
   "display_name": "tensorflow",
   "language": "python",
   "name": "python3"
  },
  "language_info": {
   "codemirror_mode": {
    "name": "ipython",
    "version": 3
   },
   "file_extension": ".py",
   "mimetype": "text/x-python",
   "name": "python",
   "nbconvert_exporter": "python",
   "pygments_lexer": "ipython3",
   "version": "3.8.10"
  },
  "orig_nbformat": 4
 },
 "nbformat": 4,
 "nbformat_minor": 2
}
