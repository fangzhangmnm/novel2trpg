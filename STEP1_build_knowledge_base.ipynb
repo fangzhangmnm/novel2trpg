{
 "cells": [
  {
   "cell_type": "code",
   "execution_count": 33,
   "metadata": {},
   "outputs": [],
   "source": [
    "wiki_path = './零之使魔_wiki.txt'\n",
    "novel_path='./零之使魔.txt'\n",
    "output_dir='./output_zero/'\n",
    "faiss_path=output_dir+'faiss_index'\n",
    "\n",
    "include_novel=False\n",
    "include_title=True\n",
    "max_title_len=20\n",
    "min_content_len=20\n",
    "max_content_len=100\n",
    "chunk_overlap=50\n",
    "\n",
    "import os\n",
    "if not os.path.exists(output_dir):\n",
    "    os.makedirs(output_dir)\n",
    "\n",
    "# faiss_cache_dir=output_dir+'faiss_cache'\n",
    "# if not os.path.exists(faiss_cache_dir):\n",
    "#     os.makedirs(faiss_cache_dir)"
   ]
  },
  {
   "attachments": {},
   "cell_type": "markdown",
   "metadata": {},
   "source": [
    "# 读取wiki txt，分块"
   ]
  },
  {
   "cell_type": "code",
   "execution_count": 34,
   "metadata": {},
   "outputs": [
    {
     "name": "stdout",
     "output_type": "stream",
     "text": [
      "successfully read novel text from  ./零之使魔.txt\n",
      "successfully read wiki text from  ./零之使魔_wiki.txt\n"
     ]
    },
    {
     "data": {
      "image/png": "[encoded data removed]",
      "text/plain": [
       "<Figure size 500x200 with 1 Axes>"
      ]
     },
     "metadata": {},
     "output_type": "display_data"
    },
    {
     "name": "stdout",
     "output_type": "stream",
     "text": [
      "Number of wikis:  32\n"
     ]
    }
   ],
   "source": [
    "import re\n",
    "\n",
    "with open(novel_path,'r',encoding='utf-8') as f:\n",
    "    novel_text=f.read()\n",
    "print('successfully read novel text from ', novel_path)\n",
    "\n",
    "re_chapter_title=re.compile(r\"^(.{1,8}章|.{1,8}篇|.{1,8}集|.{1,8}卷|后记|序)\\s\", flags=re.MULTILINE)\n",
    "chapters = re.split(re_chapter_title, novel_text)[1:]\n",
    "chapters = [chapters[i]+' '+chapters[i + 1] for i in range(0, len(chapters), 2) if len(chapters[i + 1]) > min_content_len]\n",
    "chapter_titles=[chapter.split('\\n')[0].strip()[:max_title_len] for chapter in chapters]\n",
    "chapters=[chapter.split('\\n',1)[1] for chapter in chapters]\n",
    "    \n",
    "with open(wiki_path,'r',encoding='utf-8') as f:\n",
    "    wiki_text=f.read()\n",
    "print('successfully read wiki text from ', wiki_path)\n",
    "\n",
    "re_wiki_title=re.compile(r\"^(【词条】)\\s\", flags=re.MULTILINE)\n",
    "wikis=re.split(re_wiki_title,wiki_text)[1:]\n",
    "wikis=[wikis[i]+' '+wikis[i+1] for i in range(0,len(wikis),2) if len(wikis[i+1])>min_content_len]\n",
    "wiki_titles=[wiki.split('\\n')[0].strip().replace('【词条】','')[:max_title_len] for wiki in wikis]\n",
    "wikis=[wiki.split('\\n',1)[1] for wiki in wikis]\n",
    "\n",
    "\n",
    "import matplotlib.pyplot as plt\n",
    "import numpy as np\n",
    "if include_novel:\n",
    "    plt.figure(figsize=(5, 2))\n",
    "    plt.hist([len(chapter) for chapter in chapters], bins=np.logspace(0, 10, 50))\n",
    "    plt.xscale('log');plt.xlabel('chapter length');plt.ylabel('count');plt.title('Distribution of chapter length');plt.show()\n",
    "    print('Number of chapters: ', len(chapters))\n",
    "\n",
    "plt.figure(figsize=(5, 2))\n",
    "plt.hist([len(wiki) for wiki in wikis], bins=np.logspace(0, 10, 50))\n",
    "plt.xscale('log');plt.xlabel('wiki length');plt.ylabel('count');plt.title('Distribution of wiki length');plt.show()\n",
    "print('Number of wikis: ', len(wikis))\n"
   ]
  },
  {
   "cell_type": "code",
   "execution_count": 35,
   "metadata": {},
   "outputs": [
    {
     "name": "stdout",
     "output_type": "stream",
     "text": [
      "Number of documents:  123\n"
     ]
    },
    {
     "data": {
      "image/png": "[encoded data removed]",
      "text/plain": [
       "<Figure size 500x200 with 1 Axes>"
      ]
     },
     "metadata": {},
     "output_type": "display_data"
    },
    {
     "name": "stdout",
     "output_type": "stream",
     "text": [
      "Number of docs:  123\n"
     ]
    }
   ],
   "source": [
    "from langchain.schema import Document\n",
    "from langchain.text_splitter import RecursiveCharacterTextSplitter\n",
    "text_splitter=RecursiveCharacterTextSplitter(chunk_size=max_content_len,chunk_overlap=chunk_overlap)\n",
    "\n",
    "documents=[]\n",
    "documents+=[Document(page_content=wiki,metadata={'title':title,'type':'wiki'}) for wiki,title in zip(wikis,wiki_titles)]\n",
    "if include_novel:\n",
    "    documents+=[Document(page_content=chapter,metadata={'title':title,'type':'novel'}) for chapter,title in zip(chapters,chapter_titles)]\n",
    "documents=text_splitter.split_documents(documents)\n",
    "for doc in documents:\n",
    "    if include_title:\n",
    "        doc.page_content=doc.metadata['title']+'\\n'+doc.page_content\n",
    "    doc.page_content=doc.page_content.replace('\\n',' ').strip()\n",
    "documents=[doc for doc in documents if len(doc.page_content)>min_content_len]\n",
    "\n",
    "print('Number of documents: ', len(documents))\n",
    "\n",
    "import random\n",
    "random.sample(documents,5)\n",
    "\n",
    "import matplotlib.pyplot as plt\n",
    "import numpy as np\n",
    "\n",
    "plt.figure(figsize=(5, 2))\n",
    "plt.hist([len(doc.page_content) for doc in documents], bins=np.logspace(0, 10, 50))\n",
    "plt.xscale('log');plt.xlabel('wiki length');plt.ylabel('count');plt.title('Distribution of split doc length');plt.show()\n",
    "print('Number of docs: ', len(documents))"
   ]
  },
  {
   "cell_type": "markdown",
   "metadata": {},
   "source": [
    "# 建立FAISS索引"
   ]
  },
  {
   "cell_type": "code",
   "execution_count": 36,
   "metadata": {},
   "outputs": [
    {
     "name": "stderr",
     "output_type": "stream",
     "text": [
      "No sentence-transformers model found with name D:\\ml\\text2vec-large-chinese. Creating a new one with MEAN pooling.\n",
      "No sentence-transformers model found with name D:\\ml\\text2vec-large-chinese. Creating a new one with MEAN pooling.\n"
     ]
    }
   ],
   "source": [
    "from langchain.embeddings import HuggingFaceEmbeddings\n",
    "import sentence_transformers\n",
    "from langchain.vectorstores import FAISS\n",
    "\n",
    "embeddings = HuggingFaceEmbeddings(model_name=r'D:\\ml\\text2vec-large-chinese')\n",
    "embeddings.client=sentence_transformers.SentenceTransformer(embeddings.model_name,device=\"cuda\")"
   ]
  },
  {
   "cell_type": "code",
   "execution_count": 37,
   "metadata": {},
   "outputs": [
    {
     "name": "stdout",
     "output_type": "stream",
     "text": [
      "saved vector store to  ./output_zero/faiss_index\n"
     ]
    }
   ],
   "source": [
    "# WARNING VERY SLOW\n",
    "from tqdm.auto import tqdm\n",
    "import os\n",
    "\n",
    "\n",
    "# save every 50 doc in one folder\n",
    "# vector_stores=[]\n",
    "# for i in tqdm(range(0,len(documents),50)):\n",
    "#     vector_store_dir=os.path.join(faiss_cache_dir,'{0:06d}'.format(i))\n",
    "#     if not os.path.exists(vector_store_dir+'/index.faiss'):\n",
    "#         print('building vector store for documents ',i,' to ',i+100)\n",
    "#         vector_store = FAISS.from_documents(documents[i:i+100], embeddings)\n",
    "#         os.makedirs(vector_store_dir)\n",
    "#         vector_store.save_local(vector_store_dir)\n",
    "#         print('saved vector store to ', vector_store_dir)\n",
    "#     else:\n",
    "#         vector_store=FAISS.load_local(vector_store_dir, embeddings)\n",
    "#         print('loaded vector store from ', vector_store_dir)\n",
    "#     vector_stores.append(vector_store)\n",
    "# vector_store=vector_stores[0]\n",
    "# for i in range(1,len(vector_stores)):\n",
    "#     vector_store.merge_from(vector_stores[i])\n",
    "# vector_store.save_local(faiss_path)\n",
    "# print('saved vector store to ', faiss_path)\n",
    "# del vector_stores\n",
    "\n",
    "if os.path.exists(faiss_path+'/index.faiss'):\n",
    "    vector_store=FAISS.load_local(faiss_path, embeddings)\n",
    "    print('loaded vector store from ', faiss_path)\n",
    "else:\n",
    "    vector_store = FAISS.from_documents(documents, embeddings)\n",
    "    vector_store.save_local(faiss_path)\n",
    "    print('saved vector store to ', faiss_path)"
   ]
  },
  {
   "cell_type": "code",
   "execution_count": 38,
   "metadata": {},
   "outputs": [
    {
     "name": "stdout",
     "output_type": "stream",
     "text": [
      "query:  路易斯\n",
      "results: \n",
      "'露易丝 露易丝·法兰西斯·露·布朗·杜·拉·瓦利埃尔 本作女主角，作品中一般称为露易丝，有着夹杂金色的粉红长卷发、茶褐色的眼瞳（动画为桃红色）。'\n",
      "'露易丝 本作女主角，作品中一般称为露易丝，有着夹杂金色的粉红长卷发、茶褐色的眼瞳（动画为桃红色）。 在托里斯汀东北拥有领土的名门拉·瓦利埃尔公爵家的三女儿、托里斯汀魔法学院的二年级学生。'\n",
      "'托里斯汀 是一个位于哈尔凯尼亚西北部，历史悠久的小王国，故事女主角露易丝的祖国，大部分的故事都发生于此。 （位置大致相当于欧洲的低地三国。）首都为托里斯塔尼亚（Tristania）'\n",
      "'基修·杜·格拉蒙 露易丝的同学。父亲则是托里斯汀的元帅。尽管爱上了蒙莫朗西，却是个花花公子，总是不能决定自己喜欢谁。'\n",
      "'露易丝 性格易怒，容易骂人，有点糊涂（跟才人比），为了小事常常生气。 动画第三期中为救出塔巴萨而放弃贵族身份，但被公主赏识，成为王位继承人。喜欢平贺才人。'\n",
      "query:  才人取出了武器\n",
      "results: \n",
      "'德鲁弗林加 不过却及时把精神力转移至才人的武士刀上，在小说十九集中才人与精灵亚利对决中再度觉醒。'\n",
      "'手枪 被露易丝以“爆炸”魔法成功阻止。后来归才人所有，正式名称是SIG P226手枪， 使用9x19mm子弹。才人在与约瑟夫的战斗中丢弃。'\n",
      "'平贺才人 AK-47突击步枪、自动手枪（动画版第四部第三集使用）、88毫米高射炮（第三部结局出场）。武器是露易丝替他买的一把剑，'\n",
      "'德鲁弗林加 才人平时用的长剑，有自我意识的智慧之剑。因为表面破烂不堪，露易丝以相当低廉的价格就买下了， 并且送给才人当配剑。被才人称作“迪尔夫”[小说中翻译为德鲁]，自己则以“伙伴”称呼才人。很喜欢说话。'\n",
      "'德鲁弗林加 而此能力曾在才人阻挡七万大军时失去意识而使用，亦因此才人才能得救。在小说第十六集中为了救才人，刀身过量吸收杀手元素兄弟的魔法攻击而被毁，'\n",
      "query:  才人大战约瑟夫\n",
      "results: \n",
      "'德鲁弗林加 不过却及时把精神力转移至才人的武士刀上，在小说十九集中才人与精灵亚利对决中再度觉醒。'\n",
      "'手枪 被露易丝以“爆炸”魔法成功阻止。后来归才人所有，正式名称是SIG P226手枪， 使用9x19mm子弹。才人在与约瑟夫的战斗中丢弃。'\n",
      "'谢斯塔 学院里服侍贵族学生和一切杂役的女仆，在故事刚登场时与大部分的平民一样畏惧者贵族， 在目睹才人再与基修的决斗中英勇的表现，不但有了不再对贵族畏惧的勇气，也因而对才人产生了爱慕之心。'\n",
      "'德鲁弗林加 才人平时用的长剑，有自我意识的智慧之剑。因为表面破烂不堪，露易丝以相当低廉的价格就买下了， 并且送给才人当配剑。被才人称作“迪尔夫”[小说中翻译为德鲁]，自己则以“伙伴”称呼才人。很喜欢说话。'\n",
      "'德鲁弗林加 而此能力曾在才人阻挡七万大军时失去意识而使用，亦因此才人才能得救。在小说第十六集中为了救才人，刀身过量吸收杀手元素兄弟的魔法攻击而被毁，'\n",
      "query:  路易斯在吵架\n",
      "results: \n",
      "'蒂法妮娅 “贝儿朵莉丝”不同意，于是才人便对其出手，与其龙骑士团对抗，露易丝正在做美梦被打斗的声音吵醒，出现在众人前用虚无魔法阻止了众人，'\n",
      "'露易丝 因此被戏称为“零之露易丝”。实际上是少见的“虚无”系统的魔法师（虚无使用者），只要情绪起伏大就能蓄积大量魔力。 性格易怒，容易骂人，有点糊涂（跟才人比），为了小事常常生气。'\n",
      "'露易丝 性格易怒，容易骂人，有点糊涂（跟才人比），为了小事常常生气。 动画第三期中为救出塔巴萨而放弃贵族身份，但被公主赏识，成为王位继承人。喜欢平贺才人。'\n",
      "'蒂法妮娅 才人妨碍审问的话会被当作异端的同伙，会使与自己有关系的人招遇麻烦，才人便向“贝儿朵莉丝”下跪请求不要审问蒂法，'\n",
      "'谢斯塔 甚至可以称之为激烈的性格。由于身材不输给丘尔洁，且因有日本血统和日本女性的外貌， 在思乡情结的才人眼中特别有亲近感觉，也因此在众女角中一直被露易丝视为强大的竞争对手。'\n"
     ]
    }
   ],
   "source": [
    "queries=[\n",
    "    '路易斯',\n",
    "    '才人取出了武器',\n",
    "    '才人大战约瑟夫',\n",
    "    '路易斯在吵架',\n",
    "]\n",
    "\n",
    "for query in queries:\n",
    "    print('query: ',query)\n",
    "    results=vector_store.similarity_search(query, k=5)\n",
    "    print('results: ')\n",
    "    for doc in results:\n",
    "        print(repr(doc.page_content))"
   ]
  },
  {
   "cell_type": "code",
   "execution_count": 39,
   "metadata": {},
   "outputs": [
    {
     "name": "stdout",
     "output_type": "stream",
     "text": [
      "random document:\n",
      " 员们叹息着……\n",
      "    “女王陛下说的对！”\n",
      "    “变成战争的话可就严重了！”\n",
      "    以雷纳尔为首的队员们劝说着才人\n",
      "    “我明白了”才人说道\n",
      "    “你们先回学院吧”\n",
      "    “才人，我都说过多少遍了，我们并不是因为害怕……”\n",
      "    雷纳尔继续试图说服才人\n",
      "    “我知道，我并没有认为你们是胆小鬼。我知道女王的话是有道理的。你们的心情我也能理解。我只是还有点话要说而已。”\n",
      "    水精灵骑士队的队员们象放心了一样从女王的办公室里辞了出去。\n",
      "    这时候屋里剩下的只有才人和露易丝，基修和马利寇尔奴这四个人\n",
      "    “愿意放弃了吗？”\n",
      "    望着就好象在请求自己一样的安利艾塔，才人的意志一瞬动摇了。\n",
      "    现在看着他的不再是那个戴着威严女王面具的安利艾塔，而是在之前和自己接吻时候的那个她。\n",
      "    现在的安利艾塔不是作为女王，而是作为一个爱着才人的女孩不希望他去。\n",
      "    安利艾塔的样子，向才人传达着这个意思\n",
      "    凝望着安利艾塔的才人，本来在心中下定的决心就快要消失了\n",
      "    可是……自己果然还是不能让这件事情就这样下去。就算是为了爱情，自己也不能弃曾经拯救过自\n",
      "results: \n",
      "'谢斯塔 学院里服侍贵族学生和一切杂役的女仆，在故事刚登场时与大部分的平民一样畏惧者贵族， 在目睹才人再与基修的决斗中英勇的表现，不但有了不再对贵族畏惧的勇气，也因而对才人产生了爱慕之心。'\n",
      "'安丽埃塔 在小说第四集绑架事件落幕后，安丽埃塔对于数次拯救她和国家危机的才人逐渐倾心， 在第4部动画里曾用魔法镜子到才人密室而跟才人接吻，也让露易丝和谢丝坦感受到严重的危机威胁。'\n",
      "'安丽埃塔 她成为了托里斯汀的女王，并且下定决心要从阿尔比昂的侵略中保卫托里斯汀。 在小说第四集绑架事件落幕后，安丽埃塔对于数次拯救她和国家危机的才人逐渐倾心，'\n",
      "'露易丝 性格易怒，容易骂人，有点糊涂（跟才人比），为了小事常常生气。 动画第三期中为救出塔巴萨而放弃贵族身份，但被公主赏识，成为王位继承人。喜欢平贺才人。'\n",
      "'谢斯塔 在找不到回去的方法后在零战迫降的村落落地生根终老，也因此谢斯塔可说是日本与托里斯特尼亚的混血儿。 谢斯塔的本性善良温和，但只要牵扯到与才人恋爱有关的事物，就会展现出平时没有的积极及勇气，'\n"
     ]
    }
   ],
   "source": [
    "random_context=random.sample(chapters,1)[0]\n",
    "random_context=random_context[random.randint(0,len(random_context)-500):][:500]\n",
    "print('random document:\\n',random_context)\n",
    "results=vector_store.similarity_search(random_context, k=5)\n",
    "print('results: ')\n",
    "for doc in results:\n",
    "    print(repr(doc.page_content))\n",
    "    "
   ]
  },
  {
   "cell_type": "code",
   "execution_count": null,
   "metadata": {},
   "outputs": [],
   "source": []
  }
 ],
 "metadata": {
  "kernelspec": {
   "display_name": "tensorflow",
   "language": "python",
   "name": "python3"
  },
  "language_info": {
   "codemirror_mode": {
    "name": "ipython",
    "version": 3
   },
   "file_extension": ".py",
   "mimetype": "text/x-python",
   "name": "python",
   "nbconvert_exporter": "python",
   "pygments_lexer": "ipython3",
   "version": "3.8.10"
  },
  "orig_nbformat": 4
 },
 "nbformat": 4,
 "nbformat_minor": 2
}
