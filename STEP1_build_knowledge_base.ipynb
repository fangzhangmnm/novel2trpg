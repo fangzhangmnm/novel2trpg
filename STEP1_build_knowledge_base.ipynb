{
 "cells": [
  {
   "cell_type": "code",
   "execution_count": 1,
   "metadata": {},
   "outputs": [],
   "source": [
    "wiki_path = './零之使魔_wiki.txt'\n",
    "novel_path='./零之使魔.txt'\n",
    "output_dir='./output_zero/'\n",
    "faiss_path=output_dir+'faiss_index'\n",
    "\n",
    "include_novel=False\n",
    "include_title=True\n",
    "max_title_len=20\n",
    "min_content_len=20\n",
    "max_content_len=100\n",
    "chunk_overlap=50\n",
    "\n",
    "import os\n",
    "if not os.path.exists(output_dir):\n",
    "    os.makedirs(output_dir)\n",
    "\n",
    "# faiss_cache_dir=output_dir+'faiss_cache'\n",
    "# if not os.path.exists(faiss_cache_dir):\n",
    "#     os.makedirs(faiss_cache_dir)"
   ]
  },
  {
   "attachments": {},
   "cell_type": "markdown",
   "metadata": {},
   "source": [
    "# 读取wiki txt，分块"
   ]
  },
  {
   "cell_type": "code",
   "execution_count": 2,
   "metadata": {},
   "outputs": [
    {
     "name": "stdout",
     "output_type": "stream",
     "text": [
      "successfully read novel text from  ./零之使魔.txt\n",
      "successfully read wiki text from  ./零之使魔_wiki.txt\n"
     ]
    },
    {
     "data": {
      "image/png": "[encoded data removed]",
      "text/plain": [
       "<Figure size 500x200 with 1 Axes>"
      ]
     },
     "metadata": {},
     "output_type": "display_data"
    },
    {
     "name": "stdout",
     "output_type": "stream",
     "text": [
      "Number of wikis:  32\n"
     ]
    }
   ],
   "source": [
    "import re\n",
    "\n",
    "with open(novel_path,'r',encoding='utf-8') as f:\n",
    "    novel_text=f.read()\n",
    "print('successfully read novel text from ', novel_path)\n",
    "\n",
    "re_chapter_title=re.compile(r\"^(.{1,8}章|.{1,8}篇|.{1,8}集|.{1,8}卷|后记|序)\\s\", flags=re.MULTILINE)\n",
    "chapters = re.split(re_chapter_title, novel_text)[1:]\n",
    "chapters = [chapters[i]+' '+chapters[i + 1] for i in range(0, len(chapters), 2) if len(chapters[i + 1]) > min_content_len]\n",
    "chapter_titles=[chapter.split('\\n')[0].strip()[:max_title_len] for chapter in chapters]\n",
    "chapters=[chapter.split('\\n',1)[1] for chapter in chapters]\n",
    "    \n",
    "with open(wiki_path,'r',encoding='utf-8') as f:\n",
    "    wiki_text=f.read()\n",
    "print('successfully read wiki text from ', wiki_path)\n",
    "\n",
    "re_wiki_title=re.compile(r\"^(【词条】)\\s\", flags=re.MULTILINE)\n",
    "wikis=re.split(re_wiki_title,wiki_text)[1:]\n",
    "wikis=[wikis[i]+' '+wikis[i+1] for i in range(0,len(wikis),2) if len(wikis[i+1])>min_content_len]\n",
    "wiki_titles=[wiki.split('\\n')[0].strip().replace('【词条】','')[:max_title_len] for wiki in wikis]\n",
    "wikis=[wiki.split('\\n',1)[1] for wiki in wikis]\n",
    "\n",
    "\n",
    "import matplotlib.pyplot as plt\n",
    "import numpy as np\n",
    "if include_novel:\n",
    "    plt.figure(figsize=(5, 2))\n",
    "    plt.hist([len(chapter) for chapter in chapters], bins=np.logspace(0, 10, 50))\n",
    "    plt.xscale('log');plt.xlabel('chapter length');plt.ylabel('count');plt.title('Distribution of chapter length');plt.show()\n",
    "    print('Number of chapters: ', len(chapters))\n",
    "\n",
    "plt.figure(figsize=(5, 2))\n",
    "plt.hist([len(wiki) for wiki in wikis], bins=np.logspace(0, 10, 50))\n",
    "plt.xscale('log');plt.xlabel('wiki length');plt.ylabel('count');plt.title('Distribution of wiki length');plt.show()\n",
    "print('Number of wikis: ', len(wikis))\n"
   ]
  },
  {
   "cell_type": "code",
   "execution_count": 3,
   "metadata": {},
   "outputs": [
    {
     "name": "stdout",
     "output_type": "stream",
     "text": [
      "Number of documents:  120\n"
     ]
    },
    {
     "data": {
      "image/png": "[encoded data removed]",
      "text/plain": [
       "<Figure size 500x200 with 1 Axes>"
      ]
     },
     "metadata": {},
     "output_type": "display_data"
    },
    {
     "name": "stdout",
     "output_type": "stream",
     "text": [
      "Number of docs:  120\n"
     ]
    }
   ],
   "source": [
    "from langchain.schema import Document\n",
    "from langchain.text_splitter import RecursiveCharacterTextSplitter\n",
    "text_splitter=RecursiveCharacterTextSplitter(chunk_size=max_content_len,chunk_overlap=chunk_overlap)\n",
    "\n",
    "documents=[]\n",
    "documents+=[Document(page_content=wiki,metadata={'title':title,'type':'wiki'}) for wiki,title in zip(wikis,wiki_titles)]\n",
    "if include_novel:\n",
    "    documents+=[Document(page_content=chapter,metadata={'title':title,'type':'novel'}) for chapter,title in zip(chapters,chapter_titles)]\n",
    "documents=text_splitter.split_documents(documents)\n",
    "for doc in documents:\n",
    "    if include_title:\n",
    "        doc.page_content=doc.metadata['title']+'\\n'+doc.page_content\n",
    "    doc.page_content=doc.page_content.replace('\\n',' ').strip()\n",
    "documents=[doc for doc in documents if len(doc.page_content)>min_content_len]\n",
    "\n",
    "print('Number of documents: ', len(documents))\n",
    "\n",
    "import random\n",
    "random.sample(documents,5)\n",
    "\n",
    "import matplotlib.pyplot as plt\n",
    "import numpy as np\n",
    "\n",
    "plt.figure(figsize=(5, 2))\n",
    "plt.hist([len(doc.page_content) for doc in documents], bins=np.logspace(0, 10, 50))\n",
    "plt.xscale('log');plt.xlabel('wiki length');plt.ylabel('count');plt.title('Distribution of split doc length');plt.show()\n",
    "print('Number of docs: ', len(documents))"
   ]
  },
  {
   "cell_type": "markdown",
   "metadata": {},
   "source": [
    "# 建立FAISS索引"
   ]
  },
  {
   "cell_type": "code",
   "execution_count": null,
   "metadata": {},
   "outputs": [],
   "source": [
    "from langchain.embeddings import HuggingFaceEmbeddings\n",
    "import sentence_transformers\n",
    "from langchain.vectorstores import FAISS\n",
    "\n",
    "embeddings=HuggingFaceEmbeddings(model_name_or_path='bert-base-chinese')"
   ]
  },
  {
   "cell_type": "code",
   "execution_count": null,
   "metadata": {},
   "outputs": [
    {
     "ename": "",
     "evalue": "",
     "output_type": "error",
     "traceback": [
      "\u001b[1;31mThe kernel failed to start as the Python Environment 'tensorflow2' is no longer available. Consider selecting another kernel or refreshing the list of Python Environments."
     ]
    }
   ],
   "source": [
    "from langchain.embeddings import HuggingFaceEmbeddings\n",
    "import sentence_transformers\n",
    "from langchain.vectorstores import FAISS\n",
    "\n",
    "embeddings = HuggingFaceEmbeddings(model_name=r'D:\\ml\\text2vec-large-chinese')\n",
    "embeddings.client=sentence_transformers.SentenceTransformer(embeddings.model_name,device=\"cuda\")"
   ]
  },
  {
   "cell_type": "code",
   "execution_count": 14,
   "metadata": {},
   "outputs": [
    {
     "name": "stdout",
     "output_type": "stream",
     "text": [
      "loaded vector store from  ./output_zero/faiss_index\n"
     ]
    }
   ],
   "source": [
    "# WARNING VERY SLOW\n",
    "from tqdm.auto import tqdm\n",
    "import os\n",
    "\n",
    "\n",
    "# save every 50 doc in one folder\n",
    "# vector_stores=[]\n",
    "# for i in tqdm(range(0,len(documents),50)):\n",
    "#     vector_store_dir=os.path.join(faiss_cache_dir,'{0:06d}'.format(i))\n",
    "#     if not os.path.exists(vector_store_dir+'/index.faiss'):\n",
    "#         print('building vector store for documents ',i,' to ',i+100)\n",
    "#         vector_store = FAISS.from_documents(documents[i:i+100], embeddings)\n",
    "#         os.makedirs(vector_store_dir)\n",
    "#         vector_store.save_local(vector_store_dir)\n",
    "#         print('saved vector store to ', vector_store_dir)\n",
    "#     else:\n",
    "#         vector_store=FAISS.load_local(vector_store_dir, embeddings)\n",
    "#         print('loaded vector store from ', vector_store_dir)\n",
    "#     vector_stores.append(vector_store)\n",
    "# vector_store=vector_stores[0]\n",
    "# for i in range(1,len(vector_stores)):\n",
    "#     vector_store.merge_from(vector_stores[i])\n",
    "# vector_store.save_local(faiss_path)\n",
    "# print('saved vector store to ', faiss_path)\n",
    "# del vector_stores\n",
    "\n",
    "if os.path.exists(faiss_path+'/index.faiss'):\n",
    "    vector_store=FAISS.load_local(faiss_path, embeddings)\n",
    "    print('loaded vector store from ', faiss_path)\n",
    "else:\n",
    "    vector_store = FAISS.from_documents(documents, embeddings)\n",
    "    vector_store.save_local(faiss_path)\n",
    "    print('saved vector store to ', faiss_path)"
   ]
  },
  {
   "cell_type": "code",
   "execution_count": 12,
   "metadata": {},
   "outputs": [
    {
     "name": "stdout",
     "output_type": "stream",
     "text": [
      "query:  路易斯\n",
      "results: \n",
      "'露易丝 露易丝·法兰西斯·露·布朗·杜·拉·瓦利埃尔 本作女主角，作品中一般称为露易丝，有着夹杂金色的粉红长卷发、茶褐色的眼瞳（动画为桃红色）。'\n",
      "'平贺才人 已与露易斯同居中。同时被书中许多女性角色爱慕著。喜欢露易丝。'\n",
      "'露易丝 本作女主角，作品中一般称为露易丝，有着夹杂金色的粉红长卷发、茶褐色的眼瞳（动画为桃红色）。 在托里斯汀东北拥有领土的名门拉·瓦利埃尔公爵家的三女儿、托里斯汀魔法学院的二年级学生。'\n",
      "'托里斯汀 是一个位于哈尔凯尼亚西北部，历史悠久的小王国，故事女主角露易丝的祖国，大部分的故事都发生于此。 （位置大致相当于欧洲的低地三国。）首都为托里斯塔尼亚（Tristania）'\n",
      "'基修·杜·格拉蒙 露易丝的同学。父亲则是托里斯汀的元帅。尽管爱上了蒙莫朗西，却是个花花公子，总是不能决定自己喜欢谁。'\n",
      "query:  才人取出了武器\n",
      "results: \n",
      "'德鲁弗林加 在小说第十六集中为了救才人，刀身过量吸收杀手元素兄弟的魔法攻击而被毁，不过却及时把精神力转移至才人的武士刀上，在小说十九集中才人与精灵亚利对决中再度觉醒。'\n",
      "'手枪 被露易丝以“爆炸”魔法成功阻止。后来归才人所有，正式名称是SIG P226手枪， 使用9x19mm子弹。才人在与约瑟夫的战斗中丢弃。'\n",
      "'平贺才人 武器是露易丝替他买的一把剑，原本只是因为会说话好玩而买下，但后来才知那把剑是拥有知性的“智慧之剑”（Derflinger），那剑在过去6,000年都是由Gandalfr所使用的。'\n",
      "'德鲁弗林加 才人平时用的长剑，有自我意识的智慧之剑。因为表面破烂不堪，露易丝以相当低廉的价格就买下了，并且送给才人当配剑。 被才人称作“迪尔夫”[小说中翻译为德鲁]，自己则以“伙伴”称呼才人。很喜欢说话。'\n",
      "'长枪 而存于罗马尼亚大圣堂底下的“工艺品”即为长枪，就是才人所用的“虎式坦克”、“AK突击步枪”、“自动手枪”之类的发射型武器。 但由密探带回的武器并非只有发射型武器，就连日本武士的日本刀也有。'\n",
      "query:  才人大战约瑟夫\n",
      "results: \n",
      "'手枪 被露易丝以“爆炸”魔法成功阻止。后来归才人所有，正式名称是SIG P226手枪， 使用9x19mm子弹。才人在与约瑟夫的战斗中丢弃。'\n",
      "'谢斯塔 学院里服侍贵族学生和一切杂役的女仆，在故事刚登场时与大部分的平民一样畏惧者贵族，在目睹才人再与基修的决斗中英勇的表现，不但有了不再对贵族畏惧的勇气，也因而对才人产生了爱慕之心。'\n",
      "'德鲁弗林加 在小说第十六集中为了救才人，刀身过量吸收杀手元素兄弟的魔法攻击而被毁，不过却及时把精神力转移至才人的武士刀上，在小说十九集中才人与精灵亚利对决中再度觉醒。'\n",
      "'德鲁弗林加 才人平时用的长剑，有自我意识的智慧之剑。因为表面破烂不堪，露易丝以相当低廉的价格就买下了，并且送给才人当配剑。 被才人称作“迪尔夫”[小说中翻译为德鲁]，自己则以“伙伴”称呼才人。很喜欢说话。'\n",
      "'手枪 导致雪菲尔右腿被截断；另外几发子弹在对付无能王约瑟夫时全被消耗殆尽， 虽然无能王约瑟夫捡得并且对才人使用，却犯下与土块之芙凯同样的错误（都是不知道没有子弹的情况下使用自己从未用过的武器），'\n",
      "query:  路易斯在吵架\n",
      "results: \n",
      "'露易丝 实际上是少见的“虚无”系统的魔法师（虚无使用者），只要情绪起伏大就能蓄积大量魔力。 性格易怒，容易骂人，有点糊涂（跟才人比），为了小事常常生气。'\n",
      "'蒂法妮娅 才人为了阻止蒂法被审问与“贝儿朵莉丝”求情，“贝儿朵莉丝”不同意，于是才人便对其出手，与其龙骑士团对抗，露易丝正在做美梦被打斗的声音吵醒，出现在众人前用虚无魔法阻止了众人，'\n",
      "'露易丝 性格易怒，容易骂人，有点糊涂（跟才人比），为了小事常常生气。 动画第三期中为救出塔巴萨而放弃贵族身份，但被公主赏识，成为王位继承人。喜欢平贺才人。'\n",
      "'蒂法妮娅 才人为了阻止蒂法被审问与“贝儿朵莉丝”求情，之后“基修·杜·格拉蒙”制止才人并告诉才人妨碍审问的话会被当作异端的同伙，会使与自己有关系的人招遇麻烦，才人便向“贝儿朵莉丝”下跪请求不要审问蒂法，'\n",
      "'零之使魔 以住宿制的特里斯汀魔法学院为舞台，作为使魔的平贺才人开始了他倍受一副主人模样的美少女魔法使路易丝打骂、调教以及疼爱，充满勇气和屈辱的令人心动的学园生活……'\n"
     ]
    }
   ],
   "source": [
    "queries=[\n",
    "    '路易斯',\n",
    "    '才人取出了武器',\n",
    "    '才人大战约瑟夫',\n",
    "    '路易斯在吵架',\n",
    "]\n",
    "\n",
    "for query in queries:\n",
    "    print('query: ',query)\n",
    "    results=vector_store.similarity_search(query, k=5)\n",
    "    print('results: ')\n",
    "    for doc in results:\n",
    "        print(repr(doc.page_content))"
   ]
  },
  {
   "cell_type": "code",
   "execution_count": 13,
   "metadata": {},
   "outputs": [
    {
     "name": "stdout",
     "output_type": "stream",
     "text": [
      "random document:\n",
      " 酒。\n",
      "    基姆利以开玩笑的口吻说完后，少年们纷纷聚拢到露易丝和蒂法妮娅的身边，以醉汉的模样完成了三遍「万岁」的欢呼。\n",
      "    「圣战万岁！罗马尼亚万岁！艾克蕾亚的圣女万岁！」\n",
      "    接着互相对着脸一句「都在张口乱叫些什么啊」后，互相大笑了起来。露易丝以冷冷的视线环绕着看了一圈醉酒的少年，发现里面没有才人的身影。\n",
      "    「才人呢？」\n",
      "    「啊，那个家伙不在哦，说什么有要交给塔巴萨的东西，早就不见了。」\n",
      "    马里科尔奴答道。\n",
      "    「塔巴萨？」\n",
      "    露易丝的肩膀忽然动了一下。\n",
      "    果然那家伙对那娇小的塔巴萨……也伸出了魔爪了啊！？\n",
      "    在露易丝心中一直故意没有去想的疑问在不断的膨大，一种对雪丝塔、安莉埃塔或者蒂法妮娅时完全不同的醋意开始包裹住她。\n",
      "    对充满女性魅力的他们才人有所反应也是没办法的事情，虽然很上火但是也是情理之中。\n",
      "    但是，塔巴萨却不一样。比自己还小，胸部也不是完全没有吗？如果才人是一般的趣味，自己肯定是输了的。\n",
      "    但是反过来如果才人不是有那方面趣味的话……\n",
      "    露易丝从那个蓝头发的少女的身上感到了足以能够抵消以上的那些缺点的\n",
      "results: \n",
      "'露易丝 性格易怒，容易骂人，有点糊涂（跟才人比），为了小事常常生气。 动画第三期中为救出塔巴萨而放弃贵族身份，但被公主赏识，成为王位继承人。喜欢平贺才人。'\n",
      "'谢斯塔 谢斯塔的本性善良温和，但只要牵扯到与才人恋爱有关的事物，就会展现出平时没有的积极及勇气，甚至可以称之为激烈的性格。'\n",
      "'露易丝 实际上是少见的“虚无”系统的魔法师（虚无使用者），只要情绪起伏大就能蓄积大量魔力。 性格易怒，容易骂人，有点糊涂（跟才人比），为了小事常常生气。'\n",
      "'安丽埃塔 在小说第四集绑架事件落幕后，安丽埃塔对于数次拯救她和国家危机的才人逐渐倾心，在第4部动画里曾用魔法镜子到才人密室而跟才人接吻，也让露易丝和谢丝坦感受到严重的危机威胁。'\n",
      "'塔巴萨 塔巴萨是她的别名（是她妈妈送给她的玩偶名字），其真名为夏洛特·埃里努·奥尔良。她妈妈因为要保护塔巴萨而中了水魔法之毒而变得疯癫（后来约瑟夫战死后得到解药恢复心智），所以塔巴萨一直都封闭自己的话语和表情'\n"
     ]
    }
   ],
   "source": [
    "random_context=random.sample(chapters,1)[0]\n",
    "random_context=random_context[random.randint(0,len(random_context)-500):][:500]\n",
    "print('random document:\\n',random_context)\n",
    "results=vector_store.similarity_search(random_context, k=5)\n",
    "print('results: ')\n",
    "for doc in results:\n",
    "    print(repr(doc.page_content))\n",
    "    "
   ]
  },
  {
   "cell_type": "code",
   "execution_count": null,
   "metadata": {},
   "outputs": [],
   "source": []
  }
 ],
 "metadata": {
  "kernelspec": {
   "display_name": "tensorflow",
   "language": "python",
   "name": "python3"
  },
  "language_info": {
   "codemirror_mode": {
    "name": "ipython",
    "version": 3
   },
   "file_extension": ".py",
   "mimetype": "text/x-python",
   "name": "python",
   "nbconvert_exporter": "python",
   "pygments_lexer": "ipython3",
   "version": "3.8.10"
  },
  "orig_nbformat": 4
 },
 "nbformat": 4,
 "nbformat_minor": 2
}
