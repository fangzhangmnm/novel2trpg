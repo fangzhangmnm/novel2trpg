{
 "cells": [
  {
   "cell_type": "code",
   "execution_count": 1,
   "metadata": {},
   "outputs": [],
   "source": [
    "wiki_path = './灼眼的夏娜_wiki.txt'\n",
    "novel_path='./灼眼的夏娜.txt'\n",
    "output_dir='./output_shana/'\n",
    "faiss_path=output_dir+'faiss_index'\n",
    "\n",
    "include_novel=False\n",
    "include_title=True\n",
    "max_title_len=20\n",
    "min_content_len=20\n",
    "max_content_len=150\n",
    "chunk_overlap=50\n",
    "\n",
    "import os\n",
    "if not os.path.exists(output_dir):\n",
    "    os.makedirs(output_dir)\n",
    "\n",
    "# faiss_cache_dir=output_dir+'faiss_cache'\n",
    "# if not os.path.exists(faiss_cache_dir):\n",
    "#     os.makedirs(faiss_cache_dir)"
   ]
  },
  {
   "attachments": {},
   "cell_type": "markdown",
   "metadata": {},
   "source": [
    "# 读取wiki txt，分块"
   ]
  },
  {
   "cell_type": "code",
   "execution_count": 2,
   "metadata": {},
   "outputs": [
    {
     "name": "stdout",
     "output_type": "stream",
     "text": [
      "successfully read novel text from  ./灼眼的夏娜.txt\n",
      "successfully read wiki text from  ./灼眼的夏娜_wiki.txt\n"
     ]
    },
    {
     "name": "stderr",
     "output_type": "stream",
     "text": [
      "c:\\Anaconda3\\envs\\tensorflow\\lib\\site-packages\\numpy\\_distributor_init.py:30: UserWarning: loaded more than 1 DLL from .libs:\n",
      "c:\\Anaconda3\\envs\\tensorflow\\lib\\site-packages\\numpy\\.libs\\libopenblas.EL2C6PLE4ZYW3ECEVIV3OXXGRN2NRFM2.gfortran-win_amd64.dll\n",
      "c:\\Anaconda3\\envs\\tensorflow\\lib\\site-packages\\numpy\\.libs\\libopenblas.WCDJNK7YVMPZQ2ME2ZZHJJRJ3JIKNDB7.gfortran-win_amd64.dll\n",
      "  warnings.warn(\"loaded more than 1 DLL from .libs:\"\n"
     ]
    },
    {
     "data": {
      "image/png": "[encoded data removed]",
      "text/plain": [
       "<Figure size 500x200 with 1 Axes>"
      ]
     },
     "metadata": {},
     "output_type": "display_data"
    },
    {
     "name": "stdout",
     "output_type": "stream",
     "text": [
      "Number of wikis:  66\n"
     ]
    }
   ],
   "source": [
    "import re\n",
    "\n",
    "with open(novel_path,'r',encoding='utf-8') as f:\n",
    "    novel_text=f.read()\n",
    "print('successfully read novel text from ', novel_path)\n",
    "\n",
    "re_chapter_title=re.compile(r\"^(.{1,8}章|.{1,8}篇|.{1,8}集|.{1,8}卷|后记|序)\\s\", flags=re.MULTILINE)\n",
    "chapters = re.split(re_chapter_title, novel_text)[1:]\n",
    "chapters = [chapters[i]+' '+chapters[i + 1] for i in range(0, len(chapters), 2) if len(chapters[i + 1]) > min_content_len]\n",
    "chapter_titles=[chapter.split('\\n')[0].strip()[:max_title_len] for chapter in chapters]\n",
    "chapters=[chapter.split('\\n',1)[1] for chapter in chapters]\n",
    "    \n",
    "with open(wiki_path,'r',encoding='utf-8') as f:\n",
    "    wiki_text=f.read()\n",
    "print('successfully read wiki text from ', wiki_path)\n",
    "\n",
    "re_wiki_title=re.compile(r\"^(【词条】)\\s\", flags=re.MULTILINE)\n",
    "wikis=re.split(re_wiki_title,wiki_text)[1:]\n",
    "wikis=[wikis[i]+' '+wikis[i+1] for i in range(0,len(wikis),2) if len(wikis[i+1])>min_content_len]\n",
    "wiki_titles=[wiki.split('\\n')[0].strip().replace('【词条】','')[:max_title_len] for wiki in wikis]\n",
    "wikis=[wiki.split('\\n',1)[1] for wiki in wikis]\n",
    "\n",
    "\n",
    "import matplotlib.pyplot as plt\n",
    "import numpy as np\n",
    "if include_novel:\n",
    "    plt.figure(figsize=(5, 2))\n",
    "    plt.hist([len(chapter) for chapter in chapters], bins=np.logspace(0, 10, 50))\n",
    "    plt.xscale('log');plt.xlabel('chapter length');plt.ylabel('count');plt.title('Distribution of chapter length');plt.show()\n",
    "    print('Number of chapters: ', len(chapters))\n",
    "\n",
    "plt.figure(figsize=(5, 2))\n",
    "plt.hist([len(wiki) for wiki in wikis], bins=np.logspace(0, 10, 50))\n",
    "plt.xscale('log');plt.xlabel('wiki length');plt.ylabel('count');plt.title('Distribution of wiki length');plt.show()\n",
    "print('Number of wikis: ', len(wikis))\n"
   ]
  },
  {
   "cell_type": "code",
   "execution_count": 3,
   "metadata": {},
   "outputs": [
    {
     "name": "stdout",
     "output_type": "stream",
     "text": [
      "Number of documents:  557\n"
     ]
    },
    {
     "data": {
      "image/png": "[encoded data removed]",
      "text/plain": [
       "<Figure size 500x200 with 1 Axes>"
      ]
     },
     "metadata": {},
     "output_type": "display_data"
    },
    {
     "name": "stdout",
     "output_type": "stream",
     "text": [
      "Number of docs:  557\n"
     ]
    }
   ],
   "source": [
    "from langchain.schema import Document\n",
    "from langchain.text_splitter import RecursiveCharacterTextSplitter\n",
    "text_splitter=RecursiveCharacterTextSplitter(chunk_size=max_content_len,chunk_overlap=chunk_overlap)\n",
    "\n",
    "documents=[]\n",
    "documents+=[Document(page_content=wiki,metadata={'title':title,'type':'wiki'}) for wiki,title in zip(wikis,wiki_titles)]\n",
    "if include_novel:\n",
    "    documents+=[Document(page_content=chapter,metadata={'title':title,'type':'novel'}) for chapter,title in zip(chapters,chapter_titles)]\n",
    "documents=text_splitter.split_documents(documents)\n",
    "for doc in documents:\n",
    "    if include_title:\n",
    "        doc.page_content=doc.metadata['title']+'\\n'+doc.page_content\n",
    "    doc.page_content=doc.page_content.replace('\\n',' ').strip()\n",
    "documents=[doc for doc in documents if len(doc.page_content)>min_content_len]\n",
    "\n",
    "print('Number of documents: ', len(documents))\n",
    "\n",
    "import random\n",
    "random.sample(documents,5)\n",
    "\n",
    "import matplotlib.pyplot as plt\n",
    "import numpy as np\n",
    "\n",
    "plt.figure(figsize=(5, 2))\n",
    "plt.hist([len(doc.page_content) for doc in documents], bins=np.logspace(0, 10, 50))\n",
    "plt.xscale('log');plt.xlabel('wiki length');plt.ylabel('count');plt.title('Distribution of split doc length');plt.show()\n",
    "print('Number of docs: ', len(documents))"
   ]
  },
  {
   "cell_type": "markdown",
   "metadata": {},
   "source": [
    "# 建立FAISS索引"
   ]
  },
  {
   "cell_type": "code",
   "execution_count": 4,
   "metadata": {},
   "outputs": [
    {
     "name": "stderr",
     "output_type": "stream",
     "text": [
      "No sentence-transformers model found with name D:\\ml\\text2vec-large-chinese. Creating a new one with MEAN pooling.\n",
      "No sentence-transformers model found with name D:\\ml\\text2vec-large-chinese. Creating a new one with MEAN pooling.\n"
     ]
    }
   ],
   "source": [
    "from langchain.embeddings import HuggingFaceEmbeddings\n",
    "import sentence_transformers\n",
    "from langchain.vectorstores import FAISS\n",
    "\n",
    "embeddings = HuggingFaceEmbeddings(model_name=r'D:\\ml\\text2vec-large-chinese')\n",
    "embeddings.client=sentence_transformers.SentenceTransformer(embeddings.model_name,device=\"cuda\")"
   ]
  },
  {
   "cell_type": "code",
   "execution_count": 5,
   "metadata": {},
   "outputs": [
    {
     "name": "stdout",
     "output_type": "stream",
     "text": [
      "loaded vector store from  ./output_shana/faiss_index\n"
     ]
    }
   ],
   "source": [
    "# WARNING VERY SLOW\n",
    "from tqdm.auto import tqdm\n",
    "import os\n",
    "\n",
    "\n",
    "# save every 50 doc in one folder\n",
    "# vector_stores=[]\n",
    "# for i in tqdm(range(0,len(documents),50)):\n",
    "#     vector_store_dir=os.path.join(faiss_cache_dir,'{0:06d}'.format(i))\n",
    "#     if not os.path.exists(vector_store_dir+'/index.faiss'):\n",
    "#         print('building vector store for documents ',i,' to ',i+100)\n",
    "#         vector_store = FAISS.from_documents(documents[i:i+100], embeddings)\n",
    "#         os.makedirs(vector_store_dir)\n",
    "#         vector_store.save_local(vector_store_dir)\n",
    "#         print('saved vector store to ', vector_store_dir)\n",
    "#     else:\n",
    "#         vector_store=FAISS.load_local(vector_store_dir, embeddings)\n",
    "#         print('loaded vector store from ', vector_store_dir)\n",
    "#     vector_stores.append(vector_store)\n",
    "# vector_store=vector_stores[0]\n",
    "# for i in range(1,len(vector_stores)):\n",
    "#     vector_store.merge_from(vector_stores[i])\n",
    "# vector_store.save_local(faiss_path)\n",
    "# print('saved vector store to ', faiss_path)\n",
    "# del vector_stores\n",
    "\n",
    "if os.path.exists(faiss_path+'/index.faiss'):\n",
    "    vector_store=FAISS.load_local(faiss_path, embeddings)\n",
    "    print('loaded vector store from ', faiss_path)\n",
    "else:\n",
    "    vector_store = FAISS.from_documents(documents, embeddings)\n",
    "    vector_store.save_local(faiss_path)\n",
    "    print('saved vector store to ', faiss_path)"
   ]
  },
  {
   "cell_type": "code",
   "execution_count": 14,
   "metadata": {},
   "outputs": [
    {
     "name": "stdout",
     "output_type": "stream",
     "text": [
      "query:  本文是一篇小说，描述了男主角悠二和女主角夏娜之间的互动。夏娜拿出刚出炉的菠萝面包，悠二闻到香味想吃，但夏娜不给他。悠二觉得夏娜平时作为超能力者的强势形象与现在的贪吃模样有些不符，但他还是觉得她很可爱。\n",
      "results: \n",
      "'夏娜 其他 外传 在外传中变小的小夏娜常坐在坂井头上吃菠萝包满头面包碎，而且在和夏娜或其他女生相处时会被在后面的吉田一美跟踪吉田专用'\n",
      "'夏娜 开心地吃着蜜瓜包的夏娜 爱吃甜食。夏娜酷爱吃甜食，尤其喜爱吃蜜瓜包，小说和动画版中均有大量桥段涉及夏娜吃甜食，特别是蜜瓜包的部分。'\n",
      "'夏娜 次日开始，为了监视“密斯特斯”找出觊觎宝物的“徒”，夏娜潜伏到悠二身边，代替了悠二的存在之力被啃食殆尽的同学——平井缘的存在。后被悠二表示不满，然后被悠二截取其大刀“贽殿遮那”的名号取名为“夏娜”[10]。'\n",
      "'夏娜 也就是恋爱的情绪。同时他们不仅在日常生活中朝夕相处[4]中互相帮助；在战斗中，他们也并肩作战，对此，夏娜有一句经典发言：“我不是要把悠二带回来，而是要和他一起战斗”。后期尽管因为立场和做法的对立，夏娜和悠二也曾一度刀兵相向，但最终和解，修成'\n",
      "'吉田一美 在受过悠二和夏娜的帮助之后对悠二产生了好感，喜欢坂井悠二，夏娜则是她最具压迫感的情敌兼好友，同时也被池速人暗恋着，并在圣诞节前夜被表白。  料理很有一手，常常故意多做了便当带到学校送给悠二吃，由此开始了和夏娜的便当之战。'\n",
      "query:  本文是一篇小说或漫画的摘录，其中提到了几个场景和角色的名字，包括威尔艾米娜·卡梅尔、夏娜、玛琼林·朵、坂井悠二等。文中还涉及了三十年战争和拉罗歇尔包围战等历史事件的简单介绍。具体情节和人物关系需要参考原作了解。\n",
      "results: \n",
      "'威尔艾米娜·卡梅尔 人际关系是也 和玛蒂达·桑特美尔 和玛蒂达·桑特美尔是亲密无间的战友  和坂井千草 在到达御崎市后结识了悠二的母亲坂井千草，在夏娜的教育问题上曾有过多次辩论，结果全部以自己的单方面失败告终，后来二人结为好友。'\n",
      "'威尔艾米娜·卡梅尔 亲属或相关人 夏娜、「彩飘」、单恋对象：梅利希姆、战友：玛蒂达·桑特美尔 “\\t～であります\\t” 威尔艾米娜·卡梅尔（日语：ヴィルヘルミナ・カルメル）是高桥弥七郎所著《灼眼的夏娜》中登场的人物'\n",
      "'威尔艾米娜·卡梅尔 圣诞前夜因反对夏娜与坂井悠二见面潜在的影响火雾战士战斗力的不稳定因素与夏娜争吵。心结解开后帮助夏娜准备了约会的服装。与玛琼林·朵一同注意到钟楼方向巨大的卵状结构，与玛琼林·朵一同突入进去协助夏娜和坂井悠二。此役结束后，迎接了因为目睹了坂井悠'\n",
      "'威尔艾米娜·卡梅尔 和坂井悠二 刚开始视悠二为阻碍夏娜成为“完美的火雾战士”的绊脚石，数次试图杀掉悠二。在被夏娜和悠二联手击败后暂时放弃了杀死悠二的打算。  之后在一次次并肩作战中逐渐对悠二产生了一些信任。'\n",
      "'威尔艾米娜·卡梅尔 经历是也 Nuvola apps important blue.svg\\t以下内容含有剧透成分，可能影响观赏作品兴趣，请酌情阅读 曾经是沙漠国家的公主。成为火雾战士后与“辉砾散布者”结伴行动过一段时间。'\n",
      "query:  这是一篇小说片段，描述了夏娜和悠二的对话。悠二已经死了，但通过宝具的力量得以永久维持。夏娜告诉他，他们现在不能离开这个城市，因为城市的扭曲太过严重，需要防范“使徒”的攻击。如果扭曲继续扩大，就会引来所有能够感应到的人，包括火雾战士和“红世使徒”双方。玛琼琳则表示，尽管几率很小，但如果下次“使徒”出现，后果不堪设想。\n",
      "results: \n",
      "'夏娜 在悠二的帮助下，夏娜和亚拉斯特尔发现了有一些火炬存在异样，并由此推测法利亚格尼可能正在搞什么大型禁用的自在法。其后当法利亚格尼准备施展“吞食城市”时，夏娜先后击杀了玛丽安和法利亚格尼。'\n",
      "'夏娜 悠二前期的战斗力仅为普通人水平，并无与红世之徒及其燐子抗衡的能力，但感知能力超群，能为夏娜等火雾战士的战斗提供分析意见。中期的悠二学会了一些简单的存在之力，能消灭一些弱小的徒。后期的悠二与祭礼之蛇共生，获得了强大的能力，并最终领会了专属自在'\n",
      "'夏娜 击杀法利亚格尼后，夏娜与坂井悠二阻止了玛琼琳·朵对无害的红世之徒捡骨师拉米的讨灭，重创玛琼琳·朵。之后爱染兄妹试图夺取贽殿遮那，在“千变”修德南护卫下来到御崎市。夏娜、玛琼琳·朵和坂井悠二协助击杀了爱染兄妹。其后夏娜开始每天训练坂井悠二。'\n",
      "'夏娜 格尼。虽然能够防御火焰攻击，但仍有极限，超过极限后结界会破裂，其中的人仍会收到伤害，但戒指不会受损，待冷却后下次仍可使用，此外，和零时迷子一样，蓝天也是重要的线索宝具。'\n",
      "'零时迷子 星黎殿移动至御崎市，在与修德南的战斗中，悠二被抓走，逆理仲裁者贝露佩欧露利用零时迷子试图制造出存在之泉，被夏娜阻止，并发动『天破壤碎』耗尽了御崎市多余的『存在之力』避免城市被毁灭。(第一季动画原创剧情)'\n",
      "query:  夏娜 食物\n",
      "results: \n",
      "'夏娜 开心地吃着蜜瓜包的夏娜 爱吃甜食。夏娜酷爱吃甜食，尤其喜爱吃蜜瓜包，小说和动画版中均有大量桥段涉及夏娜吃甜食，特别是蜜瓜包的部分。'\n",
      "'夏娜 夏娜（全名：炎发灼眼的讨伐者·夏娜（Flame-Haired Burning-Eyed Hunter·Shana），日语：シャナ，Shana）是由高桥弥七郎所作轻小说《灼眼的夏娜》系列及其衍生的动画、漫画等作品的女主角。'\n",
      "'夏娜 300px-%E5%90%83%E7%9D%80%E8%9C%9C%E7%93%9C%E5%8C%85%E7%9A%84%E5%A4%8F%E5%A8%9C.jpg 开心地吃着蜜瓜包的夏娜'\n",
      "'夏娜 常对夏娜做出一些指导。在平时，亚拉斯特尔也如同长辈那般陪伴着夏娜。夏娜是能完全承载亚拉斯特尔力量的伟大之人。'\n",
      "'夏娜 和亚拉斯特尔：夏娜是亚拉斯特尔的签约对象，即火雾战士，是由亚里斯特尔等从小专门培养的火雾战士。在战斗中夏娜非常信任亚拉斯特尔，亚拉斯特尔也经常对夏娜做出一些指导。在平时，亚拉斯特尔也如同长辈那般陪伴着夏娜。夏娜是能完全承载亚拉斯特尔力量的伟'\n",
      "query:  夏娜 职业\n",
      "results: \n",
      "'夏娜 夏娜（全名：炎发灼眼的讨伐者·夏娜（Flame-Haired Burning-Eyed Hunter·Shana），日语：シャナ，Shana）是由高桥弥七郎所作轻小说《灼眼的夏娜》系列及其衍生的动画、漫画等作品的女主角。'\n",
      "'夏娜 常对夏娜做出一些指导。在平时，亚拉斯特尔也如同长辈那般陪伴着夏娜。夏娜是能完全承载亚拉斯特尔力量的伟大之人。'\n",
      "'夏娜 作为人的夏娜和作为火雾战士的夏娜。 本作女主角，其真实身份为“天壤劫火”亚拉斯特尔的火雾战士，别号炎发灼眼的杀手，但年龄上只有十五六岁[1]，也有着非常少女的一面。'\n",
      "'夏娜 和亚拉斯特尔：夏娜是亚拉斯特尔的签约对象，即火雾战士，是由亚里斯特尔等从小专门培养的火雾战士。在战斗中夏娜非常信任亚拉斯特尔，亚拉斯特尔也经常对夏娜做出一些指导。在平时，亚拉斯特尔也如同长辈那般陪伴着夏娜。夏娜是能完全承载亚拉斯特尔力量的伟'\n",
      "'灼眼的夏娜 《灼眼的夏娜S》制作委员会：Geneon环球娱乐、ASCII Media、J.C.STAFF、Showgate 《灼眼的夏娜F》制作委员会：Geneon环球娱乐、华纳家庭视频、ASCII Media、J.C.STAFF、Showgate'\n",
      "query:  夏娜 战斗\n",
      "results: \n",
      "'夏娜 夏娜（全名：炎发灼眼的讨伐者·夏娜（Flame-Haired Burning-Eyed Hunter·Shana），日语：シャナ，Shana）是由高桥弥七郎所作轻小说《灼眼的夏娜》系列及其衍生的动画、漫画等作品的女主角。'\n",
      "'夏娜 灼眼の能力 夏娜拥有许多强大的能力，在战斗中，在日常生活中都有所展现。  普通能力 体术：夏娜自小在天道宫接受严格的火雾战士训练，体术强大，配合着使用贽殿遮那，仅凭体术就能消灭一些弱小的徒。在御琦高中时优良的体育课成绩也是其体术强大的表现。'\n",
      "'灼眼的夏娜 haze）），少女在战斗时拔出贽殿遮那，与“夏娜”同音，因此坂井悠二为她取名叫夏娜。他们的命运究竟会怎样呢？'\n",
      "'夏娜 和玛蒂达·桑特美尔：夏娜当然不认识玛蒂达，但是夏娜是在玛蒂达的遗志下被培养长大的，她们是继承者和被继承者的关系。  灼眼の能力 夏娜拥有许多强大的能力，在战斗中，在日常生活中都有所展现。'\n",
      "'夏娜 来，而是要和他一起战斗”。后期尽管因为立场和做法的对立，夏娜和悠二也曾一度刀兵相向，但最终和解，修成正果。'\n",
      "query:  夏娜 武器\n",
      "results: \n",
      "'夏娜 夏娜（全名：炎发灼眼的讨伐者·夏娜（Flame-Haired Burning-Eyed Hunter·Shana），日语：シャナ，Shana）是由高桥弥七郎所作轻小说《灼眼的夏娜》系列及其衍生的动画、漫画等作品的女主角。'\n",
      "'贽殿遮那 Shakugan no Shana.jpg 基本资料 神器名称\\t贽殿遮那 神器别名\\t天劫之火剑 神器种类\\t武器-刀 神器主人\\t天目一个→夏娜 登场作品\\t《灼眼的夏娜》 贽殿遮那是《灼眼的夏娜》及其衍生作品中登场的一件架空的道具。'\n",
      "'夏娜 和亚拉斯特尔：夏娜是亚拉斯特尔的签约对象，即火雾战士，是由亚里斯特尔等从小专门培养的火雾战士。在战斗中夏娜非常信任亚拉斯特尔，亚拉斯特尔也经常对夏娜做出一些指导。在平时，亚拉斯特尔也如同长辈那般陪伴着夏娜。夏娜是能完全承载亚拉斯特尔力量的伟'\n",
      "'夏娜 作为人的夏娜和作为火雾战士的夏娜。 本作女主角，其真实身份为“天壤劫火”亚拉斯特尔的火雾战士，别号炎发灼眼的杀手，但年龄上只有十五六岁[1]，也有着非常少女的一面。'\n",
      "'夏娜 灼眼の能力 夏娜拥有许多强大的能力，在战斗中，在日常生活中都有所展现。  普通能力 体术：夏娜自小在天道宫接受严格的火雾战士训练，体术强大，配合着使用贽殿遮那，仅凭体术就能消灭一些弱小的徒。在御琦高中时优良的体育课成绩也是其体术强大的表现。'\n",
      "query:  夏娜 性格\n",
      "results: \n",
      "'夏娜 夏娜（全名：炎发灼眼的讨伐者·夏娜（Flame-Haired Burning-Eyed Hunter·Shana），日语：シャナ，Shana）是由高桥弥七郎所作轻小说《灼眼的夏娜》系列及其衍生的动画、漫画等作品的女主角。'\n",
      "'夏娜 常对夏娜做出一些指导。在平时，亚拉斯特尔也如同长辈那般陪伴着夏娜。夏娜是能完全承载亚拉斯特尔力量的伟大之人。'\n",
      "'夏娜 随着故事的推进，夏娜的性格和能力也在变化着，从傲娇到不那么傲娇（雾）。'\n",
      "'夏娜 作为人的夏娜和作为火雾战士的夏娜。 本作女主角，其真实身份为“天壤劫火”亚拉斯特尔的火雾战士，别号炎发灼眼的杀手，但年龄上只有十五六岁[1]，也有着非常少女的一面。'\n",
      "'灼眼的夏娜 《灼眼的夏娜》（灼眼（しゃくがん）のシャナ，罗马字:Shakugan no Shana，英文译名:Shana of the Blazing Eyes）是日本作家高桥弥七郎所写的轻小说系列，插画师为伊东杂音，由MediaWorks →'\n",
      "query:  零时迷子\n",
      "results: \n",
      "'零时迷子 零时迷子的名字意义是“让时间在每日零时迷路的宝具”'\n",
      "'零时迷子 注:第一季的结尾为原创剧情，零时迷子并不是在零时自动将容器装满的，只是将存在之力恢复到前一天的水平，使当日被消耗的“存在”完全恢复。  相关剧情 作为本作的关键道具，零时迷子的作用几乎贯穿整个剧情'\n",
      "'零时迷子 零时迷子的产生是约定的两人的愿望，作为人类的约翰自行化成密斯提斯，失去了存在之力，成为了零时迷子的寄宿者。'\n",
      "'零时迷子 零时迷子一般寄宿在宿主体内，是不可见的。其实是可以取出来的。为了防止零时迷子被取出来，约定的两人中的使徒“彩飘”菲蕾丝给零时迷子施加了“戒禁”，但由于化装舞会的干涉，“戒禁”改变为无差别触发。'\n",
      "'零时迷子 作为创造新世界“无何有境”的关键道具，在教授将零时迷子的功率开到最大后坏掉功率过载。  在悠二前往新世界后已完全坏掉无法发挥作用。'\n"
     ]
    }
   ],
   "source": [
    "queries=[\n",
    "    '本文是一篇小说，描述了男主角悠二和女主角夏娜之间的互动。夏娜拿出刚出炉的菠萝面包，悠二闻到香味想吃，但夏娜不给他。悠二觉得夏娜平时作为超能力者的强势形象与现在的贪吃模样有些不符，但他还是觉得她很可爱。',\n",
    "    '本文是一篇小说或漫画的摘录，其中提到了几个场景和角色的名字，包括威尔艾米娜·卡梅尔、夏娜、玛琼林·朵、坂井悠二等。文中还涉及了三十年战争和拉罗歇尔包围战等历史事件的简单介绍。具体情节和人物关系需要参考原作了解。',\n",
    "    '这是一篇小说片段，描述了夏娜和悠二的对话。悠二已经死了，但通过宝具的力量得以永久维持。夏娜告诉他，他们现在不能离开这个城市，因为城市的扭曲太过严重，需要防范“使徒”的攻击。如果扭曲继续扩大，就会引来所有能够感应到的人，包括火雾战士和“红世使徒”双方。玛琼琳则表示，尽管几率很小，但如果下次“使徒”出现，后果不堪设想。',\n",
    "    '夏娜 食物',\n",
    "    '夏娜 职业',\n",
    "    '夏娜 战斗',\n",
    "    '夏娜 武器',\n",
    "    '夏娜 性格',\n",
    "    '零时迷子',\n",
    "]\n",
    "\n",
    "for query in queries:\n",
    "    print('query: ',query)\n",
    "    results=vector_store.similarity_search(query, k=5)\n",
    "    print('results: ')\n",
    "    for doc in results:\n",
    "        print(repr(doc.page_content))"
   ]
  },
  {
   "cell_type": "code",
   "execution_count": 13,
   "metadata": {},
   "outputs": [
    {
     "name": "stdout",
     "output_type": "stream",
     "text": [
      "random document:\n",
      " 自己究竟是什么吧！？能够向爸爸妈妈说明吗？ \n",
      "坂井悠二，早就死了！！ \n",
      "现在站在这里的自己，只是刚好藉由宝具的力量得以永久维持的…… \n",
      "紧紧一握！ \n",
      "突然回过神来。 \n",
      "“！！” \n",
      "夏娜紧紧握住悠二不知不觉冷汗直流的手指。 \n",
      "不是故意捏痛，而是牢牢地、紧紧地握住。 \n",
      "受到凝视自己的炽红灼眼几近骇人的耀眼光芒映照下，悠二才勉强得以从朝负方向一泻千里的思考洪流当中脱身而出。 \n",
      "“啊……抱歉。” \n",
      "悠二对着熠熠闪亮的双眼道歉。 \n",
      "夏娜没有回答，只是稍微垂下灼眼说道： \n",
      "“现在不可能马上离开。” \n",
      "她语气之中的严正态度没有丝毫改变。 \n",
      "“这个城市的扭曲太过严重，至少必须在调音师出现之前，防范‘使徒’的攻击。” \n",
      "“呼~嗯，跟‘化妆舞会’展开攻击的危险性相比，不知道哪边比较大……” \n",
      "玛琼琳带着微妙的语气回应同行少女的说法。 \n",
      "虽然几率可以说几乎没有，但是假设下次“偶然”出现“魔王”等级的“使徒”前来这个城市滥食“存在之力”的话……后果的确不堪设想。 \n",
      "这个世界的扭曲一旦扩大到某种程度，势必引来所有能够感应到的人——也就是火雾战士跟“红世使徒”双方。 \n",
      "强烈的扭曲在“使徒”看来，宛如在黑夜之中发现\n",
      "results: \n",
      "'夏娜 次日开始，为了监视“密斯特斯”找出觊觎宝物的“徒”，夏娜潜伏到悠二身边，代替了悠二的存在之力被啃食殆尽的同学——平井缘的存在。后被悠二表示不满，然后被悠二截取其大刀“贽殿遮那”的名号取名为“夏娜”[10]。'\n",
      "'夏娜 作战计划成功、“无何有境”建成后，夏娜执意要与坂井悠二一同前往新世界，而坂井悠二为了自我惩罚决定独自前去新世界。二人连同自愿留下参战的“千变”修德南、玛琼琳·朵展开大战。最后夏娜击败了坂井悠二。在温柔一吻后，坂井悠二得到了修补成为完整个体。'\n",
      "'威尔艾米娜·卡梅尔 祭礼之蛇——坂井悠二回归御崎市后，威尔艾米娜与夏娜、玛琼林·朵一同前去讨伐此人，却被暴君组成的银色甲罩封锁在内无法加入战局，更因为玛琼林·朵得知“银”的真相内心崩溃需要照顾而无法抽身。'\n",
      "'夏娜 佐藤启作出发前往东京外界宿后，感知到红世势力正在前往御崎市，警告御崎市的火雾战士。稍后，祭礼之蛇——坂井悠二来到御崎市，一番打斗后将夏娜劫至星黎殿，带走了亚拉斯特尔，将贽殿遮那收走安置在宝物库，让贝露佩欧露用地狱锁链的一节封锁住夏娜的自在法'\n",
      "'吸血鬼——布罗特萨奥格 向吸血鬼注入存在之力后能力启动，剑身上复杂的花纹会开始发光，剑身周围产生血红色涟漪。不过吸血鬼触发效果需要时间，因此剑术精湛者可以做到让吸血鬼触发不了效果（见第二十二卷夏娜对悠二）'\n"
     ]
    }
   ],
   "source": [
    "random_context=random.sample(chapters,1)[0]\n",
    "random_context=random_context[random.randint(0,len(random_context)-500):][:500]\n",
    "print('random document:\\n',random_context)\n",
    "results=vector_store.similarity_search(random_context, k=5)\n",
    "print('results: ')\n",
    "for doc in results:\n",
    "    print(repr(doc.page_content))\n",
    "    "
   ]
  },
  {
   "cell_type": "code",
   "execution_count": null,
   "metadata": {},
   "outputs": [],
   "source": []
  }
 ],
 "metadata": {
  "kernelspec": {
   "display_name": "tensorflow",
   "language": "python",
   "name": "python3"
  },
  "language_info": {
   "codemirror_mode": {
    "name": "ipython",
    "version": 3
   },
   "file_extension": ".py",
   "mimetype": "text/x-python",
   "name": "python",
   "nbconvert_exporter": "python",
   "pygments_lexer": "ipython3",
   "version": "3.8.10"
  },
  "orig_nbformat": 4
 },
 "nbformat": 4,
 "nbformat_minor": 2
}
