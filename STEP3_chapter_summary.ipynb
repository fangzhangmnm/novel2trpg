{
 "cells": [
  {
   "attachments": {},
   "cell_type": "markdown",
   "metadata": {},
   "source": [
    "# 环境变量"
   ]
  },
  {
   "cell_type": "code",
   "execution_count": 2,
   "metadata": {},
   "outputs": [],
   "source": [
    "output_dir='./output_zero/'\n",
    "faiss_path=output_dir+'faiss_index'\n",
    "distilled_log_dir=output_dir+'distilled_log/'\n",
    "chapter_summary_dir=output_dir+'chapter_summary/'\n",
    "merged_log_path=output_dir+'merged_log.json'\n",
    "rename_map_path=output_dir+'rename_map.json'\n",
    "\n",
    "\n",
    "\n",
    "bg_hint_len=500\n",
    "retrospect_len=100\n",
    "summary_chunk_len=500 # shouldn't be too large. because chatgpt's summary is very short. need to fine-tune this number\n",
    "summary_chunk_overlap=0\n",
    "final_summary_chunk_len=2000\n",
    "\n",
    "import os, json\n",
    "rename_map=json.load(open(rename_map_path,'r',encoding='utf-8')) if os.path.exists(rename_map_path) else {}\n",
    "\n",
    "if not os.path.exists(chapter_summary_dir):\n",
    "    os.makedirs(chapter_summary_dir)"
   ]
  },
  {
   "cell_type": "markdown",
   "metadata": {},
   "source": [
    "# 加载llm"
   ]
  },
  {
   "cell_type": "code",
   "execution_count": 3,
   "metadata": {},
   "outputs": [
    {
     "name": "stderr",
     "output_type": "stream",
     "text": [
      "c:\\Anaconda3\\envs\\tensorflow\\lib\\site-packages\\langchain\\llms\\openai.py:165: UserWarning: You are trying to use a chat model. This way of initializing it is no longer supported. Instead, please use: `from langchain.chat_models import ChatOpenAI`\n",
      "  warnings.warn(\n",
      "c:\\Anaconda3\\envs\\tensorflow\\lib\\site-packages\\langchain\\llms\\openai.py:676: UserWarning: You are trying to use a chat model. This way of initializing it is no longer supported. Instead, please use: `from langchain.chat_models import ChatOpenAI`\n",
      "  warnings.warn(\n"
     ]
    },
    {
     "name": "stdout",
     "output_type": "stream",
     "text": [
      "\u001b[91m你好\u001b[0m\u001b[94m你好！有什么我可以帮助你的吗？\u001b[0m\n"
     ]
    },
    {
     "data": {
      "text/plain": [
       "'你好！有什么我可以帮助你的吗？'"
      ]
     },
     "execution_count": 3,
     "metadata": {},
     "output_type": "execute_result"
    }
   ],
   "source": [
    "from my_llm import llm_chatgpt as llm\n",
    "llm('你好')"
   ]
  },
  {
   "cell_type": "markdown",
   "metadata": {},
   "source": [
    "# 加载FAISS背景知识索引"
   ]
  },
  {
   "cell_type": "code",
   "execution_count": 4,
   "metadata": {},
   "outputs": [
    {
     "name": "stderr",
     "output_type": "stream",
     "text": [
      "No sentence-transformers model found with name D:\\ml\\text2vec-large-chinese. Creating a new one with MEAN pooling.\n",
      "No sentence-transformers model found with name D:\\ml\\text2vec-large-chinese. Creating a new one with MEAN pooling.\n",
      "No sentence-transformers model found with name D:\\ml\\text2vec-large-chinese. Creating a new one with MEAN pooling.\n",
      "No sentence-transformers model found with name D:\\ml\\text2vec-large-chinese. Creating a new one with MEAN pooling.\n"
     ]
    }
   ],
   "source": [
    "import importlib,my_faiss;importlib.reload(my_faiss)\n",
    "from my_faiss import FAISS,embeddings,get_bg_hint\n",
    "get_bg_hint.vector_store=FAISS.load_local(faiss_path, embeddings)"
   ]
  },
  {
   "cell_type": "markdown",
   "metadata": {},
   "source": [
    "# 处理gpt返回的json"
   ]
  },
  {
   "cell_type": "code",
   "execution_count": 5,
   "metadata": {},
   "outputs": [
    {
     "name": "stdout",
     "output_type": "stream",
     "text": [
      "load chunks: 561\n",
      "Total items: 8626\n"
     ]
    }
   ],
   "source": [
    "import json,random\n",
    "from glob import glob\n",
    "import os\n",
    "from tqdm.auto import tqdm\n",
    "\n",
    "chunks={}\n",
    "for path in glob(os.path.join(distilled_log_dir,'RESPONSE*.json')):\n",
    "    with open(path) as f:\n",
    "        chunk=json.load(f)\n",
    "        for item in chunk['content']:\n",
    "            item['src_id']=chunk['id']\n",
    "        chunks[chunk['id']]=chunk\n",
    "print('load chunks:',len(chunks))\n",
    "\n",
    "chunks=dict(sorted(chunks.items(), key=lambda item: item[0]))\n",
    "\n",
    "all_content=[item for chunk in chunks.values() for item in chunk['content']]\n",
    "\n",
    "\n",
    "# # separate info, act into individual items\n",
    "def purge_content(all_content):\n",
    "    for item in all_content:\n",
    "        if 'info' in item:\n",
    "            info_str=item['info']\n",
    "            if 'expression' in item:\n",
    "                info_str=item['expression']+' '+info_str\n",
    "            if 'char' in item:\n",
    "                info_str=item['char']+' '+info_str\n",
    "            yield {'info':info_str,'src_id':item['src_id']}\n",
    "        if 'char' in item:\n",
    "            base_info={'char':item['char'],'src_id':item['src_id']}\n",
    "            if 'expression' in item:\n",
    "                base_info['expression']=item['expression']\n",
    "            if 'act' in item:\n",
    "                yield {**base_info,'act':item['act']}\n",
    "            else:\n",
    "                if 'think' in item:\n",
    "                    base_info['think']=item['think']\n",
    "                if 'say' in item:\n",
    "                    base_info['say']=item['say']\n",
    "                if 'think' in item or 'say' in item:\n",
    "                    yield base_info\n",
    "\n",
    "all_content=list(purge_content(all_content))\n",
    "\n",
    "all_content[:10]\n",
    "\n",
    "print('Total items:', len(all_content))\n",
    "\n",
    "json.dump(all_content, open(merged_log_path, 'w', encoding='utf-8'), ensure_ascii=False, indent=2)"
   ]
  },
  {
   "attachments": {},
   "cell_type": "markdown",
   "metadata": {},
   "source": [
    "### 统计角色出现的频率，统一名字中的同音字"
   ]
  },
  {
   "cell_type": "code",
   "execution_count": 6,
   "metadata": {},
   "outputs": [
    {
     "data": {
      "image/png": "[encoded data removed]",
      "text/plain": [
       "<Figure size 640x480 with 1 Axes>"
      ]
     },
     "metadata": {},
     "output_type": "display_data"
    }
   ],
   "source": [
    "# run this block to avoid crash when loading chinese font in matplotlib\n",
    "import matplotlib.pyplot as plt\n",
    "import matplotlib\n",
    "import numpy as np\n",
    "plt.figure()\n",
    "plt.plot([1,2,3])\n",
    "plt.show()\n"
   ]
  },
  {
   "cell_type": "code",
   "execution_count": 7,
   "metadata": {},
   "outputs": [
    {
     "name": "stdout",
     "output_type": "stream",
     "text": [
      "load, update and save rename_map at path: ./output_zero/rename_map.json\n"
     ]
    },
    {
     "data": {
      "image/png": "[encoded data removed]",
      "text/plain": [
       "<Figure size 1000x200 with 1 Axes>"
      ]
     },
     "metadata": {},
     "output_type": "display_data"
    },
    {
     "name": "stdout",
     "output_type": "stream",
     "text": [
      "list of characters and their frequencies: {'塔芭莎': 1121, '才人': 972, '路易丝': 681, '希儿菲朵': 663, '丘鲁克': 201, '夏洛特': 168, '伊莎贝拉': 152, '奥利凡': 128, '伊尔库库': 124, '瓦尔德': 98, '基修': 95, '瓦鲁多': 92, '吉露': 72, '爱尔莎': 67, '格鲁贝鲁': 65, '芙凯': 64, '琉琉': 60, '威尔士': 59, '安莉艾塔': 58, '维雷尔少尉': 54, '雅妮特': 45, '奥斯曼校长': 45, '德福林哥': 44, '尤西亚': 42, '朗格贝尔': 40, '塞雷斯坦': 39, '琉西': 39, '尤尔班': 38, '托马斯': 35, '拉尔卡斯': 35, '村民们': 34, '吉尔摩阿': 32, '塔巴撒': 31, '男人': 30, '店主': 30, '谢斯塔': 29, '蒙莫朗西': 29, '奥斯曼': 26, '少女': 25, '卡斯特莫尔': 25, '谢弗勒兹': 25, '萨姆': 23, '男子': 21, '琉吉尼恩子爵': 21, '罗德巴尔德男爵夫人': 21, '老婆婆': 19, '托马': 19, '露易丝': 19, '村长': 18, '地下水': 18, '艾伯特': 18, '船长': 18, '爱夏': 17, '琪尔可': 17, '库尔凯': 17, '米诺塔洛斯': 17, '雌火龙': 16, '侍女': 15, '亚尔托瓦伯': 15, '学生们': 15, '魔法师': 15, '哥布灵萨满': 15, '军官': 14, '女头目': 14, '库拉威尔卿': 13, '马扎利意尼': 13, '奥尔良公': 12, '朗格贝尔小姐': 12, '安莉艾塔公主': 12, '安丽埃塔': 12, '母亲': 11, '尼娜': 11, '弗雷姆': 11, '小明': 11, '奥斯曼先生': 11, '德鲁福林哥': 11, '瓦鲁多子爵': 11, '阿利克山大': 10, '叽叽的父亲': 10, '奥斯曼氏': 10, '马鲁托': 10, '盖托': 10, '魔杖': 9, '假面男': 9, '贵族学生们': 8, '贵族客人': 8, '村民': 7, '雷昂': 7, '女孩': 7, '卫士': 7, '叽叽': 7, '塔芭莎施': 7, '德鲁': 7, '船员': 7, '亚尔罗瓦伯': 6, '其他学生': 6, '女人': 6, '贝尔丹蒂': 6, '水兵': 6, '老板娘': 6, '平贺才人': 6, '白色假面男': 6, '空贼头儿': 6, '女孩子们': 5, '塔芭萨': 5, '德·罗纳尔伯爵夫人': 5, '侍从': 5, '叽叽的母亲': 5, '贵族们': 5, '老板': 5, '子爵': 5, '马扎利意尼军机臣边': 5, '贝露丹蒂': 5, '首领': 5, '队长': 5, '粗糙男': 4, '侍女娜塔莉': 4, '智慧短剑“地下水”': 4, '教师': 4, '约瑟夫': 4, '格鲁贝鲁先生': 4, '马里克卢姆': 4, '佛雷姆': 4, '布鲁': 4, '教师们': 4, '披风男': 4, '头儿': 4, '蓝发女孩': 4, '士兵': 3, '侍女们': 3, '杰伊克': 3, '短剑': 3, '贵族': 3, '吉尔摩阿老板': 3, 'null': 3, '男人们': 3, '粉发少女': 3, '黑发少年': 3, '绅士': 3, '奥尔良公夫人': 3, '奥尔良公爵夫人': 3, '夫人': 3, '地吉露': 3, '': 3, '莫特索格尼尔': 3, '基修的朋友们': 3, '奥斯曼长老': 3, '德鲁弗林加': 3, '西布鲁兹夫人': 3, '公主安莉艾塔': 3, '戴头巾的少女': 3, '黑船': 3, '胖子': 3, '空贼': 3, '威尔士·都铎': 3, '卡哥伊鲁': 2, '翼人': 2, '亚历山大': 2, '卫队队长': 2, '娜塔莉': 2, '风龙': 2, '男孩儿': 2, '多米尼克婆婆': 2, '马尔特老爹': 2, '老神官': 2, '朋友': 2, '火龙': 2, '花坛骑士塔芭莎': 2, '士兵们': 2, '拐卖者': 2, '黑发少女': 2, '看守男子': 2, '罗德巴尔德男爵夫人样子的“东西”': 2, '男爵夫人的卡哥伊鲁': 2, '奥尔良夫人': 2, '夏尔洛特的母亲': 2, '年轻女人': 2, '某人': 2, '女孩子': 2, '凯特': 2, '基修的朋友': 2, '格雷姆': 2, '女学生们': 2, '修特意克斯': 2, '巨像兵': 2, '戴着头巾的少女': 2, '男人1': 2, '男人2': 2, '看守': 2, '老贵族': 2, '巴里': 2, '詹姆斯一世': 2, '王党派的贵族': 2, '皇太子': 2, '猎人': 1, '龙形卡哥伊鲁': 1, '阿婆': 1, '人群中一个人': 1, '人群中另一个人': 1, '骑士': 1, '小女孩': 1, '艾尔莎': 1, '老父亲': 1, '老妇人': 1, '玛萨塔婆婆': 1, '居民': 1, '约瑟夫王': 1, '卫士们': 1, '水魔法师': 1, '史奇尔尼尔': 1, '曼提柯尔像': 1, '管家': 1, '红发侍女': 1, '蓝发女性': 1, '赌徒': 1, '总管': 1, '接待女子': 1, '英俊男子': 1, '中年贵族': 1, '老板吉尔摩阿满': 1, '庄家': 1, '客人们': 1, '多米尼克': 1, '叽叽的父母': 1, '装成米诺塔洛斯的男人': 1, '风韵龙': 1, '尼娜母亲': 1, '神官': 1, '加里亚公主伊莎贝拉': 1, '巢的主人': 1, '修女琉西': 1, '特任少佐': 1, '水兵和军官们': 1, '蒂法妮娅': 1, '舰队首脑们': 1, '官员们': 1, '女头目的手下男人': 1, '男村民': 1, '管家男子': 1, '罗德巴尔德夫人': 1, '哥布灵战士': 1, '罗德巴尔德': 1, '罗德巴尔德男爵夫人样子的卡哥伊鲁': 1, '尤尔班的卡哥伊鲁': 1, '鼹鼠': 1, '火蜥蜴': 1, '小青蛙罗宾': 1, '水精灵骑士队': 1, '奥尔良公爵查理': 1, '夏尔洛德': 1, '琉蒂斯大主教': 1, '贝尔斯兰': 1, '伯父约瑟夫': 1, '吉露妹妹': 1, '中年魔法装扮者': 1, '格拉贝鲁': 1, '中年的魔法使': 1, '未知': 1, '奥鲁德·奥斯曼': 1, '美丽卷发的少女': 1, '学生': 1, '教师、路易丝': 1, '马鲁科卢姆': 1, '教室里的某人': 1, '同学们': 1, '丘鲁克的火蜥': 1, '马尼坎': 1, '艾依基亚克斯': 1, '格姆力': 1, '比塔夏尔': 1, '塔芭莎特': 1, '全员': 1, 'MEIJI': 1, '盖托老师': 1, '公主': 1, '学院长奥斯曼': 1, '巨大鼹鼠': 1, '佣兵': 1, '家伙们': 1, '服务员': 1, '男人3': 1, '男人4': 1, '男人5': 1, '男人6': 1, '男人7': 1, '男人8': 1, '男人9': 1, '男人10': 1, '男人11': 1, '男人12': 1, '男人13': 1, '男人14': 1, '男人15': 1, '男人16': 1, '男人17': 1, '戴着白色假面的男人': 1, '胖胖的店主': 1, '白假面男子': 1, '空贼首领': 1, '年迈的王': 1, '老王': 1, '王党派的贵族们': 1, '威尔士皇太子': 1, '希尔芙德': 1, '魔法卫士队队员': 1, '曼提柯尔队魔法师': 1, '金发美少女': 1, '金发少年': 1, '眼镜小女孩': 1, '身材高挑女性': 1}\n",
      "rename_map: {'塔巴萨': '塔芭莎', '塔巴莎': '塔芭莎', '雪丝塔': '谢斯塔', '摩莫朗希': '蒙莫朗西', '夏尔洛特': '夏洛特', '希尔菲德': '希儿菲朵', '西布鲁兹': '谢弗勒兹', '谢丝塔': '谢斯塔'}\n",
      "selected_char: ['塔芭莎', '才人', '路易丝', '希儿菲朵', '丘鲁克', '夏洛特', '伊莎贝拉', '奥利凡', '伊尔库库', '瓦尔德', '基修', '瓦鲁多', '吉露', '爱尔莎', '格鲁贝鲁', '芙凯', '琉琉', '威尔士', '安莉艾塔', '维雷尔少尉', '雅妮特', '奥斯曼校长', '德福林哥', '尤西亚', '朗格贝尔', '塞雷斯坦', '琉西', '尤尔班', '托马斯', '拉尔卡斯', '村民们', '吉尔摩阿', '塔巴撒', '男人', '店主', '谢斯塔', '蒙莫朗西', '奥斯曼', '少女', '卡斯特莫尔', '谢弗勒兹', '萨姆', '男子', '琉吉尼恩子爵', '罗德巴尔德男爵夫人', '老婆婆', '托马', '露易丝', '村长', '地下水', '艾伯特', '船长', '爱夏', '琪尔可', '库尔凯', '米诺塔洛斯', '雌火龙', '侍女', '亚尔托瓦伯', '学生们', '魔法师', '哥布灵萨满', '军官', '女头目', '库拉威尔卿', '马扎利意尼', '奥尔良公', '朗格贝尔小姐', '安莉艾塔公主', '安丽埃塔', '母亲', '尼娜', '弗雷姆', '小明', '奥斯曼先生', '德鲁福林哥', '瓦鲁多子爵', '阿利克山大', '叽叽的父亲', '奥斯曼氏', '马鲁托', '盖托', '魔杖', '假面男', '贵族学生们', '贵族客人', '村民', '雷昂', '女孩', '卫士', '叽叽', '塔芭莎施', '德鲁', '船员', '亚尔罗瓦伯', '其他学生', '女人', '贝尔丹蒂', '水兵', '老板娘', '平贺才人', '白色假面男', '空贼头儿', '女孩子们', '塔芭萨', '德·罗纳尔伯爵夫人', '侍从', '叽叽的母亲', '贵族们', '老板', '子爵', '马扎利意尼军机臣边', '贝露丹蒂', '首领', '队长', '粗糙男', '侍女娜塔莉', '智慧短剑“地下水”', '教师', '约瑟夫', '格鲁贝鲁先生', '马里克卢姆', '佛雷姆', '布鲁', '教师们', '披风男', '头儿', '蓝发女孩', '士兵', '侍女们', '杰伊克', '短剑', '贵族', '吉尔摩阿老板', 'null', '男人们', '粉发少女', '黑发少年', '绅士', '奥尔良公夫人', '奥尔良公爵夫人', '夫人', '地吉露', '', '莫特索格尼尔', '基修的朋友们', '奥斯曼长老', '德鲁弗林加', '西布鲁兹夫人', '公主安莉艾塔', '戴头巾的少女', '黑船', '胖子', '空贼', '威尔士·都铎', '卡哥伊鲁', '翼人', '亚历山大', '卫队队长', '娜塔莉', '风龙', '男孩儿', '多米尼克婆婆', '马尔特老爹', '老神官', '朋友', '火龙', '花坛骑士塔芭莎', '士兵们', '拐卖者', '黑发少女', '看守男子', '罗德巴尔德男爵夫人样子的“东西”', '男爵夫人的卡哥伊鲁', '奥尔良夫人', '夏尔洛特的母亲', '年轻女人', '某人', '女孩子', '凯特', '基修的朋友', '格雷姆', '女学生们', '修特意克斯', '巨像兵', '戴着头巾的少女', '男人1', '男人2', '看守', '老贵族', '巴里', '詹姆斯一世', '王党派的贵族', '皇太子', '猎人', '龙形卡哥伊鲁', '阿婆', '人群中一个人', '人群中另一个人', '骑士', '小女孩', '艾尔莎', '老父亲', '老妇人', '玛萨塔婆婆', '居民', '约瑟夫王', '卫士们', '水魔法师', '史奇尔尼尔', '曼提柯尔像', '管家', '红发侍女', '蓝发女性', '赌徒', '总管', '接待女子', '英俊男子', '中年贵族', '老板吉尔摩阿满', '庄家', '客人们', '多米尼克', '叽叽的父母', '装成米诺塔洛斯的男人', '风韵龙', '尼娜母亲', '神官', '加里亚公主伊莎贝拉', '巢的主人', '修女琉西', '特任少佐', '水兵和军官们', '蒂法妮娅', '舰队首脑们', '官员们', '女头目的手下男人', '男村民', '管家男子', '罗德巴尔德夫人', '哥布灵战士', '罗德巴尔德', '罗德巴尔德男爵夫人样子的卡哥伊鲁', '尤尔班的卡哥伊鲁', '鼹鼠', '火蜥蜴', '小青蛙罗宾', '水精灵骑士队', '奥尔良公爵查理', '夏尔洛德', '琉蒂斯大主教', '贝尔斯兰', '伯父约瑟夫', '吉露妹妹', '中年魔法装扮者', '格拉贝鲁', '中年的魔法使', '未知', '奥鲁德·奥斯曼', '美丽卷发的少女', '学生', '教师、路易丝', '马鲁科卢姆', '教室里的某人', '同学们', '丘鲁克的火蜥', '马尼坎', '艾依基亚克斯', '格姆力', '比塔夏尔', '塔芭莎特', '全员', 'MEIJI', '盖托老师', '公主', '学院长奥斯曼', '巨大鼹鼠', '佣兵', '家伙们', '服务员', '男人3', '男人4', '男人5', '男人6', '男人7', '男人8', '男人9', '男人10', '男人11', '男人12', '男人13', '男人14', '男人15', '男人16', '男人17', '戴着白色假面的男人', '胖胖的店主', '白假面男子', '空贼首领', '年迈的王', '老王', '王党派的贵族们', '威尔士皇太子', '希尔芙德', '魔法卫士队队员', '曼提柯尔队魔法师', '金发美少女', '金发少年', '眼镜小女孩', '身材高挑女性']\n",
      "revise name done (not saved yet)\n",
      "save merged_log_path: ./output_zero/merged_log.json\n"
     ]
    }
   ],
   "source": [
    "matplotlib.rcParams['font.sans-serif'] = ['SimHei']\n",
    "\n",
    "\n",
    "rename_map=json.load(open(rename_map_path,'r',encoding='utf-8')) if os.path.exists(rename_map_path) else {}\n",
    "rename_map_added={'塔巴萨':'塔芭莎','塔巴莎':'塔芭莎','雪丝塔':'谢斯塔','摩莫朗希':'蒙莫朗西','夏尔洛特':'夏洛特','希尔菲德':'希儿菲朵','西布鲁兹':'谢弗勒兹','谢丝塔':'谢斯塔'}\n",
    "rename_map.update(rename_map_added)\n",
    "json.dump(rename_map, open(rename_map_path, 'w', encoding='utf-8'), ensure_ascii=False, indent=2)\n",
    "print('load, update and save rename_map at path:', rename_map_path)\n",
    "\n",
    "# we use the original name in history text, but the new name for labeling\n",
    "\n",
    "char_freq={}\n",
    "for item in all_content:\n",
    "    if 'char' in item:\n",
    "        char=rename_map.get(item['char'], item['char'])\n",
    "        if char not in char_freq:\n",
    "            char_freq[char]=0\n",
    "        char_freq[char]+=1\n",
    "char_freq={k: v for k, v in sorted(char_freq.items(), key=lambda item: item[1], reverse=True)}\n",
    "selected_char=list(sorted(char_freq.keys(), key=lambda x: char_freq[x], reverse=True)[:9999])\n",
    "\n",
    "def list_char_items(content, char):\n",
    "    for item in content:\n",
    "        if item.get('char', None) == char:\n",
    "            print(item)\n",
    "\n",
    "\n",
    "plt.figure(figsize=(10, 2))\n",
    "plt.bar(list(char_freq.keys())[:40], list(char_freq.values())[:40])\n",
    "plt.xticks(rotation=75)\n",
    "plt.ylabel('count')\n",
    "plt.yscale('log')\n",
    "plt.ylim(1,np.max(list(char_freq.values())[:20])*2)\n",
    "plt.show()\n",
    "\n",
    "print('list of characters and their frequencies:',char_freq)\n",
    "print('rename_map:', rename_map)\n",
    "print('selected_char:', selected_char)\n",
    "\n",
    "# revising character name typo\n",
    "\n",
    "def revise_name(obj):\n",
    "    if isinstance(obj,str):\n",
    "        for from_name,to_name in rename_map.items():\n",
    "            obj=obj.replace(from_name,to_name)\n",
    "        return obj,True\n",
    "    else:\n",
    "        return obj,False\n",
    "\n",
    "def revise_json_object_recursive(obj,revise_func):\n",
    "    obj,terminate=revise_func(obj)\n",
    "    if not terminate:\n",
    "        if isinstance(obj,dict):\n",
    "            for key,value in obj.items():\n",
    "                obj[key]=revise_json_object_recursive(value,revise_func)\n",
    "        if isinstance(obj,list):\n",
    "            for i in range(len(obj)):\n",
    "                obj[i]=revise_json_object_recursive(obj[i],revise_func)\n",
    "    return obj\n",
    "\n",
    "all_content=revise_json_object_recursive(all_content,revise_func=revise_name)\n",
    "chunks=revise_json_object_recursive(chunks,revise_func=revise_name)\n",
    "print('revise name done (not saved yet)')\n",
    "\n",
    "json.dump(all_content, open(merged_log_path, 'w', encoding='utf-8'), ensure_ascii=False, indent=2)\n",
    "print('save merged_log_path:', merged_log_path)"
   ]
  },
  {
   "attachments": {},
   "cell_type": "markdown",
   "metadata": {},
   "source": [
    "# 将chunk合并成章节，并进行总结"
   ]
  },
  {
   "cell_type": "code",
   "execution_count": 11,
   "metadata": {},
   "outputs": [
    {
     "name": "stdout",
     "output_type": "stream",
     "text": [
      "reload 0 chapters\n"
     ]
    }
   ],
   "source": [
    "import glob\n",
    "\n",
    "chapters={}\n",
    "def reload_chapters():\n",
    "    global chapters\n",
    "    for chapter_summary_path in glob.glob(os.path.join(chapter_summary_dir, f'CHAPTER_.*.json')):\n",
    "        chapter_summary = json.load(open(chapter_summary_path, 'r', encoding='utf-8'))\n",
    "        iChapter = int(chapter_summary_path.split('.')[-2].split('_')[-1])\n",
    "        chapters[iChapter]=chapter_summary\n",
    "    print('reload',len(chapters),'chapters')\n",
    "\n",
    "def save_chapter(iChapter,chapter):\n",
    "    chapters[iChapter]=chapter\n",
    "    json.dump(chapter, open(os.path.join(chapter_summary_dir, f'CHAPTER_{iChapter}.json'), 'w', encoding='utf-8'), ensure_ascii=False, indent=2)\n",
    "    print('save chapter',iChapter,'to',os.path.join(chapter_summary_dir, f'CHAPTER_{iChapter}.json'))\n",
    "\n",
    "reload_chapters()"
   ]
  },
  {
   "cell_type": "code",
   "execution_count": 15,
   "metadata": {},
   "outputs": [
    {
     "data": {
      "application/vnd.jupyter.widget-view+json": {
       "model_id": "c327e09c497540fbb1691c97605b6ab8",
       "version_major": 2,
       "version_minor": 0
      },
      "text/plain": [
       "  0%|          | 0/561 [00:00<?, ?it/s]"
      ]
     },
     "metadata": {},
     "output_type": "display_data"
    },
    {
     "data": {
      "application/vnd.jupyter.widget-view+json": {
       "model_id": "fe9c1bc4b1c146f2a918a254f723dc62",
       "version_major": 2,
       "version_minor": 0
      },
      "text/plain": [
       "  0%|          | 0/39 [00:00<?, ?it/s]"
      ]
     },
     "metadata": {},
     "output_type": "display_data"
    },
    {
     "name": "stdout",
     "output_type": "stream",
     "text": [
      "save chapter 0 to ./output_zero/chapter_summary/CHAPTER_0.json\n",
      "save chapter 1 to ./output_zero/chapter_summary/CHAPTER_1.json\n",
      "save chapter 2 to ./output_zero/chapter_summary/CHAPTER_2.json\n",
      "save chapter 3 to ./output_zero/chapter_summary/CHAPTER_3.json\n",
      "save chapter 4 to ./output_zero/chapter_summary/CHAPTER_4.json\n",
      "save chapter 5 to ./output_zero/chapter_summary/CHAPTER_5.json\n",
      "save chapter 6 to ./output_zero/chapter_summary/CHAPTER_6.json\n",
      "save chapter 7 to ./output_zero/chapter_summary/CHAPTER_7.json\n",
      "save chapter 8 to ./output_zero/chapter_summary/CHAPTER_8.json\n",
      "save chapter 9 to ./output_zero/chapter_summary/CHAPTER_9.json\n",
      "save chapter 10 to ./output_zero/chapter_summary/CHAPTER_10.json\n",
      "save chapter 11 to ./output_zero/chapter_summary/CHAPTER_11.json\n",
      "save chapter 12 to ./output_zero/chapter_summary/CHAPTER_12.json\n",
      "save chapter 13 to ./output_zero/chapter_summary/CHAPTER_13.json\n",
      "save chapter 14 to ./output_zero/chapter_summary/CHAPTER_14.json\n",
      "save chapter 15 to ./output_zero/chapter_summary/CHAPTER_15.json\n",
      "save chapter 16 to ./output_zero/chapter_summary/CHAPTER_16.json\n",
      "save chapter 17 to ./output_zero/chapter_summary/CHAPTER_17.json\n",
      "save chapter 18 to ./output_zero/chapter_summary/CHAPTER_18.json\n",
      "save chapter 19 to ./output_zero/chapter_summary/CHAPTER_19.json\n",
      "save chapter 20 to ./output_zero/chapter_summary/CHAPTER_20.json\n",
      "save chapter 21 to ./output_zero/chapter_summary/CHAPTER_21.json\n",
      "save chapter 22 to ./output_zero/chapter_summary/CHAPTER_22.json\n",
      "save chapter 23 to ./output_zero/chapter_summary/CHAPTER_23.json\n",
      "save chapter 24 to ./output_zero/chapter_summary/CHAPTER_24.json\n",
      "save chapter 25 to ./output_zero/chapter_summary/CHAPTER_25.json\n",
      "save chapter 26 to ./output_zero/chapter_summary/CHAPTER_26.json\n",
      "save chapter 27 to ./output_zero/chapter_summary/CHAPTER_27.json\n",
      "save chapter 28 to ./output_zero/chapter_summary/CHAPTER_28.json\n",
      "save chapter 29 to ./output_zero/chapter_summary/CHAPTER_29.json\n",
      "save chapter 30 to ./output_zero/chapter_summary/CHAPTER_30.json\n",
      "save chapter 31 to ./output_zero/chapter_summary/CHAPTER_31.json\n",
      "save chapter 32 to ./output_zero/chapter_summary/CHAPTER_32.json\n",
      "save chapter 33 to ./output_zero/chapter_summary/CHAPTER_33.json\n",
      "save chapter 34 to ./output_zero/chapter_summary/CHAPTER_34.json\n",
      "save chapter 35 to ./output_zero/chapter_summary/CHAPTER_35.json\n",
      "save chapter 36 to ./output_zero/chapter_summary/CHAPTER_36.json\n",
      "save chapter 37 to ./output_zero/chapter_summary/CHAPTER_37.json\n",
      "save chapter 38 to ./output_zero/chapter_summary/CHAPTER_38.json\n"
     ]
    }
   ],
   "source": [
    "\n",
    "for iChunk,chunk in tqdm(sorted(chunks.items())):\n",
    "    chapter=chapters.get(int(chunk['chapter_id']), {}) \n",
    "    chapter['chapter_id']=chunk['chapter_id']\n",
    "    chapter['title']=chunk['title']\n",
    "    chapter['chunk_ids']=chapter.get('chunk_ids', [])+[chunk['id']]\n",
    "    chapter['chunk_summaries']=chapter.get('chunk_summaries', [])+[chunk['summary']]\n",
    "\n",
    "for iChapter,chapter in tqdm(chapters.items()):\n",
    "    save_chapter(int(iChapter),chapter)\n",
    "\n",
    "# json.dump(chapters, open(chapter_summary_path, 'w', encoding='utf-8'), ensure_ascii=False, indent=2)\n",
    "# print('chapter summary saved to', chapter_summary_path)\n"
   ]
  },
  {
   "cell_type": "markdown",
   "metadata": {},
   "source": [
    "### 将chunk的summary和bg_hint合并，作为chapter的summary"
   ]
  },
  {
   "cell_type": "code",
   "execution_count": 16,
   "metadata": {},
   "outputs": [],
   "source": [
    "from langchain.chains.base import Chain\n",
    "import json\n",
    "import re\n",
    "from langchain.docstore.document import Document\n",
    "from langchain.text_splitter import RecursiveCharacterTextSplitter\n",
    "\n",
    "class FurtherSummaryStoryChain(Chain):\n",
    "    llm:object=None\n",
    "    get_bg_hint:object=None\n",
    "    refine_bg_hint:bool=True\n",
    "    bg_hint_num:int=10\n",
    "    bg_hint_len:int=400\n",
    "    retrospect_len:int=100\n",
    "    @property\n",
    "    def input_keys(self):\n",
    "        return ['text']\n",
    "    @property\n",
    "    def output_keys(self):\n",
    "        return ['summary']\n",
    "    prmopt='''\n",
    "可能有关的背景材料\n",
    "{background}\n",
    "【前情提要：{retrospect}】\n",
    "请去除下面情节梗概中重复的部分，请尽量不要丢掉信息。不要加入额外的推测，请忠实于原著。不要加入没有意思的套话。\n",
    "{text}\n",
    "精简后的情节梗概：'''\n",
    "    def _call(self,inputs:dict)->dict:\n",
    "        print('requesting summary')\n",
    "        bghint_input=inputs.get('summary',inputs['text'])\n",
    "        if self.get_bg_hint is not None:\n",
    "            bg_hint=self.get_bg_hint(bghint_input,k=self.bg_hint_num,max_text_len=self.bg_hint_len)\n",
    "        else:\n",
    "            bg_hint='（无）'\n",
    "        inputs['background']=bg_hint[-self.bg_hint_len:]\n",
    "        inputs['retrospect']=inputs.get('retrospect','(无)')[-self.retrospect_len:]\n",
    "        query=self.prmopt.format(**inputs)\n",
    "        response=self.llm(query)\n",
    "        response=re.sub(r'[\\s]*[\\d]+[\\.、][\\s]*','',response)\n",
    "        if self.refine_bg_hint and 'summary' not in inputs:\n",
    "            print('refine the summary by using the bg hint genereated by the current summary')\n",
    "            return self._call({**inputs,'summary':response})\n",
    "        else:\n",
    "            return {'summary':response}\n",
    "    \n",
    "\n",
    "class FinalSummaryStoryChain(Chain):\n",
    "    llm:object=None\n",
    "    get_bg_hint:object=None\n",
    "    refine_bg_hint:bool=False\n",
    "    bg_hint_num:int=10\n",
    "    bg_hint_len:int=400\n",
    "    retrospect_len:int=100\n",
    "    @property\n",
    "    def input_keys(self):\n",
    "        return ['text']\n",
    "    @property\n",
    "    def output_keys(self):\n",
    "        return ['summary']\n",
    "    prmopt='''\n",
    "可能有关的背景材料\n",
    "{background}\n",
    "【前情提要：{retrospect}】\n",
    "请非常简要地概括下面的故事，字数限制在五十字以内，抓住重点，抓住关键的情节走向和可能对后文产生影响的重大细节。不要加入额外的推测，请忠实于原著。不要加入没有意思的套话。\n",
    "{text}\n",
    "精简后的情节梗概：'''\n",
    "    def _call(self,inputs:dict)->dict:\n",
    "        print('requesting summary')\n",
    "        bghint_input=inputs.get('summary',inputs['text'])\n",
    "        if self.get_bg_hint is not None:\n",
    "            bg_hint=self.get_bg_hint(bghint_input,k=self.bg_hint_num,max_text_len=self.bg_hint_len)\n",
    "        else:\n",
    "            bg_hint='（无）'\n",
    "        inputs['background']=bg_hint[-self.bg_hint_len:]\n",
    "        inputs['retrospect']=inputs.get('retrospect','(无)')[-self.retrospect_len:]\n",
    "        query=self.prmopt.format(**inputs)\n",
    "        response=self.llm(query)\n",
    "        response=re.sub(r'[\\s]*[\\d]+[\\.、][\\s]*','',response)\n",
    "        if self.refine_bg_hint and 'summary' not in inputs:\n",
    "            print('refine the summary by using the bg hint genereated by the current summary')\n",
    "            return self._call({**inputs,'summary':response})\n",
    "        else:\n",
    "            return {'summary':response}\n",
    "\n",
    "\n",
    "further_summary_story_chain=FurtherSummaryStoryChain(llm=llm,get_bg_hint=get_bg_hint,\n",
    "                                            bg_hint_len=bg_hint_len,retrospect_len=retrospect_len)\n",
    "final_summary_story_chain=FinalSummaryStoryChain(llm=llm,get_bg_hint=get_bg_hint,\n",
    "                                            bg_hint_len=bg_hint_len,retrospect_len=retrospect_len) \n",
    "text_splitter=RecursiveCharacterTextSplitter(chunk_size=summary_chunk_len,chunk_overlap=summary_chunk_overlap)\n",
    "\n",
    "def further_summary_story(summaries,retrospect=None,final_summary_chunk_len=250):\n",
    "    all_summary_text='\\n'.join([summary.replace('\\n','') for summary in summaries])\n",
    "    retrospect=retrospect or '（无）'\n",
    "    if len(all_summary_text)<=final_summary_chunk_len:\n",
    "        print('length of all summaries is less than final_summary_chunk_len, no further summarizing')\n",
    "        final_summary=final_summary_story_chain({'text':all_summary_text,'retrospect':retrospect})['summary']\n",
    "        if len(summaries)==1:\n",
    "            return [final_summary]\n",
    "        else:\n",
    "            return [final_summary,['\\n'.join(summaries)]]\n",
    "    else:\n",
    "        print('further summarizing story, num of summaries at current level:',len(summaries), 'total length:',sum([len(summary) for summary in summaries]))\n",
    "        text_chunks=text_splitter.split_text(all_summary_text)\n",
    "        chunk_summaries=[]\n",
    "        chunk_retrospect=''\n",
    "        for text_chunk in text_chunks:\n",
    "            all_retrospect=(retrospect+'。'+chunk_retrospect).replace('\\w','')\n",
    "            chunk_summary=further_summary_story_chain({'text':text_chunk,'retrospect':all_retrospect})['summary']\n",
    "            chunk_retrospect=chunk_summary\n",
    "            chunk_summaries.append(chunk_summary)\n",
    "        cascades=further_summary_story(chunk_summaries,retrospect,final_summary_chunk_len=final_summary_chunk_len)\n",
    "        return cascades+[chunk_summaries]\n",
    "\n",
    "# llm.show_query=llm.show_response=True\n",
    "\n",
    "# summaries=chapters[22]['chunk_summaries']\n",
    "# # summaries=chapters[21]['chunk_summaries']+chapters[22]['chunk_summaries']+chapters[23]['chunk_summaries']\n",
    "# summary_cascades=further_summary_story(summaries,final_summary_chunk_len=final_summary_chunk_len)\n",
    "# print('final summary:',summary_cascades[0])\n",
    "# print('semifinal summary:',summary_cascades[1])\n",
    "# print('summary cascade:',summary_cascades)\n",
    "\n",
    "# llm.show_query=llm.show_response=False"
   ]
  },
  {
   "cell_type": "code",
   "execution_count": 17,
   "metadata": {},
   "outputs": [],
   "source": [
    "from my_chains import Text2JsonChain\n",
    "\n",
    "\n",
    "\n",
    "class ExtractStoryElementsChain(Text2JsonChain):\n",
    "    get_bg_hint:object=None\n",
    "    bg_hint_num:int=10\n",
    "    bg_hint_len:int=400\n",
    "    summary_len:int=100\n",
    "    retrospect_len:int=100\n",
    "    story_summary_chain:object=None\n",
    "    prompt='''可能有关的背景信息：（不要加入到回复中）\n",
    "{background}\n",
    "【前情提要：{retrospect}】\n",
    "【本段概要：{summary}】\n",
    "对下文中的主要角色，分条提取角色动机motivation，遇到的主要阻碍obstacle，所做出的行为与决策action，以及和这一切有关的角色性格特征trait，和背景信息background。\n",
    "只需要输出主要角色，按你认为的角色的重要性排序。\n",
    "输出格式：{{\n",
    "    \"小明\":{{\n",
    "        \"motivation\":\"上街买菜\",\n",
    "        \"obstacle\":\"没钱\",\n",
    "        \"action\":\"找人借钱\",\n",
    "        \"trait\":\"小明很穷\",\n",
    "        \"role\":\"小明在情节中扮演了购买者的角色\",\n",
    "        \"background\":\"菜涨价了\",\n",
    "        \"development\":\"小明决定以后不买菜了\",\n",
    "        \"reflection\":\"反应了小明很可怜\"\n",
    "    }}\n",
    "}}\n",
    "确保json格式正确。\n",
    "不加自己的推测想法，请忠实于原著，不要盲目正面。不要加入没有意思的套话。请修正可能被搞混淆的角色名字。\n",
    "可能有关的背景信息：（不要加入到回复中）\n",
    "文本：\n",
    "{text}\n",
    "json：'''\n",
    "    @property\n",
    "    def output_keys(self):\n",
    "        return super().output_keys+['summary','background','retrospect']\n",
    "    def _call(self,inputs:dict)->dict:\n",
    "        summary=self.story_summary_chain({**inputs,'summary':inputs['text']})['summary'] if self.story_summary_chain is not None and 'summary' not in inputs else inputs.get('summary','（无）')\n",
    "        bg_hint_input=summary if 'summary' in inputs else inputs['text']\n",
    "        bg_hint=self.get_bg_hint(bg_hint_input,k=self.bg_hint_num,max_text_len=self.bg_hint_len) if self.get_bg_hint is not None else '（无）'\n",
    "        retrospect=inputs.get('retrospect','（无）')\n",
    "\n",
    "        inputs['summary']=summary.replace('\\n','').strip()[:self.summary_len]\n",
    "        inputs['background']=bg_hint.strip()[-self.bg_hint_len:]\n",
    "        inputs['retrospect']=retrospect.replace('\\n','').strip()[-self.retrospect_len:]\n",
    "\n",
    "        print('requesting ExtractStoryElementsChain')\n",
    "        outputs=super()._call(inputs)\n",
    "        outputs['summary']=summary.replace('\\n','')\n",
    "        outputs['background']=bg_hint\n",
    "        outputs['retrospect']=retrospect.replace('\\n','')\n",
    "        return outputs\n",
    "    \n",
    "extract_story_elements_chain=ExtractStoryElementsChain(llm=llm,get_bg_hint=get_bg_hint,story_summary_chain=further_summary_story_chain,\n",
    "                                            bg_hint_len=bg_hint_len,retrospect_len=retrospect_len)\n",
    "\n",
    "\n",
    "# llm.show_query=llm.show_response=True\n",
    "# story_elements=extract_story_elements_chain({'text':'\\n'.join(summary_cascades[1]),'summary':summary_cascades[0]})\n",
    "# llm.show_query=llm.show_response=False"
   ]
  },
  {
   "cell_type": "code",
   "execution_count": 19,
   "metadata": {},
   "outputs": [
    {
     "name": "stdout",
     "output_type": "stream",
     "text": [
      "reload 39 chapters\n"
     ]
    },
    {
     "data": {
      "application/vnd.jupyter.widget-view+json": {
       "model_id": "e346b717ecfd44fb9cfa6647e73cd2ef",
       "version_major": 2,
       "version_minor": 0
      },
      "text/plain": [
       "  0%|          | 0/39 [00:00<?, ?it/s]"
      ]
     },
     "metadata": {},
     "output_type": "display_data"
    },
    {
     "name": "stdout",
     "output_type": "stream",
     "text": [
      "processing chapter 0 第零卷 塔芭莎的冒险 塔芭莎与翼龙人\n",
      "further summarizing story, num of summaries at current level: 108 total length: 12076\n",
      "requesting summary\n",
      "refine the summary by using the bg hint genereated by the current summary\n",
      "requesting summary\n",
      "requesting summary\n",
      "refine the summary by using the bg hint genereated by the current summary\n",
      "requesting summary\n",
      "requesting summary\n",
      "refine the summary by using the bg hint genereated by the current summary\n",
      "requesting summary\n"
     ]
    }
   ],
   "source": [
    "reload_chapters()\n",
    "llm.show_query=llm.show_response=False\n",
    "for iChapter,chapter in tqdm(chapters.items()):\n",
    "    print('processing chapter',iChapter,chapter['title'])\n",
    "    retrospect=chapters[iChapter-1]['summary'] if iChapter-1 in chapters and 'summary' in chapters[iChapter-1] else '（无）'\n",
    "    if 'summary_cascades' not in chapter:\n",
    "        chapter['summary_cascades']=further_summary_story(chapter['chunk_summaries'],final_summary_chunk_len=final_summary_chunk_len)\n",
    "    chapter['summary']=chapter['summary_cascades'][0]\n",
    "    save_chapter(chapter)\n",
    "    if 'story_elements' not in chapter:\n",
    "        response=extract_story_elements_chain({'text':'\\n'.join(chapter['summary_cascades'][1]),'summary':chapter['summary'],'retrospect':retrospect})\n",
    "        if response['content'] is not None:\n",
    "            chapter['story_elements']=response['content']\n",
    "        else:\n",
    "            print('story elements extraction failed')\n",
    "            print(response['error'])\n",
    "            chapter['story_elements_failed']=response['response']\n",
    "    save_chapter(chapter)"
   ]
  },
  {
   "cell_type": "code",
   "execution_count": null,
   "metadata": {},
   "outputs": [],
   "source": []
  },
  {
   "attachments": {},
   "cell_type": "markdown",
   "metadata": {},
   "source": [
    "# Trash code after here"
   ]
  },
  {
   "cell_type": "code",
   "execution_count": null,
   "metadata": {},
   "outputs": [],
   "source": [
    "assert False"
   ]
  },
  {
   "cell_type": "code",
   "execution_count": null,
   "metadata": {},
   "outputs": [],
   "source": [
    "class FinalSummaryStoryChain(Chain):\n",
    "    llm:object=None\n",
    "    get_bg_hint:object=None\n",
    "    bg_hint_num:int=10\n",
    "    bg_hint_len:int=400\n",
    "    retrospect_len:int=100\n",
    "    @property\n",
    "    def input_keys(self):\n",
    "        return ['text','retrospect']\n",
    "    @property\n",
    "    def output_keys(self):\n",
    "        return ['summary']\n",
    "    prmopt='''\n",
    "可能有关的背景材料\n",
    "{background}\n",
    "【前情提要：{retrospect}】\n",
    "问：下面是一个完整的小说章节中不同段落的分段梗概，请用连贯的语言详述一下本小说章节。不要加入额外的推测，请忠实于原著，不要加入没有意思的概概而谈的套话。\n",
    "{text}\n",
    "答：'''\n",
    "    def _call(self,inputs:dict)->dict:\n",
    "        bghint_input=inputs['text']\n",
    "        if self.get_bg_hint is not None:\n",
    "            bg_hint=self.get_bg_hint(bghint_input,k=self.bg_hint_num,max_text_len=self.bg_hint_len)\n",
    "        else:\n",
    "            bg_hint='（无）'\n",
    "        inputs['background']=bg_hint[-self.bg_hint_len:]\n",
    "        inputs['retrospect']=inputs['retrospect'][-self.retrospect_len:]\n",
    "        query=self.prmopt.format(**inputs)\n",
    "        print('requesting summary')\n",
    "        response=self.llm(query)\n",
    "        response=re.sub(r'[\\s]*[\\d]+[\\.、][\\s]*','',response)\n",
    "        return {'summary':response}"
   ]
  }
 ],
 "metadata": {
  "kernelspec": {
   "display_name": "tensorflow",
   "language": "python",
   "name": "python3"
  },
  "language_info": {
   "codemirror_mode": {
    "name": "ipython",
    "version": 3
   },
   "file_extension": ".py",
   "mimetype": "text/x-python",
   "name": "python",
   "nbconvert_exporter": "python",
   "pygments_lexer": "ipython3",
   "version": "3.8.10"
  },
  "orig_nbformat": 4
 },
 "nbformat": 4,
 "nbformat_minor": 2
}
