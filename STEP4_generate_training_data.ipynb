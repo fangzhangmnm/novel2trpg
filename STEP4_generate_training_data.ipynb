{
 "cells": [
  {
   "cell_type": "markdown",
   "metadata": {},
   "source": [
    "# 环境变量"
   ]
  },
  {
   "cell_type": "code",
   "execution_count": 3,
   "metadata": {},
   "outputs": [],
   "source": [
    "output_dir='./output_zero/'\n",
    "faiss_path=output_dir+'faiss_index'\n",
    "distilled_log_dir=output_dir+'distilled_log/'\n",
    "merged_log_path=output_dir+'merged_log.json'\n",
    "text_log_path=output_dir+'merged_log.txt'\n",
    "unlabeled_expression_path=output_dir+'unlabeled_expression.json'\n",
    "expression_map_path=output_dir+'expression_map.json'\n",
    "chapter_summary_path=output_dir+'chapter_summary.json'\n",
    "char_freq_path=output_dir+'char_freq.json'\n",
    "rename_map_path=output_dir+'rename_map.json'\n",
    "\n",
    "token_per_char=0.65 # will be updated later\n",
    "max_bg_tokens=180\n",
    "max_history_tokens=190\n",
    "max_prompt_tokens=380\n",
    "\n",
    "tokenizer_name='D:\\ml\\chatglm-6b-int4-qe'\n",
    "\n",
    "\n",
    "# cache_dir='./.cache'\n",
    "# train_data_path='./train.json'\n",
    "# test_data_path='./test.json'\n",
    "# uncategorized_expression_path='./uncategorized_expression.json'\n",
    "# expression_map_path='./expression_map.json'\n",
    "# merged_content_path='./all_content.json'\n",
    "# merged_interview_path='./all_interview.json'\n",
    "# merged_history_path='./all_history.txt'\n",
    "# test_data_size=200\n",
    "# tokenizer_name='D:\\ml\\chatglm-6b-int4-qe'\n",
    "# roleplay_propotion=.7\n",
    "# interview_propotion=.3\n",
    "# include_act=False\n",
    "# include_think=False\n",
    "# include_interview=False\n",
    "\n",
    "# max_history_tokens=350\n",
    "# max_prompt_tokens=380\n",
    "# # bg_hint_num=2\n",
    "# bg_hint_num=0\n",
    "\n",
    "\n",
    "\n",
    "# output_dir='./output_shana/'\n",
    "\n",
    "# faiss_path=output_dir+'faiss_index'"
   ]
  },
  {
   "cell_type": "code",
   "execution_count": 4,
   "metadata": {},
   "outputs": [
    {
     "data": {
      "image/png": "[encoded data removed]",
      "text/plain": [
       "<Figure size 640x480 with 1 Axes>"
      ]
     },
     "metadata": {},
     "output_type": "display_data"
    }
   ],
   "source": [
    "# run this to avoid chinese bug\n",
    "import matplotlib.pyplot as plt\n",
    "plt.plot([1,2,3,4])\n",
    "plt.show()\n",
    "import matplotlib\n",
    "# chinese\n",
    "matplotlib.rcParams['font.sans-serif'] = ['SimHei']"
   ]
  },
  {
   "attachments": {},
   "cell_type": "markdown",
   "metadata": {},
   "source": [
    "# 加载llm"
   ]
  },
  {
   "cell_type": "code",
   "execution_count": 5,
   "metadata": {},
   "outputs": [
    {
     "name": "stderr",
     "output_type": "stream",
     "text": [
      "c:\\Anaconda3\\envs\\tensorflow\\lib\\site-packages\\langchain\\llms\\openai.py:165: UserWarning: You are trying to use a chat model. This way of initializing it is no longer supported. Instead, please use: `from langchain.chat_models import ChatOpenAI`\n",
      "  warnings.warn(\n",
      "c:\\Anaconda3\\envs\\tensorflow\\lib\\site-packages\\langchain\\llms\\openai.py:676: UserWarning: You are trying to use a chat model. This way of initializing it is no longer supported. Instead, please use: `from langchain.chat_models import ChatOpenAI`\n",
      "  warnings.warn(\n"
     ]
    },
    {
     "name": "stdout",
     "output_type": "stream",
     "text": [
      "\u001b[91m你好\u001b[0m\u001b[94m你好！有什么我可以帮助你的吗？\u001b[0m\n"
     ]
    },
    {
     "data": {
      "text/plain": [
       "'你好！有什么我可以帮助你的吗？'"
      ]
     },
     "execution_count": 5,
     "metadata": {},
     "output_type": "execute_result"
    }
   ],
   "source": [
    "from my_llm import llm_chatgpt as llm\n",
    "llm('你好')"
   ]
  },
  {
   "attachments": {},
   "cell_type": "markdown",
   "metadata": {},
   "source": [
    "# 处理gpt返回的json"
   ]
  },
  {
   "cell_type": "code",
   "execution_count": 6,
   "metadata": {},
   "outputs": [
    {
     "name": "stdout",
     "output_type": "stream",
     "text": [
      "Total content chunks: 530\n",
      "Total items: 8173\n"
     ]
    }
   ],
   "source": [
    "import json,random\n",
    "from glob import glob\n",
    "import os\n",
    "\n",
    "chunks={}\n",
    "for path in glob(os.path.join(distilled_log_dir,'RESPONSE*.json')):\n",
    "    with open(path) as f:\n",
    "        chunk=json.load(f)\n",
    "        for item in chunk['content']:\n",
    "            item['src_id']=chunk['id']\n",
    "        chunks[chunk['id']]=chunk\n",
    "chunks=dict(sorted(chunks.items(), key=lambda item: item[0]))\n",
    "\n",
    "all_content=[item for chunk in chunks.values() for item in chunk['content']]\n",
    "\n",
    "\n",
    "# # separate info, act into individual items\n",
    "def purge_content(all_content):\n",
    "    for item in all_content:\n",
    "        if 'info' in item:\n",
    "            info_str=item['info']\n",
    "            if 'expression' in item:\n",
    "                info_str=item['expression']+' '+info_str\n",
    "            if 'char' in item:\n",
    "                info_str=item['char']+' '+info_str\n",
    "            yield {'info':info_str,'src_id':item['src_id']}\n",
    "        if 'char' in item:\n",
    "            base_info={'char':item['char'],'src_id':item['src_id']}\n",
    "            if 'expression' in item and item['expression']:\n",
    "                base_info['expression']=item['expression']\n",
    "            if 'act' in item and item['act']:\n",
    "                yield {**base_info,'act':item['act']}\n",
    "            else:\n",
    "                if 'think' in item and item['think']:\n",
    "                    base_info['think']=item['think']\n",
    "                if 'say' in item and item['say']:\n",
    "                    base_info['say']=item['say']\n",
    "                if 'think' in base_info or 'say' in base_info:\n",
    "                    yield base_info\n",
    "\n",
    "# # merge say, think of the same character into one item\n",
    "# def purge_content_2(all_content):\n",
    "#     prev_item=None\n",
    "#     for item in all_content:\n",
    "#         is_same_character='char' in item and prev_item and 'char' in prev_item and item['char']==prev_item['char']\n",
    "#         is_same_seq=is_same_character and ('act' not in item and 'act' not in prev_item) or ('act' in item and 'act' in prev_item)\n",
    "#         if is_same_seq:\n",
    "#             if 'expression' in item:\n",
    "#                 prev_item['expression']=prev_item['expression']+'，'+item['expression'] if 'expression' in prev_item else item['expression']\n",
    "#             if 'act' in item:\n",
    "#                 prev_item['act']=prev_item['act']+'，'+item['act'] if 'act' in prev_item else item['act']\n",
    "#             if 'think' in item:\n",
    "#                 prev_item['think']=prev_item['think']+'，'+item['think'] if 'think' in prev_item else item['think']\n",
    "#             if 'say' in item:\n",
    "#                 prev_item['say']=prev_item['say']+'，'+item['say'] if 'say' in prev_item else item['say']\n",
    "#         else:\n",
    "#             if prev_item:\n",
    "#                 yield prev_item\n",
    "#             prev_item=item\n",
    "\n",
    "all_content=list(purge_content(all_content))\n",
    "\n",
    "all_content[:10]\n",
    "\n",
    "print('Total content chunks:', len(chunks))\n",
    "print('Total items:', len(all_content))\n",
    "\n",
    "json.dump(all_content, open(merged_log_path, 'w', encoding='utf-8'), ensure_ascii=False, indent=2)"
   ]
  },
  {
   "cell_type": "code",
   "execution_count": 7,
   "metadata": {},
   "outputs": [],
   "source": [
    "# import json,random\n",
    "# from glob import glob\n",
    "\n",
    "# interviews=[]\n",
    "# for path in glob(f'{cache_dir}/INFO_RESPONSE_*.json'):\n",
    "#     with open(path, 'r', encoding='utf-8') as f:\n",
    "#         try:\n",
    "#             interview=json.load(f)\n",
    "#             interview['id']=int(path.split('_')[-1].split('.')[0])\n",
    "#             for item in interview['content']:\n",
    "#                 item['src_id']=interview['id']\n",
    "#             interviews.append(interview)\n",
    "#         except Exception as e:\n",
    "#             print('Error:', path, e)\n",
    "#             raise e\n",
    "# interviews=sorted(interviews, key=lambda x: x['id'])\n",
    "\n",
    "# print('Total interview chunks:', len(interviews))\n",
    "\n",
    "# all_interview=[]\n",
    "# for interview in interviews:\n",
    "#     for item in interview['content']:\n",
    "#         all_interview.append(item)\n",
    "\n",
    "# print('Total interview items:', len(all_interview))\n",
    "\n",
    "# for item in random.sample(all_interview, 10):\n",
    "#     print(item)\n",
    "\n",
    "# json.dump(all_interview, open(merged_interview_path, 'w', encoding='utf-8'), ensure_ascii=False, indent=2)"
   ]
  },
  {
   "cell_type": "markdown",
   "metadata": {},
   "source": [
    "### 计算一个字需要多少token"
   ]
  },
  {
   "cell_type": "code",
   "execution_count": 8,
   "metadata": {},
   "outputs": [
    {
     "name": "stderr",
     "output_type": "stream",
     "text": [
      "Explicitly passing a `revision` is encouraged when loading a model with custom code to ensure no malicious code has been contributed in a newer revision.\n"
     ]
    },
    {
     "name": "stdout",
     "output_type": "stream",
     "text": [
      "chunk_lengths: [715, 738, 706, 713, 637, 748, 735, 721, 742, 743]\n",
      "chunk_tokenized_lengths: [461, 459, 463, 431, 428, 464, 488, 447, 464, 476]\n",
      "ratios: [0.6447552447552447, 0.6219512195121951, 0.6558073654390935, 0.6044880785413744, 0.6718995290423861, 0.6203208556149733, 0.6639455782312925, 0.6199722607489597, 0.6253369272237197, 0.6406460296096904]\n",
      "token_per_char: 0.6369123088718929\n"
     ]
    }
   ],
   "source": [
    "\n",
    "from transformers import AutoTokenizer\n",
    "tokenizer=AutoTokenizer.from_pretrained(tokenizer_name,trust_remote_code=True)\n",
    "\n",
    "def get_tokenized_length(text):\n",
    "    tokenizer_text=tokenizer(text, return_tensors='pt')\n",
    "    return len(tokenizer_text['input_ids'][0])\n",
    "\n",
    "\n",
    "def clamp_by_tokenizer(text,max_length,return_length=False):\n",
    "    tokenizer_text=tokenizer(text, return_tensors='pt')\n",
    "    tokenized_length=min(len(tokenizer_text['input_ids'][0]), max_length)\n",
    "    if len(tokenizer_text['input_ids'][0])>max_length:\n",
    "        text=tokenizer.decode(tokenizer_text['input_ids'][0][-max_length:])\n",
    "    if return_length:\n",
    "        return text, tokenized_length\n",
    "    else:\n",
    "        return text\n",
    "\n",
    "text_samples=[chunk['text'] for chunk in list(chunks.values())[:10]]\n",
    "chunk_lengths=[len(text) for text in text_samples]\n",
    "chunk_tokenized_lengths=[get_tokenized_length(text) for text in text_samples]\n",
    "print('chunk_lengths:', chunk_lengths)\n",
    "print('chunk_tokenized_lengths:', chunk_tokenized_lengths)\n",
    "print('ratios:', [a/b for a,b in zip(chunk_tokenized_lengths, chunk_lengths)])\n",
    "import numpy as np\n",
    "token_per_char=np.mean([a/b for a,b in zip(chunk_tokenized_lengths, chunk_lengths)])*1.0\n",
    "print('token_per_char:', token_per_char)\n",
    "\n",
    "def estimate_tokenized_length(text):\n",
    "    return int(len(text)*token_per_char)"
   ]
  },
  {
   "attachments": {},
   "cell_type": "markdown",
   "metadata": {},
   "source": [
    "### 提取表情，使用gpt聚类"
   ]
  },
  {
   "cell_type": "code",
   "execution_count": 9,
   "metadata": {},
   "outputs": [
    {
     "name": "stdout",
     "output_type": "stream",
     "text": [
      "unlabeled_expression_freq: {'惊讶': 107, '愤怒': 59, '得意': 23, '生气': 21, '不满': 21, '惊恐': 21, '冷漠': 18, '微笑': 17, '高兴': 15, '紧张': 15, '哭泣': 13, '好奇': 12, '害怕': 12, '兴奋': 12, '自信': 11, '困惑': 11, '痛苦': 10, '悲伤': 9, '疑惑': 9, '开心': 8, '摇头': 8, '神秘': 8, '吃惊': 8, '笑着': 8, '点头': 8, '咬牙切齿': 8, '专注': 6, '嘲讽': 6, '笑': 6, '肯定': 6, '抱怨': 6, '颤抖': 6, '失望': 6, '认真': 6, '害羞': 6, '可爱': 5, '犹豫': 5, '抗议': 5, '无表情': 5, '慌张': 5, '无聊': 5, '大笑': 5, '激动': 5, '担心': 5, '冷静': 5, '冷酷': 5, '呆滞': 5, '焦急': 4, '瞪眼': 4, '大叫': 4, '疼痛': 4, '解释': 4, '哀求': 4, '无奈': 4, '冷若冰霜': 4, '尴尬': 4, '感动': 4, '冷笑': 4, '顺从': 4, '回忆': 4, '不安': 3, '满足': 3, '撒娇': 3, '不甘心': 3, '劝说': 3, '阴笑': 3, '嘲笑': 3, '厌恶': 3, '恐惧': 3, '咆哮': 3, '慌乱': 3, '惊叫': 3, '思考': 3, '脸红': 3, '沉默': 3, '怀疑': 3, '羞愧': 3, '通红': 3, '怒气冲冲': 3, '怀念': 3, '饥饿': 2, '嫉妒': 2, '热情': 2, '恐慌': 2, '无言': 2, '抱歉': 2, '面无表情': 2, '沮丧': 2, '晕厥': 2, '满意': 2, '眯起眼': 2, '决然': 2, '严肃': 2, '安心': 2, '快乐': 2, '天真': 2, '凶狠': 2, '苍白': 2, '不高兴': 2, '平淡': 2, '笑容': 2, '焦虑': 2, '理解': 2, '欢迎': 2, '否定': 2, '不情愿': 2, '绝望': 2, '自豪': 2, '担忧': 2, '严厉': 2, '傲慢': 2, '阴险': 2, '惊奇': 2, '烦恼': 2, '绵软无力': 2, '命令': 2, '轻蔑': 2, '妩媚': 2, '问道': 2, '盯着': 2, '不耐烦': 2, '正经': 2, '难为情': 2, '叹气': 2, '悠然': 2, '坚持': 2, '悲鸣': 2, '嘟囔': 2, '发怒': 2, '烦躁': 2, '皱眉头': 2, '羞涩': 2, '温柔': 2, '愤恨': 2, '陶醉': 2, '调侃': 2, '怒吼': 2, '自大': 2, '向威尔士介绍': 2, '打哈欠': 1, '愉悦的大笑': 1, '歉意的笑': 1, '无奈的笑': 1, '丧气的垂着头': 1, '让周围的人紧张的全身哆嗦起来': 1, '孤寂的笑容': 1, '狂叫': 1, '紧握魔杖': 1, '笑了起来': 1, '露出獠牙': 1, '坏笑': 1, '战战兢兢': 1, '不适': 1, '侧目': 1, '轻描淡写': 1, '凑近艾尔莎': 1, '脸色变了，回复了以前的口气': 1, '注意到希尔菲德手上拿着魔杖': 1, '得意的挺起胸': 1, '脸色变了': 1, '鼓起了两腮': 1, '指着希尔菲德': 1, '脸上没有了血色': 1, '惊呆': 1, '粗鲁': 1, '空虚': 1, '怒视塔芭莎': 1, '警惕': 1, '注视': 1, '不怀好意的笑': 1, '下定决心': 1, '伤心': 1, '注视着雅妮特的脸': 1, '大获全胜': 1, '扭曲着脸': 1, '等着瞧': 1, '瘫坐在地': 1, '大声': 1, '怨愤': 1, '挥魔杖': 1, '天使般的笑容': 1, '呆住了': 1, '责备': 1, '亲密': 1, '被塔芭莎的眼神所迫': 1, '气得全身发颤': 1, '看着托马': 1, '轻轻闭上眼': 1, '脸色难看': 1, '眼稍稍眯了起来': 1, '恭维': 1, '毫无恶意的笑': 1, '大喜过望': 1, '沉着': 1, '怒火': 1, '压低了左手握着的魔杖': 1, '犹豫不决': 1, '喜极而泣': 1, '紧盯着': 1, '上上下下的打量着': 1, '愤怒的扭曲着表情': 1, '愤怒的颤着身子': 1, '惊喜': 1, '淡然': 1, '认同': 1, '强烈': 1, '玩世不恭': 1, '满足的光': 1, '为难': 1, '阴郁': 1, '挥手告别': 1, '口水直流': 1, '感激': 1, '无兴趣': 1, '气愤': 1, '坚定': 1, '口水满嘴': 1, '兴高采烈': 1, '皱眉': 1, '眉皱': 1, '平静': 1, '睡眼惺忪': 1, '微微红了起来': 1, '诧异': 1, '惊叹': 1, '心跳加速': 1, '羞怯': 1, '幸福': 1, '想念': 1, '温和的笑': 1, '斜眼': 1, '震撼': 1, '果敢': 1, '震惊': 1, '柔软的双唇让才人的思维更加的混乱了': 1, '脸通红通红的，好象有点害羞': 1, '恨恨的看着那几个学生': 1, '留着一头卷发和脸上留着雀斑的女孩子用嘲笑的口吻说到。': 1, '热': 1, '坐在床上晃脚': 1, '苦闷': 1, '使劲瞪着丘鲁克': 1, '笑了出来': 1, '撩起炎一样火红的头发': 1, '恍然大悟': 1, '歉意': 1, '像煤一样黑': 1, '半张着嘴': 1, '摇摇晃晃': 1, '深深叹气': 1, '叫道': 1, '挥动着': 1, '又挥动着': 1, '咻咻': 1, '大叫道': 1, '怒喝': 1, '哑口无声': 1, '挑战': 1, '慢慢走': 1, '抓住肩膀': 1, '甩开手': 1, '流泪': 1, '眼睛湿润': 1, '沉思': 1, '疼': 1, '怨恨': 1, '忍不住笑': 1, '愧疚': 1, '困扰': 1, '困苦': 1, '喜欢': 1, '注视着': 1, '唧唧喳喳': 1, '俯视着': 1, '摆头': 1, '哼着': 1, '望上方': 1, '毫不在乎': 1, '混乱': 1, '闭眼': 1, '靠近': 1, '挣扎': 1, '呼吸混乱': 1, '偷笑': 1, '烦闷': 1, '感叹': 1, '可疑': 1, '抱着胳膊': 1, '着迷': 1, '愣住': 1, '脸色变化': 1, '悔恨': 1, '咬着嘴唇': 1, '微笑着': 1, '温和': 1, '笑了': 1, '咬了一下嘴唇': 1, '风情万种': 1, '焦躁不安': 1, '注意到破坏之杖': 1, '茫然': 1, '瞪眼，抱胳膊': 1, '避开视线': 1, '摊手': 1, '微笑，行礼': 1, '轻快、优雅的舞步': 1, '沉默了一会跳着舞': 1, '好象在解释误会一样的说着': 1, '期待': 1, '匆忙': 1, '被压制': 1, '哼了一声鼻子': 1, '冷漠地看着芙凯': 1, '伸开双手表示没有恶意': 1, '非常惊讶': 1, '脸色苍白': 1, '危险': 1, '窒息': 1, '盯着胸部': 1, '指责': 1, '关切': 1, '拒绝': 1, '狠毒': 1, '残忍': 1, '无力': 1, '无可抵挡的笑容': 1, '淡淡笑容消失了': 1, '鲜红的长发燃烧般沙沙作响地竖立了起来': 1, '学生们都慌张地躲到了桌子底下': 1, '像挥舞剑般横扫着': 1, '突然卷起一阵裂风': 1, '装腔作势': 1, '叹息': 1, '受打击': 1, '恭敬': 1, '谦虚': 1, '感慨': 1, '忠诚': 1, '苦恼': 1, '寂寞': 1, '恍惚': 1, '清醒': 1, '把手指竖在嘴边': 1, '拘谨': 1, '自信满满': 1, '入神': 1, '对公主产生好感': 1, '对公主迷恋': 1, '误解': 1, '红脸': 1, '感动失神': 1, '贴近': 1, '压倒': 1, '暴怒': 1, '吃醋': 1, '豪气': 1, '优雅': 1, '失落': 1, '贪婪': 1, '威胁': 1, '感兴趣': 1, '赞许': 1, '扭曲': 1, '搂着才人': 1, '夸耀': 1, '幸运': 1, '赞叹': 1, '轻松应对': 1, '低头': 1, '双手插腰': 1, '心动': 1, '斜视': 1, '吼叫': 1, '紧握剑': 1, '不愉快': 1, '胜利': 1, '不解': 1, '催促': 1, '狡猾': 1, '泪眼汪汪': 1, '情绪激动': 1, '眼睛红红': 1, '哭肿了的眼睛': 1, '复杂': 1, '嗤笑': 1, '魅力的笑容': 1, '恶作剧般笑着': 1, '优雅地低下头': 1, '问询': 1, '珍爱地看着信': 1, '认真严肃的表情': 1, '低下头': 1, '礼貌': 1, '腼腆': 1}\n",
      "saved unlabeled expressions to ./output_zero/unlabeled_expression.json\n"
     ]
    }
   ],
   "source": [
    "# all_expressions=set(item['expression'] for item in all_content if 'expression' in item)\n",
    "# print('all_expressions:', all_expressions)\n",
    "\n",
    "unlabeled_expression_freq={}\n",
    "for item in all_content:\n",
    "    if 'expression' in item:\n",
    "        unlabeled_expression_freq[item['expression']]=unlabeled_expression_freq.get(item['expression'], 0)+1\n",
    "unlabeled_expression_freq={k: v for k, v in sorted(unlabeled_expression_freq.items(), key=lambda item: item[1], reverse=True)}\n",
    "\n",
    "print('unlabeled_expression_freq:', unlabeled_expression_freq)\n",
    "\n",
    "with open(unlabeled_expression_path, 'w', encoding='utf-8') as f:\n",
    "    json.dump(unlabeled_expression_freq, f, ensure_ascii=False, indent=2)\n",
    "print('saved unlabeled expressions to', unlabeled_expression_path)"
   ]
  },
  {
   "cell_type": "code",
   "execution_count": 10,
   "metadata": {},
   "outputs": [
    {
     "name": "stdout",
     "output_type": "stream",
     "text": [
      "\u001b[91m请将“不耐烦”归类为下列类别中的一种：\n",
      "['平静', '专注', '微笑', '兴奋', '微怒', '大怒', '惊讶', '恐惧', '悲哀', '哭泣', '害羞', '困惑', '白眼']\n",
      "“不耐烦”的类别是：\u001b[0m\u001b[94m微怒\u001b[0m\n"
     ]
    }
   ],
   "source": [
    "from langchain.chains.base import Chain\n",
    "import json\n",
    "import re\n",
    "from my_llm import llm_chatgpt as llm\n",
    "\n",
    "\n",
    "class LabelExpressionChain(Chain):\n",
    "    llm:object=None\n",
    "    labels:list='平静，专注，微笑，兴奋，微怒，大怒，惊讶，恐惧，悲哀，哭泣，害羞，困惑，白眼'.split('，')\n",
    "    @property\n",
    "    def input_keys(self):\n",
    "        return ['unknown_expression']\n",
    "    @property\n",
    "    def output_keys(self):\n",
    "        return ['label']\n",
    "    prmopt='''请将“{unknown_expression}”归类为下列类别中的一种：\n",
    "{labels}\n",
    "“{unknown_expression}”的类别是：'''\n",
    "    def _call(self,inputs:dict)->dict:\n",
    "        inputs['labels']=self.labels\n",
    "        inputs['unknown_expression']=re.sub(r'[^\\u4e00-\\u9fa5]', '', inputs['unknown_expression'])\n",
    "        if inputs['unknown_expression'] in self.labels:\n",
    "            return {'label':inputs['unknown_expression']}\n",
    "        query=self.prmopt.format(**inputs)\n",
    "        response=self.llm(query)\n",
    "        response=re.sub(r'[^\\u4e00-\\u9fa5]', '', response)\n",
    "        if response not in self.labels:\n",
    "            response=None\n",
    "        return {'label':response}\n",
    "\n",
    "label_expression_chain=LabelExpressionChain(llm=llm)\n",
    "\n",
    "llm.show_query=llm.show_response=True\n",
    "label_expression_chain('不耐烦')\n",
    "llm.show_query=llm.show_response=False\n"
   ]
  },
  {
   "cell_type": "code",
   "execution_count": 11,
   "metadata": {},
   "outputs": [
    {
     "name": "stdout",
     "output_type": "stream",
     "text": [
      "loaded expression_map from ./output_zero/expression_map.json\n"
     ]
    },
    {
     "data": {
      "application/vnd.jupyter.widget-view+json": {
       "model_id": "ffb5cfc5c5464979b39bce377fb346a9",
       "version_major": 2,
       "version_minor": 0
      },
      "text/plain": [
       "  0%|          | 0/394 [00:00<?, ?it/s]"
      ]
     },
     "metadata": {},
     "output_type": "display_data"
    },
    {
     "name": "stdout",
     "output_type": "stream",
     "text": [
      "failed 担忧\n",
      "担忧 -> None\n",
      "failed 正经\n",
      "正经 -> None\n",
      "failed 喜极而泣\n",
      "喜极而泣 -> None\n",
      "failed 幸福\n",
      "幸福 -> None\n",
      "failed 喜欢\n",
      "喜欢 -> None\n",
      "failed 指责\n",
      "指责 -> None\n",
      "failed 自信满满\n",
      "自信满满 -> None\n",
      "礼貌 -> 平静\n",
      "腼腆 -> 害羞\n",
      "emoji_freq: {'惊讶': 130, '困惑': 126, '大怒': 116, '平静': 115, '微怒': 109, '悲哀': 99, '微笑': 93, '恐惧': 90, '兴奋': 75, '害羞': 49, '专注': 41, '哭泣': 13, '白眼': 6}\n"
     ]
    },
    {
     "data": {
      "image/png": "[encoded data removed]",
      "text/plain": [
       "<Figure size 500x200 with 1 Axes>"
      ]
     },
     "metadata": {},
     "output_type": "display_data"
    }
   ],
   "source": [
    "import os\n",
    "from tqdm.auto import tqdm\n",
    "if os.path.exists(expression_map_path):\n",
    "    with open(expression_map_path, 'r', encoding='utf-8') as f:\n",
    "        expression_map=json.load(f)\n",
    "        print('loaded expression_map from', expression_map_path)\n",
    "else:\n",
    "    expression_map={}\n",
    "\n",
    "for unknown_expression in tqdm(unlabeled_expression_freq):\n",
    "    if expression_map.get(unknown_expression,None) is None:\n",
    "        response=label_expression_chain(unknown_expression)\n",
    "        if response['label'] is None:\n",
    "            print('failed', unknown_expression)\n",
    "        print(unknown_expression, '->', response['label'])\n",
    "        expression_map[unknown_expression]=response['label']\n",
    "        json.dump(expression_map, open(expression_map_path, 'w'),ensure_ascii=False,indent=4)\n",
    "\n",
    "for item in all_content:\n",
    "    if 'expression' in item and item['expression'] in expression_map and expression_map[item['expression']] is not None:\n",
    "        item['emoji']=expression_map[item['expression']]\n",
    "\n",
    "emoji_freq={}\n",
    "for item in all_content:\n",
    "    if 'emoji' in item:\n",
    "        emoji_freq[item['emoji']]=emoji_freq.get(item['emoji'], 0)+1\n",
    "emoji_freq={k: v for k, v in sorted(emoji_freq.items(), key=lambda item: item[1], reverse=True)}\n",
    "\n",
    "print('emoji_freq:', emoji_freq)\n",
    "\n",
    "\n",
    "plt.figure(figsize=(5, 2))\n",
    "plt.bar(list(emoji_freq.keys()), list(emoji_freq.values()))\n",
    "plt.xticks(rotation=75)\n",
    "plt.ylabel('count')\n",
    "# plt.yscale('log')\n",
    "# plt.ylim(1,np.max(list(emoji_freq.values()))*2)\n",
    "plt.show()\n"
   ]
  },
  {
   "attachments": {},
   "cell_type": "markdown",
   "metadata": {},
   "source": [
    "# 使用FAISS知识索引为所有chunk生成参考词条"
   ]
  },
  {
   "cell_type": "code",
   "execution_count": 13,
   "metadata": {},
   "outputs": [
    {
     "name": "stderr",
     "output_type": "stream",
     "text": [
      "No sentence-transformers model found with name D:\\ml\\text2vec-large-chinese. Creating a new one with MEAN pooling.\n",
      "No sentence-transformers model found with name D:\\ml\\text2vec-large-chinese. Creating a new one with MEAN pooling.\n"
     ]
    },
    {
     "name": "stdout",
     "output_type": "stream",
     "text": [
      "【平贺才人 已与露易斯同居中。同时被书中许多女性角色爱慕著。喜欢露易丝。】\n",
      "【露易丝 的性格易怒，容易骂人，有点糊涂（跟才人比），为了小事常常生气。】\n",
      "【拉·瓦利埃尔公爵 在托里斯特因有很大的影响力，涉足军、政、商三界，与王室关系密切，动画版第十二话认可了露易丝与才人的关系，同意让露易丝嫁给才人，在罗马尼亚大圣堂做了见证。】\n",
      "【平贺才人 他的称号：修瓦里埃骑士（见习骑士），子爵(结尾被封) 他喜欢的人：露易丝（表白过很多次） 他的妻子:露易丝（在大结局和露易丝结婚）】\n",
      "\n"
     ]
    }
   ],
   "source": [
    "from langchain.embeddings import HuggingFaceEmbeddings\n",
    "import sentence_transformers\n",
    "from langchain.vectorstores import FAISS\n",
    "\n",
    "embeddings = HuggingFaceEmbeddings(model_name=r'D:\\ml\\text2vec-large-chinese')\n",
    "embeddings.client=sentence_transformers.SentenceTransformer(embeddings.model_name,device=\"cuda\")\n",
    "\n",
    "vector_store=FAISS.load_local(faiss_path, embeddings)\n",
    "\n",
    "def get_bg_hint(context,max_text_len=500,k=25):\n",
    "    results=vector_store.similarity_search(context,top_k=k)[:k]\n",
    "    all_result_text=''\n",
    "    for result in results:\n",
    "        knowledge_item='【{0}】'.format(result.page_content)\n",
    "        if len(all_result_text)+len(knowledge_item)+1>max_text_len:\n",
    "            break\n",
    "        all_result_text=all_result_text+knowledge_item+'\\n'\n",
    "    return all_result_text\n",
    "\n",
    "dialogue='才人：起床了！\\n路易斯：'\n",
    "bg_hint=get_bg_hint(dialogue,max_text_len=500)\n",
    "print(bg_hint)\n",
    "# # llm(bg_hint+'\\n请扮演路易斯\\n'+dialogue)"
   ]
  },
  {
   "cell_type": "code",
   "execution_count": 31,
   "metadata": {},
   "outputs": [
    {
     "data": {
      "application/vnd.jupyter.widget-view+json": {
       "model_id": "14e503ea128942ce84cba5ee08f950ab",
       "version_major": 2,
       "version_minor": 0
      },
      "text/plain": [
       "  0%|          | 0/544 [00:00<?, ?it/s]"
      ]
     },
     "metadata": {},
     "output_type": "display_data"
    },
    {
     "name": "stdout",
     "output_type": "stream",
     "text": [
      "才人因思念家乡而流泪，被路易丝发现。才人表示想回到地球，路易丝认为这是她的错，但她必须按照贵族的规矩对待才人。才人请求路易丝帮助她找回家的路，路易丝答应了。才人问如果找不到怎么办，路易丝表示会一直帮助她。两人互相讽刺对方的感情问题，但最终路易丝表示丘鲁克爱上了才人，两人都不再说话。\n",
      "【露易丝 性格易怒，容易骂人，有点糊涂（跟才人比），为了小事常常生气。 动画第三期中为救出塔巴萨而放弃贵族身份，但被公主赏识，成为王位继承人。喜欢平贺才人。】\n",
      "【丘鲁克 露易丝的同学，但和露易丝的关系非常不好。 泽鲁普斯特家和瓦里埃尔家可以说是世仇，泽鲁普斯特家的人有者以“世世代代都夺走了瓦里埃尔家人的恋人”为自豪的特殊自信。】\n",
      "【丘鲁克 丘鲁克·奥古斯都·菲列特利加·封·安哈尔特·泽鲁普斯特 露易丝的同学，但和露易丝的关系非常不好。】\n",
      "\n",
      "小说片段讲述了威尔士和才人的对话，威尔士坚定地认为他们必须展现勇气和名誉，以证明哈鲁克吉尼亚王家并不是弱敌。尽管才人无法理解，但威尔士认为这是王家出生的人的义务。才人提到特雷丝特因的公主殿下深爱着威尔士，但威尔士认为逃亡只会给贵族派们找到进攻的借口。最后，威尔士告诉才人，只要传达给公主殿下他勇敢地战斗了，勇敢地牺牲了，就够了。瓦尔德告诉才人有件事必须告诉他，但具体内容未知。\n",
      "【谢斯塔 学院里服侍贵族学生和一切杂役的女仆，在故事刚登场时与大部分的平民一样畏惧者贵族，在目睹才人再与基修的决斗中英勇的表现，不但有了不再对贵族畏惧的勇气，也因而对才人产生了爱慕之心。】\n",
      "【平贺才人 在哈尔凯尼亚的名字为才人·修瓦里埃（chevalier见习骑士）·杜·平贺·杜·奥尔尼埃尔（奥尔尼埃尔为才人的封地——一个荒凉、从前托里斯汀王藏情人的地方）。】\n",
      "【阿尔比昂 因此，为了不让哈尔凯尼亚出现下一个“漂浮的岛屿”，危及人民的安全，所以希望才人们愿意加入圣战，集合4位虚无使者并夺回圣地。】\n",
      "\n",
      "士兵们欢呼着发现了硫磺，老贵族感慨着能够保护王国的名誉。威尔士得到了叛军进攻的情报，感到高兴。路易丝等人被介绍为来自特雷丝特因的大使，被邀请参加小型喜宴。他们进入威尔士的房间，发现他的房间非常朴素，但有一个镶嵌着宝石的小箱子，里面有安莉艾塔公主的肖像。\n",
      "【安丽埃塔 在小说第四集绑架事件落幕后，安丽埃塔对于数次拯救她和国家危机的才人逐渐倾心，在第4部动画里曾用魔法镜子到才人密室而跟才人接吻，也让露易丝和谢丝坦感受到严重的危机威胁。】\n",
      "【安丽埃塔 上船为安丽埃塔,动画为露易丝)，也非常反对教皇的圣战计划，不过再看过“大爆发”的漂浮岛屿后，决定全力帮助教皇的圣战。】\n",
      "【露易丝 性格易怒，容易骂人，有点糊涂（跟才人比），为了小事常常生气。 动画第三期中为救出塔巴萨而放弃贵族身份，但被公主赏识，成为王位继承人。喜欢平贺才人。】\n",
      "\n"
     ]
    }
   ],
   "source": [
    "from tqdm.auto import tqdm\n",
    "for iChunk,chunk in tqdm(chunks.items(), total=len(chunks)):\n",
    "    chunk['bg_hint']=get_bg_hint(chunk['summary'],max_text_len=int(max_bg_tokens/token_per_char))\n",
    "    \n",
    "for chunk in random.sample(list(chunks.values()), 3):\n",
    "    print(chunk['summary'])\n",
    "    print(chunk['bg_hint'])"
   ]
  },
  {
   "attachments": {},
   "cell_type": "markdown",
   "metadata": {},
   "source": [
    "# 生成训练数据"
   ]
  },
  {
   "attachments": {},
   "cell_type": "markdown",
   "metadata": {},
   "source": [
    "### 跑团式的回复文本"
   ]
  },
  {
   "cell_type": "code",
   "execution_count": 15,
   "metadata": {},
   "outputs": [
    {
     "data": {
      "application/vnd.jupyter.widget-view+json": {
       "model_id": "0d17604de72947fc9d0973e2507047c3",
       "version_major": 2,
       "version_minor": 0
      },
      "text/plain": [
       "  0%|          | 0/8173 [00:00<?, ?it/s]"
      ]
     },
     "metadata": {},
     "output_type": "display_data"
    }
   ],
   "source": [
    "rename_map=json.load(open(rename_map_path, 'r', encoding='utf-8'), encoding='utf-8')\n",
    "\n",
    "def generate_line(item):\n",
    "    if 'info' in item:\n",
    "        return '【'+item['info']+'】'\n",
    "    if 'char' in item:\n",
    "        char=rename_map.get(item['char'], item['char'])\n",
    "        if 'act' in item:\n",
    "            return char+'：'+'\\\\me '+item['act']\n",
    "        emoji_text=('\\\\emoji '+item['emoji']) if 'emoji' in item else ''\n",
    "        say_text=item['say'] if 'say' in item else ''\n",
    "        think_text=('（'+item['think']+'）' if '（' not in item['think'] else item['think']) if 'think' in item else ''\n",
    "        return char+'：'+say_text+think_text+emoji_text\n",
    "    \n",
    "def generate_chapter_title(title):\n",
    "    return '='*10+title+'='*10\n",
    "\n",
    "all_log_text=''\n",
    "prev_chapter_id=None\n",
    "for item in tqdm(all_content):\n",
    "    chunk=chunks[item['src_id']]\n",
    "    if prev_chapter_id!=chunk['chapter_id']:\n",
    "        all_log_text+=generate_chapter_title(chunk['title'])+'\\n'\n",
    "        prev_chapter_id=chunk['chapter_id']\n",
    "    line=generate_line(item)\n",
    "    if line is not None:\n",
    "        all_log_text+=line+'\\n'\n",
    "\n",
    "with open(text_log_path, 'w', encoding='utf-8') as f:\n",
    "    f.write(all_log_text)"
   ]
  },
  {
   "attachments": {},
   "cell_type": "markdown",
   "metadata": {},
   "source": [
    "### 生成给定位置看到的跑团记录"
   ]
  },
  {
   "cell_type": "code",
   "execution_count": null,
   "metadata": {},
   "outputs": [],
   "source": []
  },
  {
   "cell_type": "code",
   "execution_count": null,
   "metadata": {},
   "outputs": [],
   "source": []
  },
  {
   "cell_type": "code",
   "execution_count": null,
   "metadata": {},
   "outputs": [],
   "source": []
  },
  {
   "cell_type": "code",
   "execution_count": 80,
   "metadata": {},
   "outputs": [
    {
     "name": "stdout",
     "output_type": "stream",
     "text": [
      "mode=none\n",
      "''\n",
      "mode=prev_dialogue\n"
     ]
    },
    {
     "data": {
      "text/html": [
       "<pre style=\"white-space:pre;overflow-x:auto;line-height:normal;font-family:Menlo,'DejaVu Sans Mono',consolas,'Courier New',monospace\"><span style=\"color: #800000; text-decoration-color: #800000\">╭─────────────────────────────── </span><span style=\"color: #800000; text-decoration-color: #800000; font-weight: bold\">Traceback </span><span style=\"color: #bf7f7f; text-decoration-color: #bf7f7f; font-weight: bold\">(most recent call last)</span><span style=\"color: #800000; text-decoration-color: #800000\"> ────────────────────────────────╮</span>\n",
       "<span style=\"color: #800000; text-decoration-color: #800000\">│</span> in <span style=\"color: #00ff00; text-decoration-color: #00ff00\">&lt;module&gt;</span>:<span style=\"color: #0000ff; text-decoration-color: #0000ff\">34</span>                                                                                   <span style=\"color: #800000; text-decoration-color: #800000\">│</span>\n",
       "<span style=\"color: #800000; text-decoration-color: #800000\">│</span> in <span style=\"color: #00ff00; text-decoration-color: #00ff00\">generate_history_text</span>:<span style=\"color: #0000ff; text-decoration-color: #0000ff\">3</span>                                                                       <span style=\"color: #800000; text-decoration-color: #800000\">│</span>\n",
       "<span style=\"color: #800000; text-decoration-color: #800000\">│</span> in <span style=\"color: #00ff00; text-decoration-color: #00ff00\">generate_history_text</span>:<span style=\"color: #0000ff; text-decoration-color: #0000ff\">11</span>                                                                      <span style=\"color: #800000; text-decoration-color: #800000\">│</span>\n",
       "<span style=\"color: #800000; text-decoration-color: #800000\">╰──────────────────────────────────────────────────────────────────────────────────────────────────╯</span>\n",
       "<span style=\"color: #ff0000; text-decoration-color: #ff0000; font-weight: bold\">NameError: </span>name <span style=\"color: #008000; text-decoration-color: #008000\">'generate_response_text'</span> is not defined\n",
       "</pre>\n"
      ],
      "text/plain": [
       "\u001b[31m╭─\u001b[0m\u001b[31m──────────────────────────────\u001b[0m\u001b[31m \u001b[0m\u001b[1;31mTraceback \u001b[0m\u001b[1;2;31m(most recent call last)\u001b[0m\u001b[31m \u001b[0m\u001b[31m───────────────────────────────\u001b[0m\u001b[31m─╮\u001b[0m\n",
       "\u001b[31m│\u001b[0m in \u001b[92m<module>\u001b[0m:\u001b[94m34\u001b[0m                                                                                   \u001b[31m│\u001b[0m\n",
       "\u001b[31m│\u001b[0m in \u001b[92mgenerate_history_text\u001b[0m:\u001b[94m3\u001b[0m                                                                       \u001b[31m│\u001b[0m\n",
       "\u001b[31m│\u001b[0m in \u001b[92mgenerate_history_text\u001b[0m:\u001b[94m11\u001b[0m                                                                      \u001b[31m│\u001b[0m\n",
       "\u001b[31m╰──────────────────────────────────────────────────────────────────────────────────────────────────╯\u001b[0m\n",
       "\u001b[1;91mNameError: \u001b[0mname \u001b[32m'generate_response_text'\u001b[0m is not defined\n"
      ]
     },
     "metadata": {},
     "output_type": "display_data"
    }
   ],
   "source": [
    "\n",
    "\n",
    "def generate_history_text(content:'list[dict]',mode='full',max_history_tokens=max_history_tokens,bg_hint_num=0):\n",
    "    if bg_hint_num>0:\n",
    "        tmp_history_text=generate_history_text(content,mode='full',max_history_tokens=max_history_tokens,bg_hint_num=0)\n",
    "        bg_hint_text=get_bg_hint(tmp_history_text,k=bg_hint_num)+'\\n'\n",
    "    else:\n",
    "        bg_hint_text=''\n",
    "    if mode=='full':\n",
    "        all_text=''\n",
    "        for item in content[-1::-1]:\n",
    "            if 'char' in item:\n",
    "                line=f'{item[\"char\"]}：'+generate_response_text(item)\n",
    "            elif 'info' in item:\n",
    "                line=f'【{item[\"info\"]}】'\n",
    "            else:\n",
    "                continue\n",
    "            if estimate_tokenized_length(bg_hint_text+all_text+line+'\\n')>max_history_tokens:\n",
    "                break\n",
    "            else:\n",
    "                all_text=line+'\\n'+all_text\n",
    "        return bg_hint_text+all_text\n",
    "    elif mode=='prev_dialogue':\n",
    "        for item in content[-1::-1]:\n",
    "            if 'char' in item and 'say' in item:\n",
    "                return bg_hint_text+item['say']+'\\n'\n",
    "        return ''\n",
    "    elif mode=='none':\n",
    "        return ''\n",
    "    else:\n",
    "        raise ValueError(f'Unknown mode: {mode}')\n",
    "\n",
    "print('mode=none')\n",
    "print(repr(generate_history_text(all_content[:331], mode='none')))\n",
    "print('mode=prev_dialogue')\n",
    "print(generate_history_text(all_content[:331], mode='prev_dialogue',bg_hint_num=3))\n",
    "print('mode=full')\n",
    "histoy_text=generate_history_text(all_content[:331], mode='full',bg_hint_num=2)\n",
    "print(histoy_text)\n",
    "\n",
    "all_history=generate_history_text(all_content, mode='full', max_history_tokens=1e99)\n",
    "with open(merged_history_path, 'w', encoding='utf-8') as f:\n",
    "    f.write(all_history)\n",
    "print('history text length (character):', len(all_history))\n",
    "print('saved history text to', merged_history_path)"
   ]
  },
  {
   "attachments": {},
   "cell_type": "markdown",
   "metadata": {},
   "source": [
    "### 生成训练条目\n",
    "\n",
    "我想让ChatGLM模型学习小说里的角色设定，并尝试扮演该角色。我准备的训练数据有。1.利用ChatGPT将小说文本转换成TRPG跑团记录格式。2.让ChatGPT阅读文本并生成对小说角色的模拟采访。\n",
    "\n",
    "可以选择在prompt中加入较长的历史上下文，或者只提供问句，甚至不提供。简单的训练（抱歉没有等到收敛）表明，如果不提供上下文让模型生成角色的下一步言行会让模型倾向于使用“嗯”，“好的”。一类的回答。这是因为在原则上没有足够找到正确答案的上下文信息时摆烂是最稳妥的。\n",
    "\n",
    "但是我希望模型能够尝试不依靠上下文提示自己记忆背景信息，可能即使有上下文时模型仍然需要记忆一些东西才可以生成正确的回复。\n",
    "\n",
    "我希望额外加入的问答训练能够帮助模型保持ChatGLM的智力。在使用ChatGPT蒸馏数据以微调ChatGLM时，这些问答数据确实是ChatGPT仅仅根据窗口中的上下文推断出来的。那么是否应该把窗口中的上下文包括在prompt中呢？ChatGPT建议保持上下文信息数量适当可防止模型过度依赖上下文。"
   ]
  },
  {
   "cell_type": "code",
   "execution_count": 11,
   "metadata": {},
   "outputs": [
    {
     "data": {
      "text/plain": [
       "{'respondent': '玩偶',\n",
       " 'ask': '你们觉得我和铁珠的关系怎么样？',\n",
       " 'answer': '我们是密不可分的伙伴，一起立功。',\n",
       " 'src_id': 2}"
      ]
     },
     "execution_count": 11,
     "metadata": {},
     "output_type": "execute_result"
    }
   ],
   "source": [
    "all_interview[13]"
   ]
  },
  {
   "cell_type": "code",
   "execution_count": 12,
   "metadata": {},
   "outputs": [
    {
     "data": {
      "text/html": [
       "<pre style=\"white-space:pre;overflow-x:auto;line-height:normal;font-family:Menlo,'DejaVu Sans Mono',consolas,'Courier New',monospace\"><span style=\"color: #800000; text-decoration-color: #800000\">╭─────────────────────────────── </span><span style=\"color: #800000; text-decoration-color: #800000; font-weight: bold\">Traceback </span><span style=\"color: #bf7f7f; text-decoration-color: #bf7f7f; font-weight: bold\">(most recent call last)</span><span style=\"color: #800000; text-decoration-color: #800000\"> ────────────────────────────────╮</span>\n",
       "<span style=\"color: #800000; text-decoration-color: #800000\">│</span> in <span style=\"color: #00ff00; text-decoration-color: #00ff00\">&lt;module&gt;</span>:<span style=\"color: #0000ff; text-decoration-color: #0000ff\">1</span>                                                                                    <span style=\"color: #800000; text-decoration-color: #800000\">│</span>\n",
       "<span style=\"color: #800000; text-decoration-color: #800000\">╰──────────────────────────────────────────────────────────────────────────────────────────────────╯</span>\n",
       "<span style=\"color: #ff0000; text-decoration-color: #ff0000; font-weight: bold\">AssertionError: </span>TODO optimize faiss search\n",
       "</pre>\n"
      ],
      "text/plain": [
       "\u001b[31m╭─\u001b[0m\u001b[31m──────────────────────────────\u001b[0m\u001b[31m \u001b[0m\u001b[1;31mTraceback \u001b[0m\u001b[1;2;31m(most recent call last)\u001b[0m\u001b[31m \u001b[0m\u001b[31m───────────────────────────────\u001b[0m\u001b[31m─╮\u001b[0m\n",
       "\u001b[31m│\u001b[0m in \u001b[92m<module>\u001b[0m:\u001b[94m1\u001b[0m                                                                                    \u001b[31m│\u001b[0m\n",
       "\u001b[31m╰──────────────────────────────────────────────────────────────────────────────────────────────────╯\u001b[0m\n",
       "\u001b[1;91mAssertionError: \u001b[0mTODO optimize faiss search\n"
      ]
     },
     "metadata": {},
     "output_type": "display_data"
    }
   ],
   "source": [
    "assert False, 'TODO optimize faiss search'"
   ]
  },
  {
   "cell_type": "code",
   "execution_count": 27,
   "metadata": {},
   "outputs": [
    {
     "data": {
      "application/vnd.jupyter.widget-view+json": {
       "model_id": "aa6be3dbb0044bfda0d897aab3d69e31",
       "version_major": 2,
       "version_minor": 0
      },
      "text/plain": [
       "  0%|          | 0/22765 [00:00<?, ?it/s]"
      ]
     },
     "metadata": {},
     "output_type": "display_data"
    },
    {
     "name": "stdout",
     "output_type": "stream",
     "text": [
      "Total generated data: 12684\n"
     ]
    },
    {
     "data": {
      "application/vnd.jupyter.widget-view+json": {
       "model_id": "ed28feb039b94396a74e1d3bd5a08a27",
       "version_major": 2,
       "version_minor": 0
      },
      "text/plain": [
       "  0%|          | 0/8319 [00:00<?, ?it/s]"
      ]
     },
     "metadata": {},
     "output_type": "display_data"
    },
    {
     "name": "stdout",
     "output_type": "stream",
     "text": [
      "Total generated data: 7576\n"
     ]
    }
   ],
   "source": [
    "from tqdm.auto import tqdm\n",
    "def get_rp_task(all_content,history_mode='full',bg_hint_num=2,max_history_tokens=max_history_tokens,use_dm_prompt=True):\n",
    "    train_data=[]\n",
    "    for iItem, item in tqdm(list(enumerate(all_content))):\n",
    "        if 'char' in item:\n",
    "            char=rename_map.get(item['char'], item['char'])\n",
    "            if char in selected_char:\n",
    "                if 'say' in item or ('think' in item and include_think) or ('act' in item and include_act):\n",
    "                    response_text=generate_response_text(item)\n",
    "                    history_text=generate_history_text(all_content[:iItem],mode=history_mode,max_history_tokens=max_history_tokens,bg_hint_num=bg_hint_num)\n",
    "                    dm_prompt=generate_dm_prompt(item) if use_dm_prompt else ''\n",
    "                    prompt_text=history_text+dm_prompt+char+'：'\n",
    "                    # prompt_text_tokenized_length=get_tokenized_length(prompt_text)\n",
    "                    # assert prompt_text_tokenized_length<=max_prompt_tokens, f'prompt_text_tokenized_length={prompt_text_tokenized_length} > max_prompt_length={max_prompt_tokens}'\n",
    "                    prompt_text,prompt_tokenized_length=clamp_by_tokenizer(prompt_text, max_prompt_tokens, return_length=True)\n",
    "                    response_tokenized_length=get_tokenized_length(response_text)\n",
    "                    train_data.append({'char':char, 'response': response_text,'prompt': prompt_text,'task':'rp','src_id':iItem,'prompt_tokenized_length':prompt_tokenized_length,'response_tokenized_length':response_tokenized_length})\n",
    "    print('Total generated data:', len(train_data))\n",
    "    return train_data\n",
    "\n",
    "\n",
    "# {'respondent': '玩偶',\n",
    "#  'ask': '你们觉得我和铁珠的关系怎么样？',\n",
    "#  'answer': '我们是密不可分的伙伴，一起立功。',\n",
    "#  'id': 2}\n",
    "\n",
    "def find_content_with_id(id):\n",
    "    for content in contents:\n",
    "        if 'id' in content and content['id']==id:\n",
    "            return content\n",
    "    return None\n",
    "\n",
    "def get_inteview_task(all_interview,history_mode='full',bg_hint_num=2,max_history_tokens=max_history_tokens):\n",
    "    train_data=[]\n",
    "    for iItem, item in tqdm(list(enumerate(all_interview))):\n",
    "        content=find_content_with_id(item['src_id'])['content']\n",
    "        assert content is not None, f'Cannot find content with id={item[\"id\"]}'\n",
    "        char=rename_map.get(item['respondent'], item['respondent'])\n",
    "        if char in selected_char:\n",
    "            response_text=item['answer']\n",
    "            history_text=generate_history_text(content,mode=history_mode,max_history_tokens=max_history_tokens,bg_hint_num=bg_hint_num)\n",
    "            interviewer_prompt=f'{get_random_inteviewer_name()}：{item[\"ask\"]}\\n'\n",
    "            prompt_text=history_text+interviewer_prompt+char+'：'\n",
    "            # prompt_text_tokenized_length=get_tokenized_length(prompt_text)\n",
    "            # assert prompt_text_tokenized_length<=max_prompt_tokens, f'prompt_text_tokenized_length={prompt_text_tokenized_length} > max_prompt_length={max_prompt_tokens}'\n",
    "            prompt_text,prompt_tokenized_length=clamp_by_tokenizer(prompt_text, max_prompt_tokens, return_length=True)\n",
    "            response_tokenized_length=get_tokenized_length(response_text)\n",
    "            train_data.append({'char':char, 'response': response_text,'prompt': prompt_text,'task':'interview','src_id':iItem,'prompt_tokenized_length':prompt_tokenized_length,'response_tokenized_length':response_tokenized_length})\n",
    "    print('Total generated data:', len(train_data))\n",
    "    return train_data\n",
    "\n",
    "\n",
    "random.seed(42)\n",
    "train_data=[]\n",
    "train_data+=get_rp_task(all_content, history_mode='full',bg_hint_num=bg_hint_num, use_dm_prompt=False)\n",
    "if include_interview:\n",
    "    train_data+=get_inteview_task(all_interview, history_mode='full',bg_hint_num=bg_hint_num)\n"
   ]
  },
  {
   "cell_type": "code",
   "execution_count": 28,
   "metadata": {},
   "outputs": [
    {
     "data": {
      "text/plain": [
       "<Figure size 500x200 with 0 Axes>"
      ]
     },
     "metadata": {},
     "output_type": "display_data"
    },
    {
     "data": {
      "image/png": "[encoded data removed]",
      "text/plain": [
       "<Figure size 500x200 with 1 Axes>"
      ]
     },
     "metadata": {},
     "output_type": "display_data"
    },
    {
     "data": {
      "image/png": "[encoded data removed]",
      "text/plain": [
       "<Figure size 500x200 with 1 Axes>"
      ]
     },
     "metadata": {},
     "output_type": "display_data"
    }
   ],
   "source": [
    "import matplotlib.pyplot as plt\n",
    "\n",
    "# see prompt length distribution\n",
    "plt.figure(figsize=(5, 2))\n",
    "plt.hist([item['prompt_tokenized_length'] for item in train_data], bins=np.logspace(0, 4, 50))\n",
    "plt.xscale('log');plt.xlabel('length');plt.ylabel('count');plt.title('prompt length distribution');plt.show()\n",
    "\n",
    "# see response length distribution\n",
    "plt.figure(figsize=(5, 2))\n",
    "plt.hist([item['response_tokenized_length'] for item in train_data], bins=np.logspace(0, 4, 50))\n",
    "plt.xscale('log');plt.xlabel('length');plt.ylabel('count');plt.title('response length distribution');plt.show()"
   ]
  },
  {
   "attachments": {},
   "cell_type": "markdown",
   "metadata": {},
   "source": [
    "### 调整数据频率"
   ]
  },
  {
   "cell_type": "code",
   "execution_count": 43,
   "metadata": {},
   "outputs": [
    {
     "name": "stdout",
     "output_type": "stream",
     "text": [
      "成这样？自己是不是也会变成这样？)\n",
      "【深蓝色火粉沾在他们身上】\n",
      "记者：你们为什么要寻找我？\n",
      "玛琼琳：》》我不知道，他们只是内心有一股冲动驱使他们去寻找我。\n",
      "\n",
      "内，形貌便能‘自在’显现。\n",
      "悠二：呼~恩，确实只要一提到与火有关的魔神，通常都回带着刀或剑。\n",
      "悠二：》》(他对于‘魔神’的印象顶多是来自在国营电视台看过的不动明王，或者是过去不知名的特效电影中所出现的陶俑那一类的程度而已。)\n",
      "\n",
      "… \\emoji 害羞\n",
      "悠二：吉田同学？ \\emoji 惊讶\n",
      "【夏娜是个火雾战士，比较冷淡】\n",
      "吉田：》》那……那个，小缘，刚刚，体育课的时候，真……谢谢你。 \\emoji 害羞\n",
      "\n",
      "涉别人的行动了？】\n",
      "【既然左右双翼已经断了，那家伙也到此为止了】\n",
      "评论员：你在回忆什么？\n",
      "火雾战士：》》我在回忆一场兵荒马乱的战斗，一身黑衣飘扬的女子慢条斯理地说道：到这里就够了，接下来由我跟亚拉斯特尔来处理。\n",
      "\n",
      "想，应该是我所编写的调音自在法，受到某种干扰的结果\n",
      "【玛琼琳和某人在讨论扭曲现象的来源】\n",
      "贝海默特：》》呼嗯，看来是这样没错，事实上，我们也大致猜到是哪个‘使徒’会做出这种事。\n",
      "\n",
      "……那个，请问……\n",
      "魔神：怎么了，还不快跑！\n",
      "悠二：\\me 横越马路\n",
      "悠二：\\me 跑上堤防\n",
      "悠二：》》(一想到曾经在这里欣赏到的美景，这分差事便不觉得辛苦)\n",
      "\n",
      "。】\n",
      "梅利希姆：对，就像这样。\n",
      "少女：！\n",
      "少女：\\me 感觉到梅利希姆体内凝聚了‘两股’力量\n",
      "夏娜：》》(攻击力逐渐增强当中——)\n",
      "\n",
      "…然后破坏现在这层才开始建立关系的话……)\n",
      "【主角意识到自己的懦弱和半吊子的觉悟，感到自责】\n",
      "主角：》》(自己对于坂井悠二繁荣感情，难道脆弱到仅仅因为内心一个忧虑，就准备打退堂鼓了吗？)\n",
      "\n",
      "中燃烧着一团炽盛火焰，底部没有燃料，只有一个银制的空水盘】\n",
      "问询人：你为什么要成为火雾战士？\n",
      "夏娜：》》我一开始就是为了成为火雾战士而活，而且自己并没有感到任何不满，这一切她都明白。同时也在学习之中得知，成为火雾战士就不再是人类，永无至尽的战斗之路，以及战斗这件事情本身。尽管内心对于这一切怀抱着不安、恐惧、踌躇，却还是充满了坚强、冀望、渴求与决心。\n",
      "\n",
      "了！\n",
      "夏娜：\\me 灌输翅膀的力量，加速前进\n",
      "【巨狼踩碎大楼崩坍的屋顶，瓦砾掉落在两人头上】\n",
      "巨狼：》》咆噢噢噢噢噢噢噢噢噢！！\n",
      "\n"
     ]
    }
   ],
   "source": [
    "\n",
    "def adjust_data_frequency(train_data):\n",
    "    for item in train_data:\n",
    "        frequency=1\n",
    "        if len(item['response'])<5:\n",
    "            frequency=0.1\n",
    "        elif len(item['response'])<10:\n",
    "            frequency=0.2\n",
    "        elif len(item['response'])<20:\n",
    "            frequency=1\n",
    "        elif len(item['response'])<50:\n",
    "            frequency=2\n",
    "        else:\n",
    "            frequency=5\n",
    "        if item['task']=='interview':\n",
    "            frequency*=len(all_content)/len(all_interview)/roleplay_propotion*interview_propotion\n",
    "        frequency*=1\n",
    "        for _i in range(int(frequency)):\n",
    "            yield item    \n",
    "\n",
    "train_data_argumented=list(adjust_data_frequency(train_data))\n",
    "\n",
    "\n",
    "\n",
    "for item in random.sample(train_data_argumented, 10):\n",
    "    print(item['prompt'][-50:], end='》》')\n",
    "    print(item['response'])\n",
    "    print()\n",
    "\n",
    "\n",
    "    \n",
    "import random\n",
    "random.seed(42)\n",
    "random.shuffle(train_data_argumented)"
   ]
  },
  {
   "attachments": {},
   "cell_type": "markdown",
   "metadata": {},
   "source": [
    "### 保存训练数据到json"
   ]
  },
  {
   "cell_type": "code",
   "execution_count": 44,
   "metadata": {},
   "outputs": [
    {
     "name": "stdout",
     "output_type": "stream",
     "text": [
      "Saved to ./train.json\n",
      "Total train data: 31640\n",
      "Saved to ./test.json\n",
      "Total test data: 200\n"
     ]
    }
   ],
   "source": [
    "#pick test data randomly\n",
    "output_test_data=random.sample(train_data_argumented, test_data_size)\n",
    "\n",
    "# remove test data from train data\n",
    "output_train_data=[item for item in train_data_argumented if item not in output_test_data]\n",
    "\n",
    "json.dump(output_train_data, open(train_data_path, 'w', encoding='utf-8'), ensure_ascii=False, indent=2)\n",
    "print('Saved to', train_data_path)\n",
    "print('Total train data:', len(output_train_data))\n",
    "import random\n",
    "random.seed(42)\n",
    "\n",
    "json.dump(output_test_data, open(test_data_path, 'w', encoding='utf-8'), ensure_ascii=False, indent=2)\n",
    "print('Saved to', test_data_path)\n",
    "print('Total test data:', len(output_test_data))"
   ]
  },
  {
   "cell_type": "code",
   "execution_count": null,
   "metadata": {},
   "outputs": [],
   "source": []
  },
  {
   "cell_type": "code",
   "execution_count": null,
   "metadata": {},
   "outputs": [],
   "source": []
  },
  {
   "cell_type": "code",
   "execution_count": null,
   "metadata": {},
   "outputs": [],
   "source": []
  },
  {
   "cell_type": "code",
   "execution_count": null,
   "metadata": {},
   "outputs": [],
   "source": []
  },
  {
   "cell_type": "markdown",
   "metadata": {},
   "source": [
    "# trash code"
   ]
  },
  {
   "cell_type": "code",
   "execution_count": null,
   "metadata": {},
   "outputs": [
    {
     "name": "stdout",
     "output_type": "stream",
     "text": [
      "{'char': '悠二', 'act': '被甩来甩去，受到音波挤压翻搅', 'src_id': 264}\n",
      "{'info': '各俱乐部和班级也将各种模拟店的摊子摆了起来，展示的摊位一直向学校外面的大路上延伸开去。', 'src_id': 1634}\n",
      "{'char': '男子', 'say': '想打倒我千变修德南，还嫌太嫩！', 'src_id': 394}\n",
      "{'info': '成为一个真正的敌人', 'src_id': 614}\n",
      "{'info': '蒂丽亚把这个反应视为完全放弃挣扎，于是志得意满的宣布处刑方式：', 'src_id': 456}\n",
      "{'char': '悠二', 'think': '对于之前好不容易克服了痛苦至极的烦恼才向吉田表明的秘密，现在居然随随便便公开宣扬的状况感到全身无力。', 'src_id': 848}\n",
      "{'char': 'unknown', 'think': '只要是他塑造出来的妄想一律满足，许他恣意玩乐。', 'src_id': 1596}\n",
      "{'char': '佐腾启作', 'expression': '惊讶', 'say': '坂井你那副打扮是怎么回事.?', 'src_id': 909}\n",
      "{'info': '千草一副惊异的样子，把手掌贴在自己的脸上', 'src_id': 1041}\n",
      "{'char': 'unknown', 'say': '哈哈哈哈', 'src_id': 1098}\n",
      "Total content chunks: 1650\n",
      "Total items: 22765\n"
     ]
    }
   ],
   "source": [
    "# import json,random\n",
    "# from glob import glob\n",
    "\n",
    "\n",
    "# def purge_content1(content):\n",
    "#     for item in content:\n",
    "#         if 'char' in item:\n",
    "#             char_and_exp={'char':item['char']}\n",
    "#             if 'expression' in item:\n",
    "#                 char_and_exp['expression']=item['expression']\n",
    "#             if 'say' in item and item['say'] is not None and len(item['say'])>0:\n",
    "#                 yield {**char_and_exp, 'say': item['say']}\n",
    "#             if 'think' in item and item['think'] is not None and len(item['think'])>0:\n",
    "#                 yield {'char': item['char'], 'think': item['think']}\n",
    "#             if 'act' in item and item['act'] is not None and len(item['act'])>0:\n",
    "#                 yield {**char_and_exp,  'act': item['act']}\n",
    "#             # if not any(k in item for k in ['say', 'think', 'act']):\n",
    "#             #     yield char_and_exp\n",
    "#         if 'info' in item:\n",
    "#             yield {'info': item['info']}\n",
    "\n",
    "# # combine continuous say\n",
    "# def purge_content2(content):\n",
    "#     prev_item={}\n",
    "#     for item in content:\n",
    "#         if 'say' in item:\n",
    "#             if 'say' in prev_item and item.get('char', 'ERROR1')==prev_item.get('char', 'ERROR2'):\n",
    "#                 prev_item['say']+=item['say']\n",
    "#                 continue\n",
    "#         if len(prev_item)>0:\n",
    "#             yield prev_item\n",
    "#         prev_item=item\n",
    "#     if len(prev_item)>0:\n",
    "#         yield prev_item\n",
    "\n",
    "# def purge_content(content):\n",
    "#     return purge_content2(purge_content1(content))\n",
    "\n",
    "# contents=[]\n",
    "# for path in glob(f'{cache_dir}/LOG_RESPONSE_*.json'):\n",
    "#     with open(path, 'r', encoding='utf-8') as f:\n",
    "#         try:\n",
    "#             content=json.load(f)\n",
    "#             content['content']=list(purge_content(content['content']))\n",
    "#             content['id']=int(path.split('_')[-1].split('.')[0])\n",
    "#             for item in content['content']:\n",
    "#                 item['src_id']=content['id']\n",
    "#             contents.append(content)\n",
    "#         except Exception as e:\n",
    "#             print('Error:', path, e)\n",
    "#             raise e\n",
    "# contents=sorted(contents, key=lambda x: x['id'])\n",
    "\n",
    "\n",
    "# all_content=[]\n",
    "# for content in contents:\n",
    "#     for item in content['content']:\n",
    "#         all_content.append(item)\n",
    "\n",
    "# for item in random.sample(all_content, 10):    \n",
    "#     print(item)\n",
    "    \n",
    "# print('Total content chunks:', len(contents))\n",
    "# print('Total items:', len(all_content))\n",
    "\n",
    "# json.dump(all_content, open(merged_content_path, 'w', encoding='utf-8'), ensure_ascii=False, indent=2)"
   ]
  },
  {
   "cell_type": "code",
   "execution_count": 45,
   "metadata": {},
   "outputs": [],
   "source": [
    "try:\n",
    "    del tokenizer,embeddings,vector_store\n",
    "except:\n",
    "    pass\n",
    "import torch\n",
    "torch.cuda.empty_cache()"
   ]
  },
  {
   "cell_type": "code",
   "execution_count": null,
   "metadata": {},
   "outputs": [],
   "source": [
    "!.\\train_roleplaying.bat"
   ]
  },
  {
   "cell_type": "code",
   "execution_count": null,
   "metadata": {},
   "outputs": [],
   "source": []
  },
  {
   "cell_type": "code",
   "execution_count": null,
   "metadata": {},
   "outputs": [],
   "source": []
  },
  {
   "cell_type": "code",
   "execution_count": null,
   "metadata": {},
   "outputs": [
    {
     "name": "stdout",
     "output_type": "stream",
     "text": [
      "在本卷中登场的‘穿彻之洞’亚纳贝尔古先生也是其中的一人吗？\n",
      "我知道。可是，这也是没办法的事啊？\n",
      "欢迎来到修罗之巷，战斗之庭，我的火雾战士。\n",
      "你啊！ \\emoji 大怒\n",
      "\\me 以一个漂亮的抛物线落下来，稳稳地站在周围略高一点的建筑物上\n",
      "悠二。你，是在我身边的存在。\n",
      "(我没什么资格教训宰相殿下了)\n",
      "啊啊，我来说明……对方所利用的应该是卡达修的血印——也就是我们用来调音的自在式吧，原本是让这个世界的运作朝着和谐的方向重新组合，不过目前看来，这个力量已经完全失去控制了。\n"
     ]
    }
   ],
   "source": [
    "import random\n",
    "\n",
    "def generate_response_text(item):\n",
    "    if not 'char' in item:\n",
    "        return ''\n",
    "    response=''\n",
    "    if 'act' in item:\n",
    "        response='\\me '+response+item['act']\n",
    "    elif 'say' in item:\n",
    "        response=response+item['say']\n",
    "    elif 'think' in item:\n",
    "        response='('+item['think']+')'\n",
    "    if 'emoji' in item:\n",
    "        response=response+f' \\\\emoji {item[\"emoji\"]}'\n",
    "    return response\n",
    "\n",
    "def generate_dm_prompt(item):\n",
    "    if 'act' in item:\n",
    "        dm_prompt='【你接下来要做什么？】\\n'\n",
    "    elif 'say' in item:\n",
    "        dm_prompt='【请发言】\\n'\n",
    "    elif 'think' in item:\n",
    "        dm_prompt='【你现在在想什么？】\\n'\n",
    "    else:\n",
    "        dm_prompt=''\n",
    "    return dm_prompt\n",
    "\n",
    "def get_random_inteviewer_name():\n",
    "    names = ['记者', '采访者', '用户', '问询人', '主持人', '调查员', '新闻工作者', '播报员', '评论员', '撰稿人', '媒体工作者', '采写员']\n",
    "    return random.choice(names)\n",
    "\n",
    "for item in random.sample(all_content, 10):\n",
    "    if 'char' in item:\n",
    "        print(generate_response_text(item))"
   ]
  }
 ],
 "metadata": {
  "kernelspec": {
   "display_name": "tensorflow",
   "language": "python",
   "name": "python3"
  },
  "language_info": {
   "codemirror_mode": {
    "name": "ipython",
    "version": 3
   },
   "file_extension": ".py",
   "mimetype": "text/x-python",
   "name": "python",
   "nbconvert_exporter": "python",
   "pygments_lexer": "ipython3",
   "version": "3.8.10"
  },
  "orig_nbformat": 4
 },
 "nbformat": 4,
 "nbformat_minor": 2
}
