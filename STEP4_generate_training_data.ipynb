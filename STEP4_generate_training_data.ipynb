{
 "cells": [
  {
   "cell_type": "markdown",
   "metadata": {},
   "source": [
    "# 环境变量"
   ]
  },
  {
   "cell_type": "code",
   "execution_count": 167,
   "metadata": {},
   "outputs": [],
   "source": [
    "output_dir='./output_zero/'\n",
    "faiss_path=output_dir+'faiss_index'\n",
    "distilled_log_dir=output_dir+'distilled_log/'\n",
    "char_freq_path=output_dir+'char_freq.json'\n",
    "rename_map_path=output_dir+'rename_map.json'\n",
    "all_chapters_path=output_dir+'all_chapters.json'\n",
    "\n",
    "# outputs\n",
    "merged_log_path=output_dir+'merged_log.json'\n",
    "text_log_path=output_dir+'merged_log.txt'\n",
    "unlabeled_expression_path=output_dir+'unlabeled_expression.json'\n",
    "expression_map_path=output_dir+'expression_map.json'\n",
    "rp_train_data_cache_path=output_dir+'train_rp.cache.json'\n",
    "rp_train_data_path=output_dir+'train_rp.json'\n",
    "\n",
    "token_per_char=0.65 # will be updated later\n",
    "max_llm_tokens=400\n",
    "max_prompt_tokens=350\n",
    "max_response_tokens=max_llm_tokens-max_prompt_tokens\n",
    "max_chaper_summary_tokens=100\n",
    "max_character_summary_tokens=100\n",
    "max_bg_hint_tokens=100\n",
    "\n",
    "\n",
    "tokenizer_name='D:\\ml\\chatglm-6b-int4-qe'\n",
    "\n",
    "\n",
    "# cache_dir='./.cache'\n",
    "# train_data_path='./train.json'\n",
    "# test_data_path='./test.json'\n",
    "# uncategorized_expression_path='./uncategorized_expression.json'\n",
    "# expression_map_path='./expression_map.json'\n",
    "# merged_content_path='./all_content.json'\n",
    "# merged_interview_path='./all_interview.json'\n",
    "# merged_history_path='./all_history.txt'\n",
    "# test_data_size=200\n",
    "# tokenizer_name='D:\\ml\\chatglm-6b-int4-qe'\n",
    "# roleplay_propotion=.7\n",
    "# interview_propotion=.3\n",
    "# include_act=False\n",
    "# include_think=False\n",
    "# include_interview=False\n",
    "\n",
    "# max_history_tokens=350\n",
    "# max_prompt_tokens=380\n",
    "# # bg_hint_num=2\n",
    "# bg_hint_num=0\n",
    "\n",
    "\n",
    "\n",
    "# output_dir='./output_shana/'\n",
    "\n",
    "# faiss_path=output_dir+'faiss_index'"
   ]
  },
  {
   "attachments": {},
   "cell_type": "markdown",
   "metadata": {},
   "source": [
    "# 邀请邻居家的小孩子来帮忙，这样可以加快训练速度"
   ]
  },
  {
   "cell_type": "code",
   "execution_count": 122,
   "metadata": {},
   "outputs": [
    {
     "name": "stdout",
     "output_type": "stream",
     "text": [
      "\u001b[91m请表演背唐诗\n",
      "\u001b[0m\u001b[94m往事知多少，小楼昨夜又东风。\n",
      "故国不堪回首月明中。\n",
      "雕栏玉砌应犹在，只是朱颜改。\n",
      "问君能有几多愁，恰似一江春水向东流。\u001b[0m\n"
     ]
    },
    {
     "data": {
      "text/plain": [
       "'往事知多少，小楼昨夜又东风。\\n故国不堪回首月明中。\\n雕栏玉砌应犹在，只是朱颜改。\\n问君能有几多愁，恰似一江春水向东流。'"
      ]
     },
     "execution_count": 122,
     "metadata": {},
     "output_type": "execute_result"
    }
   ],
   "source": [
    "from my_llm import llm_chatgpt as llm\n",
    "\n",
    "llm('请表演背唐诗\\n')"
   ]
  },
  {
   "attachments": {},
   "cell_type": "markdown",
   "metadata": {},
   "source": [
    "# 加载库"
   ]
  },
  {
   "cell_type": "code",
   "execution_count": 123,
   "metadata": {},
   "outputs": [
    {
     "data": {
      "image/png": "[encoded data removed]",
      "text/plain": [
       "<Figure size 640x480 with 1 Axes>"
      ]
     },
     "metadata": {},
     "output_type": "display_data"
    }
   ],
   "source": [
    "# run this to avoid chinese bug\n",
    "import matplotlib.pyplot as plt\n",
    "plt.plot([1,2,3,4])\n",
    "plt.show()\n",
    "import matplotlib\n",
    "# chinese\n",
    "matplotlib.rcParams['font.sans-serif'] = ['SimHei']"
   ]
  },
  {
   "cell_type": "code",
   "execution_count": 124,
   "metadata": {},
   "outputs": [],
   "source": [
    "import random,os,json\n",
    "from tqdm.auto import tqdm"
   ]
  },
  {
   "attachments": {},
   "cell_type": "markdown",
   "metadata": {},
   "source": [
    "# 校订人名"
   ]
  },
  {
   "cell_type": "code",
   "execution_count": 127,
   "metadata": {},
   "outputs": [],
   "source": [
    "rename_map=json.load(open(rename_map_path,encoding='utf-8'))\n",
    "# expression_map=json.load(open(expression_map_path,encoding='utf-8')) if os.path.exists(expression_map_path) else {}\n",
    "\n",
    "def revise_text(text):\n",
    "    for from_name,to_name in rename_map.items():\n",
    "        text=text.replace(from_name,to_name)\n",
    "    return text\n",
    "\n",
    "def revise_json_(obj):\n",
    "    if isinstance(obj,str):\n",
    "        return revise_text(obj)\n",
    "    if isinstance(obj,list):\n",
    "        return [revise_json_(item) for item in obj]\n",
    "    if isinstance(obj,dict):\n",
    "        return {revise_text(k):revise_json_(v) for k,v in obj.items()}\n",
    "    return obj"
   ]
  },
  {
   "cell_type": "markdown",
   "metadata": {},
   "source": [
    "# 加载所有章节总结\n"
   ]
  },
  {
   "cell_type": "code",
   "execution_count": 128,
   "metadata": {},
   "outputs": [
    {
     "name": "stdout",
     "output_type": "stream",
     "text": [
      "load 187 chapters\n"
     ]
    },
    {
     "data": {
      "text/plain": [
       "'露易丝 女主角，故事的重要人物，被才人拯救并得到了治愈 理解自己的感情，得救 被瓦尔德打败，心理困惑 拒绝瓦尔德的求婚，等待才人的救援'"
      ]
     },
     "execution_count": 128,
     "metadata": {},
     "output_type": "execute_result"
    }
   ],
   "source": [
    "all_chapters=json.load(open(all_chapters_path,encoding='utf-8'))\n",
    "all_chapters={int(k):revise_json_(v) for k,v in all_chapters.items()}\n",
    "print('load {} chapters'.format(len(all_chapters)))\n",
    "\n",
    "def find_chapter_id(chunk_id):\n",
    "    for iChapter,chapter in all_chapters.items():\n",
    "        if chunk_id in chapter['chunk_ids']:\n",
    "            return iChapter\n",
    "    return None\n",
    "\n",
    "def try_get_character_info(char,chapter_id):\n",
    "    char=rename_map.get(char,char)\n",
    "    chapter=all_chapters[chapter_id]\n",
    "    if 'characters' in chapter and char in chapter['characters']:\n",
    "        return chapter['characters'][char]\n",
    "    else:\n",
    "        return None\n",
    "    \n",
    "def generate_character_summary(char,chapter_id):\n",
    "    char=rename_map.get(char,char)\n",
    "    info=try_get_character_info(char,chapter_id)\n",
    "    if info is None:\n",
    "        return ''\n",
    "    summary=char\n",
    "    if 'role' in info:\n",
    "        summary+=' '+info['role']\n",
    "    if 'goal' in info:\n",
    "        summary+=' '+info['goal']\n",
    "    if 'obstacle' in info:\n",
    "        summary+=' '+info['obstacle']\n",
    "    if 'plan' in info:\n",
    "        summary+=' '+info['plan']\n",
    "    return summary\n",
    "\n",
    "generate_character_summary('露易丝',find_chapter_id(555))"
   ]
  },
  {
   "attachments": {},
   "cell_type": "markdown",
   "metadata": {},
   "source": [
    "# 加载并校对gpt返回的json跑团记录"
   ]
  },
  {
   "cell_type": "code",
   "execution_count": 129,
   "metadata": {},
   "outputs": [
    {
     "name": "stdout",
     "output_type": "stream",
     "text": [
      "Total content chunks: 1796\n",
      "Total items: 26181\n",
      "{'char': '丘尔可', 'src_id': 1557, 'chapter_id': 117, 'expression': '调侃', 'say': '像枪士队员什么的，全部烧了不就行了？', 'item_id': 22623}\n",
      "{'char': '露易丝', 'src_id': 774, 'chapter_id': 54, 'say': '这个...不行', 'item_id': 11260}\n",
      "{'info': '塔芭莎翻阅《伊瓦尔汀的勇者》这本书，回忆起母亲给她读这本书的情景。', 'src_id': 1551, 'chapter_id': 116, 'item_id': 22541}\n",
      "{'char': '露易丝', 'src_id': 1173, 'chapter_id': 85, 'act': '穿上黑猫服装', 'item_id': 16915}\n",
      "{'char': '露易丝', 'src_id': 604, 'chapter_id': 40, 'say': '这件衣服轻轻的穿上去很舒服。用什么来做的呢？', 'item_id': 9098}\n"
     ]
    }
   ],
   "source": [
    "import json,random\n",
    "from glob import glob\n",
    "import os\n",
    "\n",
    "chunks={}\n",
    "for path in glob(os.path.join(distilled_log_dir,'RESPONSE*.json')):\n",
    "    with open(path) as f:\n",
    "        chunk=json.load(f)\n",
    "        chunk_id=chunk['id']\n",
    "        chapter_id=find_chapter_id(chunk['id'])\n",
    "        assert chunk['chapter_id']==chapter_id\n",
    "        if 'content' in chunk and chunk['content']:\n",
    "            for item in chunk['content']:\n",
    "                item['src_id']=chunk['id']\n",
    "                item['chapter_id']=chapter_id\n",
    "        chunks[chunk_id]=chunk\n",
    "chunks=dict(sorted(chunks.items(), key=lambda item: item[0]))\n",
    "\n",
    "all_content=[item for chunk in chunks.values() if 'content' in chunk and chunk['content'] for item in chunk['content']]\n",
    "\n",
    "# # separate info, act into individual items\n",
    "def purge_content(all_content):\n",
    "    for item in all_content:\n",
    "        item={k:v for k,v in item.items() if v is not None}\n",
    "        item=revise_json_(item)\n",
    "\n",
    "        if 'info' in item:\n",
    "            info_str=item['info']\n",
    "            if 'expression' in item:\n",
    "                info_str=item['expression']+' '+info_str\n",
    "            if 'char' in item:\n",
    "                info_str=item['char']+' '+info_str\n",
    "            if 'src_id' not in item:\n",
    "                print(item)\n",
    "            yield {'info':info_str,'src_id':item['src_id'],'chapter_id':item['chapter_id']}\n",
    "        if 'char' in item:\n",
    "            base_info={'char':item['char'],'src_id':item['src_id'],'chapter_id':item['chapter_id']}\n",
    "            if 'expression' in item and item['expression']:\n",
    "                base_info['expression']=item['expression']\n",
    "            if 'act' in item and item['act']:\n",
    "                yield {**base_info,'act':item['act']}\n",
    "            else:\n",
    "                if 'think' in item and item['think']:\n",
    "                    base_info['think']=item['think']\n",
    "                if 'say' in item and item['say']:\n",
    "                    base_info['say']=item['say']\n",
    "                if 'think' in base_info or 'say' in base_info:\n",
    "                    yield base_info\n",
    "\n",
    "all_content=list(purge_content(all_content))\n",
    "for iItem,item in enumerate(all_content):\n",
    "    item['item_id']=iItem\n",
    "\n",
    "all_content[:10]\n",
    "\n",
    "print('Total content chunks:', len(chunks))\n",
    "print('Total items:', len(all_content))\n",
    "\n",
    "json.dump(all_content, open(merged_log_path, 'w', encoding='utf-8'), ensure_ascii=False, indent=2)\n",
    "for item in random.sample(all_content,5):\n",
    "    print(item)"
   ]
  },
  {
   "cell_type": "markdown",
   "metadata": {},
   "source": [
    "# 提取表情，使用gpt聚类"
   ]
  },
  {
   "cell_type": "code",
   "execution_count": 130,
   "metadata": {},
   "outputs": [
    {
     "name": "stdout",
     "output_type": "stream",
     "text": [
      "unlabeled_expression_freq: {'惊讶': 443, '愤怒': 199, '惊恐': 106, '微笑': 102, '生气': 98, '得意': 69, '不满': 67, '冷漠': 66, '疑惑': 62, '痛苦': 54, '害羞': 54, '紧张': 52, '颤抖': 52, '哭泣': 50, '困惑': 47, '尴尬': 46, '悲伤': 45, '坚定': 43, '高兴': 41, '兴奋': 41, '点头': 39, '认真': 39, '羞涩': 36, '好奇': 35, '犹豫': 34, '严肃': 32, '自信': 32, '沉默': 30, '无奈': 28, '担忧': 26, '感动': 26, '害怕': 25, '慌张': 25, '担心': 25, '摇头': 24, '思考': 23, '瞪眼': 22, '温柔': 22, '解释': 22, '激动': 22, '吃惊': 22, '开心': 20, '怀疑': 20, '感激': 20, '抱怨': 19, '平静': 19, '冷静': 19, '不安': 17, '羞愧': 17, '低头': 16, '焦急': 15, '专注': 15, '嘲讽': 15, '叹气': 15, '笑': 15, '恐惧': 15, '震惊': 14, '期待': 14, '慌乱': 14, '嘲笑': 14, '沮丧': 13, '大叫': 13, '疼痛': 13, '轻蔑': 13, '脸红': 13, '神秘': 13, '失望': 12, '呆滞': 12, '不耐烦': 12, '笑着': 11, '询问': 11, '调侃': 11, '红着脸': 11, '感叹': 10, '茫然': 10, '安慰': 10, '冷酷': 10, '闭上眼睛': 10, '大笑': 10, '无力': 10, '皱眉': 10, '惊慌': 10, '寂寞': 9, '不屑': 9, '自豪': 9, '难过': 9, '严厉': 9, '撅嘴': 9, '为难': 8, '惊喜': 8, '烦恼': 8, '难为情': 8, '咬牙切齿': 8, '回忆': 8, '失落': 8, '肯定': 8, '苦涩': 8, '低声': 8, '嫉妒': 7, '责备': 7, '决心': 7, '不甘心': 7, '拒绝': 7, '赞叹': 7, '悔恨': 7, '感慨': 7, '忧郁': 7, '自责': 7, '调皮': 7, '热情': 6, '面无表情': 6, '猜测': 6, '顺从': 6, '无表情': 6, '残忍': 6, '凶狠': 6, '没趣': 6, '注视': 6, '笑容': 6, '不悦': 6, '厌恶': 6, '沉思': 6, '陶醉': 6, '傲慢': 6, '苦笑': 6, '质疑': 6, '疲惫': 6, '可爱': 5, '无言': 5, '抱歉': 5, '胆怯': 5, '警惕': 5, '淡然': 5, '佩服': 5, '发抖': 5, '恭敬': 5, '怒吼': 5, '不高兴': 5, '绝望': 5, '无聊': 5, '通红': 5, '烦躁': 5, '皱眉头': 5, '焦虑': 5, '自言自语': 5, '坏笑': 5, '惊愕': 5, '崇拜': 5, '满足': 4, '淡定': 4, '哀伤': 4, '撒娇': 4, '满意': 4, '苍白': 4, '瞪大眼睛': 4, '轻松': 4, '咆哮': 4, '流泪': 4, '眯起眼睛': 4, '惊奇': 4, '镇定': 4, '恶心': 4, '歉意': 4, '冷笑': 4, '发怒': 4, '怒气冲冲': 4, '咬着嘴唇': 4, '关切': 4, '不情愿': 4, '叹息': 4, '怀念': 4, '威胁': 4, '惊叫': 4, '不解': 4, '问询': 4, '泪眼婆娑': 4, '呻吟': 4, '急切': 4, '心跳加速': 4, '无趣': 4, '安静': 4, '决定': 4, '惊呆': 4, '红起了脸': 4, '嫣然一笑': 4, '关心': 4, '忸怩': 4, '不可思议': 4, '羡慕': 4, '焦躁': 4, '欢喜': 4, '喜悦': 4, '清脆的笑': 4, '饥饿': 3, '惊叹': 3, '安心': 3, '天真': 3, '松了一口气': 3, '尖叫': 3, '否定': 3, '放心': 3, '睁开眼睛': 3, '疯狂': 3, '恳求': 3, '紧握拳头': 3, '不好意思': 3, '嘎呜嘎呜': 3, '阴郁': 3, '混乱': 3, '阴笑': 3, '命令': 3, '妩媚': 3, '问道': 3, '盯着': 3, '恍然大悟': 3, '悲鸣': 3, '嘟囔': 3, '笑了': 3, '愤恨': 3, '清醒': 3, '赞许': 3, '劝说': 3, '心动': 3, '自大': 3, '礼貌': 3, '深思': 3, '严峻': 3, '冷淡': 3, '狡黠': 3, '惊慌失措': 3, '欢呼': 3, '盛怒': 3, '扭扭捏捏': 3, '郁闷': 3, '沉重': 3, '大胆': 3, '欣喜': 3, '沉郁': 3, '恶作剧': 3, '喷出火焰': 3, '不知所措': 3, '醉意': 3, '抽泣': 3, '大吃一惊': 3, '快乐': 3, '呆住': 3, '歉疚': 3, '好色': 3, '涨红了脸': 3, '怒视': 3, '憎恨': 3, '迷茫': 3, '打哈欠': 2, '恐慌': 2, '晕厥': 2, '不舒服': 2, '麻痹': 2, '伤心': 2, '无所谓': 2, '明白': 2, '莫名其妙': 2, '举起魔杖': 2, '挥手': 2, '劝阻': 2, '俯视': 2, '不快': 2, '不明白': 2, '自语': 2, '欢快': 2, '气愤': 2, '笑了出来': 2, '诧异': 2, '遗憾': 2, '绵软无力': 2, '苦闷': 2, '正经': 2, '悠然': 2, '坚持': 2, '怨恨': 2, '困苦': 2, '闭眼': 2, '靠近': 2, '愣住': 2, '哀求': 2, '避开视线': 2, '脸色苍白': 2, '危险': 2, '窒息': 2, '谦虚': 2, '自信满满': 2, '红脸': 2, '吃醋': 2, '豪气': 2, '贪婪': 2, '扭曲': 2, '催促': 2, '眯起眼': 2, '向威尔士介绍': 2, '低下头': 2, '哭泣着': 2, '吐血': 2, '心奋': 2, '伤感': 2, '睁大了眼睛': 2, '沉吟': 2, '松了口气': 2, '后悔': 2, '扭头': 2, '谨慎': 2, '舒服': 2, '不爽': 2, '小心翼翼': 2, '认同': 2, '僵硬': 2, '醉醺醺': 2, '不在乎': 2, '小声说': 2, '请求': 2, '动摇': 2, '肯定地说': 2, '建议': 2, '凶恶': 2, '咏唱': 2, '发光的眼睛': 2, '友善': 2, '开心的笑': 2, '可怕': 2, '镇静': 2, '哭泣般的声音': 2, '哭闹': 2, '幸福': 2, '阴森地笑着': 2, '紧急': 2, '酸楚': 2, '懊悔': 2, '决然': 2, '激烈': 2, '软弱': 2, '矛盾': 2, '不自然': 2, '可怜': 2, '敌意': 2, '消沉': 2, '喘气': 2, '难为情的笑': 2, '硬梆梆': 2, '阻止': 2, '沉静': 2, '讽刺': 2, '小声': 2, '无言以对': 2, '扭捏': 2, '楚楚可怜': 2, '紧紧抱住': 2, '提醒': 2, '红透脸': 2, '无动于衷': 2, '狰狞': 2, '剧痛': 2, '开朗': 2, '否认': 2, '娇羞': 2, '空虚': 2, '赞赏': 2, '低落': 2, '友好': 2, '大喊': 2, '冷眼': 2, '含泪': 2, '屏息': 2, '疲劳': 2, '痛哭': 2, '惶恐': 2, '低吼': 2, '准备': 2, '神采熠熠': 2, '苦涩->笑容': 2, '哑然': 2, '难过、不解': 2, '敬语': 2, '奴隶性膨胀': 2, '若有所思': 2, '颤抖着': 2, '擦泪': 2, '愉快': 2, '难看': 2, '精光一闪': 2, '爆炸': 2, '着急': 2, '虚张声势': 2, '鼓励': 2, '愉悦的大笑': 1, '歉意的笑': 1, '无奈的笑': 1, '丧气的垂着头': 1, '让周围的人紧张的全身哆嗦起来': 1, '孤寂的笑容': 1, '狂叫': 1, '紧握魔杖': 1, '满心欢喜': 1, '坏心的眯起了眼睛': 1, '欢快的说着': 1, '抗议': 1, '喜爱': 1, '哭相': 1, '大声怒吼': 1, '心情大好': 1, '狂暴': 1, '忏悔': 1, '听不出邪恶感': 1, '封闭': 1, '试图吸血': 1, '舔塔芭莎的肌肤': 1, '毫不在意': 1, '盯视': 1, '咕咿': 1, '把塔芭莎当成了伊莎贝拉': 1, '示意': 1, '满脸感激': 1, '紧皱眉头': 1, '哼歌声': 1, '淡淡温馨消失无踪': 1, '咄咄逼人': 1, '轻轻点头': 1, '打量塔芭莎': 1, '战战兢兢': 1, '恶心的笑声': 1, '崩溃': 1, '软软地瘫了下来': 1, '得意洋洋': 1, '燃烧着怒火的眼神': 1, '晕倒': 1, '撒娇似的': 1, '扭嘴': 1, '怒骂': 1, '游刃有余': 1, '嘴角一扭': 1, '世俗风尘': 1, '被压倒': 1, '扔出一封信': 1, '大声说着': 1, '扭曲着脸': 1, '干涩的笑声': 1, '冷静的佣兵表情': 1, '哭得不成样子': 1, '捧腹大笑': 1, '内心的愤怒': 1, '使用魔法': 1, '嘀咕': 1, '将魔法人偶塞进口袋': 1, '低头致谢': 1, '吹口哨': 1, '眯眼': 1, '发僵': 1, '吓得倒退两步': 1, '越来越厉害地颤抖': 1, '浮现出阴险的笑容': 1, '微妙的唱歌': 1, '斥责': 1, '喜欢宝石': 1, '饶有兴趣': 1, '无言无表情': 1, '气得全身发颤': 1, '使劲鼓掌': 1, '优雅的施了一礼': 1, '从袖中抽剑出来时的表情': 1, '无力的垂下肩，耷拉着脑袋': 1, '眼稍稍眯了起来': 1, '喜过望': 1, '僵住了一瞬': 1, '装作害怕': 1, '污秽': 1, '难以接受': 1, '血红的眼光': 1, '真正的贵族': 1, '缓缓做起': 1, '非常痛苦': 1, '呆滞的眼神，血红的光，从嘴边开始流出粘稠的唾液': 1, '冷冷的': 1, '感到有强风吹入眼中': 1, '歪头': 1, '微微僵硬': 1, '问好': 1, '认真思考': 1, '赞同': 1, '烂泥': 1, '要放弃': 1, '媚态': 1, '鸣叫': 1, '玩世不恭': 1, '像孩子一样': 1, '转向苛尔贝尔': 1, '犀利': 1, '施礼': 1, '凄凉': 1, '目不转睛': 1, '无可奈何': 1, '有意见': 1, '不好意思的笑': 1, '略施一礼': 1, '抱头蹲下': 1, '瞪了过来': 1, '无表情地注视着伊尔库库': 1, '恶劣': 1, '板着脸': 1, '意外幸运': 1, '威武': 1, '打量': 1, '说慌': 1, '举枪': 1, '口水直流': 1, '兴高采烈': 1, '敲': 1, '紧咬牙关': 1, '脸色大变': 1, '惊吓': 1, '丝毫未变': 1, '微微红了脸': 1, '呼吸紊乱': 1, '剧烈蠕动': 1, '呆呆的望着希儿菲朵': 1, '责难': 1, '红了起来': 1, '望向夜空': 1, '露出笑容': 1, '胆战心惊': 1, '发挥着他那不变的交际手腕': 1, '飘忽不定的无神': 1, '带着冷笑': 1, '阴险': 1, '沉重地点头': 1, '紧抱人偶': 1, '柔软的双唇让才人的思维更加的混乱了': 1, '脸通红通红的，好象有点害羞': 1, '恨恨的看着那几个学生': 1, '留着一头卷发和脸上留着雀斑的女孩子用嘲笑的口吻说到。': 1, '热': 1, '坐在床上晃脚': 1, '使劲瞪着丘鲁克': 1, '撩起炎一样火红的头发': 1, '理解': 1, '像煤一样黑': 1, '半张着嘴': 1, '摇摇晃晃': 1, '深深叹气': 1, '叫道': 1, '挥动着': 1, '又挥动着': 1, '咻咻': 1, '大叫道': 1, '怒喝': 1, '哑口无声': 1, '挑战': 1, '慢慢走': 1, '抓住肩膀': 1, '甩开手': 1, '眼睛湿润': 1, '疼': 1, '忍不住笑': 1, '愧疚': 1, '困扰': 1, '喜欢': 1, '注视着': 1, '唧唧喳喳': 1, '俯视着': 1, '摆头': 1, '哼着': 1, '望上方': 1, '毫不在乎': 1, '挣扎': 1, '呼吸混乱': 1, '偷笑': 1, '烦闷': 1, '可疑': 1, '抱着胳膊': 1, '着迷': 1, '脸色变化': 1, '微笑着': 1, '温和': 1, '咬了一下嘴唇': 1, '风情万种': 1, '焦躁不安': 1, '注意到破坏之杖': 1, '瞪眼，抱胳膊': 1, '摊手': 1, '微笑，行礼': 1, '轻快、优雅的舞步': 1, '沉默了一会跳着舞': 1, '好象在解释误会一样的说着': 1, '匆忙': 1, '被压制': 1, '哼了一声鼻子': 1, '冷漠地看着芙凯': 1, '伸开双手表示没有恶意': 1, '非常惊讶': 1, '盯着胸部': 1, '指责': 1, '狠毒': 1, '无可抵挡的笑容': 1, '淡淡笑容消失了': 1, '鲜红的长发燃烧般沙沙作响地竖立了起来': 1, '学生们都慌张地躲到了桌子底下': 1, '像挥舞剑般横扫着': 1, '突然卷起一阵裂风': 1, '装腔作势': 1, '受打击': 1, '忠诚': 1, '苦恼': 1, '恍惚': 1, '把手指竖在嘴边': 1, '拘谨': 1, '入神': 1, '对公主产生好感': 1, '对公主迷恋': 1, '误解': 1, '感动失神': 1, '贴近': 1, '压倒': 1, '暴怒': 1, '优雅': 1, '感兴趣': 1, '搂着才人': 1, '夸耀': 1, '幸运': 1, '轻松应对': 1, '双手插腰': 1, '斜视': 1, '吼叫': 1, '紧握剑': 1, '不愉快': 1, '胜利': 1, '狡猾': 1, '泪眼汪汪': 1, '情绪激动': 1, '眼睛红红': 1, '哭肿了的眼睛': 1, '复杂': 1, '嗤笑': 1, '魅力的笑容': 1, '恶作剧般笑着': 1, '优雅地低下头': 1, '珍爱地看着信': 1, '认真严肃的表情': 1, '腼腆': 1, '亲切的笑容': 1, '感动地流下眼泪': 1, '危险的冷笑': 1, '怒叫': 1, '畏惧': 1, '发光': 1, '迷惑': 1, '绝叫': 1, '惊人的速度': 1, '瞪着才人': 1, '虔诚': 1, '难受': 1, '凑近了露易丝的脸': 1, '闭着眼睛': 1, '感到治愈和温暖': 1, '狠狠地瞪着才人': 1, '慌忙跑过来': 1, '愁容': 1, '任性': 1, '怒气': 1, '冷峻的笑容': 1, '心不在焉': 1, '微微一抖': 1, '举起双手，以夸张的姿态开始了演说': 1, '脸色马上发青了': 1, '嘻嘻地笑了': 1, '抚摸失去的左臂': 1, '灰心丧气': 1, '振奋': 1, '厉眼瞪': 1, '威慑': 1, '觉得才人很傻': 1, '尖酸刻薄': 1, '狂怒': 1, '懒散': 1, '踩脚': 1, '宽容': 1, '心潮澎湃': 1, '羞涩的笑容': 1, '天真烂漫地听着': 1, '鼓起了腮帮子': 1, '斜着眼看着才人': 1, '闪着目光': 1, '感谢才人的陪伴': 1, '红着脸低着头，害羞地拨弄着手指': 1, '吓一跳': 1, '忧伤': 1, '无助': 1, '亲近': 1, '闪亮的眼神': 1, '直视才人': 1, '仰视才人': 1, '失去自信': 1, '壮观': 1, '火大': 1, '愤然': 1, '低声重复着': 1, '胃痛': 1, '愤愤': 1, '紧紧咬着嘴唇': 1, '哭得一塌糊涂': 1, '喝醉了': 1, '哭得连话也说不出来': 1, '恼火': 1, '迟疑': 1, '装作若无其事': 1, '激昂': 1, '哭了起来': 1, '威猛': 1, '勉强微笑': 1, '不相信': 1, '注视着左手的印记': 1, '笑道': 1, '想法': 1, '自嘲': 1, '清嗓子': 1, '迷迷糊糊': 1, '拨弄胡子': 1, '哼鼻子': 1, '自虐': 1, '醒悟': 1, '低语': 1, '头痛': 1, '想到了解决方法': 1, '注视着公主的眼眸': 1, '回答': 1, '想到谢斯塔': 1, '向往': 1, '坦诚': 1, '赞美': 1, '淘气': 1, '不可思议的神情': 1, '狂热': 1, '闭上了眼睛': 1, '意识到自己使命所在': 1, '斩钉截铁': 1, '打量才人的剑和表情': 1, '出神': 1, '稍微原谅': 1, '翻白眼': 1, '哭着脸生气': 1, '颤动着身子': 1, '不好受': 1, '勉强的笑容': 1, '注视着谢斯塔的背影': 1, '陶醉的声音': 1, '羞涩的笑意': 1, '浮出羞涩的笑意': 1, '环抱双臂，挺起胸膛': 1, '兴奋不已': 1, '悲伤敌的扭曲着脸': 1, '苍白发抖': 1, '紧紧贴在才人身上': 1, '惶恐不安': 1, '悲伤的笑容': 1, '脸色变青': 1, '装作一本正经': 1, '勉强点头': 1, '哭腔诉说': 1, '微微颤抖': 1, '朦胧发暗的双眼': 1, '痉挛': 1, '喘粗气': 1, '感觉露易丝可爱': 1, '猛地将罪恶的手抽回': 1, '愁眉苦脸': 1, '自足': 1, '夸张': 1, '躲开': 1, '狐疑': 1, '身体逐渐变大': 1, '改变形状': 1, '轻笑': 1, '皱起脸': 1, '红脸发颤': 1, '羞涩和疑惑': 1, '掩饰': 1, '忍受不住': 1, '不信': 1, '凶暴': 1, '凄楚': 1, '愤怒+悲伤': 1, '警戒': 1, '拼命叫喊': 1, '咬紧嘴唇': 1, '力气消失': 1, '肩膀发抖': 1, '闪闪发光': 1, '焦躁热炽': 1, '灵光一现': 1, '倒吸一口气': 1, '僵硬的笑容': 1, '露出下流笑意': 1, '勉强挤出笑容': 1, '打量露易丝': 1, '满脸通红': 1, '被撞飞': 1, '失望沮丧': 1, '低沉': 1, '不在意': 1, '鼓胀': 1, '着了魔': 1, '高谈阔论': 1, '批评': 1, '安抚': 1, '不信任': 1, '征服': 1, '昂然': 1, '威风凛凛': 1, '惊艳': 1, '生气+困惑': 1, '赌气': 1, '埋头看书': 1, '心情好转': 1, '眼花缭乱': 1, '指着桌子': 1, '冒火的眼睛': 1, '不自在': 1, '讥讽': 1, '决绝': 1, '兴味盎然': 1, '冷漠的眼神': 1, '横眼盯着丘鲁克，抿紧了嘴唇': 1, '拍手赞成': 1, '鼻血喷涌': 1, '挑衅': 1, '不明所以': 1, '快活': 1, '干巴巴': 1, '质问': 1, '真诚': 1, '头疼': 1, '想入非非': 1, '等待': 1, '入迷': 1, '叹了一口气': 1, '虚弱': 1, '垂下眼睛': 1, '看着斗篷下面的裙子': 1, '侧着脑袋': 1, '可爱地摆着双腿': 1, '用手托着脸颊': 1, '闭上眼睛，颤抖着': 1, '低沉、颤抖': 1, '任由': 1, '炽热的声音': 1, '想到': 1, '不甘': 1, '吓了一跳': 1, '狠狠地扫了才人一眼': 1, '仍旧拽着才人的耳朵': 1, '出人意料的高兴笑容': 1, '露出充满邪恶感的笑容': 1, '沉着': 1, '吊起嘴角': 1, '解放咒语': 1, '拔出剑': 1, '勇敢': 1, '踏实': 1, '善良': 1, '丧气': 1, '苦思冥想': 1, '装出开朗': 1, '支起手肘': 1, '埋脸在胸口': 1, '爱怜': 1, '侮蔑': 1, '慢悠悠': 1, '充血': 1, '轻佻': 1, '秀眉直竖': 1, '无精打采': 1, '凌厉': 1, '被压得喘不过气': 1, '强硬': 1, '被击败': 1, '闭嘴': 1, '呻吟着': 1, '喝斥': 1, '冷冷地': 1, '捏着露易丝的脸颊': 1, '怒': 1, '燃烧着怒火的眼睛': 1, '戒备+愤怒': 1, '大充血': 1, '差点怒气爆发': 1, '眉毛抽搐': 1, '温柔的笑容': 1, '歪了歪脑袋': 1, '发狂': 1, '残酷微笑': 1, '张开双臂': 1, '垂头': 1, '低声说': 1, '颤抖着点头': 1, '笑着挥手': 1, '亲切地挥手': 1, '发狂地大叫': 1, '面不改色': 1, '厌烦': 1, '寒战': 1, '认出': 1, '抬头看着柯尔贝尔': 1, '露出冷笑': 1, '奄奄一息': 1, '撅起嘴巴': 1, '想起才人对自己的关心': 1, '痛心': 1, '面面相觑': 1, '快要哭出来的脸笑着叫道': 1, '半醉半醒': 1, '装模作样': 1, '有气无力': 1, '怃然': 1, '欣赏才人的反应': 1, '大声喊': 1, '倾听': 1, '晃动身体': 1, '放射冷光': 1, '狠狠瞪着': 1, '轻抚美髯': 1, '随便': 1, '没有意思': 1, '哄笑': 1, '哼了一下鼻子': 1, '兴趣': 1, '气势迸发': 1, '灿烂': 1, '做鬼脸': 1, '叫了一声': 1, '浅笑': 1, '小声叫': 1, '出乎意料的动作': 1, '被喷中': 1, '利抓撕裂翅膀': 1, '追着诱饵敌人': 1, '敏捷避开攻击': 1, '被火焰击中': 1, '憔悴': 1, '凄惨': 1, '好笑': 1, '冷峻': 1, '意外': 1, '露骨地皱起眉头': 1, '张大眼睛': 1, '暧昧': 1, '模仿': 1, '忍笑': 1, '侧眼瞥': 1, '越来越快': 1, '哭出来': 1, '哽咽': 1, '靠近才人的脸': 1, '性感迷人': 1, '惹人怜爱': 1, '毫无装饰': 1, '交给才人一个小瓶子': 1, '哭': 1, '抱紧': 1, '孩子般快乐': 1, '怜悯': 1, '玩笑': 1, '湿润的眼睛': 1, '东张西望': 1, '看着寺院': 1, '脸颊绯红': 1, '大声叫道': 1, '困倦': 1, '闪烁着光芒': 1, '敬佩': 1, '同意': 1, '哀号': 1, '赞扬': 1, '冷汗直冒': 1, '鼓起腮帮子，扬起手': 1, '揉眼睛': 1, '努力': 1, '悲痛': 1, '请求饶恕和教诲': 1, '慌忙猛摇头': 1, '凄酸': 1, '迷惘': 1, '微妙的表情': 1, '转向露易丝': 1, '妖媚': 1, '泪花': 1, '缓和': 1, '难以启齿': 1, '毫不介意': 1, '瘫倒在地': 1, '炽热': 1, '愣住了': 1, '满面笑容': 1, '被吓了一跳': 1, '高兴地笑了起来': 1, '喷出了嘴里的炖菜': 1, '狠狠地瞪了他一眼': 1, '紧紧地握住了拳头': 1, '怪讶': 1, '注视着自己穿在身上的睡衣': 1, '以怀念的声音说道': 1, '以悲伤的声音说道': 1, '一脸怃然地说道': 1, '马上轻轻推了他一下': 1, '狂乱': 1, '盯着蒙莫兰溪': 1, '哀愁': 1, '大获全胜': 1, '语塞': 1, '嘿啊—！': 1, '啪啊—！': 1, '抽搐着哭泣': 1, '痛苦地大叫': 1, '哭得更厉害': 1, '轻吐气': 1, '低声嘀咕': 1, '放下心来似的': 1, '深爱': 1, '极度紧张': 1, '充满杀气': 1, '哭腔': 1, '震动': 1, '笑嘻嘻': 1, '涨红': 1, '打招呼': 1, '追赶': 1, '恐惧的颤抖': 1, '气鼓鼓': 1, '庄重': 1, '背对着才人': 1, '太阳穴跳': 1, '无辜': 1, '象盛开的玫瑰一般的笑容': 1, '拍了拍露易丝的肩膀': 1, '清澈': 1, '冷冷': 1, '哈哈大笑': 1, '惊诧': 1, '撇头': 1, '直盯着': 1, '鼓着脸': 1, '试图让她高兴': 1, '微微愤怒': 1, '舒缓': 1, '对视': 1, '痴迷': 1, '气得浑身发颤': 1, '被震住了': 1, '恢复了自我': 1, '阴云': 1, '威严': 1, '认可': 1, '砰的合上了书': 1, '懊恼': 1, '嗔怒': 1, '图谋着什么': 1, '惊住了': 1, '微微生气': 1, '性感的POSE': 1, '脸上泛起阵阵红润': 1, '反问': 1, '越来越红': 1, '强烈让人感到可爱': 1, '道歉': 1, '积极': 1, '辩解': 1, '折腾': 1, '撅起小嘴': 1, '咕噜': 1, '眯起双眼，来回地打量着才人和安丽埃塔。': 1, '哼！': 1, '圆睁双目': 1, '紧锁双眉': 1, '用手抵着额头': 1, '憧憬': 1, '表里如一': 1, '客气': 1, '无视攻击': 1, '愕然': 1, '畏缩': 1, '僵硬的微笑': 1, '烦躁不安': 1, '绯红': 1, '投以冰冷的视线': 1, '冷静分析': 1, '抱头发抖': 1, '发呆': 1, '险恶的笑容': 1, '无敌的恶魔般的气氛': 1, '窘迫': 1, '阴云笼罩': 1, '一动没动': 1, '彻底绝望': 1, '慈悲的笑容': 1, '熟睡': 1, '放弃': 1, '带有些许怜悯': 1, '滑稽': 1, '异常愤怒': 1, '嘴歪': 1, '睁眼': 1, '抬高下颚': 1, '眼睁的大大的，全身都在颤抖': 1, '不可置信': 1, '困惑、不安、羡慕、自卑': 1, '紧张、勇敢': 1, '娇媚': 1, '特大的笑容': 1, '被吸引': 1, '抚媚': 1, '妖艳的笑': 1, '叫住': 1, '不抱希望': 1, '妖艳': 1, '高贵': 1, '笨拙': 1, '被抓住心': 1, '惊呼': 1, '疲倦': 1, '发脾气': 1, '抱起露易丝': 1, '呆呆地看着': 1, '感到温暖': 1, '哭了': 1, '傻笑': 1, '直视基修': 1, '回忆苏醒': 1, '激发小恶魔': 1, '勾引': 1, '杀气': 1, '指着': 1, '转头看才人': 1, '炫耀': 1, '挑逗': 1, '红着脸转过身去': 1, '充满**': 1, '软了下去': 1, '热血沸腾': 1, '剧烈摇头': 1, '僵住': 1, '英武': 1, '咬唇': 1, '目光可怕的盯着': 1, '很少见的露出假笑': 1, '狂喊': 1, '呼喊': 1, '无意识地握紧魔杖': 1, '咏唱着虚无的咒文': 1, '轻皱眉头': 1, '挥下手中的魔杖': 1, '相信': 1, '难以置信': 1, '不适应': 1, '看着安莉艾塔': 1, '叹了口气': 1, '不经意间惊讶': 1, '高兴的笑': 1, '哈哈笑': 1, '双目圆睁': 1, '羞红': 1, '恶作剧般的笑容': 1, '哭泣不止': 1, '注视着才人': 1, '称赞': 1, '呜呜大叫': 1, '纯洁的目光': 1, '拢头发': 1, '转头': 1, '失控': 1, '歇斯底里的大叫着': 1, '哭肿的眼红红的': 1, '怪异': 1, '瑟瑟发抖': 1, '不好': 1, '惊道': 1, '忍耐不住欢喜': 1, '毫不畏惧': 1, '代替': 1, '说明': 1, '拦住': 1, '捂住嘴': 1, '说道': 1, '恶狠狠': 1, '艰难': 1, '闭眼点头': 1, '紧抱蒂法尼亚': 1, '亲切': 1, '环视众人': 1, '淡笑': 1, '裹紧袍子': 1, '递给才人一封信': 1, '断然': 1, '想喝酱汤': 1, '感情的湍流袭来': 1, '矛盾和胆怯': 1, '想象中': 1, '不感兴趣': 1, '痛苦扭曲': 1, '全身发颤': 1, '恶鬼般的瞪眼': 1, '哀叫': 1, '嘟嘴': 1, '哭笑不得': 1, '胜利的笑容': 1, '转身': 1, '皮笑肉不笑': 1, '深呼吸': 1, '保持风度': 1, '受伤': 1, '可怕的眼神': 1, '闭眼思考': 1, '挑拨': 1, '怒火': 1, '若无其事': 1, '血红': 1, '温和微笑': 1, '慈爱': 1, '嫌弃': 1, '卑微': 1, '不怀好意的笑': 1, '满不在乎': 1, '刷白脸色': 1, '必恭必敬': 1, '颤声': 1, '强烈愤怒': 1, '轻颤': 1, '讨好': 1, '冷酷之笑': 1, '战意旺盛': 1, '哭肿通红': 1, '握着魔杖': 1, '红肿': 1, '弱弱': 1, '气喘吁吁': 1, '极度愤怒': 1, '没好气': 1, '红眼': 1, '脸青': 1, '怕生': 1, '想起': 1, '忍耐': 1, '温和的笑容': 1, '卑微的笑': 1, '怪异的看向吉姆利': 1, '停下动作': 1, '激励': 1, '泪流满面': 1, '呐喊': 1, '意识到被偷窥': 1, '淡淡': 1}\n",
      "saved unlabeled expressions to ./output_zero/unlabeled_expression.json\n"
     ]
    }
   ],
   "source": [
    "# all_expressions=set(item['expression'] for item in all_content if 'expression' in item)\n",
    "# print('all_expressions:', all_expressions)\n",
    "\n",
    "unlabeled_expression_freq={}\n",
    "for item in all_content:\n",
    "    if 'expression' in item:\n",
    "        unlabeled_expression_freq[item['expression']]=unlabeled_expression_freq.get(item['expression'], 0)+1\n",
    "unlabeled_expression_freq={k: v for k, v in sorted(unlabeled_expression_freq.items(), key=lambda item: item[1], reverse=True)}\n",
    "\n",
    "print('unlabeled_expression_freq:', unlabeled_expression_freq)\n",
    "\n",
    "with open(unlabeled_expression_path, 'w', encoding='utf-8') as f:\n",
    "    json.dump(unlabeled_expression_freq, f, ensure_ascii=False, indent=2)\n",
    "print('saved unlabeled expressions to', unlabeled_expression_path)"
   ]
  },
  {
   "cell_type": "code",
   "execution_count": 131,
   "metadata": {},
   "outputs": [
    {
     "name": "stdout",
     "output_type": "stream",
     "text": [
      "\u001b[91m请将“不耐烦”归类为下列类别中的一种：\n",
      "['平静', '专注', '微笑', '兴奋', '微怒', '大怒', '惊讶', '恐惧', '微哀', '大哭', '害羞', '困惑', '白眼']\n",
      "“不耐烦”的类别是：\u001b[0m\u001b[94m微怒\u001b[0m\n"
     ]
    }
   ],
   "source": [
    "from langchain.chains.base import Chain\n",
    "import json\n",
    "import re\n",
    "from my_llm import llm_chatgpt as llm\n",
    "\n",
    "\n",
    "class LabelExpressionChain(Chain):\n",
    "    llm:object=None\n",
    "    labels:list='平静，专注，微笑，兴奋，微怒，大怒，惊讶，恐惧，微哀，大哭，害羞，困惑，白眼'.split('，')\n",
    "    @property\n",
    "    def input_keys(self):\n",
    "        return ['unknown_expression']\n",
    "    @property\n",
    "    def output_keys(self):\n",
    "        return ['label']\n",
    "    prmopt='''请将“{unknown_expression}”归类为下列类别中的一种：\n",
    "{labels}\n",
    "“{unknown_expression}”的类别是：'''\n",
    "    def _call(self,inputs:dict)->dict:\n",
    "        inputs['labels']=self.labels\n",
    "        inputs['unknown_expression']=re.sub(r'[^\\u4e00-\\u9fa5]', '', inputs['unknown_expression'])\n",
    "        if inputs['unknown_expression'] in self.labels:\n",
    "            return {'label':inputs['unknown_expression']}\n",
    "        query=self.prmopt.format(**inputs)\n",
    "        response=self.llm(query)\n",
    "        response=re.sub(r'[^\\u4e00-\\u9fa5]', '', response)\n",
    "        if response not in self.labels:\n",
    "            response=None\n",
    "        return {'label':response}\n",
    "\n",
    "label_expression_chain=LabelExpressionChain(llm=llm)\n",
    "\n",
    "llm.show_query=llm.show_response=True\n",
    "label_expression_chain('不耐烦')\n",
    "llm.show_query=llm.show_response=False\n"
   ]
  },
  {
   "cell_type": "code",
   "execution_count": 134,
   "metadata": {},
   "outputs": [
    {
     "name": "stdout",
     "output_type": "stream",
     "text": [
      "loaded expression_map from ./output_zero/expression_map.json\n"
     ]
    },
    {
     "data": {
      "application/vnd.jupyter.widget-view+json": {
       "model_id": "bbfaaf8b400544d1a34f3cf1e6d0e7bd",
       "version_major": 2,
       "version_minor": 0
      },
      "text/plain": [
       "  0%|          | 0/1254 [00:00<?, ?it/s]"
      ]
     },
     "metadata": {},
     "output_type": "display_data"
    }
   ],
   "source": [
    "import os\n",
    "from tqdm.auto import tqdm\n",
    "if os.path.exists(expression_map_path):\n",
    "    with open(expression_map_path, 'r', encoding='utf-8') as f:\n",
    "        expression_map=json.load(f)\n",
    "        print('loaded expression_map from', expression_map_path)\n",
    "else:\n",
    "    expression_map={}\n",
    "\n",
    "for unknown_expression in tqdm(unlabeled_expression_freq):\n",
    "    if expression_map.get(unknown_expression,None) is None:\n",
    "        response=label_expression_chain(unknown_expression)\n",
    "        if response['label'] is None:\n",
    "            print('failed', unknown_expression)\n",
    "        print(unknown_expression, '->', response['label'])\n",
    "        expression_map[unknown_expression]=response['label']\n",
    "        json.dump(expression_map, open(expression_map_path, 'w'),ensure_ascii=False,indent=4)\n",
    "\n"
   ]
  },
  {
   "cell_type": "code",
   "execution_count": 135,
   "metadata": {},
   "outputs": [
    {
     "name": "stdout",
     "output_type": "stream",
     "text": [
      "emoji_freq: {'惊讶': 576, '困惑': 550, '平静': 518, '微哀': 516, '恐惧': 467, '微怒': 446, '大怒': 419, '微笑': 364, '兴奋': 318, '害羞': 281, '专注': 238, '大哭': 86, '白眼': 30}\n"
     ]
    },
    {
     "data": {
      "image/png": "[encoded data removed]",
      "text/plain": [
       "<Figure size 500x200 with 1 Axes>"
      ]
     },
     "metadata": {},
     "output_type": "display_data"
    }
   ],
   "source": [
    "for item in all_content:\n",
    "    if 'expression' in item and item['expression'] in expression_map and expression_map[item['expression']] is not None:\n",
    "        item['emoji']=expression_map[item['expression']]\n",
    "\n",
    "emoji_freq={}\n",
    "for item in all_content:\n",
    "    if 'emoji' in item:\n",
    "        emoji_freq[item['emoji']]=emoji_freq.get(item['emoji'], 0)+1\n",
    "emoji_freq={k: v for k, v in sorted(emoji_freq.items(), key=lambda item: item[1], reverse=True)}\n",
    "\n",
    "print('emoji_freq:', emoji_freq)\n",
    "\n",
    "\n",
    "plt.figure(figsize=(5, 2))\n",
    "plt.bar(list(emoji_freq.keys()), list(emoji_freq.values()))\n",
    "plt.xticks(rotation=75)\n",
    "plt.ylabel('count')\n",
    "# plt.yscale('log')\n",
    "# plt.ylim(1,np.max(list(emoji_freq.values()))*2)\n",
    "plt.show()"
   ]
  },
  {
   "attachments": {},
   "cell_type": "markdown",
   "metadata": {},
   "source": [
    "# 加载FAISS知识索引"
   ]
  },
  {
   "cell_type": "code",
   "execution_count": 136,
   "metadata": {},
   "outputs": [
    {
     "name": "stdout",
     "output_type": "stream",
     "text": [
      "【露易丝 的性格易怒，容易骂人，有点糊涂（跟才人比），为了小事常常生气。】\n",
      "【拉·瓦利埃尔公爵 在托里斯特因有很大的影响力，涉足军、政、商三界，与王室关系密切，动画版第十二话认可了露易丝与才人的关系，同意让露易丝嫁给才人，在罗马尼亚大圣堂做了见证。】\n",
      "【平贺才人 已与露易丝同居中。同时被书中许多女性角色爱慕著。喜欢露易丝。】\n",
      "【平贺才人 他的称号：修瓦里埃骑士（见习骑士），子爵(结尾被封) 他喜欢的人：露易丝（表白过很多次） 他的妻子:露易丝（在大结局和露易丝结婚）】\n",
      "【平贺才人 亚成婚，后与露易丝回到自己所属的世界，回到自己家中。】\n",
      "【露易丝 起初对身为贵族的身份有着很强的自觉心，拥有常人N倍的自尊心，后来受才人影响，逐渐放下这份执着，转而为才人着想。在后期已经可以对才人敞开心扉，坦诚相待。】\n",
      "【安丽埃塔 小说16-17卷有欲从露易丝那里里夺取才人，羡慕著露易丝。】\n",
      "【露易丝 动画第三期中为救出塔芭莎而放弃贵族身份，但被公主赏识，成为王位继承人。喜欢平贺才人。】\n"
     ]
    }
   ],
   "source": [
    "# import importlib,my_faiss;importlib.reload(my_faiss)\n",
    "from my_faiss import FAISS,embeddings,get_bg_hint\n",
    "get_bg_hint.vector_store=FAISS.load_local(faiss_path, embeddings)\n",
    "dialogue='才人：起床了！\\n路易斯：'\n",
    "bg_hint=get_bg_hint(dialogue,max_text_len=500,show_score=False)\n",
    "print(bg_hint)\n",
    "# # llm(bg_hint+'\\n请扮演路易斯\\n'+dialogue)"
   ]
  },
  {
   "attachments": {},
   "cell_type": "markdown",
   "metadata": {},
   "source": [
    "# 生成跑团式的回复文本"
   ]
  },
  {
   "cell_type": "code",
   "execution_count": 170,
   "metadata": {},
   "outputs": [
    {
     "data": {
      "application/vnd.jupyter.widget-view+json": {
       "model_id": "e4b9f086ffdc493a9824cfe7bc9a5a3a",
       "version_major": 2,
       "version_minor": 0
      },
      "text/plain": [
       "  0%|          | 0/26181 [00:00<?, ?it/s]"
      ]
     },
     "metadata": {},
     "output_type": "display_data"
    },
    {
     "name": "stdout",
     "output_type": "stream",
     "text": [
      "saved to ./output_zero/merged_log.txt\n"
     ]
    }
   ],
   "source": [
    "\n",
    "def generate_line(item,no_char=False,no_emoji=False):\n",
    "    if 'info' in item:\n",
    "        return '【'+item['info']+'】'\n",
    "    if 'char' in item:\n",
    "        char=rename_map.get(item['char'], item['char'])\n",
    "        if 'act' in item:\n",
    "            return char+'：'+'\\\\me '+item['act']\n",
    "        emoji_text=('\\\\emoji '+item['emoji']) if 'emoji' in item and not no_emoji else ''\n",
    "        say_text=item['say'] if 'say' in item else ''\n",
    "        think_text=('（'+item['think']+'）' if '（' not in item['think'] else item['think']) if 'think' in item else ''\n",
    "        if no_char:\n",
    "            return say_text+think_text+emoji_text\n",
    "        else:\n",
    "            return char+'：'+say_text+think_text+emoji_text\n",
    "    \n",
    "def generate_chapter_title_summary(chapter_id):\n",
    "    title=all_chapters[chapter_id]['title']\n",
    "    summary=all_chapters[chapter_id].get('summary','')\n",
    "    for char,info in all_chapters[chapter_id].get('characters',{}).items():\n",
    "        summary+='\\n'+generate_character_summary(char,chapter_id)\n",
    "    return '='*10+title+'='*10+'\\n'+summary+'\\n'\n",
    "\n",
    "all_log_text=''\n",
    "prev_chapter_id=None\n",
    "for item in tqdm(all_content):\n",
    "    if prev_chapter_id!=item['chapter_id']:\n",
    "        all_log_text+=generate_chapter_title_summary(item['chapter_id'])\n",
    "        prev_chapter_id=item['chapter_id']\n",
    "    line=generate_line(item)\n",
    "    if line is not None:\n",
    "        all_log_text+=line+'\\n'\n",
    "\n",
    "open(text_log_path, 'w', encoding='utf-8').write(all_log_text)\n",
    "print('saved to', text_log_path)"
   ]
  },
  {
   "cell_type": "code",
   "execution_count": null,
   "metadata": {},
   "outputs": [],
   "source": [
    "all_char_responses=[generate_line(item,no_char=True) for item in all_content if 'char' in item and 'say' in item]\n"
   ]
  },
  {
   "attachments": {},
   "cell_type": "markdown",
   "metadata": {},
   "source": [
    "# 计算一个字需要多少token"
   ]
  },
  {
   "cell_type": "code",
   "execution_count": 176,
   "metadata": {},
   "outputs": [
    {
     "name": "stderr",
     "output_type": "stream",
     "text": [
      "Explicitly passing a `revision` is encouraged when loading a model with custom code to ensure no malicious code has been contributed in a newer revision.\n"
     ]
    },
    {
     "name": "stdout",
     "output_type": "stream",
     "text": [
      "chunk_lengths: [715, 738, 706, 713, 637, 748, 735, 721, 742, 743]\n",
      "chunk_tokenized_lengths: [461, 459, 463, 431, 428, 464, 488, 447, 464, 476]\n",
      "ratios: [0.6447552447552447, 0.6219512195121951, 0.6558073654390935, 0.6044880785413744, 0.6718995290423861, 0.6203208556149733, 0.6639455782312925, 0.6199722607489597, 0.6253369272237197, 0.6406460296096904]\n",
      "token_per_char: 0.6369123088718929\n"
     ]
    }
   ],
   "source": [
    "\n",
    "from transformers import AutoTokenizer\n",
    "tokenizer=AutoTokenizer.from_pretrained(tokenizer_name,trust_remote_code=True)\n",
    "\n",
    "def get_tokenized_length(text):\n",
    "    tokenizer_text=tokenizer(text, return_tensors='pt')\n",
    "    return len(tokenizer_text['input_ids'][0])\n",
    "\n",
    "\n",
    "def clamp_by_tokenizer(text,max_length,return_length=False):\n",
    "    tokenizer_text=tokenizer(text, return_tensors='pt')\n",
    "    tokenized_length=min(len(tokenizer_text['input_ids'][0]), max_length)\n",
    "    if len(tokenizer_text['input_ids'][0])>=max_length:\n",
    "        text=tokenizer.decode(tokenizer_text['input_ids'][0][-max(1,max_length-1):])\n",
    "    if return_length:\n",
    "        return text, tokenized_length\n",
    "    else:\n",
    "        return text\n",
    "\n",
    "text_samples=[chunk['text'] for chunk in list(chunks.values())[:10]]\n",
    "chunk_lengths=[len(text) for text in text_samples]\n",
    "chunk_tokenized_lengths=[get_tokenized_length(text) for text in text_samples]\n",
    "print('chunk_lengths:', chunk_lengths)\n",
    "print('chunk_tokenized_lengths:', chunk_tokenized_lengths)\n",
    "print('ratios:', [a/b for a,b in zip(chunk_tokenized_lengths, chunk_lengths)])\n",
    "import numpy as np\n",
    "token_per_char=np.mean([a/b for a,b in zip(chunk_tokenized_lengths, chunk_lengths)])\n",
    "print('token_per_char:', token_per_char)\n",
    "\n",
    "def estimate_tokenized_length(text):\n",
    "    return int(len(text)*token_per_char)"
   ]
  },
  {
   "attachments": {},
   "cell_type": "markdown",
   "metadata": {},
   "source": [
    "# 提供上下文\n",
    "\n",
    "对每个对话扮演条目，需要给够上下文，角色设定，背景信息，以及角色在本章中的动机等信息！"
   ]
  },
  {
   "cell_type": "code",
   "execution_count": 186,
   "metadata": {},
   "outputs": [
    {
     "name": "stdout",
     "output_type": "stream",
     "text": [
      "prompt: 【艾丽欧诺尔·瓦利埃尔 表面上看来她对露易丝很严格，而且处处刁难，但其实她是非常疼爱露易丝，也是因为怕露易丝被人耻笑， 才用了比较强制的方式，想借此保护露易丝。否定自己嫁不出去的事实，也会像露易丝拿藤鞭教训才人，】\n",
      "【安莉艾塔看到罗马利亚教皇威托利奥的美貌和慈爱的微笑而呆住了】\n",
      "安莉艾塔：（他是罗马利亚教皇，哈尔凯基尼亚大陆上神官与寺院的最高权威）\\emoji 惊讶\n",
      "【安莉艾塔 教皇穿着深紫色的神官服，高高的圆筒状帽子】\n",
      "【安莉艾塔 教皇的面容并不如他所穿的神官服那样威严，眼很和善，如同雕刻出来的端正鼻梁，很漂亮的嘴常常挂着微笑】\n",
      "【安莉艾塔 教皇是哈尔凯基尼亚大陆上最美丽的演员之一】\n",
      "安莉艾塔：（他的微笑简直就像充满了慈爱的神一样）\\emoji 惊讶\n",
      "威托利奥：就叫我威托利奥吧，我并不喜欢那些拘谨的礼仪，其实我原本就一直被自己国家的神官们责怪呢\n",
      "安莉艾塔：非常抱歉。教皇圣下。因为受到圣下您的威光照耀，我不禁感动了一会儿\n",
      "威托利奥：\n",
      "tokenized length: 293\n",
      "ground_truth: 笑了起来，他那如细金线一样的头发轻轻摆动着\n",
      "tokenized length: 15\n"
     ]
    }
   ],
   "source": [
    "\n",
    "item=random.sample([item for item in all_content if 'char' in item],1)[0]\n",
    "# token_per_char\n",
    "\n",
    "\n",
    "def generate_prompt(item,max_prompt_tokens,max_chaper_summary_tokens,max_character_summary_tokens,max_bg_hint_tokens,prev_items_num=15):\n",
    "    assert 'char' in item\n",
    "    max_prompt_text_len=int(max_prompt_tokens/token_per_char)\n",
    "    max_chaper_summary_text_len=int(max_chaper_summary_tokens/token_per_char)\n",
    "    max_character_summary_text_len=int(max_character_summary_tokens/token_per_char)\n",
    "    max_bg_hint_text_len=int(max_bg_hint_tokens/token_per_char)\n",
    "\n",
    "    iItem=item['item_id']\n",
    "    prev_items=all_content[max(0,iItem-prev_items_num):iItem]\n",
    "    prev_items=[prev_item for prev_item in prev_items if item['chapter_id']==prev_item['chapter_id']]\n",
    "    previous_lines=[generate_line(prev_item) for prev_item in prev_items]\n",
    "    character_summary=generate_character_summary(item['char'],item['chapter_id'])\n",
    "    chapter_summary=all_chapters[item['chapter_id']].get('summary','')\n",
    "    bg_hint_query=character_summary+'\\n'+chapter_summary+'\\n'+'\\n'.join(previous_lines)\n",
    "    bg_hint=get_bg_hint(bg_hint_query,max_text_len=max_bg_hint_text_len,show_score=False)\n",
    "    prompt1=''\n",
    "    prompt2=rename_map.get(item['char'], item['char'])+'：'\n",
    "    if len(chapter_summary)>0:\n",
    "        prompt1+='【'+chapter_summary[:max_chaper_summary_text_len]+'】\\n'\n",
    "    if len(character_summary)>0:\n",
    "        prompt1+='【'+character_summary[:max_character_summary_text_len]+'】\\n'\n",
    "    if len(bg_hint)>0:\n",
    "        prompt1+=bg_hint+'\\n'\n",
    "    for prev_line in previous_lines[::-1]:\n",
    "        next_prompt2=prev_line+'\\n'+prompt2\n",
    "        if (len(prompt1)+len(next_prompt2))>max_prompt_text_len:\n",
    "            break\n",
    "        prompt2=next_prompt2\n",
    "    prompt=prompt1+prompt2\n",
    "    return clamp_by_tokenizer(prompt,max_prompt_tokens)\n",
    "\n",
    "prompt=generate_prompt(item,\n",
    "                       max_prompt_tokens=max_prompt_tokens,\n",
    "                       max_chaper_summary_tokens=max_chaper_summary_tokens,\n",
    "                       max_character_summary_tokens=max_character_summary_tokens,\n",
    "                       max_bg_hint_tokens=max_bg_hint_tokens)\n",
    "print('prompt:', prompt)\n",
    "print('tokenized length:', get_tokenized_length(prompt))\n",
    "ground_truth=generate_line(item, no_char=True)\n",
    "print('ground_truth:', ground_truth)\n",
    "print('tokenized length:', get_tokenized_length(ground_truth))\n",
    "# prediction=llm(prompt)\n",
    "# print('prediction:', prediction)"
   ]
  },
  {
   "attachments": {},
   "cell_type": "markdown",
   "metadata": {},
   "source": [
    "# 遍历所有条目，生成训练数据"
   ]
  },
  {
   "cell_type": "code",
   "execution_count": 166,
   "metadata": {},
   "outputs": [
    {
     "data": {
      "application/vnd.jupyter.widget-view+json": {
       "model_id": "27c54964fcc04131822debdedc8230e8",
       "version_major": 2,
       "version_minor": 0
      },
      "text/plain": [
       "  0%|          | 0/26181 [00:00<?, ?it/s]"
      ]
     },
     "metadata": {},
     "output_type": "display_data"
    },
    {
     "name": "stdout",
     "output_type": "stream",
     "text": [
      "processed 3000 items\n",
      "saved to ./output_zero/train_rp.cache.json\n",
      "processed 4000 items\n",
      "saved to ./output_zero/train_rp.cache.json\n",
      "processed 5000 items\n",
      "saved to ./output_zero/train_rp.cache.json\n",
      "processed 6000 items\n",
      "saved to ./output_zero/train_rp.cache.json\n",
      "processed 7000 items\n",
      "saved to ./output_zero/train_rp.cache.json\n",
      "processed 8000 items\n",
      "saved to ./output_zero/train_rp.cache.json\n",
      "processed 9000 items\n",
      "saved to ./output_zero/train_rp.cache.json\n"
     ]
    },
    {
     "data": {
      "text/html": [
       "<pre style=\"white-space:pre;overflow-x:auto;line-height:normal;font-family:Menlo,'DejaVu Sans Mono',consolas,'Courier New',monospace\"><span style=\"color: #800000; text-decoration-color: #800000\">╭─────────────────────────────── </span><span style=\"color: #800000; text-decoration-color: #800000; font-weight: bold\">Traceback </span><span style=\"color: #bf7f7f; text-decoration-color: #bf7f7f; font-weight: bold\">(most recent call last)</span><span style=\"color: #800000; text-decoration-color: #800000\"> ────────────────────────────────╮</span>\n",
       "<span style=\"color: #800000; text-decoration-color: #800000\">│</span> in <span style=\"color: #00ff00; text-decoration-color: #00ff00\">&lt;module&gt;</span>:<span style=\"color: #0000ff; text-decoration-color: #0000ff\">11</span>                                                                                   <span style=\"color: #800000; text-decoration-color: #800000\">│</span>\n",
       "<span style=\"color: #800000; text-decoration-color: #800000\">│</span> in <span style=\"color: #00ff00; text-decoration-color: #00ff00\">generate_prompt</span>:<span style=\"color: #0000ff; text-decoration-color: #0000ff\">19</span>                                                                            <span style=\"color: #800000; text-decoration-color: #800000\">│</span>\n",
       "<span style=\"color: #800000; text-decoration-color: #800000\">│</span>                                                                                                  <span style=\"color: #800000; text-decoration-color: #800000\">│</span>\n",
       "<span style=\"color: #800000; text-decoration-color: #800000\">│</span> <span style=\"color: #808000; text-decoration-color: #808000\">d:\\ml\\ptuningMyWaifu\\my_faiss.py</span>:<span style=\"color: #0000ff; text-decoration-color: #0000ff\">14</span> in <span style=\"color: #00ff00; text-decoration-color: #00ff00\">get_bg_hint</span>                                               <span style=\"color: #800000; text-decoration-color: #800000\">│</span>\n",
       "<span style=\"color: #800000; text-decoration-color: #800000\">│</span>                                                                                                  <span style=\"color: #800000; text-decoration-color: #800000\">│</span>\n",
       "<span style=\"color: #800000; text-decoration-color: #800000\">│</span>   <span style=\"color: #7f7f7f; text-decoration-color: #7f7f7f\">11 </span>embeddings.client=SentenceTransformerNormalized(embeddings.model_name,device=<span style=\"color: #808000; text-decoration-color: #808000\">\"cuda\"</span>)        <span style=\"color: #800000; text-decoration-color: #800000\">│</span>\n",
       "<span style=\"color: #800000; text-decoration-color: #800000\">│</span>   <span style=\"color: #7f7f7f; text-decoration-color: #7f7f7f\">12 </span>                                                                                            <span style=\"color: #800000; text-decoration-color: #800000\">│</span>\n",
       "<span style=\"color: #800000; text-decoration-color: #800000\">│</span>   <span style=\"color: #7f7f7f; text-decoration-color: #7f7f7f\">13 </span><span style=\"color: #0000ff; text-decoration-color: #0000ff\">def</span> <span style=\"color: #00ff00; text-decoration-color: #00ff00\">get_bg_hint</span>(context,max_text_len=<span style=\"color: #0000ff; text-decoration-color: #0000ff\">500</span>,k=<span style=\"color: #0000ff; text-decoration-color: #0000ff\">25</span>,show_score=<span style=\"color: #0000ff; text-decoration-color: #0000ff\">False</span>):                            <span style=\"color: #800000; text-decoration-color: #800000\">│</span>\n",
       "<span style=\"color: #800000; text-decoration-color: #800000\">│</span> <span style=\"color: #800000; text-decoration-color: #800000\">❱ </span>14 <span style=\"color: #7f7f7f; text-decoration-color: #7f7f7f\">│   </span>results=get_bg_hint.vector_store.similarity_search_with_relevance_scores(context,k=k    <span style=\"color: #800000; text-decoration-color: #800000\">│</span>\n",
       "<span style=\"color: #800000; text-decoration-color: #800000\">│</span>   <span style=\"color: #7f7f7f; text-decoration-color: #7f7f7f\">15 │   </span>all_result_text=<span style=\"color: #808000; text-decoration-color: #808000\">''</span>                                                                      <span style=\"color: #800000; text-decoration-color: #800000\">│</span>\n",
       "<span style=\"color: #800000; text-decoration-color: #800000\">│</span>   <span style=\"color: #7f7f7f; text-decoration-color: #7f7f7f\">16 │   </span><span style=\"color: #0000ff; text-decoration-color: #0000ff\">for</span> result,score <span style=\"color: #ff00ff; text-decoration-color: #ff00ff\">in</span> results:                                                            <span style=\"color: #800000; text-decoration-color: #800000\">│</span>\n",
       "<span style=\"color: #800000; text-decoration-color: #800000\">│</span>   <span style=\"color: #7f7f7f; text-decoration-color: #7f7f7f\">17 │   │   </span><span style=\"color: #0000ff; text-decoration-color: #0000ff\">if</span> show_score:                                                                      <span style=\"color: #800000; text-decoration-color: #800000\">│</span>\n",
       "<span style=\"color: #800000; text-decoration-color: #800000\">│</span>                                                                                                  <span style=\"color: #800000; text-decoration-color: #800000\">│</span>\n",
       "<span style=\"color: #800000; text-decoration-color: #800000\">│</span> <span style=\"color: #808000; text-decoration-color: #808000\">c:\\Anaconda3\\envs\\tensorflow\\lib\\site-packages\\langchain\\vectorstores\\base.py</span>:<span style=\"color: #0000ff; text-decoration-color: #0000ff\">94</span> in              <span style=\"color: #800000; text-decoration-color: #800000\">│</span>\n",
       "<span style=\"color: #800000; text-decoration-color: #800000\">│</span> <span style=\"color: #00ff00; text-decoration-color: #00ff00\">similarity_search_with_relevance_scores</span>                                                          <span style=\"color: #800000; text-decoration-color: #800000\">│</span>\n",
       "<span style=\"color: #800000; text-decoration-color: #800000\">│</span>                                                                                                  <span style=\"color: #800000; text-decoration-color: #800000\">│</span>\n",
       "<span style=\"color: #800000; text-decoration-color: #800000\">│</span>   <span style=\"color: #7f7f7f; text-decoration-color: #7f7f7f\"> 91 │   │   </span>                                                                                   <span style=\"color: #800000; text-decoration-color: #800000\">│</span>\n",
       "<span style=\"color: #800000; text-decoration-color: #800000\">│</span>   <span style=\"color: #7f7f7f; text-decoration-color: #7f7f7f\"> 92 </span><span style=\"color: #bfbf7f; text-decoration-color: #bfbf7f\">│   │   </span><span style=\"color: #808000; text-decoration-color: #808000\">0 is dissimilar, 1 is most similar.</span>                                                <span style=\"color: #800000; text-decoration-color: #800000\">│</span>\n",
       "<span style=\"color: #800000; text-decoration-color: #800000\">│</span>   <span style=\"color: #7f7f7f; text-decoration-color: #7f7f7f\"> 93 </span><span style=\"color: #bfbf7f; text-decoration-color: #bfbf7f\">│   │   </span><span style=\"color: #808000; text-decoration-color: #808000\">\"\"\"</span>                                                                                <span style=\"color: #800000; text-decoration-color: #800000\">│</span>\n",
       "<span style=\"color: #800000; text-decoration-color: #800000\">│</span> <span style=\"color: #800000; text-decoration-color: #800000\">❱ </span> 94 <span style=\"color: #7f7f7f; text-decoration-color: #7f7f7f\">│   │   </span>docs_and_similarities = <span style=\"color: #00ffff; text-decoration-color: #00ffff\">self</span>._similarity_search_with_relevance_scores(             <span style=\"color: #800000; text-decoration-color: #800000\">│</span>\n",
       "<span style=\"color: #800000; text-decoration-color: #800000\">│</span>   <span style=\"color: #7f7f7f; text-decoration-color: #7f7f7f\"> 95 │   │   │   </span>query, k=k, **kwargs                                                           <span style=\"color: #800000; text-decoration-color: #800000\">│</span>\n",
       "<span style=\"color: #800000; text-decoration-color: #800000\">│</span>   <span style=\"color: #7f7f7f; text-decoration-color: #7f7f7f\"> 96 │   │   </span>)                                                                                  <span style=\"color: #800000; text-decoration-color: #800000\">│</span>\n",
       "<span style=\"color: #800000; text-decoration-color: #800000\">│</span>   <span style=\"color: #7f7f7f; text-decoration-color: #7f7f7f\"> 97 │   │   </span><span style=\"color: #0000ff; text-decoration-color: #0000ff\">if</span> <span style=\"color: #00ffff; text-decoration-color: #00ffff\">any</span>(                                                                            <span style=\"color: #800000; text-decoration-color: #800000\">│</span>\n",
       "<span style=\"color: #800000; text-decoration-color: #800000\">│</span>                                                                                                  <span style=\"color: #800000; text-decoration-color: #800000\">│</span>\n",
       "<span style=\"color: #800000; text-decoration-color: #800000\">│</span> <span style=\"color: #808000; text-decoration-color: #808000\">c:\\Anaconda3\\envs\\tensorflow\\lib\\site-packages\\langchain\\vectorstores\\faiss.py</span>:<span style=\"color: #0000ff; text-decoration-color: #0000ff\">468</span> in            <span style=\"color: #800000; text-decoration-color: #800000\">│</span>\n",
       "<span style=\"color: #800000; text-decoration-color: #800000\">│</span> <span style=\"color: #00ff00; text-decoration-color: #00ff00\">_similarity_search_with_relevance_scores</span>                                                         <span style=\"color: #800000; text-decoration-color: #800000\">│</span>\n",
       "<span style=\"color: #800000; text-decoration-color: #800000\">│</span>                                                                                                  <span style=\"color: #800000; text-decoration-color: #800000\">│</span>\n",
       "<span style=\"color: #800000; text-decoration-color: #800000\">│</span>   <span style=\"color: #7f7f7f; text-decoration-color: #7f7f7f\">465 │   │   │   │   </span><span style=\"color: #808000; text-decoration-color: #808000\">\"normalize_score_fn must be provided to\"</span>                                   <span style=\"color: #800000; text-decoration-color: #800000\">│</span>\n",
       "<span style=\"color: #800000; text-decoration-color: #800000\">│</span>   <span style=\"color: #7f7f7f; text-decoration-color: #7f7f7f\">466 │   │   │   │   </span><span style=\"color: #808000; text-decoration-color: #808000\">\" FAISS constructor to normalize scores\"</span>                                   <span style=\"color: #800000; text-decoration-color: #800000\">│</span>\n",
       "<span style=\"color: #800000; text-decoration-color: #800000\">│</span>   <span style=\"color: #7f7f7f; text-decoration-color: #7f7f7f\">467 │   │   │   </span>)                                                                              <span style=\"color: #800000; text-decoration-color: #800000\">│</span>\n",
       "<span style=\"color: #800000; text-decoration-color: #800000\">│</span> <span style=\"color: #800000; text-decoration-color: #800000\">❱ </span>468 <span style=\"color: #7f7f7f; text-decoration-color: #7f7f7f\">│   │   </span>docs_and_scores = <span style=\"color: #00ffff; text-decoration-color: #00ffff\">self</span>.similarity_search_with_score(query, k=k)                    <span style=\"color: #800000; text-decoration-color: #800000\">│</span>\n",
       "<span style=\"color: #800000; text-decoration-color: #800000\">│</span>   <span style=\"color: #7f7f7f; text-decoration-color: #7f7f7f\">469 │   │   </span><span style=\"color: #0000ff; text-decoration-color: #0000ff\">return</span> [(doc, <span style=\"color: #00ffff; text-decoration-color: #00ffff\">self</span>.relevance_score_fn(score)) <span style=\"color: #0000ff; text-decoration-color: #0000ff\">for</span> doc, score <span style=\"color: #ff00ff; text-decoration-color: #ff00ff\">in</span> docs_and_scores]   <span style=\"color: #800000; text-decoration-color: #800000\">│</span>\n",
       "<span style=\"color: #800000; text-decoration-color: #800000\">│</span>   <span style=\"color: #7f7f7f; text-decoration-color: #7f7f7f\">470 </span>                                                                                           <span style=\"color: #800000; text-decoration-color: #800000\">│</span>\n",
       "<span style=\"color: #800000; text-decoration-color: #800000\">│</span>                                                                                                  <span style=\"color: #800000; text-decoration-color: #800000\">│</span>\n",
       "<span style=\"color: #800000; text-decoration-color: #800000\">│</span> <span style=\"color: #808000; text-decoration-color: #808000\">c:\\Anaconda3\\envs\\tensorflow\\lib\\site-packages\\langchain\\vectorstores\\faiss.py</span>:<span style=\"color: #0000ff; text-decoration-color: #0000ff\">195</span> in            <span style=\"color: #800000; text-decoration-color: #800000\">│</span>\n",
       "<span style=\"color: #800000; text-decoration-color: #800000\">│</span> <span style=\"color: #00ff00; text-decoration-color: #00ff00\">similarity_search_with_score</span>                                                                     <span style=\"color: #800000; text-decoration-color: #800000\">│</span>\n",
       "<span style=\"color: #800000; text-decoration-color: #800000\">│</span>                                                                                                  <span style=\"color: #800000; text-decoration-color: #800000\">│</span>\n",
       "<span style=\"color: #800000; text-decoration-color: #800000\">│</span>   <span style=\"color: #7f7f7f; text-decoration-color: #7f7f7f\">192 </span><span style=\"color: #bfbf7f; text-decoration-color: #bfbf7f\">│   │   </span><span style=\"color: #808000; text-decoration-color: #808000\">Returns:</span>                                                                           <span style=\"color: #800000; text-decoration-color: #800000\">│</span>\n",
       "<span style=\"color: #800000; text-decoration-color: #800000\">│</span>   <span style=\"color: #7f7f7f; text-decoration-color: #7f7f7f\">193 </span><span style=\"color: #bfbf7f; text-decoration-color: #bfbf7f\">│   │   │   </span><span style=\"color: #808000; text-decoration-color: #808000\">List of Documents most similar to the query and score for each</span>                 <span style=\"color: #800000; text-decoration-color: #800000\">│</span>\n",
       "<span style=\"color: #800000; text-decoration-color: #800000\">│</span>   <span style=\"color: #7f7f7f; text-decoration-color: #7f7f7f\">194 </span><span style=\"color: #bfbf7f; text-decoration-color: #bfbf7f\">│   │   </span><span style=\"color: #808000; text-decoration-color: #808000\">\"\"\"</span>                                                                                <span style=\"color: #800000; text-decoration-color: #800000\">│</span>\n",
       "<span style=\"color: #800000; text-decoration-color: #800000\">│</span> <span style=\"color: #800000; text-decoration-color: #800000\">❱ </span>195 <span style=\"color: #7f7f7f; text-decoration-color: #7f7f7f\">│   │   </span>embedding = <span style=\"color: #00ffff; text-decoration-color: #00ffff\">self</span>.embedding_function(query)                                         <span style=\"color: #800000; text-decoration-color: #800000\">│</span>\n",
       "<span style=\"color: #800000; text-decoration-color: #800000\">│</span>   <span style=\"color: #7f7f7f; text-decoration-color: #7f7f7f\">196 │   │   </span>docs = <span style=\"color: #00ffff; text-decoration-color: #00ffff\">self</span>.similarity_search_with_score_by_vector(embedding, k)                   <span style=\"color: #800000; text-decoration-color: #800000\">│</span>\n",
       "<span style=\"color: #800000; text-decoration-color: #800000\">│</span>   <span style=\"color: #7f7f7f; text-decoration-color: #7f7f7f\">197 │   │   </span><span style=\"color: #0000ff; text-decoration-color: #0000ff\">return</span> docs                                                                        <span style=\"color: #800000; text-decoration-color: #800000\">│</span>\n",
       "<span style=\"color: #800000; text-decoration-color: #800000\">│</span>   <span style=\"color: #7f7f7f; text-decoration-color: #7f7f7f\">198 </span>                                                                                           <span style=\"color: #800000; text-decoration-color: #800000\">│</span>\n",
       "<span style=\"color: #800000; text-decoration-color: #800000\">│</span>                                                                                                  <span style=\"color: #800000; text-decoration-color: #800000\">│</span>\n",
       "<span style=\"color: #800000; text-decoration-color: #800000\">│</span> <span style=\"color: #808000; text-decoration-color: #808000\">c:\\Anaconda3\\envs\\tensorflow\\lib\\site-packages\\langchain\\embeddings\\huggingface.py</span>:<span style=\"color: #0000ff; text-decoration-color: #0000ff\">79</span> in         <span style=\"color: #800000; text-decoration-color: #800000\">│</span>\n",
       "<span style=\"color: #800000; text-decoration-color: #800000\">│</span> <span style=\"color: #00ff00; text-decoration-color: #00ff00\">embed_query</span>                                                                                      <span style=\"color: #800000; text-decoration-color: #800000\">│</span>\n",
       "<span style=\"color: #800000; text-decoration-color: #800000\">│</span>                                                                                                  <span style=\"color: #800000; text-decoration-color: #800000\">│</span>\n",
       "<span style=\"color: #800000; text-decoration-color: #800000\">│</span>   <span style=\"color: #7f7f7f; text-decoration-color: #7f7f7f\"> 76 </span><span style=\"color: #bfbf7f; text-decoration-color: #bfbf7f\">│   │   │   </span><span style=\"color: #808000; text-decoration-color: #808000\">Embeddings for the text.</span>                                                       <span style=\"color: #800000; text-decoration-color: #800000\">│</span>\n",
       "<span style=\"color: #800000; text-decoration-color: #800000\">│</span>   <span style=\"color: #7f7f7f; text-decoration-color: #7f7f7f\"> 77 </span><span style=\"color: #bfbf7f; text-decoration-color: #bfbf7f\">│   │   </span><span style=\"color: #808000; text-decoration-color: #808000\">\"\"\"</span>                                                                                <span style=\"color: #800000; text-decoration-color: #800000\">│</span>\n",
       "<span style=\"color: #800000; text-decoration-color: #800000\">│</span>   <span style=\"color: #7f7f7f; text-decoration-color: #7f7f7f\"> 78 │   │   </span>text = text.replace(<span style=\"color: #808000; text-decoration-color: #808000\">\"\\n\"</span>, <span style=\"color: #808000; text-decoration-color: #808000\">\" \"</span>)                                                     <span style=\"color: #800000; text-decoration-color: #800000\">│</span>\n",
       "<span style=\"color: #800000; text-decoration-color: #800000\">│</span> <span style=\"color: #800000; text-decoration-color: #800000\">❱ </span> 79 <span style=\"color: #7f7f7f; text-decoration-color: #7f7f7f\">│   │   </span>embedding = <span style=\"color: #00ffff; text-decoration-color: #00ffff\">self</span>.client.encode(text)                                               <span style=\"color: #800000; text-decoration-color: #800000\">│</span>\n",
       "<span style=\"color: #800000; text-decoration-color: #800000\">│</span>   <span style=\"color: #7f7f7f; text-decoration-color: #7f7f7f\"> 80 │   │   </span><span style=\"color: #0000ff; text-decoration-color: #0000ff\">return</span> embedding.tolist()                                                          <span style=\"color: #800000; text-decoration-color: #800000\">│</span>\n",
       "<span style=\"color: #800000; text-decoration-color: #800000\">│</span>   <span style=\"color: #7f7f7f; text-decoration-color: #7f7f7f\"> 81 </span>                                                                                           <span style=\"color: #800000; text-decoration-color: #800000\">│</span>\n",
       "<span style=\"color: #800000; text-decoration-color: #800000\">│</span>   <span style=\"color: #7f7f7f; text-decoration-color: #7f7f7f\"> 82 </span>                                                                                           <span style=\"color: #800000; text-decoration-color: #800000\">│</span>\n",
       "<span style=\"color: #800000; text-decoration-color: #800000\">│</span>                                                                                                  <span style=\"color: #800000; text-decoration-color: #800000\">│</span>\n",
       "<span style=\"color: #800000; text-decoration-color: #800000\">│</span> <span style=\"color: #808000; text-decoration-color: #808000\">d:\\ml\\ptuningMyWaifu\\my_faiss.py</span>:<span style=\"color: #0000ff; text-decoration-color: #0000ff\">9</span> in <span style=\"color: #00ff00; text-decoration-color: #00ff00\">encode</span>                                                     <span style=\"color: #800000; text-decoration-color: #800000\">│</span>\n",
       "<span style=\"color: #800000; text-decoration-color: #800000\">│</span>                                                                                                  <span style=\"color: #800000; text-decoration-color: #800000\">│</span>\n",
       "<span style=\"color: #800000; text-decoration-color: #800000\">│</span>   <span style=\"color: #7f7f7f; text-decoration-color: #7f7f7f\"> 6 </span><span style=\"color: #0000ff; text-decoration-color: #0000ff\">class</span> <span style=\"color: #00ff00; text-decoration-color: #00ff00; text-decoration: underline\">SentenceTransformerNormalized</span>(SentenceTransformer):                                   <span style=\"color: #800000; text-decoration-color: #800000\">│</span>\n",
       "<span style=\"color: #800000; text-decoration-color: #800000\">│</span>   <span style=\"color: #7f7f7f; text-decoration-color: #7f7f7f\"> 7 │   </span><span style=\"color: #0000ff; text-decoration-color: #0000ff\">def</span> <span style=\"color: #00ff00; text-decoration-color: #00ff00\">encode</span>(<span style=\"color: #00ffff; text-decoration-color: #00ffff\">self</span>, *args, **kwargs):                                                      <span style=\"color: #800000; text-decoration-color: #800000\">│</span>\n",
       "<span style=\"color: #800000; text-decoration-color: #800000\">│</span>   <span style=\"color: #7f7f7f; text-decoration-color: #7f7f7f\"> 8 │   │   </span>kwargs[<span style=\"color: #808000; text-decoration-color: #808000\">'normalize_embeddings'</span>]=<span style=\"color: #0000ff; text-decoration-color: #0000ff\">True</span>                                                 <span style=\"color: #800000; text-decoration-color: #800000\">│</span>\n",
       "<span style=\"color: #800000; text-decoration-color: #800000\">│</span> <span style=\"color: #800000; text-decoration-color: #800000\">❱ </span> 9 <span style=\"color: #7f7f7f; text-decoration-color: #7f7f7f\">│   │   </span><span style=\"color: #0000ff; text-decoration-color: #0000ff\">return</span> <span style=\"color: #00ffff; text-decoration-color: #00ffff\">super</span>().encode(*args, **kwargs)                                              <span style=\"color: #800000; text-decoration-color: #800000\">│</span>\n",
       "<span style=\"color: #800000; text-decoration-color: #800000\">│</span>   <span style=\"color: #7f7f7f; text-decoration-color: #7f7f7f\">10 </span>embeddings = HuggingFaceEmbeddings(model_name=<span style=\"color: #808000; text-decoration-color: #808000\">r'D:\\ml\\text2vec-large-chinese'</span>)              <span style=\"color: #800000; text-decoration-color: #800000\">│</span>\n",
       "<span style=\"color: #800000; text-decoration-color: #800000\">│</span>   <span style=\"color: #7f7f7f; text-decoration-color: #7f7f7f\">11 </span>embeddings.client=SentenceTransformerNormalized(embeddings.model_name,device=<span style=\"color: #808000; text-decoration-color: #808000\">\"cuda\"</span>)        <span style=\"color: #800000; text-decoration-color: #800000\">│</span>\n",
       "<span style=\"color: #800000; text-decoration-color: #800000\">│</span>   <span style=\"color: #7f7f7f; text-decoration-color: #7f7f7f\">12 </span>                                                                                            <span style=\"color: #800000; text-decoration-color: #800000\">│</span>\n",
       "<span style=\"color: #800000; text-decoration-color: #800000\">│</span>                                                                                                  <span style=\"color: #800000; text-decoration-color: #800000\">│</span>\n",
       "<span style=\"color: #800000; text-decoration-color: #800000\">│</span> <span style=\"color: #808000; text-decoration-color: #808000\">c:\\Anaconda3\\envs\\tensorflow\\lib\\site-packages\\sentence_transformers\\SentenceTransformer.py</span>:<span style=\"color: #0000ff; text-decoration-color: #0000ff\">188</span>  <span style=\"color: #800000; text-decoration-color: #800000\">│</span>\n",
       "<span style=\"color: #800000; text-decoration-color: #800000\">│</span> in <span style=\"color: #00ff00; text-decoration-color: #00ff00\">encode</span>                                                                                        <span style=\"color: #800000; text-decoration-color: #800000\">│</span>\n",
       "<span style=\"color: #800000; text-decoration-color: #800000\">│</span>                                                                                                  <span style=\"color: #800000; text-decoration-color: #800000\">│</span>\n",
       "<span style=\"color: #800000; text-decoration-color: #800000\">│</span>   <span style=\"color: #7f7f7f; text-decoration-color: #7f7f7f\">185 │   │   │   │   │   </span>                                                                       <span style=\"color: #800000; text-decoration-color: #800000\">│</span>\n",
       "<span style=\"color: #800000; text-decoration-color: #800000\">│</span>   <span style=\"color: #7f7f7f; text-decoration-color: #7f7f7f\">186 │   │   │   │   │   # fixes for #522 and #487 to avoid oom problems on gpu with large da</span>   <span style=\"color: #800000; text-decoration-color: #800000\">│</span>\n",
       "<span style=\"color: #800000; text-decoration-color: #800000\">│</span>   <span style=\"color: #7f7f7f; text-decoration-color: #7f7f7f\">187 │   │   │   │   │   </span><span style=\"color: #0000ff; text-decoration-color: #0000ff\">if</span> convert_to_numpy:                                                   <span style=\"color: #800000; text-decoration-color: #800000\">│</span>\n",
       "<span style=\"color: #800000; text-decoration-color: #800000\">│</span> <span style=\"color: #800000; text-decoration-color: #800000\">❱ </span>188 <span style=\"color: #7f7f7f; text-decoration-color: #7f7f7f\">│   │   │   │   │   │   </span>embeddings = embeddings.cpu()                                      <span style=\"color: #800000; text-decoration-color: #800000\">│</span>\n",
       "<span style=\"color: #800000; text-decoration-color: #800000\">│</span>   <span style=\"color: #7f7f7f; text-decoration-color: #7f7f7f\">189 │   │   │   │   </span>                                                                           <span style=\"color: #800000; text-decoration-color: #800000\">│</span>\n",
       "<span style=\"color: #800000; text-decoration-color: #800000\">│</span>   <span style=\"color: #7f7f7f; text-decoration-color: #7f7f7f\">190 │   │   │   │   </span>all_embeddings.extend(embeddings)                                          <span style=\"color: #800000; text-decoration-color: #800000\">│</span>\n",
       "<span style=\"color: #800000; text-decoration-color: #800000\">│</span>   <span style=\"color: #7f7f7f; text-decoration-color: #7f7f7f\">191 </span>                                                                                           <span style=\"color: #800000; text-decoration-color: #800000\">│</span>\n",
       "<span style=\"color: #800000; text-decoration-color: #800000\">╰──────────────────────────────────────────────────────────────────────────────────────────────────╯</span>\n",
       "<span style=\"color: #ff0000; text-decoration-color: #ff0000; font-weight: bold\">KeyboardInterrupt</span>\n",
       "</pre>\n"
      ],
      "text/plain": [
       "\u001b[31m╭─\u001b[0m\u001b[31m──────────────────────────────\u001b[0m\u001b[31m \u001b[0m\u001b[1;31mTraceback \u001b[0m\u001b[1;2;31m(most recent call last)\u001b[0m\u001b[31m \u001b[0m\u001b[31m───────────────────────────────\u001b[0m\u001b[31m─╮\u001b[0m\n",
       "\u001b[31m│\u001b[0m in \u001b[92m<module>\u001b[0m:\u001b[94m11\u001b[0m                                                                                   \u001b[31m│\u001b[0m\n",
       "\u001b[31m│\u001b[0m in \u001b[92mgenerate_prompt\u001b[0m:\u001b[94m19\u001b[0m                                                                            \u001b[31m│\u001b[0m\n",
       "\u001b[31m│\u001b[0m                                                                                                  \u001b[31m│\u001b[0m\n",
       "\u001b[31m│\u001b[0m \u001b[33md:\\ml\\ptuningMyWaifu\\my_faiss.py\u001b[0m:\u001b[94m14\u001b[0m in \u001b[92mget_bg_hint\u001b[0m                                               \u001b[31m│\u001b[0m\n",
       "\u001b[31m│\u001b[0m                                                                                                  \u001b[31m│\u001b[0m\n",
       "\u001b[31m│\u001b[0m   \u001b[2m11 \u001b[0membeddings.client=SentenceTransformerNormalized(embeddings.model_name,device=\u001b[33m\"\u001b[0m\u001b[33mcuda\u001b[0m\u001b[33m\"\u001b[0m)        \u001b[31m│\u001b[0m\n",
       "\u001b[31m│\u001b[0m   \u001b[2m12 \u001b[0m                                                                                            \u001b[31m│\u001b[0m\n",
       "\u001b[31m│\u001b[0m   \u001b[2m13 \u001b[0m\u001b[94mdef\u001b[0m \u001b[92mget_bg_hint\u001b[0m(context,max_text_len=\u001b[94m500\u001b[0m,k=\u001b[94m25\u001b[0m,show_score=\u001b[94mFalse\u001b[0m):                            \u001b[31m│\u001b[0m\n",
       "\u001b[31m│\u001b[0m \u001b[31m❱ \u001b[0m14 \u001b[2m│   \u001b[0mresults=get_bg_hint.vector_store.similarity_search_with_relevance_scores(context,k=k    \u001b[31m│\u001b[0m\n",
       "\u001b[31m│\u001b[0m   \u001b[2m15 \u001b[0m\u001b[2m│   \u001b[0mall_result_text=\u001b[33m'\u001b[0m\u001b[33m'\u001b[0m                                                                      \u001b[31m│\u001b[0m\n",
       "\u001b[31m│\u001b[0m   \u001b[2m16 \u001b[0m\u001b[2m│   \u001b[0m\u001b[94mfor\u001b[0m result,score \u001b[95min\u001b[0m results:                                                            \u001b[31m│\u001b[0m\n",
       "\u001b[31m│\u001b[0m   \u001b[2m17 \u001b[0m\u001b[2m│   │   \u001b[0m\u001b[94mif\u001b[0m show_score:                                                                      \u001b[31m│\u001b[0m\n",
       "\u001b[31m│\u001b[0m                                                                                                  \u001b[31m│\u001b[0m\n",
       "\u001b[31m│\u001b[0m \u001b[33mc:\\Anaconda3\\envs\\tensorflow\\lib\\site-packages\\langchain\\vectorstores\\base.py\u001b[0m:\u001b[94m94\u001b[0m in              \u001b[31m│\u001b[0m\n",
       "\u001b[31m│\u001b[0m \u001b[92msimilarity_search_with_relevance_scores\u001b[0m                                                          \u001b[31m│\u001b[0m\n",
       "\u001b[31m│\u001b[0m                                                                                                  \u001b[31m│\u001b[0m\n",
       "\u001b[31m│\u001b[0m   \u001b[2m 91 \u001b[0m\u001b[2m│   │   \u001b[0m                                                                                   \u001b[31m│\u001b[0m\n",
       "\u001b[31m│\u001b[0m   \u001b[2m 92 \u001b[0m\u001b[2;33m│   │   \u001b[0m\u001b[33m0 is dissimilar, 1 is most similar.\u001b[0m                                                \u001b[31m│\u001b[0m\n",
       "\u001b[31m│\u001b[0m   \u001b[2m 93 \u001b[0m\u001b[2;33m│   │   \u001b[0m\u001b[33m\"\"\"\u001b[0m                                                                                \u001b[31m│\u001b[0m\n",
       "\u001b[31m│\u001b[0m \u001b[31m❱ \u001b[0m 94 \u001b[2m│   │   \u001b[0mdocs_and_similarities = \u001b[96mself\u001b[0m._similarity_search_with_relevance_scores(             \u001b[31m│\u001b[0m\n",
       "\u001b[31m│\u001b[0m   \u001b[2m 95 \u001b[0m\u001b[2m│   │   │   \u001b[0mquery, k=k, **kwargs                                                           \u001b[31m│\u001b[0m\n",
       "\u001b[31m│\u001b[0m   \u001b[2m 96 \u001b[0m\u001b[2m│   │   \u001b[0m)                                                                                  \u001b[31m│\u001b[0m\n",
       "\u001b[31m│\u001b[0m   \u001b[2m 97 \u001b[0m\u001b[2m│   │   \u001b[0m\u001b[94mif\u001b[0m \u001b[96many\u001b[0m(                                                                            \u001b[31m│\u001b[0m\n",
       "\u001b[31m│\u001b[0m                                                                                                  \u001b[31m│\u001b[0m\n",
       "\u001b[31m│\u001b[0m \u001b[33mc:\\Anaconda3\\envs\\tensorflow\\lib\\site-packages\\langchain\\vectorstores\\faiss.py\u001b[0m:\u001b[94m468\u001b[0m in            \u001b[31m│\u001b[0m\n",
       "\u001b[31m│\u001b[0m \u001b[92m_similarity_search_with_relevance_scores\u001b[0m                                                         \u001b[31m│\u001b[0m\n",
       "\u001b[31m│\u001b[0m                                                                                                  \u001b[31m│\u001b[0m\n",
       "\u001b[31m│\u001b[0m   \u001b[2m465 \u001b[0m\u001b[2m│   │   │   │   \u001b[0m\u001b[33m\"\u001b[0m\u001b[33mnormalize_score_fn must be provided to\u001b[0m\u001b[33m\"\u001b[0m                                   \u001b[31m│\u001b[0m\n",
       "\u001b[31m│\u001b[0m   \u001b[2m466 \u001b[0m\u001b[2m│   │   │   │   \u001b[0m\u001b[33m\"\u001b[0m\u001b[33m FAISS constructor to normalize scores\u001b[0m\u001b[33m\"\u001b[0m                                   \u001b[31m│\u001b[0m\n",
       "\u001b[31m│\u001b[0m   \u001b[2m467 \u001b[0m\u001b[2m│   │   │   \u001b[0m)                                                                              \u001b[31m│\u001b[0m\n",
       "\u001b[31m│\u001b[0m \u001b[31m❱ \u001b[0m468 \u001b[2m│   │   \u001b[0mdocs_and_scores = \u001b[96mself\u001b[0m.similarity_search_with_score(query, k=k)                    \u001b[31m│\u001b[0m\n",
       "\u001b[31m│\u001b[0m   \u001b[2m469 \u001b[0m\u001b[2m│   │   \u001b[0m\u001b[94mreturn\u001b[0m [(doc, \u001b[96mself\u001b[0m.relevance_score_fn(score)) \u001b[94mfor\u001b[0m doc, score \u001b[95min\u001b[0m docs_and_scores]   \u001b[31m│\u001b[0m\n",
       "\u001b[31m│\u001b[0m   \u001b[2m470 \u001b[0m                                                                                           \u001b[31m│\u001b[0m\n",
       "\u001b[31m│\u001b[0m                                                                                                  \u001b[31m│\u001b[0m\n",
       "\u001b[31m│\u001b[0m \u001b[33mc:\\Anaconda3\\envs\\tensorflow\\lib\\site-packages\\langchain\\vectorstores\\faiss.py\u001b[0m:\u001b[94m195\u001b[0m in            \u001b[31m│\u001b[0m\n",
       "\u001b[31m│\u001b[0m \u001b[92msimilarity_search_with_score\u001b[0m                                                                     \u001b[31m│\u001b[0m\n",
       "\u001b[31m│\u001b[0m                                                                                                  \u001b[31m│\u001b[0m\n",
       "\u001b[31m│\u001b[0m   \u001b[2m192 \u001b[0m\u001b[2;33m│   │   \u001b[0m\u001b[33mReturns:\u001b[0m                                                                           \u001b[31m│\u001b[0m\n",
       "\u001b[31m│\u001b[0m   \u001b[2m193 \u001b[0m\u001b[2;33m│   │   │   \u001b[0m\u001b[33mList of Documents most similar to the query and score for each\u001b[0m                 \u001b[31m│\u001b[0m\n",
       "\u001b[31m│\u001b[0m   \u001b[2m194 \u001b[0m\u001b[2;33m│   │   \u001b[0m\u001b[33m\"\"\"\u001b[0m                                                                                \u001b[31m│\u001b[0m\n",
       "\u001b[31m│\u001b[0m \u001b[31m❱ \u001b[0m195 \u001b[2m│   │   \u001b[0membedding = \u001b[96mself\u001b[0m.embedding_function(query)                                         \u001b[31m│\u001b[0m\n",
       "\u001b[31m│\u001b[0m   \u001b[2m196 \u001b[0m\u001b[2m│   │   \u001b[0mdocs = \u001b[96mself\u001b[0m.similarity_search_with_score_by_vector(embedding, k)                   \u001b[31m│\u001b[0m\n",
       "\u001b[31m│\u001b[0m   \u001b[2m197 \u001b[0m\u001b[2m│   │   \u001b[0m\u001b[94mreturn\u001b[0m docs                                                                        \u001b[31m│\u001b[0m\n",
       "\u001b[31m│\u001b[0m   \u001b[2m198 \u001b[0m                                                                                           \u001b[31m│\u001b[0m\n",
       "\u001b[31m│\u001b[0m                                                                                                  \u001b[31m│\u001b[0m\n",
       "\u001b[31m│\u001b[0m \u001b[33mc:\\Anaconda3\\envs\\tensorflow\\lib\\site-packages\\langchain\\embeddings\\huggingface.py\u001b[0m:\u001b[94m79\u001b[0m in         \u001b[31m│\u001b[0m\n",
       "\u001b[31m│\u001b[0m \u001b[92membed_query\u001b[0m                                                                                      \u001b[31m│\u001b[0m\n",
       "\u001b[31m│\u001b[0m                                                                                                  \u001b[31m│\u001b[0m\n",
       "\u001b[31m│\u001b[0m   \u001b[2m 76 \u001b[0m\u001b[2;33m│   │   │   \u001b[0m\u001b[33mEmbeddings for the text.\u001b[0m                                                       \u001b[31m│\u001b[0m\n",
       "\u001b[31m│\u001b[0m   \u001b[2m 77 \u001b[0m\u001b[2;33m│   │   \u001b[0m\u001b[33m\"\"\"\u001b[0m                                                                                \u001b[31m│\u001b[0m\n",
       "\u001b[31m│\u001b[0m   \u001b[2m 78 \u001b[0m\u001b[2m│   │   \u001b[0mtext = text.replace(\u001b[33m\"\u001b[0m\u001b[33m\\n\u001b[0m\u001b[33m\"\u001b[0m, \u001b[33m\"\u001b[0m\u001b[33m \u001b[0m\u001b[33m\"\u001b[0m)                                                     \u001b[31m│\u001b[0m\n",
       "\u001b[31m│\u001b[0m \u001b[31m❱ \u001b[0m 79 \u001b[2m│   │   \u001b[0membedding = \u001b[96mself\u001b[0m.client.encode(text)                                               \u001b[31m│\u001b[0m\n",
       "\u001b[31m│\u001b[0m   \u001b[2m 80 \u001b[0m\u001b[2m│   │   \u001b[0m\u001b[94mreturn\u001b[0m embedding.tolist()                                                          \u001b[31m│\u001b[0m\n",
       "\u001b[31m│\u001b[0m   \u001b[2m 81 \u001b[0m                                                                                           \u001b[31m│\u001b[0m\n",
       "\u001b[31m│\u001b[0m   \u001b[2m 82 \u001b[0m                                                                                           \u001b[31m│\u001b[0m\n",
       "\u001b[31m│\u001b[0m                                                                                                  \u001b[31m│\u001b[0m\n",
       "\u001b[31m│\u001b[0m \u001b[33md:\\ml\\ptuningMyWaifu\\my_faiss.py\u001b[0m:\u001b[94m9\u001b[0m in \u001b[92mencode\u001b[0m                                                     \u001b[31m│\u001b[0m\n",
       "\u001b[31m│\u001b[0m                                                                                                  \u001b[31m│\u001b[0m\n",
       "\u001b[31m│\u001b[0m   \u001b[2m 6 \u001b[0m\u001b[94mclass\u001b[0m \u001b[4;92mSentenceTransformerNormalized\u001b[0m(SentenceTransformer):                                   \u001b[31m│\u001b[0m\n",
       "\u001b[31m│\u001b[0m   \u001b[2m 7 \u001b[0m\u001b[2m│   \u001b[0m\u001b[94mdef\u001b[0m \u001b[92mencode\u001b[0m(\u001b[96mself\u001b[0m, *args, **kwargs):                                                      \u001b[31m│\u001b[0m\n",
       "\u001b[31m│\u001b[0m   \u001b[2m 8 \u001b[0m\u001b[2m│   │   \u001b[0mkwargs[\u001b[33m'\u001b[0m\u001b[33mnormalize_embeddings\u001b[0m\u001b[33m'\u001b[0m]=\u001b[94mTrue\u001b[0m                                                 \u001b[31m│\u001b[0m\n",
       "\u001b[31m│\u001b[0m \u001b[31m❱ \u001b[0m 9 \u001b[2m│   │   \u001b[0m\u001b[94mreturn\u001b[0m \u001b[96msuper\u001b[0m().encode(*args, **kwargs)                                              \u001b[31m│\u001b[0m\n",
       "\u001b[31m│\u001b[0m   \u001b[2m10 \u001b[0membeddings = HuggingFaceEmbeddings(model_name=\u001b[33mr\u001b[0m\u001b[33m'\u001b[0m\u001b[33mD:\u001b[0m\u001b[33m\\\u001b[0m\u001b[33mml\u001b[0m\u001b[33m\\\u001b[0m\u001b[33mtext2vec-large-chinese\u001b[0m\u001b[33m'\u001b[0m)              \u001b[31m│\u001b[0m\n",
       "\u001b[31m│\u001b[0m   \u001b[2m11 \u001b[0membeddings.client=SentenceTransformerNormalized(embeddings.model_name,device=\u001b[33m\"\u001b[0m\u001b[33mcuda\u001b[0m\u001b[33m\"\u001b[0m)        \u001b[31m│\u001b[0m\n",
       "\u001b[31m│\u001b[0m   \u001b[2m12 \u001b[0m                                                                                            \u001b[31m│\u001b[0m\n",
       "\u001b[31m│\u001b[0m                                                                                                  \u001b[31m│\u001b[0m\n",
       "\u001b[31m│\u001b[0m \u001b[33mc:\\Anaconda3\\envs\\tensorflow\\lib\\site-packages\\sentence_transformers\\SentenceTransformer.py\u001b[0m:\u001b[94m188\u001b[0m  \u001b[31m│\u001b[0m\n",
       "\u001b[31m│\u001b[0m in \u001b[92mencode\u001b[0m                                                                                        \u001b[31m│\u001b[0m\n",
       "\u001b[31m│\u001b[0m                                                                                                  \u001b[31m│\u001b[0m\n",
       "\u001b[31m│\u001b[0m   \u001b[2m185 \u001b[0m\u001b[2m│   │   │   │   │   \u001b[0m                                                                       \u001b[31m│\u001b[0m\n",
       "\u001b[31m│\u001b[0m   \u001b[2m186 \u001b[0m\u001b[2m│   │   │   │   │   \u001b[0m\u001b[2m# fixes for #522 and #487 to avoid oom problems on gpu with large da\u001b[0m   \u001b[31m│\u001b[0m\n",
       "\u001b[31m│\u001b[0m   \u001b[2m187 \u001b[0m\u001b[2m│   │   │   │   │   \u001b[0m\u001b[94mif\u001b[0m convert_to_numpy:                                                   \u001b[31m│\u001b[0m\n",
       "\u001b[31m│\u001b[0m \u001b[31m❱ \u001b[0m188 \u001b[2m│   │   │   │   │   │   \u001b[0membeddings = embeddings.cpu()                                      \u001b[31m│\u001b[0m\n",
       "\u001b[31m│\u001b[0m   \u001b[2m189 \u001b[0m\u001b[2m│   │   │   │   \u001b[0m                                                                           \u001b[31m│\u001b[0m\n",
       "\u001b[31m│\u001b[0m   \u001b[2m190 \u001b[0m\u001b[2m│   │   │   │   \u001b[0mall_embeddings.extend(embeddings)                                          \u001b[31m│\u001b[0m\n",
       "\u001b[31m│\u001b[0m   \u001b[2m191 \u001b[0m                                                                                           \u001b[31m│\u001b[0m\n",
       "\u001b[31m╰──────────────────────────────────────────────────────────────────────────────────────────────────╯\u001b[0m\n",
       "\u001b[1;91mKeyboardInterrupt\u001b[0m\n"
      ]
     },
     "metadata": {},
     "output_type": "display_data"
    }
   ],
   "source": [
    "if os.path.exists(rp_train_data_cache_path):\n",
    "    train_data=json.load(open(rp_train_data_cache_path, 'r', encoding='utf-8'))\n",
    "else:\n",
    "    train_data=[]\n",
    "for iItem in tqdm(range(len(all_content))):\n",
    "    item=all_content[iItem]\n",
    "    if 'char' in item:\n",
    "        # check if item_id already in train_data\n",
    "        if any([item['item_id']==iItem for item in train_data]):\n",
    "            continue\n",
    "        prompt=generate_prompt(item,\n",
    "                               max_prompt_tokens=max_prompt_tokens,\n",
    "                               max_chaper_summary_tokens=max_chaper_summary_tokens,\n",
    "                               max_character_summary_tokens=max_character_summary_tokens,\n",
    "                               max_bg_hint_tokens=max_bg_hint_tokens)\n",
    "        response=generate_line(item, no_char=True)\n",
    "        train_data.append({'prompt':prompt, 'response':response, 'item_id':iItem})\n",
    "    if iItem%1000==0 and iItem>0:\n",
    "        print('processed', iItem, 'items')\n",
    "        # save train_data to rp_train_data_cache_path\n",
    "        json.dump(train_data, open(rp_train_data_cache_path, 'w', encoding='utf-8'), ensure_ascii=False, indent=2)\n",
    "        print('saved to', rp_train_data_cache_path)\n",
    "\n",
    "print('processed', len(all_content), 'items')\n",
    "# save train_data to rp_train_data_path\n",
    "json.dump(train_data, open(rp_train_data_path, 'w', encoding='utf-8'), ensure_ascii=False, indent=2)\n",
    "print('saved to', rp_train_data_path)"
   ]
  },
  {
   "cell_type": "markdown",
   "metadata": {},
   "source": [
    "# 未整理的旧代码"
   ]
  },
  {
   "cell_type": "code",
   "execution_count": null,
   "metadata": {},
   "outputs": [],
   "source": []
  },
  {
   "cell_type": "code",
   "execution_count": 80,
   "metadata": {},
   "outputs": [
    {
     "name": "stdout",
     "output_type": "stream",
     "text": [
      "mode=none\n",
      "''\n",
      "mode=prev_dialogue\n"
     ]
    },
    {
     "data": {
      "text/html": [
       "<pre style=\"white-space:pre;overflow-x:auto;line-height:normal;font-family:Menlo,'DejaVu Sans Mono',consolas,'Courier New',monospace\"><span style=\"color: #800000; text-decoration-color: #800000\">╭─────────────────────────────── </span><span style=\"color: #800000; text-decoration-color: #800000; font-weight: bold\">Traceback </span><span style=\"color: #bf7f7f; text-decoration-color: #bf7f7f; font-weight: bold\">(most recent call last)</span><span style=\"color: #800000; text-decoration-color: #800000\"> ────────────────────────────────╮</span>\n",
       "<span style=\"color: #800000; text-decoration-color: #800000\">│</span> in <span style=\"color: #00ff00; text-decoration-color: #00ff00\">&lt;module&gt;</span>:<span style=\"color: #0000ff; text-decoration-color: #0000ff\">34</span>                                                                                   <span style=\"color: #800000; text-decoration-color: #800000\">│</span>\n",
       "<span style=\"color: #800000; text-decoration-color: #800000\">│</span> in <span style=\"color: #00ff00; text-decoration-color: #00ff00\">generate_history_text</span>:<span style=\"color: #0000ff; text-decoration-color: #0000ff\">3</span>                                                                       <span style=\"color: #800000; text-decoration-color: #800000\">│</span>\n",
       "<span style=\"color: #800000; text-decoration-color: #800000\">│</span> in <span style=\"color: #00ff00; text-decoration-color: #00ff00\">generate_history_text</span>:<span style=\"color: #0000ff; text-decoration-color: #0000ff\">11</span>                                                                      <span style=\"color: #800000; text-decoration-color: #800000\">│</span>\n",
       "<span style=\"color: #800000; text-decoration-color: #800000\">╰──────────────────────────────────────────────────────────────────────────────────────────────────╯</span>\n",
       "<span style=\"color: #ff0000; text-decoration-color: #ff0000; font-weight: bold\">NameError: </span>name <span style=\"color: #008000; text-decoration-color: #008000\">'generate_response_text'</span> is not defined\n",
       "</pre>\n"
      ],
      "text/plain": [
       "\u001b[31m╭─\u001b[0m\u001b[31m──────────────────────────────\u001b[0m\u001b[31m \u001b[0m\u001b[1;31mTraceback \u001b[0m\u001b[1;2;31m(most recent call last)\u001b[0m\u001b[31m \u001b[0m\u001b[31m───────────────────────────────\u001b[0m\u001b[31m─╮\u001b[0m\n",
       "\u001b[31m│\u001b[0m in \u001b[92m<module>\u001b[0m:\u001b[94m34\u001b[0m                                                                                   \u001b[31m│\u001b[0m\n",
       "\u001b[31m│\u001b[0m in \u001b[92mgenerate_history_text\u001b[0m:\u001b[94m3\u001b[0m                                                                       \u001b[31m│\u001b[0m\n",
       "\u001b[31m│\u001b[0m in \u001b[92mgenerate_history_text\u001b[0m:\u001b[94m11\u001b[0m                                                                      \u001b[31m│\u001b[0m\n",
       "\u001b[31m╰──────────────────────────────────────────────────────────────────────────────────────────────────╯\u001b[0m\n",
       "\u001b[1;91mNameError: \u001b[0mname \u001b[32m'generate_response_text'\u001b[0m is not defined\n"
      ]
     },
     "metadata": {},
     "output_type": "display_data"
    }
   ],
   "source": [
    "\n",
    "\n",
    "def generate_history_text(content:'list[dict]',mode='full',max_history_tokens=max_history_tokens,bg_hint_num=0):\n",
    "    if bg_hint_num>0:\n",
    "        tmp_history_text=generate_history_text(content,mode='full',max_history_tokens=max_history_tokens,bg_hint_num=0)\n",
    "        bg_hint_text=get_bg_hint(tmp_history_text,k=bg_hint_num)+'\\n'\n",
    "    else:\n",
    "        bg_hint_text=''\n",
    "    if mode=='full':\n",
    "        all_text=''\n",
    "        for item in content[-1::-1]:\n",
    "            if 'char' in item:\n",
    "                line=f'{item[\"char\"]}：'+generate_response_text(item)\n",
    "            elif 'info' in item:\n",
    "                line=f'【{item[\"info\"]}】'\n",
    "            else:\n",
    "                continue\n",
    "            if estimate_tokenized_length(bg_hint_text+all_text+line+'\\n')>max_history_tokens:\n",
    "                break\n",
    "            else:\n",
    "                all_text=line+'\\n'+all_text\n",
    "        return bg_hint_text+all_text\n",
    "    elif mode=='prev_dialogue':\n",
    "        for item in content[-1::-1]:\n",
    "            if 'char' in item and 'say' in item:\n",
    "                return bg_hint_text+item['say']+'\\n'\n",
    "        return ''\n",
    "    elif mode=='none':\n",
    "        return ''\n",
    "    else:\n",
    "        raise ValueError(f'Unknown mode: {mode}')\n",
    "\n",
    "print('mode=none')\n",
    "print(repr(generate_history_text(all_content[:331], mode='none')))\n",
    "print('mode=prev_dialogue')\n",
    "print(generate_history_text(all_content[:331], mode='prev_dialogue',bg_hint_num=3))\n",
    "print('mode=full')\n",
    "histoy_text=generate_history_text(all_content[:331], mode='full',bg_hint_num=2)\n",
    "print(histoy_text)\n",
    "\n",
    "all_history=generate_history_text(all_content, mode='full', max_history_tokens=1e99)\n",
    "with open(merged_history_path, 'w', encoding='utf-8') as f:\n",
    "    f.write(all_history)\n",
    "print('history text length (character):', len(all_history))\n",
    "print('saved history text to', merged_history_path)"
   ]
  },
  {
   "attachments": {},
   "cell_type": "markdown",
   "metadata": {},
   "source": [
    "### 生成训练条目\n",
    "\n",
    "我想让ChatGLM模型学习小说里的角色设定，并尝试扮演该角色。我准备的训练数据有。1.利用ChatGPT将小说文本转换成TRPG跑团记录格式。2.让ChatGPT阅读文本并生成对小说角色的模拟采访。\n",
    "\n",
    "可以选择在prompt中加入较长的历史上下文，或者只提供问句，甚至不提供。简单的训练（抱歉没有等到收敛）表明，如果不提供上下文让模型生成角色的下一步言行会让模型倾向于使用“嗯”，“好的”。一类的回答。这是因为在原则上没有足够找到正确答案的上下文信息时摆烂是最稳妥的。\n",
    "\n",
    "但是我希望模型能够尝试不依靠上下文提示自己记忆背景信息，可能即使有上下文时模型仍然需要记忆一些东西才可以生成正确的回复。\n",
    "\n",
    "我希望额外加入的问答训练能够帮助模型保持ChatGLM的智力。在使用ChatGPT蒸馏数据以微调ChatGLM时，这些问答数据确实是ChatGPT仅仅根据窗口中的上下文推断出来的。那么是否应该把窗口中的上下文包括在prompt中呢？ChatGPT建议保持上下文信息数量适当可防止模型过度依赖上下文。"
   ]
  },
  {
   "cell_type": "code",
   "execution_count": 11,
   "metadata": {},
   "outputs": [
    {
     "data": {
      "text/plain": [
       "{'respondent': '玩偶',\n",
       " 'ask': '你们觉得我和铁珠的关系怎么样？',\n",
       " 'answer': '我们是密不可分的伙伴，一起立功。',\n",
       " 'src_id': 2}"
      ]
     },
     "execution_count": 11,
     "metadata": {},
     "output_type": "execute_result"
    }
   ],
   "source": [
    "all_interview[13]"
   ]
  },
  {
   "cell_type": "code",
   "execution_count": 12,
   "metadata": {},
   "outputs": [
    {
     "data": {
      "text/html": [
       "<pre style=\"white-space:pre;overflow-x:auto;line-height:normal;font-family:Menlo,'DejaVu Sans Mono',consolas,'Courier New',monospace\"><span style=\"color: #800000; text-decoration-color: #800000\">╭─────────────────────────────── </span><span style=\"color: #800000; text-decoration-color: #800000; font-weight: bold\">Traceback </span><span style=\"color: #bf7f7f; text-decoration-color: #bf7f7f; font-weight: bold\">(most recent call last)</span><span style=\"color: #800000; text-decoration-color: #800000\"> ────────────────────────────────╮</span>\n",
       "<span style=\"color: #800000; text-decoration-color: #800000\">│</span> in <span style=\"color: #00ff00; text-decoration-color: #00ff00\">&lt;module&gt;</span>:<span style=\"color: #0000ff; text-decoration-color: #0000ff\">1</span>                                                                                    <span style=\"color: #800000; text-decoration-color: #800000\">│</span>\n",
       "<span style=\"color: #800000; text-decoration-color: #800000\">╰──────────────────────────────────────────────────────────────────────────────────────────────────╯</span>\n",
       "<span style=\"color: #ff0000; text-decoration-color: #ff0000; font-weight: bold\">AssertionError: </span>TODO optimize faiss search\n",
       "</pre>\n"
      ],
      "text/plain": [
       "\u001b[31m╭─\u001b[0m\u001b[31m──────────────────────────────\u001b[0m\u001b[31m \u001b[0m\u001b[1;31mTraceback \u001b[0m\u001b[1;2;31m(most recent call last)\u001b[0m\u001b[31m \u001b[0m\u001b[31m───────────────────────────────\u001b[0m\u001b[31m─╮\u001b[0m\n",
       "\u001b[31m│\u001b[0m in \u001b[92m<module>\u001b[0m:\u001b[94m1\u001b[0m                                                                                    \u001b[31m│\u001b[0m\n",
       "\u001b[31m╰──────────────────────────────────────────────────────────────────────────────────────────────────╯\u001b[0m\n",
       "\u001b[1;91mAssertionError: \u001b[0mTODO optimize faiss search\n"
      ]
     },
     "metadata": {},
     "output_type": "display_data"
    }
   ],
   "source": [
    "assert False, 'TODO optimize faiss search'"
   ]
  },
  {
   "cell_type": "code",
   "execution_count": 27,
   "metadata": {},
   "outputs": [
    {
     "data": {
      "application/vnd.jupyter.widget-view+json": {
       "model_id": "aa6be3dbb0044bfda0d897aab3d69e31",
       "version_major": 2,
       "version_minor": 0
      },
      "text/plain": [
       "  0%|          | 0/22765 [00:00<?, ?it/s]"
      ]
     },
     "metadata": {},
     "output_type": "display_data"
    },
    {
     "name": "stdout",
     "output_type": "stream",
     "text": [
      "Total generated data: 12684\n"
     ]
    },
    {
     "data": {
      "application/vnd.jupyter.widget-view+json": {
       "model_id": "ed28feb039b94396a74e1d3bd5a08a27",
       "version_major": 2,
       "version_minor": 0
      },
      "text/plain": [
       "  0%|          | 0/8319 [00:00<?, ?it/s]"
      ]
     },
     "metadata": {},
     "output_type": "display_data"
    },
    {
     "name": "stdout",
     "output_type": "stream",
     "text": [
      "Total generated data: 7576\n"
     ]
    }
   ],
   "source": [
    "from tqdm.auto import tqdm\n",
    "def get_rp_task(all_content,history_mode='full',bg_hint_num=2,max_history_tokens=max_history_tokens,use_dm_prompt=True):\n",
    "    train_data=[]\n",
    "    for iItem, item in tqdm(list(enumerate(all_content))):\n",
    "        if 'char' in item:\n",
    "            char=rename_map.get(item['char'], item['char'])\n",
    "            if char in selected_char:\n",
    "                if 'say' in item or ('think' in item and include_think) or ('act' in item and include_act):\n",
    "                    response_text=generate_response_text(item)\n",
    "                    history_text=generate_history_text(all_content[:iItem],mode=history_mode,max_history_tokens=max_history_tokens,bg_hint_num=bg_hint_num)\n",
    "                    dm_prompt=generate_dm_prompt(item) if use_dm_prompt else ''\n",
    "                    prompt_text=history_text+dm_prompt+char+'：'\n",
    "                    # prompt_text_tokenized_length=get_tokenized_length(prompt_text)\n",
    "                    # assert prompt_text_tokenized_length<=max_prompt_tokens, f'prompt_text_tokenized_length={prompt_text_tokenized_length} > max_prompt_length={max_prompt_tokens}'\n",
    "                    prompt_text,prompt_tokenized_length=clamp_by_tokenizer(prompt_text, max_prompt_tokens, return_length=True)\n",
    "                    response_tokenized_length=get_tokenized_length(response_text)\n",
    "                    train_data.append({'char':char, 'response': response_text,'prompt': prompt_text,'task':'rp','src_id':iItem,'prompt_tokenized_length':prompt_tokenized_length,'response_tokenized_length':response_tokenized_length})\n",
    "    print('Total generated data:', len(train_data))\n",
    "    return train_data\n",
    "\n",
    "\n",
    "# {'respondent': '玩偶',\n",
    "#  'ask': '你们觉得我和铁珠的关系怎么样？',\n",
    "#  'answer': '我们是密不可分的伙伴，一起立功。',\n",
    "#  'id': 2}\n",
    "\n",
    "def find_content_with_id(id):\n",
    "    for content in contents:\n",
    "        if 'id' in content and content['id']==id:\n",
    "            return content\n",
    "    return None\n",
    "\n",
    "def get_inteview_task(all_interview,history_mode='full',bg_hint_num=2,max_history_tokens=max_history_tokens):\n",
    "    train_data=[]\n",
    "    for iItem, item in tqdm(list(enumerate(all_interview))):\n",
    "        content=find_content_with_id(item['src_id'])['content']\n",
    "        assert content is not None, f'Cannot find content with id={item[\"id\"]}'\n",
    "        char=rename_map.get(item['respondent'], item['respondent'])\n",
    "        if char in selected_char:\n",
    "            response_text=item['answer']\n",
    "            history_text=generate_history_text(content,mode=history_mode,max_history_tokens=max_history_tokens,bg_hint_num=bg_hint_num)\n",
    "            interviewer_prompt=f'{get_random_inteviewer_name()}：{item[\"ask\"]}\\n'\n",
    "            prompt_text=history_text+interviewer_prompt+char+'：'\n",
    "            # prompt_text_tokenized_length=get_tokenized_length(prompt_text)\n",
    "            # assert prompt_text_tokenized_length<=max_prompt_tokens, f'prompt_text_tokenized_length={prompt_text_tokenized_length} > max_prompt_length={max_prompt_tokens}'\n",
    "            prompt_text,prompt_tokenized_length=clamp_by_tokenizer(prompt_text, max_prompt_tokens, return_length=True)\n",
    "            response_tokenized_length=get_tokenized_length(response_text)\n",
    "            train_data.append({'char':char, 'response': response_text,'prompt': prompt_text,'task':'interview','src_id':iItem,'prompt_tokenized_length':prompt_tokenized_length,'response_tokenized_length':response_tokenized_length})\n",
    "    print('Total generated data:', len(train_data))\n",
    "    return train_data\n",
    "\n",
    "\n",
    "random.seed(42)\n",
    "train_data=[]\n",
    "train_data+=get_rp_task(all_content, history_mode='full',bg_hint_num=bg_hint_num, use_dm_prompt=False)\n",
    "if include_interview:\n",
    "    train_data+=get_inteview_task(all_interview, history_mode='full',bg_hint_num=bg_hint_num)\n"
   ]
  },
  {
   "cell_type": "code",
   "execution_count": 28,
   "metadata": {},
   "outputs": [
    {
     "data": {
      "text/plain": [
       "<Figure size 500x200 with 0 Axes>"
      ]
     },
     "metadata": {},
     "output_type": "display_data"
    },
    {
     "data": {
      "image/png": "[encoded data removed]",
      "text/plain": [
       "<Figure size 500x200 with 1 Axes>"
      ]
     },
     "metadata": {},
     "output_type": "display_data"
    },
    {
     "data": {
      "image/png": "[encoded data removed]",
      "text/plain": [
       "<Figure size 500x200 with 1 Axes>"
      ]
     },
     "metadata": {},
     "output_type": "display_data"
    }
   ],
   "source": [
    "import matplotlib.pyplot as plt\n",
    "\n",
    "# see prompt length distribution\n",
    "plt.figure(figsize=(5, 2))\n",
    "plt.hist([item['prompt_tokenized_length'] for item in train_data], bins=np.logspace(0, 4, 50))\n",
    "plt.xscale('log');plt.xlabel('length');plt.ylabel('count');plt.title('prompt length distribution');plt.show()\n",
    "\n",
    "# see response length distribution\n",
    "plt.figure(figsize=(5, 2))\n",
    "plt.hist([item['response_tokenized_length'] for item in train_data], bins=np.logspace(0, 4, 50))\n",
    "plt.xscale('log');plt.xlabel('length');plt.ylabel('count');plt.title('response length distribution');plt.show()"
   ]
  },
  {
   "attachments": {},
   "cell_type": "markdown",
   "metadata": {},
   "source": [
    "### 调整数据频率"
   ]
  },
  {
   "cell_type": "code",
   "execution_count": 43,
   "metadata": {},
   "outputs": [
    {
     "name": "stdout",
     "output_type": "stream",
     "text": [
      "成这样？自己是不是也会变成这样？)\n",
      "【深蓝色火粉沾在他们身上】\n",
      "记者：你们为什么要寻找我？\n",
      "玛琼琳：》》我不知道，他们只是内心有一股冲动驱使他们去寻找我。\n",
      "\n",
      "内，形貌便能‘自在’显现。\n",
      "悠二：呼~恩，确实只要一提到与火有关的魔神，通常都回带着刀或剑。\n",
      "悠二：》》(他对于‘魔神’的印象顶多是来自在国营电视台看过的不动明王，或者是过去不知名的特效电影中所出现的陶俑那一类的程度而已。)\n",
      "\n",
      "… \\emoji 害羞\n",
      "悠二：吉田同学？ \\emoji 惊讶\n",
      "【夏娜是个火雾战士，比较冷淡】\n",
      "吉田：》》那……那个，小缘，刚刚，体育课的时候，真……谢谢你。 \\emoji 害羞\n",
      "\n",
      "涉别人的行动了？】\n",
      "【既然左右双翼已经断了，那家伙也到此为止了】\n",
      "评论员：你在回忆什么？\n",
      "火雾战士：》》我在回忆一场兵荒马乱的战斗，一身黑衣飘扬的女子慢条斯理地说道：到这里就够了，接下来由我跟亚拉斯特尔来处理。\n",
      "\n",
      "想，应该是我所编写的调音自在法，受到某种干扰的结果\n",
      "【玛琼琳和某人在讨论扭曲现象的来源】\n",
      "贝海默特：》》呼嗯，看来是这样没错，事实上，我们也大致猜到是哪个‘使徒’会做出这种事。\n",
      "\n",
      "……那个，请问……\n",
      "魔神：怎么了，还不快跑！\n",
      "悠二：\\me 横越马路\n",
      "悠二：\\me 跑上堤防\n",
      "悠二：》》(一想到曾经在这里欣赏到的美景，这分差事便不觉得辛苦)\n",
      "\n",
      "。】\n",
      "梅利希姆：对，就像这样。\n",
      "少女：！\n",
      "少女：\\me 感觉到梅利希姆体内凝聚了‘两股’力量\n",
      "夏娜：》》(攻击力逐渐增强当中——)\n",
      "\n",
      "…然后破坏现在这层才开始建立关系的话……)\n",
      "【主角意识到自己的懦弱和半吊子的觉悟，感到自责】\n",
      "主角：》》(自己对于坂井悠二繁荣感情，难道脆弱到仅仅因为内心一个忧虑，就准备打退堂鼓了吗？)\n",
      "\n",
      "中燃烧着一团炽盛火焰，底部没有燃料，只有一个银制的空水盘】\n",
      "问询人：你为什么要成为火雾战士？\n",
      "夏娜：》》我一开始就是为了成为火雾战士而活，而且自己并没有感到任何不满，这一切她都明白。同时也在学习之中得知，成为火雾战士就不再是人类，永无至尽的战斗之路，以及战斗这件事情本身。尽管内心对于这一切怀抱着不安、恐惧、踌躇，却还是充满了坚强、冀望、渴求与决心。\n",
      "\n",
      "了！\n",
      "夏娜：\\me 灌输翅膀的力量，加速前进\n",
      "【巨狼踩碎大楼崩坍的屋顶，瓦砾掉落在两人头上】\n",
      "巨狼：》》咆噢噢噢噢噢噢噢噢噢！！\n",
      "\n"
     ]
    }
   ],
   "source": [
    "\n",
    "def adjust_data_frequency(train_data):\n",
    "    for item in train_data:\n",
    "        frequency=1\n",
    "        if len(item['response'])<5:\n",
    "            frequency=0.1\n",
    "        elif len(item['response'])<10:\n",
    "            frequency=0.2\n",
    "        elif len(item['response'])<20:\n",
    "            frequency=1\n",
    "        elif len(item['response'])<50:\n",
    "            frequency=2\n",
    "        else:\n",
    "            frequency=5\n",
    "        if item['task']=='interview':\n",
    "            frequency*=len(all_content)/len(all_interview)/roleplay_propotion*interview_propotion\n",
    "        frequency*=1\n",
    "        for _i in range(int(frequency)):\n",
    "            yield item    \n",
    "\n",
    "train_data_argumented=list(adjust_data_frequency(train_data))\n",
    "\n",
    "\n",
    "\n",
    "for item in random.sample(train_data_argumented, 10):\n",
    "    print(item['prompt'][-50:], end='》》')\n",
    "    print(item['response'])\n",
    "    print()\n",
    "\n",
    "\n",
    "    \n",
    "import random\n",
    "random.seed(42)\n",
    "random.shuffle(train_data_argumented)"
   ]
  },
  {
   "attachments": {},
   "cell_type": "markdown",
   "metadata": {},
   "source": [
    "### 保存训练数据到json"
   ]
  },
  {
   "cell_type": "code",
   "execution_count": 44,
   "metadata": {},
   "outputs": [
    {
     "name": "stdout",
     "output_type": "stream",
     "text": [
      "Saved to ./train.json\n",
      "Total train data: 31640\n",
      "Saved to ./test.json\n",
      "Total test data: 200\n"
     ]
    }
   ],
   "source": [
    "#pick test data randomly\n",
    "output_test_data=random.sample(train_data_argumented, test_data_size)\n",
    "\n",
    "# remove test data from train data\n",
    "output_train_data=[item for item in train_data_argumented if item not in output_test_data]\n",
    "\n",
    "json.dump(output_train_data, open(train_data_path, 'w', encoding='utf-8'), ensure_ascii=False, indent=2)\n",
    "print('Saved to', train_data_path)\n",
    "print('Total train data:', len(output_train_data))\n",
    "import random\n",
    "random.seed(42)\n",
    "\n",
    "json.dump(output_test_data, open(test_data_path, 'w', encoding='utf-8'), ensure_ascii=False, indent=2)\n",
    "print('Saved to', test_data_path)\n",
    "print('Total test data:', len(output_test_data))"
   ]
  },
  {
   "cell_type": "code",
   "execution_count": null,
   "metadata": {},
   "outputs": [],
   "source": []
  },
  {
   "cell_type": "code",
   "execution_count": null,
   "metadata": {},
   "outputs": [],
   "source": []
  },
  {
   "cell_type": "code",
   "execution_count": null,
   "metadata": {},
   "outputs": [],
   "source": []
  },
  {
   "cell_type": "code",
   "execution_count": null,
   "metadata": {},
   "outputs": [],
   "source": []
  },
  {
   "cell_type": "markdown",
   "metadata": {},
   "source": [
    "# trash code"
   ]
  },
  {
   "cell_type": "code",
   "execution_count": null,
   "metadata": {},
   "outputs": [],
   "source": [
    "assert False, 'stop here'"
   ]
  },
  {
   "cell_type": "code",
   "execution_count": null,
   "metadata": {},
   "outputs": [
    {
     "name": "stdout",
     "output_type": "stream",
     "text": [
      "{'char': '悠二', 'act': '被甩来甩去，受到音波挤压翻搅', 'src_id': 264}\n",
      "{'info': '各俱乐部和班级也将各种模拟店的摊子摆了起来，展示的摊位一直向学校外面的大路上延伸开去。', 'src_id': 1634}\n",
      "{'char': '男子', 'say': '想打倒我千变修德南，还嫌太嫩！', 'src_id': 394}\n",
      "{'info': '成为一个真正的敌人', 'src_id': 614}\n",
      "{'info': '蒂丽亚把这个反应视为完全放弃挣扎，于是志得意满的宣布处刑方式：', 'src_id': 456}\n",
      "{'char': '悠二', 'think': '对于之前好不容易克服了痛苦至极的烦恼才向吉田表明的秘密，现在居然随随便便公开宣扬的状况感到全身无力。', 'src_id': 848}\n",
      "{'char': 'unknown', 'think': '只要是他塑造出来的妄想一律满足，许他恣意玩乐。', 'src_id': 1596}\n",
      "{'char': '佐腾启作', 'expression': '惊讶', 'say': '坂井你那副打扮是怎么回事.?', 'src_id': 909}\n",
      "{'info': '千草一副惊异的样子，把手掌贴在自己的脸上', 'src_id': 1041}\n",
      "{'char': 'unknown', 'say': '哈哈哈哈', 'src_id': 1098}\n",
      "Total content chunks: 1650\n",
      "Total items: 22765\n"
     ]
    }
   ],
   "source": [
    "# import json,random\n",
    "# from glob import glob\n",
    "\n",
    "\n",
    "# def purge_content1(content):\n",
    "#     for item in content:\n",
    "#         if 'char' in item:\n",
    "#             char_and_exp={'char':item['char']}\n",
    "#             if 'expression' in item:\n",
    "#                 char_and_exp['expression']=item['expression']\n",
    "#             if 'say' in item and item['say'] is not None and len(item['say'])>0:\n",
    "#                 yield {**char_and_exp, 'say': item['say']}\n",
    "#             if 'think' in item and item['think'] is not None and len(item['think'])>0:\n",
    "#                 yield {'char': item['char'], 'think': item['think']}\n",
    "#             if 'act' in item and item['act'] is not None and len(item['act'])>0:\n",
    "#                 yield {**char_and_exp,  'act': item['act']}\n",
    "#             # if not any(k in item for k in ['say', 'think', 'act']):\n",
    "#             #     yield char_and_exp\n",
    "#         if 'info' in item:\n",
    "#             yield {'info': item['info']}\n",
    "\n",
    "# # combine continuous say\n",
    "# def purge_content2(content):\n",
    "#     prev_item={}\n",
    "#     for item in content:\n",
    "#         if 'say' in item:\n",
    "#             if 'say' in prev_item and item.get('char', 'ERROR1')==prev_item.get('char', 'ERROR2'):\n",
    "#                 prev_item['say']+=item['say']\n",
    "#                 continue\n",
    "#         if len(prev_item)>0:\n",
    "#             yield prev_item\n",
    "#         prev_item=item\n",
    "#     if len(prev_item)>0:\n",
    "#         yield prev_item\n",
    "\n",
    "# def purge_content(content):\n",
    "#     return purge_content2(purge_content1(content))\n",
    "\n",
    "# contents=[]\n",
    "# for path in glob(f'{cache_dir}/LOG_RESPONSE_*.json'):\n",
    "#     with open(path, 'r', encoding='utf-8') as f:\n",
    "#         try:\n",
    "#             content=json.load(f)\n",
    "#             content['content']=list(purge_content(content['content']))\n",
    "#             content['id']=int(path.split('_')[-1].split('.')[0])\n",
    "#             for item in content['content']:\n",
    "#                 item['src_id']=content['id']\n",
    "#             contents.append(content)\n",
    "#         except Exception as e:\n",
    "#             print('Error:', path, e)\n",
    "#             raise e\n",
    "# contents=sorted(contents, key=lambda x: x['id'])\n",
    "\n",
    "\n",
    "# all_content=[]\n",
    "# for content in contents:\n",
    "#     for item in content['content']:\n",
    "#         all_content.append(item)\n",
    "\n",
    "# for item in random.sample(all_content, 10):    \n",
    "#     print(item)\n",
    "    \n",
    "# print('Total content chunks:', len(contents))\n",
    "# print('Total items:', len(all_content))\n",
    "\n",
    "# json.dump(all_content, open(merged_content_path, 'w', encoding='utf-8'), ensure_ascii=False, indent=2)"
   ]
  },
  {
   "cell_type": "code",
   "execution_count": 45,
   "metadata": {},
   "outputs": [],
   "source": [
    "try:\n",
    "    del tokenizer,embeddings,vector_store\n",
    "except:\n",
    "    pass\n",
    "import torch\n",
    "torch.cuda.empty_cache()"
   ]
  },
  {
   "cell_type": "code",
   "execution_count": null,
   "metadata": {},
   "outputs": [],
   "source": [
    "!.\\train_roleplaying.bat"
   ]
  },
  {
   "cell_type": "code",
   "execution_count": null,
   "metadata": {},
   "outputs": [],
   "source": []
  },
  {
   "cell_type": "markdown",
   "metadata": {},
   "source": [
    "### 提取表情，使用gpt聚类"
   ]
  },
  {
   "cell_type": "code",
   "execution_count": null,
   "metadata": {},
   "outputs": [
    {
     "name": "stdout",
     "output_type": "stream",
     "text": [
      "unlabeled_expression_freq: {'惊讶': 138, '愤怒': 73, '生气': 42, '微笑': 32, '冷漠': 30, '得意': 27, '惊恐': 26, '紧张': 23, '疑惑': 21, '好奇': 19, '困惑': 19, '兴奋': 18, '坚定': 18, '不满': 17, '点头': 17, '害羞': 16, '高兴': 15, '认真': 15, '尴尬': 14, '悲伤': 13, '摇头': 13, '哭泣': 13, '慌张': 13, '开心': 12, '痛苦': 12, '激动': 11, '笑着': 11, '无奈': 11, '解释': 10, '颤抖': 10, '焦急': 9, '瞪眼': 9, '抱怨': 9, '冷静': 9, '自信': 9, '嘲讽': 9, '担心': 9, '羞涩': 9, '专注': 8, '怀疑': 8, '严肃': 8, '沉默': 8, '吃惊': 8, '咬牙切齿': 8, '感动': 8, '神秘': 8, '犹豫': 7, '叹气': 7, '脸红': 7, '思考': 7, '不安': 6, '面无表情': 6, '温柔': 6, '害怕': 6, '茫然': 6, '疼痛': 6, '不甘心': 6, '担忧': 6, '冷酷': 6, '顺从': 5, '寂寞': 5, '残忍': 5, '羞愧': 5, '呆滞': 5, '撅嘴': 5, '红着脸': 5, '可爱': 4, '抱歉': 4, '低头': 4, '震惊': 4, '期待': 4, '慌乱': 4, '淡然': 4, '没趣': 4, '无聊': 4, '失望': 4, '调侃': 4, '感慨': 4, '回忆': 4, '怀念': 4, '肯定': 4, '急切': 4, '嫉妒': 3, '大叫': 3, '淡定': 3, '感叹': 3, '天真': 3, '无表情': 3, '责备': 3, '凶狠': 3, '不屑': 3, '苍白': 3, '注视': 3, '嘲笑': 3, '自豪': 3, '不悦': 3, '轻蔑': 3, '不耐烦': 3, '难为情': 3, '通红': 3, '悲鸣': 3, '冷笑': 3, '沉思': 3, '怒气冲冲': 3, '大笑': 3, '无力': 3, '不高兴': 3, '感激': 3, '饥饿': 2, '满足': 2, '热情': 2, '恐慌': 2, '沮丧': 2, '晕厥': 2, '平静': 2, '为难': 2, '安慰': 2, '询问': 2, '发抖': 2, '瞪大眼睛': 2, '否定': 2, '明白': 2, '莫名其妙': 2, '拒绝': 2, '笑容': 2, '举起魔杖': 2, '笑': 2, '恭敬': 2, '惊奇': 2, '烦恼': 2, '绵软无力': 2, '命令': 2, '妩媚': 2, '问道': 2, '盯着': 2, '恍然大悟': 2, '正经': 2, '悠然': 2, '坚持': 2, '嘟囔': 2, '厌恶': 2, '发怒': 2, '烦躁': 2, '皱眉头': 2, '悔恨': 2, '笑了': 2, '哀求': 2, '严厉': 2, '愤恨': 2, '陶醉': 2, '叹息': 2, '谦虚': 2, '清醒': 2, '失落': 2, '傲慢': 2, '焦虑': 2, '扭曲': 2, '惊叫': 2, '怒吼': 2, '自大': 2, '不解': 2, '向威尔士介绍': 2, '礼貌': 2, '忧郁': 2, '哭泣着': 2, '恐惧': 2, '吐血': 2, '心奋': 2, '睁大了眼睛': 2, '沉吟': 2, '呻吟': 2, '冷淡': 2, '小声说': 2, '惊慌失措': 2, '动摇': 2, '肯定地说': 2, '惊喜': 2, '咏唱': 2, '发光的眼睛': 2, '打哈欠': 1, '愉悦的大笑': 1, '歉意的笑': 1, '无奈的笑': 1, '丧气的垂着头': 1, '让周围的人紧张的全身哆嗦起来': 1, '无言': 1, '孤寂的笑容': 1, '狂叫': 1, '紧握魔杖': 1, '满心欢喜': 1, '坏心的眯起了眼睛': 1, '欢快的说着': 1, '抗议': 1, '惊叹': 1, '胆怯': 1, '喜爱': 1, '哭相': 1, '猜测': 1, '哀伤': 1, '大声怒吼': 1, '心情大好': 1, '狂暴': 1, '安心': 1, '忏悔': 1, '听不出邪恶感': 1, '不舒服': 1, '封闭': 1, '试图吸血': 1, '舔塔芭莎的肌肤': 1, '毫不在意': 1, '撒娇': 1, '满意': 1, '盯视': 1, '咕咿': 1, '警惕': 1, '决心': 1, '松了一口气': 1, '把塔芭莎当成了伊莎贝拉': 1, '示意': 1, '满脸感激': 1, '麻痹': 1, '佩服': 1, '紧皱眉头': 1, '尖叫': 1, '哼歌声': 1, '淡淡温馨消失无踪': 1, '伤心': 1, '咄咄逼人': 1, '轻轻点头': 1, '打量塔芭莎': 1, '战战兢兢': 1, '恶心的笑声': 1, '崩溃': 1, '软软地瘫了下来': 1, '得意洋洋': 1, '燃烧着怒火的眼神': 1, '晕倒': 1, '撒娇似的': 1, '扭嘴': 1, '怒骂': 1, '游刃有余': 1, '放心': 1, '嘴角一扭': 1, '世俗风尘': 1, '被压倒': 1, '扔出一封信': 1, '大声说着': 1, '扭曲着脸': 1, '无所谓': 1, '睁开眼睛': 1, '干涩的笑声': 1, '冷静的佣兵表情': 1, '哭得不成样子': 1, '捧腹大笑': 1, '内心的愤怒': 1, '疯狂': 1, '使用魔法': 1, '嘀咕': 1, '将魔法人偶塞进口袋': 1, '低头致谢': 1, '吹口哨': 1, '轻松': 1, '眯眼': 1, '发僵': 1, '吓得倒退两步': 1, '越来越厉害地颤抖': 1, '浮现出阴险的笑容': 1, '微妙的唱歌': 1, '斥责': 1, '喜欢宝石': 1, '饶有兴趣': 1, '无言无表情': 1, '气得全身发颤': 1, '使劲鼓掌': 1, '优雅的施了一礼': 1, '从袖中抽剑出来时的表情': 1, '无力的垂下肩，耷拉着脑袋': 1, '眼稍稍眯了起来': 1, '喜过望': 1, '僵住了一瞬': 1, '挥手': 1, '恳求': 1, '劝阻': 1, '装作害怕': 1, '柔软的双唇让才人的思维更加的混乱了': 1, '脸通红通红的，好象有点害羞': 1, '恨恨的看着那几个学生': 1, '留着一头卷发和脸上留着雀斑的女孩子用嘲笑的口吻说到。': 1, '热': 1, '坐在床上晃脚': 1, '苦闷': 1, '使劲瞪着丘鲁克': 1, '笑了出来': 1, '撩起炎一样火红的头发': 1, '理解': 1, '歉意': 1, '像煤一样黑': 1, '半张着嘴': 1, '摇摇晃晃': 1, '深深叹气': 1, '叫道': 1, '挥动着': 1, '又挥动着': 1, '咻咻': 1, '大叫道': 1, '怒喝': 1, '哑口无声': 1, '挑战': 1, '慢慢走': 1, '抓住肩膀': 1, '甩开手': 1, '流泪': 1, '眼睛湿润': 1, '疼': 1, '怨恨': 1, '忍不住笑': 1, '愧疚': 1, '困扰': 1, '困苦': 1, '喜欢': 1, '注视着': 1, '唧唧喳喳': 1, '俯视着': 1, '摆头': 1, '哼着': 1, '望上方': 1, '毫不在乎': 1, '混乱': 1, '闭眼': 1, '靠近': 1, '挣扎': 1, '呼吸混乱': 1, '偷笑': 1, '烦闷': 1, '可疑': 1, '抱着胳膊': 1, '着迷': 1, '愣住': 1, '脸色变化': 1, '咬着嘴唇': 1, '微笑着': 1, '温和': 1, '咬了一下嘴唇': 1, '风情万种': 1, '焦躁不安': 1, '注意到破坏之杖': 1, '瞪眼，抱胳膊': 1, '避开视线': 1, '摊手': 1, '微笑，行礼': 1, '轻快、优雅的舞步': 1, '沉默了一会跳着舞': 1, '好象在解释误会一样的说着': 1, '匆忙': 1, '被压制': 1, '哼了一声鼻子': 1, '冷漠地看着芙凯': 1, '伸开双手表示没有恶意': 1, '非常惊讶': 1, '脸色苍白': 1, '危险': 1, '窒息': 1, '盯着胸部': 1, '指责': 1, '关切': 1, '狠毒': 1, '不情愿': 1, '无可抵挡的笑容': 1, '淡淡笑容消失了': 1, '鲜红的长发燃烧般沙沙作响地竖立了起来': 1, '学生们都慌张地躲到了桌子底下': 1, '像挥舞剑般横扫着': 1, '突然卷起一阵裂风': 1, '装腔作势': 1, '受打击': 1, '忠诚': 1, '苦恼': 1, '恍惚': 1, '把手指竖在嘴边': 1, '拘谨': 1, '自信满满': 1, '入神': 1, '对公主产生好感': 1, '对公主迷恋': 1, '误解': 1, '红脸': 1, '感动失神': 1, '贴近': 1, '压倒': 1, '暴怒': 1, '吃醋': 1, '豪气': 1, '优雅': 1, '贪婪': 1, '威胁': 1, '感兴趣': 1, '赞许': 1, '劝说': 1, '搂着才人': 1, '夸耀': 1, '幸运': 1, '赞叹': 1, '轻松应对': 1, '双手插腰': 1, '心动': 1, '斜视': 1, '吼叫': 1, '紧握剑': 1, '不愉快': 1, '胜利': 1, '催促': 1, '狡猾': 1, '泪眼汪汪': 1, '情绪激动': 1, '眼睛红红': 1, '哭肿了的眼睛': 1, '眯起眼': 1, '复杂': 1, '嗤笑': 1, '魅力的笑容': 1, '恶作剧般笑着': 1, '优雅地低下头': 1, '问询': 1, '珍爱地看着信': 1, '认真严肃的表情': 1, '低下头': 1, '腼腆': 1, '深思': 1, '亲切的笑容': 1, '感动地流下眼泪': 1, '危险的冷笑': 1, '怒叫': 1, '畏惧': 1, '发光': 1, '迷惑': 1, '绝叫': 1, '惊人的速度': 1, '瞪着才人': 1, '虔诚': 1, '镇定': 1, '难受': 1, '凑近了路易丝的脸': 1, '闭着眼睛': 1, '感到治愈和温暖': 1, '气愤': 1, '狠狠地瞪着才人': 1, '慌忙跑过来': 1, '泪眼婆娑': 1, '严峻': 1, '愁容': 1, '伤感': 1, '任性': 1, '怒气': 1, '不快': 1, '冷峻的笑容': 1, '心不在焉': 1, '微微一抖': 1, '举起双手，以夸张的姿态开始了演说': 1, '脸色马上发青了': 1, '嘻嘻地笑了': 1, '松了口气': 1, '抚摸失去的左臂': 1, '后悔': 1, '灰心丧气': 1, '振奋': 1, '厉眼瞪': 1, '威慑': 1, '紧握拳头': 1, '扭头': 1, '觉得才人很傻': 1, '尖酸刻薄': 1, '狂怒': 1, '懒散': 1, '谨慎': 1, '踩脚': 1, '宽容': 1, '皱眉': 1, '心潮澎湃': 1, '舒服': 1, '羞涩的笑容': 1, '天真烂漫地听着': 1, '鼓起了腮帮子': 1, '斜着眼看着才人': 1, '闪着目光': 1, '感谢才人的陪伴': 1, '红着脸低着头，害羞地拨弄着手指': 1, '吓一跳': 1, '忧伤': 1, '不爽': 1, '无助': 1, '亲近': 1, '闪亮的眼神': 1, '小心翼翼': 1, '认同': 1, '心跳加速': 1, '直视才人': 1, '仰视才人': 1, '失去自信': 1, '壮观': 1, '僵硬': 1, '火大': 1, '愤然': 1, '低声重复着': 1, '闭上眼睛': 1, '胃痛': 1, '愤愤': 1, '无趣': 1, '紧紧咬着嘴唇': 1, '哭得一塌糊涂': 1, '喝醉了': 1, '哭得连话也说不出来': 1, '醉醺醺': 1, '恼火': 1, '迟疑': 1, '装作若无其事': 1, '不在乎': 1, '激昂': 1, '哭了起来': 1, '威猛': 1, '安静': 1, '勉强微笑': 1, '不相信': 1, '注视着左手的印记': 1, '笑道': 1, '请求': 1, '想法': 1, '自嘲': 1, '自言自语': 1, '坏笑': 1, '清嗓子': 1, '迷迷糊糊': 1, '拨弄胡子': 1, '哼鼻子': 1, '自虐': 1, '惊愕': 1, '醒悟': 1, '低语': 1, '苦笑': 1, '决定': 1, '头痛': 1, '惊呆': 1, '狡黠': 1, '想到了解决方法': 1, '阴笑': 1, '欢呼': 1, '注视着公主的眼眸': 1, '建议': 1, '回答': 1, '想到谢斯塔': 1, '红起了脸': 1, '向往': 1, '坦诚': 1, '赞美': 1, '淘气': 1, '不可思议的神情': 1, '狂热': 1, '苦涩': 1, '闭上了眼睛': 1, '阴郁': 1, '意识到自己使命所在': 1, '斩钉截铁': 1, '凶恶': 1, '打量才人的剑和表情': 1, '出神': 1, '稍微原谅': 1, '翻白眼': 1, '哭着脸生气': 1, '颤动着身子': 1, '不好受': 1, '勉强的笑容': 1, '注视着谢斯塔的背影': 1, '陶醉的声音': 1, '羞涩的笑意': 1, '浮出羞涩的笑意': 1, '环抱双臂，挺起胸膛': 1}\n",
      "saved unlabeled expressions to ./output_zero/unlabeled_expression.json\n"
     ]
    }
   ],
   "source": [
    "# all_expressions=set(item['expression'] for item in all_content if 'expression' in item)\n",
    "# print('all_expressions:', all_expressions)\n",
    "\n",
    "unlabeled_expression_freq={}\n",
    "for item in all_content:\n",
    "    if 'expression' in item:\n",
    "        unlabeled_expression_freq[item['expression']]=unlabeled_expression_freq.get(item['expression'], 0)+1\n",
    "unlabeled_expression_freq={k: v for k, v in sorted(unlabeled_expression_freq.items(), key=lambda item: item[1], reverse=True)}\n",
    "\n",
    "print('unlabeled_expression_freq:', unlabeled_expression_freq)\n",
    "\n",
    "with open(unlabeled_expression_path, 'w', encoding='utf-8') as f:\n",
    "    json.dump(unlabeled_expression_freq, f, ensure_ascii=False, indent=2)\n",
    "print('saved unlabeled expressions to', unlabeled_expression_path)"
   ]
  },
  {
   "cell_type": "code",
   "execution_count": null,
   "metadata": {},
   "outputs": [
    {
     "name": "stderr",
     "output_type": "stream",
     "text": [
      "c:\\Anaconda3\\envs\\tensorflow\\lib\\site-packages\\langchain\\llms\\openai.py:165: UserWarning: You are trying to use a chat model. This way of initializing it is no longer supported. Instead, please use: `from langchain.chat_models import ChatOpenAI`\n",
      "  warnings.warn(\n",
      "c:\\Anaconda3\\envs\\tensorflow\\lib\\site-packages\\langchain\\llms\\openai.py:676: UserWarning: You are trying to use a chat model. This way of initializing it is no longer supported. Instead, please use: `from langchain.chat_models import ChatOpenAI`\n",
      "  warnings.warn(\n"
     ]
    },
    {
     "name": "stdout",
     "output_type": "stream",
     "text": [
      "\u001b[91m请将“不耐烦”归类为下列类别中的一种：\n",
      "['平静', '专注', '微笑', '兴奋', '微怒', '大怒', '惊讶', '恐惧', '微哀', '大哭', '害羞', '困惑', '白眼']\n",
      "“不耐烦”的类别是：\u001b[0m\u001b[94m微怒\u001b[0m\n"
     ]
    }
   ],
   "source": [
    "from langchain.chains.base import Chain\n",
    "import json\n",
    "import re\n",
    "from my_llm import llm_chatgpt as llm\n",
    "\n",
    "\n",
    "class LabelExpressionChain(Chain):\n",
    "    llm:object=None\n",
    "    labels:list='平静，专注，微笑，兴奋，微怒，大怒，惊讶，恐惧，微哀，大哭，害羞，困惑，白眼'.split('，')\n",
    "    @property\n",
    "    def input_keys(self):\n",
    "        return ['unknown_expression']\n",
    "    @property\n",
    "    def output_keys(self):\n",
    "        return ['label']\n",
    "    prmopt='''请将“{unknown_expression}”归类为下列类别中的一种：\n",
    "{labels}\n",
    "“{unknown_expression}”的类别是：'''\n",
    "    def _call(self,inputs:dict)->dict:\n",
    "        inputs['labels']=self.labels\n",
    "        inputs['unknown_expression']=re.sub(r'[^\\u4e00-\\u9fa5]', '', inputs['unknown_expression'])\n",
    "        if inputs['unknown_expression'] in self.labels:\n",
    "            return {'label':inputs['unknown_expression']}\n",
    "        query=self.prmopt.format(**inputs)\n",
    "        response=self.llm(query)\n",
    "        response=re.sub(r'[^\\u4e00-\\u9fa5]', '', response)\n",
    "        if response not in self.labels:\n",
    "            response=None\n",
    "        return {'label':response}\n",
    "\n",
    "label_expression_chain=LabelExpressionChain(llm=llm)\n",
    "\n",
    "llm.show_query=llm.show_response=True\n",
    "label_expression_chain('不耐烦')\n",
    "llm.show_query=llm.show_response=False\n"
   ]
  },
  {
   "cell_type": "code",
   "execution_count": null,
   "metadata": {},
   "outputs": [
    {
     "name": "stdout",
     "output_type": "stream",
     "text": [
      "loaded expression_map from ./output_zero/expression_map.json\n"
     ]
    },
    {
     "data": {
      "application/vnd.jupyter.widget-view+json": {
       "model_id": "530a0c76acdc4cb8a602703876872a39",
       "version_major": 2,
       "version_minor": 0
      },
      "text/plain": [
       "  0%|          | 0/575 [00:00<?, ?it/s]"
      ]
     },
     "metadata": {},
     "output_type": "display_data"
    },
    {
     "name": "stdout",
     "output_type": "stream",
     "text": [
      "failed 正经\n",
      "正经 -> None\n",
      "装作害怕 -> 微笑\n",
      "failed 怒气\n",
      "怒气 -> None\n",
      "emoji_freq: {'困惑': 206, '平静': 190, '惊讶': 176, '大怒': 163, '微哀': 161, '微怒': 149, '恐惧': 139, '兴奋': 122, '微笑': 117, '害羞': 96, '专注': 90, '大哭': 22, '白眼': 8}\n"
     ]
    },
    {
     "data": {
      "image/png": "[encoded data removed]",
      "text/plain": [
       "<Figure size 500x200 with 1 Axes>"
      ]
     },
     "metadata": {},
     "output_type": "display_data"
    }
   ],
   "source": [
    "import os\n",
    "from tqdm.auto import tqdm\n",
    "if os.path.exists(expression_map_path):\n",
    "    with open(expression_map_path, 'r', encoding='utf-8') as f:\n",
    "        expression_map=json.load(f)\n",
    "        print('loaded expression_map from', expression_map_path)\n",
    "else:\n",
    "    expression_map={}\n",
    "\n",
    "for unknown_expression in tqdm(unlabeled_expression_freq):\n",
    "    if expression_map.get(unknown_expression,None) is None:\n",
    "        response=label_expression_chain(unknown_expression)\n",
    "        if response['label'] is None:\n",
    "            print('failed', unknown_expression)\n",
    "        print(unknown_expression, '->', response['label'])\n",
    "        expression_map[unknown_expression]=response['label']\n",
    "        json.dump(expression_map, open(expression_map_path, 'w'),ensure_ascii=False,indent=4)\n",
    "\n",
    "for item in all_content:\n",
    "    if 'expression' in item and item['expression'] in expression_map and expression_map[item['expression']] is not None:\n",
    "        item['emoji']=expression_map[item['expression']]\n",
    "\n",
    "emoji_freq={}\n",
    "for item in all_content:\n",
    "    if 'emoji' in item:\n",
    "        emoji_freq[item['emoji']]=emoji_freq.get(item['emoji'], 0)+1\n",
    "emoji_freq={k: v for k, v in sorted(emoji_freq.items(), key=lambda item: item[1], reverse=True)}\n",
    "\n",
    "print('emoji_freq:', emoji_freq)\n",
    "\n",
    "\n",
    "plt.figure(figsize=(5, 2))\n",
    "plt.bar(list(emoji_freq.keys()), list(emoji_freq.values()))\n",
    "plt.xticks(rotation=75)\n",
    "plt.ylabel('count')\n",
    "# plt.yscale('log')\n",
    "# plt.ylim(1,np.max(list(emoji_freq.values()))*2)\n",
    "plt.show()\n"
   ]
  },
  {
   "cell_type": "code",
   "execution_count": null,
   "metadata": {},
   "outputs": [],
   "source": []
  },
  {
   "cell_type": "code",
   "execution_count": null,
   "metadata": {},
   "outputs": [
    {
     "name": "stdout",
     "output_type": "stream",
     "text": [
      "在本卷中登场的‘穿彻之洞’亚纳贝尔古先生也是其中的一人吗？\n",
      "我知道。可是，这也是没办法的事啊？\n",
      "欢迎来到修罗之巷，战斗之庭，我的火雾战士。\n",
      "你啊！ \\emoji 大怒\n",
      "\\me 以一个漂亮的抛物线落下来，稳稳地站在周围略高一点的建筑物上\n",
      "悠二。你，是在我身边的存在。\n",
      "(我没什么资格教训宰相殿下了)\n",
      "啊啊，我来说明……对方所利用的应该是卡达修的血印——也就是我们用来调音的自在式吧，原本是让这个世界的运作朝着和谐的方向重新组合，不过目前看来，这个力量已经完全失去控制了。\n"
     ]
    }
   ],
   "source": [
    "import random\n",
    "\n",
    "def generate_response_text(item):\n",
    "    if not 'char' in item:\n",
    "        return ''\n",
    "    response=''\n",
    "    if 'act' in item:\n",
    "        response='\\me '+response+item['act']\n",
    "    elif 'say' in item:\n",
    "        response=response+item['say']\n",
    "    elif 'think' in item:\n",
    "        response='('+item['think']+')'\n",
    "    if 'emoji' in item:\n",
    "        response=response+f' \\\\emoji {item[\"emoji\"]}'\n",
    "    return response\n",
    "\n",
    "def generate_dm_prompt(item):\n",
    "    if 'act' in item:\n",
    "        dm_prompt='【你接下来要做什么？】\\n'\n",
    "    elif 'say' in item:\n",
    "        dm_prompt='【请发言】\\n'\n",
    "    elif 'think' in item:\n",
    "        dm_prompt='【你现在在想什么？】\\n'\n",
    "    else:\n",
    "        dm_prompt=''\n",
    "    return dm_prompt\n",
    "\n",
    "def get_random_inteviewer_name():\n",
    "    names = ['记者', '采访者', '用户', '问询人', '主持人', '调查员', '新闻工作者', '播报员', '评论员', '撰稿人', '媒体工作者', '采写员']\n",
    "    return random.choice(names)\n",
    "\n",
    "for item in random.sample(all_content, 10):\n",
    "    if 'char' in item:\n",
    "        print(generate_response_text(item))"
   ]
  },
  {
   "cell_type": "code",
   "execution_count": null,
   "metadata": {},
   "outputs": [],
   "source": []
  },
  {
   "cell_type": "code",
   "execution_count": null,
   "metadata": {},
   "outputs": [],
   "source": [
    "# import json,random\n",
    "# from glob import glob\n",
    "\n",
    "# interviews=[]\n",
    "# for path in glob(f'{cache_dir}/INFO_RESPONSE_*.json'):\n",
    "#     with open(path, 'r', encoding='utf-8') as f:\n",
    "#         try:\n",
    "#             interview=json.load(f)\n",
    "#             interview['id']=int(path.split('_')[-1].split('.')[0])\n",
    "#             for item in interview['content']:\n",
    "#                 item['src_id']=interview['id']\n",
    "#             interviews.append(interview)\n",
    "#         except Exception as e:\n",
    "#             print('Error:', path, e)\n",
    "#             raise e\n",
    "# interviews=sorted(interviews, key=lambda x: x['id'])\n",
    "\n",
    "# print('Total interview chunks:', len(interviews))\n",
    "\n",
    "# all_interview=[]\n",
    "# for interview in interviews:\n",
    "#     for item in interview['content']:\n",
    "#         all_interview.append(item)\n",
    "\n",
    "# print('Total interview items:', len(all_interview))\n",
    "\n",
    "# for item in random.sample(all_interview, 10):\n",
    "#     print(item)\n",
    "\n",
    "# json.dump(all_interview, open(merged_interview_path, 'w', encoding='utf-8'), ensure_ascii=False, indent=2)"
   ]
  }
 ],
 "metadata": {
  "kernelspec": {
   "display_name": "tensorflow",
   "language": "python",
   "name": "python3"
  },
  "language_info": {
   "codemirror_mode": {
    "name": "ipython",
    "version": 3
   },
   "file_extension": ".py",
   "mimetype": "text/x-python",
   "name": "python",
   "nbconvert_exporter": "python",
   "pygments_lexer": "ipython3",
   "version": "3.8.10"
  },
  "orig_nbformat": 4
 },
 "nbformat": 4,
 "nbformat_minor": 2
}
